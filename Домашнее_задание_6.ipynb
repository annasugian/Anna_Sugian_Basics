{
  "nbformat": 4,
  "nbformat_minor": 0,
  "metadata": {
    "colab": {
      "provenance": []
    },
    "kernelspec": {
      "name": "python3",
      "display_name": "Python 3"
    },
    "language_info": {
      "name": "python"
    }
  },
  "cells": [
    {
      "cell_type": "markdown",
      "source": [
        "**Задание 1**\n",
        "\n",
        "Написать функцию для скрейпинга веб-страниц"
      ],
      "metadata": {
        "id": "2VlCUmvUuNb1"
      }
    },
    {
      "cell_type": "code",
      "execution_count": 42,
      "metadata": {
        "colab": {
          "base_uri": "https://localhost:8080/"
        },
        "id": "zs_6vYZ8enTy",
        "outputId": "4f5bcd7d-77a4-4f13-e7c3-4ef868206123"
      },
      "outputs": [
        {
          "output_type": "stream",
          "name": "stdout",
          "text": [
            "Requirement already satisfied: requests in /usr/local/lib/python3.10/dist-packages (2.32.3)\n",
            "Requirement already satisfied: beautifulsoup4 in /usr/local/lib/python3.10/dist-packages (4.12.3)\n",
            "Requirement already satisfied: charset-normalizer<4,>=2 in /usr/local/lib/python3.10/dist-packages (from requests) (3.4.0)\n",
            "Requirement already satisfied: idna<4,>=2.5 in /usr/local/lib/python3.10/dist-packages (from requests) (3.10)\n",
            "Requirement already satisfied: urllib3<3,>=1.21.1 in /usr/local/lib/python3.10/dist-packages (from requests) (2.2.3)\n",
            "Requirement already satisfied: certifi>=2017.4.17 in /usr/local/lib/python3.10/dist-packages (from requests) (2024.8.30)\n",
            "Requirement already satisfied: soupsieve>1.2 in /usr/local/lib/python3.10/dist-packages (from beautifulsoup4) (2.6)\n"
          ]
        }
      ],
      "source": [
        "'''\n",
        "Импортируйте библиотеки для скрейпинга веб-страниц\n",
        "'''\n",
        "!pip install requests beautifulsoup4\n",
        "\n",
        "import requests\n",
        "from bs4 import BeautifulSoup"
      ]
    },
    {
      "cell_type": "code",
      "source": [
        "'''\n",
        "Допишите функцию для скрейпинга\n",
        "'''\n",
        "\n",
        "def scrape_text_from_url(url, tag, class_=None):\n",
        "    response = requests.get(url) # выполните HTML-запрос\n",
        "    if response.status_code == 200:\n",
        "      soup = BeautifulSoup(response.text, 'html.parser') # если запрос успешный (возвращается значение 200)\n",
        "      if class_:\n",
        "        paragraphs = soup.find_all(tag, class_)# ищем теги и классы на основании аргументов функции; по умолчанию ищем только тег\n",
        "      else:\n",
        "        paragraphs = soup.find_all(tag)\n",
        "      text = '' # создаем переменную text строкового типа, куда мы запишем все найденные совпадения ###\n",
        "      for p in paragraphs:# начинаем перебор элементов переменной paragraphs\n",
        "        text += p.get_text() # извлекаем текстовые данные\n",
        "      return text\n",
        "    else:# иначе\n",
        "        print(f\"Failed to retrieve page. Status code: {response.status_code}\")\n",
        "        return None #выводим статус-код и сообщение об ошибке ###\n"
      ],
      "metadata": {
        "id": "xGsDU_3JfXdk"
      },
      "execution_count": 43,
      "outputs": []
    },
    {
      "cell_type": "code",
      "source": [
        "'''\n",
        "Проверяем функцию для скрейпинга: пример 1\n",
        "'''\n",
        "\n",
        "scrape_text_from_url('https://en.wikipedia.org/wiki/Chomsky_hierarchy', 'p')[:100]"
      ],
      "metadata": {
        "colab": {
          "base_uri": "https://localhost:8080/",
          "height": 36
        },
        "id": "g8vDjJHGkXMq",
        "outputId": "fd682c7d-eb75-476b-9938-ba97bcd07f88"
      },
      "execution_count": 44,
      "outputs": [
        {
          "output_type": "execute_result",
          "data": {
            "text/plain": [
              "'The Chomsky hierarchy in the fields of formal language theory, computer science, and linguistics, is'"
            ],
            "application/vnd.google.colaboratory.intrinsic+json": {
              "type": "string"
            }
          },
          "metadata": {},
          "execution_count": 44
        }
      ]
    },
    {
      "cell_type": "code",
      "source": [
        "'''\n",
        "Проверяем функцию для скрейпинга: пример 2\n",
        "'''\n",
        "\n",
        "scrape_text_from_url('https://www.rottentomatoes.com/m/civil_war_2024/reviews', 'p', 'review-text')[:100]"
      ],
      "metadata": {
        "colab": {
          "base_uri": "https://localhost:8080/",
          "height": 36
        },
        "id": "5jcHY38Kk-g3",
        "outputId": "9169183a-8b75-480d-fc23-def7cfa7782e"
      },
      "execution_count": 45,
      "outputs": [
        {
          "output_type": "execute_result",
          "data": {
            "text/plain": [
              "'Garland seems poised to be make political points, to show how our current political dysfunction coul'"
            ],
            "application/vnd.google.colaboratory.intrinsic+json": {
              "type": "string"
            }
          },
          "metadata": {},
          "execution_count": 45
        }
      ]
    },
    {
      "cell_type": "markdown",
      "source": [
        "**Задание 2**\n",
        "\n",
        "Написать функцию для сентимент-анализа"
      ],
      "metadata": {
        "id": "Fljw9qKMuQtc"
      }
    },
    {
      "cell_type": "code",
      "source": [
        "'''\n",
        "Импортируем библиотеки re и SpaCy для обработки текста\n",
        "'''\n",
        "\n",
        "import re\n",
        "import spacy\n",
        "from spacy import displacy\n",
        "nlp = spacy.load('en_core_web_sm')\n",
        "'''\n",
        "Загружаем списки слов с положительным и отрицательным значением, и список стоп-слов\n",
        "'''\n",
        "\n",
        "!wget https://raw.githubusercontent.com/vifirsanova/hse-python-course/main/data/neg.txt\n",
        "!wget https://raw.githubusercontent.com/vifirsanova/hse-python-course/main/data/pos.txt\n",
        "!wget https://raw.githubusercontent.com/vifirsanova/hse-python-course/main/data/stopwords.txt\n",
        "\n",
        "'''\n",
        "Читаем файлы\n",
        "'''\n",
        "\n",
        "with open('neg.txt', 'r') as f:\n",
        "    neg = f.read()\n",
        "\n",
        "with open('pos.txt', 'r') as f:\n",
        "    pos = f.read()\n",
        "\n",
        "with open('stopwords.txt', 'r') as f:\n",
        "    stopwords = f.read()\n",
        "\n",
        "'''\n",
        "Создаем списки слов, разделив строку по знаку \\n, и делим список стоп-слов\n",
        "'''\n",
        "\n",
        "pos_list = pos.split('\\n')\n",
        "neg_list = neg.split('\\n')\n",
        "stopwords = stopwords.split()\n",
        "\n",
        "'''\n",
        "Функция удаления стоп-слов\n",
        "'''\n",
        "\n",
        "def remove_stopwords(text, stopwords):\n",
        "    words = text.split() # разбейте текст из переменной text на слова\n",
        "    filtered_words = [] # создайте пустой список:\n",
        "    for word in words:\n",
        "      if word.lower() not in stopwords: # если слово, приведенное к нижнему регистру присутствует в списке стоп-слов,\n",
        "        filtered_words.append(word) # добавьте его в список filtered_words\n",
        "    cleaned_text = ' '.join(filtered_words) # объедините слова из списка filtered_words в строку с join\n",
        "    return cleaned_text\n",
        "\n",
        "'''\n",
        "Функция для сентимент-анализа\n",
        "'''\n",
        "\n",
        "def analyze_sentiment(text, positive_words, negative_words):\n",
        "    ### По желанию: удалить стоп-слова и знаки препинания; использовать NLP-библиотеки для токенизации ###\n",
        "    cleantext = re.sub('\\W+', ' ', text)\n",
        "    cleantext = remove_stopwords(cleantext, stopwords)\n",
        "    cleantext.lower().split('\\n')\n",
        "    cleantext = nlp(cleantext)\n",
        "    words = [token.lemma_ for token in cleantext] # запишите результат в переменную words\n",
        "\n",
        "    # Считаем скор тональности: количество пересечений между списками words и положительными / отрицательными словами\n",
        "    positive_count = sum(1 for word in words if word in positive_words)\n",
        "    negative_count = sum(1 for word in words if word in negative_words)\n",
        "\n",
        "    if positive_count > negative_count:\n",
        "      return 'positive' # если положительный скор больше отрицательного, возвращаем строчку 'positive'\n",
        "    elif negative_count > positive_count:\n",
        "      return 'negative' # если отрицательный скор больше положительного, возвращаем строчку 'negative'\n",
        "    else:\n",
        "      return 'neutral' # Иначе возвращаем строчку 'neutral'\n"
      ],
      "metadata": {
        "colab": {
          "base_uri": "https://localhost:8080/"
        },
        "id": "cCnSxeYvuts8",
        "outputId": "c2ffcd7b-df7c-459a-fc1d-7042a319c27b"
      },
      "execution_count": 46,
      "outputs": [
        {
          "output_type": "stream",
          "name": "stdout",
          "text": [
            "--2024-11-23 13:42:45--  https://raw.githubusercontent.com/vifirsanova/hse-python-course/main/data/neg.txt\n",
            "Resolving raw.githubusercontent.com (raw.githubusercontent.com)... 185.199.108.133, 185.199.109.133, 185.199.110.133, ...\n",
            "Connecting to raw.githubusercontent.com (raw.githubusercontent.com)|185.199.108.133|:443... connected.\n",
            "HTTP request sent, awaiting response... 200 OK\n",
            "Length: 44759 (44K) [text/plain]\n",
            "Saving to: ‘neg.txt.2’\n",
            "\n",
            "\rneg.txt.2             0%[                    ]       0  --.-KB/s               \rneg.txt.2           100%[===================>]  43.71K  --.-KB/s    in 0.01s   \n",
            "\n",
            "2024-11-23 13:42:45 (3.79 MB/s) - ‘neg.txt.2’ saved [44759/44759]\n",
            "\n",
            "--2024-11-23 13:42:45--  https://raw.githubusercontent.com/vifirsanova/hse-python-course/main/data/pos.txt\n",
            "Resolving raw.githubusercontent.com (raw.githubusercontent.com)... 185.199.108.133, 185.199.109.133, 185.199.110.133, ...\n",
            "Connecting to raw.githubusercontent.com (raw.githubusercontent.com)|185.199.108.133|:443... connected.\n",
            "HTTP request sent, awaiting response... 200 OK\n",
            "Length: 19093 (19K) [text/plain]\n",
            "Saving to: ‘pos.txt.2’\n",
            "\n",
            "pos.txt.2           100%[===================>]  18.65K  --.-KB/s    in 0s      \n",
            "\n",
            "2024-11-23 13:42:45 (94.0 MB/s) - ‘pos.txt.2’ saved [19093/19093]\n",
            "\n",
            "--2024-11-23 13:42:45--  https://raw.githubusercontent.com/vifirsanova/hse-python-course/main/data/stopwords.txt\n",
            "Resolving raw.githubusercontent.com (raw.githubusercontent.com)... 185.199.108.133, 185.199.109.133, 185.199.110.133, ...\n",
            "Connecting to raw.githubusercontent.com (raw.githubusercontent.com)|185.199.108.133|:443... connected.\n",
            "HTTP request sent, awaiting response... 200 OK\n",
            "Length: 954 [text/plain]\n",
            "Saving to: ‘stopwords.txt.2’\n",
            "\n",
            "stopwords.txt.2     100%[===================>]     954  --.-KB/s    in 0s      \n",
            "\n",
            "2024-11-23 13:42:45 (46.6 MB/s) - ‘stopwords.txt.2’ saved [954/954]\n",
            "\n"
          ]
        }
      ]
    },
    {
      "cell_type": "code",
      "source": [
        "'''\n",
        "Проверяем функцию для анализа тональности: пример 1\n",
        "'''\n",
        "\n",
        "data = 'This sample text is awesome!'\n",
        "analyze_sentiment(text=data, positive_words=pos_list, negative_words=neg_list)"
      ],
      "metadata": {
        "id": "0fOFEeXuwoLw",
        "colab": {
          "base_uri": "https://localhost:8080/",
          "height": 36
        },
        "outputId": "c1d0bc6f-2950-41d8-a1ba-c19a2f08a01d"
      },
      "execution_count": 47,
      "outputs": [
        {
          "output_type": "execute_result",
          "data": {
            "text/plain": [
              "'positive'"
            ],
            "application/vnd.google.colaboratory.intrinsic+json": {
              "type": "string"
            }
          },
          "metadata": {},
          "execution_count": 47
        }
      ]
    },
    {
      "cell_type": "code",
      "source": [
        "'''\n",
        "Проверяем функцию для анализа тональности: пример 2\n",
        "'''\n",
        "data = 'I hate this sample text.'\n",
        "analyze_sentiment(data, pos_list, neg_list)"
      ],
      "metadata": {
        "colab": {
          "base_uri": "https://localhost:8080/",
          "height": 36
        },
        "id": "57gANx7Q5juu",
        "outputId": "069659e7-67d7-4535-cdf9-4c31f0b29170"
      },
      "execution_count": 48,
      "outputs": [
        {
          "output_type": "execute_result",
          "data": {
            "text/plain": [
              "'negative'"
            ],
            "application/vnd.google.colaboratory.intrinsic+json": {
              "type": "string"
            }
          },
          "metadata": {},
          "execution_count": 48
        }
      ]
    },
    {
      "cell_type": "code",
      "source": [
        "'''\n",
        "Проверяем функцию для анализа тональности: пример 3\n",
        "'''\n",
        "data = 'We love and hate this sample text at the same time!'\n",
        "analyze_sentiment(data, pos_list, neg_list)"
      ],
      "metadata": {
        "colab": {
          "base_uri": "https://localhost:8080/",
          "height": 36
        },
        "id": "f9WtLg9k7uzQ",
        "outputId": "abc69472-78ad-45e2-b6ad-dc002bc5d642"
      },
      "execution_count": 49,
      "outputs": [
        {
          "output_type": "execute_result",
          "data": {
            "text/plain": [
              "'neutral'"
            ],
            "application/vnd.google.colaboratory.intrinsic+json": {
              "type": "string"
            }
          },
          "metadata": {},
          "execution_count": 49
        }
      ]
    },
    {
      "cell_type": "markdown",
      "source": [
        "**Задание 3**\n",
        "\n",
        "Написать функцию для вывода сентимент-скоров"
      ],
      "metadata": {
        "id": "pOmnn4nh8vL4"
      }
    },
    {
      "cell_type": "code",
      "source": [
        "'''\n",
        "Допишите функцию для вывода скоров по заданному URL\n",
        "'''\n",
        "\n",
        "import re\n",
        "\n",
        "\n",
        "def analyze(positive_words, negative_words, url, tag, class_=None):\n",
        "  scraped_text = scrape_text_from_url(url, tag, class_) # примените функцию scrape_text_from_url\n",
        "  sentences = scraped_text.split('.') # сегментируйте текст по предложениям (через точку)\n",
        "  sentiments = [] # создаем пустой список, куда запишем скоры ###\n",
        "  for sentence in sentences:# начинаем перебор по предложениям ###\n",
        "    score = analyze_sentiment(sentence, positive_words, negative_words) # получаем скор для данного предложения с помощью функции analyze_sentiment\n",
        "    sentiments.append(score)# добавляем скор в созданный список ###\n",
        "  return sentiments # возвращаем список скоров ###"
      ],
      "metadata": {
        "id": "3KPEffAM735E"
      },
      "execution_count": 50,
      "outputs": []
    },
    {
      "cell_type": "code",
      "source": [
        "'''\n",
        "Тест 1\n",
        "'''\n",
        "\n",
        "analyze(url='https://en.wikipedia.org/wiki/Chomsky_hierarchy', tag='p', positive_words=pos, negative_words=neg)[:10]"
      ],
      "metadata": {
        "colab": {
          "base_uri": "https://localhost:8080/"
        },
        "id": "UycQBt4Y-Jmg",
        "outputId": "7bcfeffd-aa7c-4c00-ae59-661c453e9714"
      },
      "execution_count": 51,
      "outputs": [
        {
          "output_type": "execute_result",
          "data": {
            "text/plain": [
              "['neutral',\n",
              " 'negative',\n",
              " 'negative',\n",
              " 'negative',\n",
              " 'positive',\n",
              " 'neutral',\n",
              " 'negative',\n",
              " 'neutral',\n",
              " 'negative',\n",
              " 'negative']"
            ]
          },
          "metadata": {},
          "execution_count": 51
        }
      ]
    },
    {
      "cell_type": "code",
      "source": [
        "'''\n",
        "Тест 2\n",
        "'''\n",
        "\n",
        "analyze(url='https://www.rottentomatoes.com/m/civil_war_2024/reviews', tag='p', class_='review-text', positive_words=pos, negative_words=neg)[:10]\n"
      ],
      "metadata": {
        "id": "gADnmEqg-NJJ",
        "colab": {
          "base_uri": "https://localhost:8080/"
        },
        "outputId": "04e5cf54-1ac8-4e45-e64a-a79646ae52a3"
      },
      "execution_count": 52,
      "outputs": [
        {
          "output_type": "execute_result",
          "data": {
            "text/plain": [
              "['negative',\n",
              " 'negative',\n",
              " 'neutral',\n",
              " 'neutral',\n",
              " 'neutral',\n",
              " 'negative',\n",
              " 'negative',\n",
              " 'negative',\n",
              " 'neutral',\n",
              " 'negative']"
            ]
          },
          "metadata": {},
          "execution_count": 52
        }
      ]
    },
    {
      "cell_type": "markdown",
      "source": [
        "**Задача 4**\n",
        "\n",
        "Визуализировать результаты анализа"
      ],
      "metadata": {
        "id": "4etg8Jg5fQ8S"
      }
    },
    {
      "cell_type": "code",
      "source": [
        "'''\n",
        "Создаем частотный словарь с помощью библиотеки Counter.\n",
        "Можно выбрать другие веб-страницы для анализа!\n",
        "'''\n",
        "\n",
        "from collections import Counter\n",
        "\n",
        "sample1 = Counter(analyze(url='https://matplotlib.org/stable/tutorials/pyplot.html', tag='a', class_='reference internal', positive_words=pos, negative_words=neg))\n",
        "sample2 = Counter(analyze(url='https://www.w3schools.com/html/html_classes.asp', tag='p', positive_words=pos, negative_words=neg))\n",
        "\n",
        "sample2"
      ],
      "metadata": {
        "colab": {
          "base_uri": "https://localhost:8080/"
        },
        "id": "UFjKTubnfFoP",
        "outputId": "6d056fed-8f2f-4655-f26f-6f70b3a21a58"
      },
      "execution_count": 53,
      "outputs": [
        {
          "output_type": "execute_result",
          "data": {
            "text/plain": [
              "Counter({'neutral': 11, 'positive': 5, 'negative': 18})"
            ]
          },
          "metadata": {},
          "execution_count": 53
        }
      ]
    },
    {
      "cell_type": "code",
      "source": [
        "sample3 = Counter(analyze(url='https://www.rottentomatoes.com/m/focus_2015', tag='p', positive_words=pos, negative_words=neg))\n",
        "sample4 = Counter(analyze(url='https://www.w3schools.com/cpp/cpp_intro.asp', tag='a', positive_words=pos, negative_words=neg))\n",
        "sample4"
      ],
      "metadata": {
        "colab": {
          "base_uri": "https://localhost:8080/"
        },
        "id": "hOgtxMAEN0GV",
        "outputId": "12d3c016-ffa1-42a9-9c95-91f002b41053"
      },
      "execution_count": 54,
      "outputs": [
        {
          "output_type": "execute_result",
          "data": {
            "text/plain": [
              "Counter({'positive': 2, 'neutral': 16, 'negative': 8})"
            ]
          },
          "metadata": {},
          "execution_count": 54
        }
      ]
    },
    {
      "cell_type": "code",
      "source": [
        "'''\n",
        "Создаем визуализацию: попробуйте использование новые данные (данные других url)\n",
        "'''\n",
        "import numpy as np\n",
        "import pandas as pd\n",
        "import matplotlib.pyplot as plt\n",
        "\n",
        "df1 = pd.DataFrame.from_dict(sample3, orient='index', columns=['Focus Movie'])\n",
        "df2 = pd.DataFrame.from_dict(sample4, orient='index', columns=['C++ Introduction'])\n",
        "df3 = pd.DataFrame.from_dict(sample1, orient='index', columns=['MatPlotLib'])\n",
        "\n",
        "fig, ax = plt.subplots(ncols=3)\n",
        "\n",
        "ax[0] = df1.plot.bar(ax=ax[0])\n",
        "ax[1] = df2.plot.bar(ax=ax[1], color='green')\n",
        "ax[2] = df3.plot.bar(ax=ax[2], color='red')"
      ],
      "metadata": {
        "colab": {
          "base_uri": "https://localhost:8080/",
          "height": 477
        },
        "id": "86-Fq8ceflOf",
        "outputId": "11fda071-7fbb-4359-d7f5-b2d936b7659f"
      },
      "execution_count": 55,
      "outputs": [
        {
          "output_type": "display_data",
          "data": {
            "text/plain": [
              "<Figure size 640x480 with 3 Axes>"
            ],
            "image/png": "[encoded data removed]"
          },
          "metadata": {}
        }
      ]
    },
    {
      "cell_type": "markdown",
      "source": [
        "**Задача 5**\n",
        "\n",
        "Соберите все 3 функции в одной ячейке ниже. Проанализируйте получшившийся код. Сделайте ревью!\n",
        "\n",
        "Попробуйте сделать рефакторинг: найти повторы в коде, избыточные конструкции и заменить их на более простые и питоничные решения. Рефакторинг ускоряет выполнение кода и упрощает его чтение.\n",
        "\n",
        "Улучшите код, добавьте строчки для вывода промежуточных и итоговых результатов; запустите ячейку.\n",
        "\n",
        "Это творческое задание, правильных решений нет - главное, чтобы код работал! :)\n",
        "\n",
        "Не забудьте закомментировать свои изменения."
      ],
      "metadata": {
        "id": "0-CTZ_n3SzpK"
      }
    },
    {
      "cell_type": "code",
      "source": [
        "# Подготовка всех данных\n",
        "!wget https://raw.githubusercontent.com/vifirsanova/hse-python-course/main/data/neg.txt\n",
        "!wget https://raw.githubusercontent.com/vifirsanova/hse-python-course/main/data/pos.txt\n",
        "!wget https://raw.githubusercontent.com/vifirsanova/hse-python-course/main/data/stopwords.txt\n",
        "\n",
        "import requests\n",
        "from bs4 import BeautifulSoup\n",
        "import re\n",
        "import spacy\n",
        "from spacy import displacy\n",
        "nlp = spacy.load('en_core_web_sm')\n",
        "from collections import Counter\n",
        "import numpy as np\n",
        "import pandas as pd\n",
        "import matplotlib.pyplot as plt\n",
        "\n",
        "with open('neg.txt', 'r') as f:\n",
        "    neg = f.read()\n",
        "\n",
        "with open('pos.txt', 'r') as f:\n",
        "    pos = f.read()\n",
        "\n",
        "with open('stopwords.txt', 'r') as f:\n",
        "    stopwords = f.read()\n",
        "\n",
        "pos = pos.split('\\n')\n",
        "neg = neg.split('\\n')\n",
        "sw = stopwords.split()\n"
      ],
      "metadata": {
        "colab": {
          "base_uri": "https://localhost:8080/"
        },
        "id": "p950Cqe6lgFN",
        "outputId": "3b1de808-46e6-4ac3-e7b5-1502837ae78c"
      },
      "execution_count": 56,
      "outputs": [
        {
          "output_type": "stream",
          "name": "stdout",
          "text": [
            "--2024-11-23 13:42:57--  https://raw.githubusercontent.com/vifirsanova/hse-python-course/main/data/neg.txt\n",
            "Resolving raw.githubusercontent.com (raw.githubusercontent.com)... 185.199.108.133, 185.199.109.133, 185.199.110.133, ...\n",
            "Connecting to raw.githubusercontent.com (raw.githubusercontent.com)|185.199.108.133|:443... connected.\n",
            "HTTP request sent, awaiting response... 200 OK\n",
            "Length: 44759 (44K) [text/plain]\n",
            "Saving to: ‘neg.txt.3’\n",
            "\n",
            "\rneg.txt.3             0%[                    ]       0  --.-KB/s               \rneg.txt.3           100%[===================>]  43.71K  --.-KB/s    in 0.01s   \n",
            "\n",
            "2024-11-23 13:42:57 (3.53 MB/s) - ‘neg.txt.3’ saved [44759/44759]\n",
            "\n",
            "--2024-11-23 13:42:58--  https://raw.githubusercontent.com/vifirsanova/hse-python-course/main/data/pos.txt\n",
            "Resolving raw.githubusercontent.com (raw.githubusercontent.com)... 185.199.111.133, 185.199.109.133, 185.199.108.133, ...\n",
            "Connecting to raw.githubusercontent.com (raw.githubusercontent.com)|185.199.111.133|:443... connected.\n",
            "HTTP request sent, awaiting response... 200 OK\n",
            "Length: 19093 (19K) [text/plain]\n",
            "Saving to: ‘pos.txt.3’\n",
            "\n",
            "pos.txt.3           100%[===================>]  18.65K  --.-KB/s    in 0.001s  \n",
            "\n",
            "2024-11-23 13:42:58 (21.5 MB/s) - ‘pos.txt.3’ saved [19093/19093]\n",
            "\n",
            "--2024-11-23 13:42:58--  https://raw.githubusercontent.com/vifirsanova/hse-python-course/main/data/stopwords.txt\n",
            "Resolving raw.githubusercontent.com (raw.githubusercontent.com)... 185.199.108.133, 185.199.109.133, 185.199.110.133, ...\n",
            "Connecting to raw.githubusercontent.com (raw.githubusercontent.com)|185.199.108.133|:443... connected.\n",
            "HTTP request sent, awaiting response... 200 OK\n",
            "Length: 954 [text/plain]\n",
            "Saving to: ‘stopwords.txt.3’\n",
            "\n",
            "stopwords.txt.3     100%[===================>]     954  --.-KB/s    in 0s      \n",
            "\n",
            "2024-11-23 13:42:58 (43.1 MB/s) - ‘stopwords.txt.3’ saved [954/954]\n",
            "\n"
          ]
        }
      ]
    },
    {
      "cell_type": "markdown",
      "source": [
        "## Мои чувства по этому заданию:\n",
        "\n",
        "*Я очень хотела написать функцию так, чтобы не использовать функцию внутри функции. Я соображала очень долго (неделю), но сдалась и просто вызывала ранее написанные функции, только так у меня все сработало.*"
      ],
      "metadata": {
        "id": "QdvNsStZSDQP"
      }
    },
    {
      "cell_type": "code",
      "source": [
        "def THE_function(positive_words, negative_words, url, tag, class_=None, stopwords=None):\n",
        "  '''\n",
        "  В этой функции мы должны сделать следующее:\n",
        "  1)скрейпинг веб-страницы\n",
        "  2)обработку текста (очищение от пунктуации и стоп слов)\n",
        "  3)сделать сентимент анализ и вывод скоров\n",
        "  4)визуализировать с помощью частотного словаря и графиков\n",
        "  '''\n",
        "  text = scrape_text_from_url(url, tag, class_=None)\n",
        "  print(f'Результат скрейпинга: \\n{text[:200]} \\n--------------------------------------------------------------------\\n')\n",
        "\n",
        "  sentences = text.split('.')\n",
        "  sentiments =[]\n",
        "  for sentence in sentences:\n",
        "    score = analyze_sentiment(sentence, positive_words, negative_words)\n",
        "    sentiments.append(score)\n",
        "  print(f'\\nРезультат сентимент-анализа: \\n\\n{sentiments[:10]} \\n--------------------------------------------------------------------\\n')\n",
        "\n",
        "  sample = Counter(sentiments)\n",
        "  print(f'\\nЧастотный словарь: \\n\\n{sample} \\n--------------------------------------------------------------------\\n')\n",
        "\n",
        "  print('\\nВизуализация сентимент-скора')\n",
        "  df1 = pd.DataFrame.from_dict(sample, orient='index', columns=['sentiment analysis'])\n",
        "  fig, ax = plt.subplots(ncols=1)\n",
        "\n",
        "  ax = df1.plot.bar(ax=ax, color='green')\n",
        "\n"
      ],
      "metadata": {
        "id": "xhI1hlEXft8_"
      },
      "execution_count": 90,
      "outputs": []
    },
    {
      "cell_type": "code",
      "source": [
        "# Проверка 1\n",
        "THE_function(pos, neg, url='https://www.w3schools.com/html/html_classes.asp', tag='p', stopwords=sw)"
      ],
      "metadata": {
        "id": "NYP1_4ekmW7n",
        "colab": {
          "base_uri": "https://localhost:8080/",
          "height": 843
        },
        "outputId": "a67d0987-0fc1-4a18-e6fb-539809ba1efc"
      },
      "execution_count": 91,
      "outputs": [
        {
          "output_type": "stream",
          "name": "stdout",
          "text": [
            "Результат скрейпинга: \n",
            "\n",
            "                W3Schools offers a wide range of services and products for beginners and professionals,\n",
            "                \n",
            "                helping millions of people everyday to learn and master new sk \n",
            "--------------------------------------------------------------------\n",
            "\n",
            "\n",
            "Результат сентимент-анализа: \n",
            "\n",
            "['positive', 'positive', 'neutral', 'positive', 'neutral', 'neutral', 'positive', 'neutral', 'positive', 'negative'] \n",
            "--------------------------------------------------------------------\n",
            "\n",
            "\n",
            "Частотный словарь: \n",
            "\n",
            "Counter({'neutral': 24, 'positive': 6, 'negative': 4}) \n",
            "--------------------------------------------------------------------\n",
            "\n",
            "\n",
            "Визуализация сентимент-скора\n"
          ]
        },
        {
          "output_type": "display_data",
          "data": {
            "text/plain": [
              "<Figure size 640x480 with 1 Axes>"
            ],
            "image/png": "[encoded data removed]"
          },
          "metadata": {}
        }
      ]
    },
    {
      "cell_type": "code",
      "source": [
        "# Проверка 2\n",
        "THE_function(pos, neg, url='https://knowyourmeme.com/memes/top-5-lists', tag='p', stopwords=sw)"
      ],
      "metadata": {
        "id": "dvDkk3HKaqvp",
        "colab": {
          "base_uri": "https://localhost:8080/",
          "height": 973
        },
        "outputId": "00c9d626-a35c-4abc-e098-c0997c8dad20"
      },
      "execution_count": 92,
      "outputs": [
        {
          "output_type": "stream",
          "name": "stdout",
          "text": [
            "Результат скрейпинга: \n",
            "Login Now!Sign up Now!\n",
            "Submission\n",
            " \n",
            "\n",
            "\n",
            "6,249\n",
            "\n",
            "\n",
            "Part of a series on\n",
            "TikTok.\n",
            "[View Related Entries]\n",
            "Top 5 Lists, also known as Top Cinco Lists, is a video meme trend in which a Spanish text-to-speech acc \n",
            "--------------------------------------------------------------------\n",
            "\n",
            "\n",
            "Результат сентимент-анализа: \n",
            "\n",
            "['neutral', 'positive', 'positive', 'neutral', 'neutral', 'positive', 'neutral', 'neutral', 'positive', 'neutral'] \n",
            "--------------------------------------------------------------------\n",
            "\n",
            "\n",
            "Частотный словарь: \n",
            "\n",
            "Counter({'neutral': 27, 'positive': 15}) \n",
            "--------------------------------------------------------------------\n",
            "\n",
            "\n",
            "Визуализация сентимент-скора\n"
          ]
        },
        {
          "output_type": "display_data",
          "data": {
            "text/plain": [
              "<Figure size 640x480 with 1 Axes>"
            ],
            "image/png": "[encoded data removed]"
          },
          "metadata": {}
        }
      ]
    },
    {
      "cell_type": "code",
      "source": [
        "# Проверка 3\n",
        "THE_function(pos, neg, url='https://www.rottentomatoes.com/m/civil_war_2024/reviews', tag='p', class_='review-text', stopwords=sw)"
      ],
      "metadata": {
        "colab": {
          "base_uri": "https://localhost:8080/",
          "height": 893
        },
        "id": "Z6Udo_O2UjPt",
        "outputId": "82cc17a8-b074-4eaf-8d54-bd7d4f2da920"
      },
      "execution_count": 93,
      "outputs": [
        {
          "output_type": "stream",
          "name": "stdout",
          "text": [
            "Результат скрейпинга: \n",
            "Movies in theatersMovies at HomeMoreCertified fresh picks\n",
            "              New TV Tonight\n",
            "            \n",
            "              Most Popular TV on RT\n",
            "            More\n",
            "              Certified fresh pick\n",
            "             \n",
            "--------------------------------------------------------------------\n",
            "\n",
            "\n",
            "Результат сентимент-анализа: \n",
            "\n",
            "['positive', 'positive', 'negative', 'positive', 'neutral', 'neutral', 'neutral', 'negative', 'neutral', 'positive'] \n",
            "--------------------------------------------------------------------\n",
            "\n",
            "\n",
            "Частотный словарь: \n",
            "\n",
            "Counter({'neutral': 18, 'positive': 11, 'negative': 9}) \n",
            "--------------------------------------------------------------------\n",
            "\n",
            "\n",
            "Визуализация сентимент-скора\n"
          ]
        },
        {
          "output_type": "display_data",
          "data": {
            "text/plain": [
              "<Figure size 640x480 with 1 Axes>"
            ],
            "image/png": "[encoded data removed]"
          },
          "metadata": {}
        }
      ]
    }
  ]
}
