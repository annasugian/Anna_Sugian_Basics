{
  "nbformat": 4,
  "nbformat_minor": 0,
  "metadata": {
    "colab": {
      "provenance": []
    },
    "kernelspec": {
      "name": "python3",
      "display_name": "Python 3"
    },
    "language_info": {
      "name": "python"
    }
  },
  "cells": [
    {
      "cell_type": "code",
      "execution_count": null,
      "metadata": {
        "colab": {
          "base_uri": "https://localhost:8080/"
        },
        "id": "1jA6IFCViU7g",
        "outputId": "1ebc7970-4d43-46c5-d264-24e9e8e02a35"
      },
      "outputs": [
        {
          "output_type": "stream",
          "name": "stdout",
          "text": [
            "Напишите любое число: 7\n",
            "А вот и нет! Это число:  21\n"
          ]
        }
      ],
      "source": [
        "# 1. Угадай число\n",
        "import random\n",
        "magic_num = random.randint(0, 100)\n",
        "user_num = int(input('Напишите любое число: '))\n",
        "if user_num == magic_num:\n",
        "  print('Поздравляю! Вы угадали!')\n",
        "else:\n",
        "  print('А вот и нет! Это число: ', magic_num)"
      ]
    },
    {
      "cell_type": "code",
      "source": [
        "# 2. Приветствие\n",
        "name = str(input('Напишите свое имя: '))\n",
        "print('Привет, ' + name + '!')"
      ],
      "metadata": {
        "colab": {
          "base_uri": "https://localhost:8080/"
        },
        "id": "KJfpsbuGj1XG",
        "outputId": "3c986f91-4f60-4579-e396-ff73653c8a1a"
      },
      "execution_count": 4,
      "outputs": [
        {
          "output_type": "stream",
          "name": "stdout",
          "text": [
            "Напишите свое имя: Анна\n",
            "Привет, Анна!\n"
          ]
        }
      ]
    },
    {
      "cell_type": "code",
      "source": [
        "# 3. Конвертер температур\n",
        "t = float(input('Введите температуру в градусах Цельсия: '))\n",
        "f = (t * 9/5) + 32\n",
        "print(f'Температура (Цельсия): {t}\\nТемпература (Фаренгейт): {f}')"
      ],
      "metadata": {
        "id": "ljNsVRaMk3Zo",
        "colab": {
          "base_uri": "https://localhost:8080/"
        },
        "outputId": "eeadf0db-34f6-4af2-b42e-1328d35d4cc6"
      },
      "execution_count": 9,
      "outputs": [
        {
          "output_type": "stream",
          "name": "stdout",
          "text": [
            "Введите температуру в градусах Цельсия: 12.6\n",
            "Температура (Цельсия): 12.6\n",
            "Температура (Фаренгейт): 54.68\n"
          ]
        }
      ]
    },
    {
      "cell_type": "code",
      "source": [
        "# 4. Округление и вывод с помощью новой строки\n",
        "## вариант 1\n",
        "c = int(t)\n",
        "ph = int(f)\n",
        "print(f'Температура (Цельсия): {c}\\nТемпература (Фаренгейт): {ph}')"
      ],
      "metadata": {
        "colab": {
          "base_uri": "https://localhost:8080/"
        },
        "id": "Pk9Mzi24msux",
        "outputId": "5ccda7d0-5df0-423e-a204-e20db7a8797d"
      },
      "execution_count": 11,
      "outputs": [
        {
          "output_type": "stream",
          "name": "stdout",
          "text": [
            "Температура (Цельсия): 12\n",
            "Температура (Фаренгейт): 54\n"
          ]
        }
      ]
    },
    {
      "cell_type": "code",
      "source": [
        "## вариант 2\n",
        "a = round(t, 0)\n",
        "b = round(f, 0)\n",
        "print (f'Температура (Цельсия): {a}\\nТемпература (Фаренгейт): {b}')"
      ],
      "metadata": {
        "colab": {
          "base_uri": "https://localhost:8080/"
        },
        "id": "46RBfB0Yn57r",
        "outputId": "8131a6ae-1667-4790-9ac3-83ee6c2e12c4"
      },
      "execution_count": 12,
      "outputs": [
        {
          "output_type": "stream",
          "name": "stdout",
          "text": [
            "Температура (Цельсия): 13.0\n",
            "Температура (Фаренгейт): 55.0\n"
          ]
        }
      ]
    },
    {
      "cell_type": "code",
      "source": [
        "# 5. Конвертирование типов данных\n",
        "a1 = str(a)\n",
        "b1 = str(b)\n",
        "print(type(a), type(b))\n",
        "print(type(a1), type(b1))"
      ],
      "metadata": {
        "colab": {
          "base_uri": "https://localhost:8080/"
        },
        "id": "SKks43jdo3vJ",
        "outputId": "986c6b28-0e9b-489d-fcbc-68929c576a1f"
      },
      "execution_count": 16,
      "outputs": [
        {
          "output_type": "stream",
          "name": "stdout",
          "text": [
            "<class 'float'> <class 'float'>\n",
            "<class 'str'> <class 'str'>\n"
          ]
        }
      ]
    },
    {
      "cell_type": "code",
      "source": [
        "print('Температура (Цельсия) ' + a1 + '\\nТемпература (Фаренгейт) ' + b1)"
      ],
      "metadata": {
        "colab": {
          "base_uri": "https://localhost:8080/"
        },
        "id": "OAF662knqAOA",
        "outputId": "3bcefc1b-4421-49b3-a267-a069c5445773"
      },
      "execution_count": 22,
      "outputs": [
        {
          "output_type": "stream",
          "name": "stdout",
          "text": [
            "Температура (Цельсия) 13.0\n",
            "Температура (Фаренгейт) 55.0\n"
          ]
        }
      ]
    },
    {
      "cell_type": "code",
      "source": [
        "# 6. Калькулятор\n",
        "n1 = int(input('Введите первое число: ')) # я пыталась сделать ввод двух чисел в одной строке, но так и не получилось:(\n",
        "n2 = int(input('Введите второе число: '))\n",
        "print('Результат сложения: ' + str(n1 + n2) +\n",
        "      '\\nРезультат вычитания: ' + str(n1 - n2),\n",
        "      '\\nРезультат умножения: ' + str(n1 * n2) +\n",
        "      '\\nРезультат возведения во вторую степень первого числа: ' + str(n1 ** 2) +\n",
        "      '\\nРезультат возведения во вторую степень второго числа: ' + str(n2 ** 2))"
      ],
      "metadata": {
        "colab": {
          "base_uri": "https://localhost:8080/"
        },
        "id": "Y5jpguClqmya",
        "outputId": "bac2ba79-cc07-4cb4-cde7-5c1b3743ab14"
      },
      "execution_count": 28,
      "outputs": [
        {
          "output_type": "stream",
          "name": "stdout",
          "text": [
            "Введите первое число: 5\n",
            "Введите второе число: 6\n",
            "Результат сложения: 11\n",
            "Результат вычитания: -1 \n",
            "Результат умножения: 30\n",
            "Результат возведения во вторую степень первого числа: 25\n",
            "Результат возведения во вторую степень второго числа: 36\n"
          ]
        }
      ]
    },
    {
      "cell_type": "code",
      "source": [
        "# 7. Анкета\n",
        "name, age, occupation = str(input('Введите ваши данные: ')).split()\n",
        "print(f'Ваше имя  {name} \\nВаш возраст  {age} \\nВаша должность  {occupation}')"
      ],
      "metadata": {
        "colab": {
          "base_uri": "https://localhost:8080/"
        },
        "id": "u9tQhXB5r9XX",
        "outputId": "64871726-59e2-4883-d63c-9a3dc157b37d"
      },
      "execution_count": 30,
      "outputs": [
        {
          "output_type": "stream",
          "name": "stdout",
          "text": [
            "Введите ваши данные: Анна 22 учитель\n",
            "Ваше имя  Анна \n",
            "Ваш возраст  22 \n",
            "Ваша должность  учитель\n"
          ]
        }
      ]
    },
    {
      "cell_type": "code",
      "source": [
        "# 8. Поменять местами переменные\n",
        "w1, w2 = str(input('Введите название двух фруктов: ')).split()\n",
        "print('В первой переменной хранится ' + w1 +\n",
        "      '\\nВо второй переменной хранится ' + w2 +\n",
        "      '\\nМеняем местами...')\n",
        "w1, w2 = w2, w1\n",
        "print('В первой переменной хранится ' + w1 +\n",
        "      '\\nВо второй переменной хранится ' + w2)\n"
      ],
      "metadata": {
        "colab": {
          "base_uri": "https://localhost:8080/"
        },
        "id": "O69RzbyJvCdH",
        "outputId": "6327df76-5fca-4d07-e54a-5f9653514ddf"
      },
      "execution_count": 33,
      "outputs": [
        {
          "output_type": "stream",
          "name": "stdout",
          "text": [
            "Введите название двух фруктов: яблоко банан\n",
            "В первой переменной хранится яблоко\n",
            "Во второй переменной хранится банан\n",
            "Меняем местами...\n",
            "В первой переменной хранится банан\n",
            "Во второй переменной хранится яблоко\n"
          ]
        }
      ]
    },
    {
      "cell_type": "code",
      "source": [
        "# 9. Дописать функцию\n",
        "def sum_and_product(a, b):\n",
        "  total_sum = a + b\n",
        "  product = a * b\n",
        "  return total_sum, product\n",
        "result_sum, result_product = sum_and_product(13, 55)\n",
        "print('Суммма: ' + str(result_sum) +\n",
        "      '\\nПроизведение: ' + str(result_product))"
      ],
      "metadata": {
        "colab": {
          "base_uri": "https://localhost:8080/"
        },
        "id": "ja0IehViwiY0",
        "outputId": "276d716f-0695-47e1-e637-5874e18f5c1b"
      },
      "execution_count": 39,
      "outputs": [
        {
          "output_type": "stream",
          "name": "stdout",
          "text": [
            "Суммма: 68\n",
            "Произведение: 715\n"
          ]
        }
      ]
    },
    {
      "cell_type": "code",
      "source": [
        "# 10. Строка и число\n",
        "n1, n2 = str(input('Введите два числа: ')).split()\n",
        "print(f'Результат сложения: {n1 + n2} \\nРезультат сложения: {int(n1) + int(n2)}')"
      ],
      "metadata": {
        "colab": {
          "base_uri": "https://localhost:8080/"
        },
        "id": "kpZNJ-mEyn9M",
        "outputId": "b0447cb3-8e5e-4fcc-a8c6-005e2d375bce"
      },
      "execution_count": 45,
      "outputs": [
        {
          "output_type": "stream",
          "name": "stdout",
          "text": [
            "Введите два числа: 4 6\n",
            "Результат сложения: 46 \n",
            "Результат сложения: 10\n"
          ]
        }
      ]
    },
    {
      "cell_type": "code",
      "source": [],
      "metadata": {
        "id": "rTTuwKq8zB7e"
      },
      "execution_count": null,
      "outputs": []
    }
  ]
}