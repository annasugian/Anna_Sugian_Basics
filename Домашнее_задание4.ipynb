{
  "nbformat": 4,
  "nbformat_minor": 0,
  "metadata": {
    "colab": {
      "provenance": []
    },
    "kernelspec": {
      "name": "python3",
      "display_name": "Python 3"
    },
    "language_info": {
      "name": "python"
    }
  },
  "cells": [
    {
      "cell_type": "markdown",
      "source": [
        "# Домашнее задание на 7.10"
      ],
      "metadata": {
        "id": "bJrLPyna7Mwv"
      }
    },
    {
      "cell_type": "markdown",
      "source": [
        "## Блок 1: задачи на условия"
      ],
      "metadata": {
        "id": "qLqI54aq7VK3"
      }
    },
    {
      "cell_type": "markdown",
      "source": [
        "### 1. Напишите программу для проверки пароля пользователя"
      ],
      "metadata": {
        "id": "p7RHADaL_iH_"
      }
    },
    {
      "cell_type": "code",
      "execution_count": 32,
      "metadata": {
        "colab": {
          "base_uri": "https://localhost:8080/"
        },
        "id": "O3NKwwu57HHX",
        "outputId": "c3d0f9b5-2918-42d2-f5b4-0ae4b637122c"
      },
      "outputs": [
        {
          "output_type": "stream",
          "name": "stdout",
          "text": [
            "Введите пароль: 12345\n",
            "Пароль верный\n"
          ]
        }
      ],
      "source": [
        "correct_password = '12345' # переменная, в которой хранится верный пароль\n",
        "user_password = input('Введите пароль: ') # Запрос у пользователя пароль\n",
        "if user_password == correct_password:\n",
        "  print('Пароль верный') # Если пароль верный, выводится это\n",
        "else:\n",
        "  print('Пароль не верный') # иначе это\n"
      ]
    },
    {
      "cell_type": "markdown",
      "source": [
        "## 2. Напишите программу для проверки возраста пользователя"
      ],
      "metadata": {
        "id": "TTXIUyMZCWM-"
      }
    },
    {
      "cell_type": "code",
      "source": [
        "user_age = int(input('Введите возраст: ')) # запрос возраста у пользователя\n",
        "if user_age < 18:\n",
        "  print('Доступ запрещен') # если возраст менее 18 лет, Доступ запрещен\n",
        "else:\n",
        "  print('Доступ разрешен') # иначе, Доступ разрешен"
      ],
      "metadata": {
        "colab": {
          "base_uri": "https://localhost:8080/"
        },
        "id": "Y94Ze-QL8kIg",
        "outputId": "acc4c604-91d0-4493-ea14-c94ec217441d"
      },
      "execution_count": 33,
      "outputs": [
        {
          "output_type": "stream",
          "name": "stdout",
          "text": [
            "Введите возраст: 22\n",
            "Доступ разрешен\n"
          ]
        }
      ]
    },
    {
      "cell_type": "markdown",
      "source": [
        "## 3. Напишите программу для приветствия пользователя"
      ],
      "metadata": {
        "id": "CjKeYkMjC9S8"
      }
    },
    {
      "cell_type": "code",
      "source": [
        "time = str(input('Введите время: ')).split(':') # Запрос у пользователя времени в формате 12:50 с последующим делением строки по знаку \":\"\n",
        "key = time[0] # переменная в которой хранится число, обозначающее час времени\n",
        "# проверка времени и вывод подходящего приветствия\n",
        "if int(key) >= 6 and int(key) < 12:\n",
        "  print('Доброе утро!')\n",
        "elif int(key) >= 12 and int(key) < 18:\n",
        "  print('Добрый день!')\n",
        "elif int(key) >= 18 and int(key) < 23:\n",
        "  print('Добрый вечер!')\n",
        "elif int(key) == 23 and int(key) >= 0 and int(key) < 6:\n",
        "  print('Доброй ночи!')\n"
      ],
      "metadata": {
        "colab": {
          "base_uri": "https://localhost:8080/"
        },
        "id": "X8FqCCpwC0jN",
        "outputId": "2488e182-2c98-499c-b4ea-16ec21d45365"
      },
      "execution_count": 34,
      "outputs": [
        {
          "output_type": "stream",
          "name": "stdout",
          "text": [
            "Введите время: 16:45\n",
            "Добрый день!\n"
          ]
        }
      ]
    },
    {
      "cell_type": "markdown",
      "source": [
        "## 4. Целочисленный калькулятор"
      ],
      "metadata": {
        "id": "DAaUtVoYFlFc"
      }
    },
    {
      "cell_type": "code",
      "source": [
        "while True:\n",
        "  user_input = list(input(\"Введите выражение: \").split()) # принимаем на вход строку и делим ее на 3 элемента\n",
        "  # переменные с конкретным знаком\n",
        "  num1 = int(user_input[0])\n",
        "  operator = user_input[1]\n",
        "  num2 = int(user_input[2])\n",
        "  # проверка второго элемента и соответствующее ему выражение\n",
        "  if operator == \"+\":\n",
        "   print(num1 + num2)\n",
        "   break\n",
        "  elif operator == \"-\":\n",
        "   print(num1 - num2)\n",
        "   break\n",
        "  elif operator == \"*\":\n",
        "   print(num1 * num2)\n",
        "   break\n",
        "  elif operator == \"/\":\n",
        "    print(num1 // num2)\n",
        "    break"
      ],
      "metadata": {
        "colab": {
          "base_uri": "https://localhost:8080/"
        },
        "id": "zNnJQKD_hk0O",
        "outputId": "19fd3f09-544d-4968-9817-9c545929a249"
      },
      "execution_count": 37,
      "outputs": [
        {
          "output_type": "stream",
          "name": "stdout",
          "text": [
            "Введите выражение: 4 / 2\n",
            "2\n"
          ]
        }
      ]
    },
    {
      "cell_type": "markdown",
      "source": [
        "## 5. Умный калькулятор"
      ],
      "metadata": {
        "id": "3kbglO8VFsIJ"
      }
    },
    {
      "cell_type": "code",
      "source": [
        "while True:\n",
        "  user_input = input(\"Введите выражение: \")\n",
        "  operands = user_input.split()\n",
        "  num1 = float(operands[0]) # замена операции с int операциями с float\n",
        "  operator = operands[1]\n",
        "  num2 = float(operands[2])\n",
        "\n",
        "  if operator == \"+\":\n",
        "    result = num1 + num2\n",
        "    if result.is_integer(): # Если результат вычисления - целое число (например, 4.0), выводим целочисленный тип (4), иначе, выводим float\n",
        "      result = int(result)\n",
        "    break\n",
        "\n",
        "  elif operator == \"-\":\n",
        "    result = num1 - num2\n",
        "    if result.is_integer():\n",
        "      result = int(result)\n",
        "    break\n",
        "\n",
        "  elif operator == \"*\":\n",
        "    result = num1 * num2\n",
        "    if result.is_integer():\n",
        "      result = int(result)\n",
        "    break\n",
        "\n",
        "  elif operator == \"/\":\n",
        "    result = num1 // num2\n",
        "    if result.is_integer():\n",
        "      result = int(result)\n",
        "    break\n",
        "\n",
        "  elif operator == \"==\": # обученик калькулятора выполнять логические выражения, добавив новое условие\n",
        "    result = num1 == num2\n",
        "    break\n",
        "print(result)"
      ],
      "metadata": {
        "id": "HqiDtwYlFw-O",
        "colab": {
          "base_uri": "https://localhost:8080/"
        },
        "outputId": "087873fb-e039-483b-eea3-688becf1ba19"
      },
      "execution_count": 40,
      "outputs": [
        {
          "output_type": "stream",
          "name": "stdout",
          "text": [
            "Введите выражение: 3.4 + 6.6\n",
            "10\n"
          ]
        }
      ]
    },
    {
      "cell_type": "markdown",
      "source": [
        "# Блок 2: задачи на обработку данных"
      ],
      "metadata": {
        "id": "O7hJNyfMFxUn"
      }
    },
    {
      "cell_type": "markdown",
      "source": [
        "## 6. Фильтрация данных"
      ],
      "metadata": {
        "id": "-zNjLDTjF2zX"
      }
    },
    {
      "cell_type": "code",
      "source": [
        "# Список продуктов\n",
        "products = [\"Laptop True\", \"Headphones False\", \"Smartphone True\", \"Tablet True\", \"Speaker False\"]\n",
        "for product in products:# Начинаем перебирать список\n",
        "  item, availability = product.split()\n",
        "  if availability == 'True': # если вторая часть текущего элемента списка product == True\n",
        "    print(item) # выведите на экран первую часть текущего элемента списка product"
      ],
      "metadata": {
        "id": "R7ZvwxJMF6lb",
        "colab": {
          "base_uri": "https://localhost:8080/"
        },
        "outputId": "f79c5305-0ae4-4119-e4ef-3927bdf25aa4"
      },
      "execution_count": 41,
      "outputs": [
        {
          "output_type": "stream",
          "name": "stdout",
          "text": [
            "Laptop\n",
            "Smartphone\n",
            "Tablet\n"
          ]
        }
      ]
    },
    {
      "cell_type": "markdown",
      "source": [
        "## 7. Фильтрация по числу"
      ],
      "metadata": {
        "id": "UlBoEE_FF7HQ"
      }
    },
    {
      "cell_type": "code",
      "source": [
        "# Список продуктов\n",
        "num_products = [\"Laptop 8\", \"Headphones 12\", \"Smartphone 41\", \"Tablet 10\", \"Speaker 6\"]\n",
        "\n",
        "for product in num_products: # Начинаем перебирать список\n",
        "  item, number = product.split()\n",
        "  if int(number) >= 10: # проверяем количество продукта\n",
        "    print(item)"
      ],
      "metadata": {
        "id": "3CBz3bYiF-bv",
        "colab": {
          "base_uri": "https://localhost:8080/"
        },
        "outputId": "34b0cfa0-5b55-4031-d74b-da8b116b9b22"
      },
      "execution_count": 42,
      "outputs": [
        {
          "output_type": "stream",
          "name": "stdout",
          "text": [
            "Headphones\n",
            "Smartphone\n",
            "Tablet\n"
          ]
        }
      ]
    },
    {
      "cell_type": "markdown",
      "source": [
        "## 8. Изменение списка"
      ],
      "metadata": {
        "id": "IXZu8RUIF-vl"
      }
    },
    {
      "cell_type": "code",
      "source": [
        "new_products = [\"Desktop 16\", \"Mouse 2\", \"Keyboard 4\"]\n",
        "\n",
        "for product in new_products: # Начинаем перебирать список\n",
        "  item, number = product.split()\n",
        "  if int(number) >= 10: # проверяем количество продукта\n",
        "    num_products.append(product) # добавляем продукт в список num_products\n",
        "print(num_products)\n",
        "for product in num_products[:]: # перебираем копию списка num_products\n",
        "  item, number = product.split()\n",
        "  if int(number) < 10: # проверяем количество продукта\n",
        "    num_products.remove(product) # удаляем продукт из списка\n",
        "print(num_products)"
      ],
      "metadata": {
        "id": "QnJTcZaxGCP_",
        "colab": {
          "base_uri": "https://localhost:8080/"
        },
        "outputId": "3d240f5e-72dd-4a17-fe92-edbe66b7de31"
      },
      "execution_count": 43,
      "outputs": [
        {
          "output_type": "stream",
          "name": "stdout",
          "text": [
            "['Laptop 8', 'Headphones 12', 'Smartphone 41', 'Tablet 10', 'Speaker 6', 'Desktop 16']\n",
            "['Headphones 12', 'Smartphone 41', 'Tablet 10', 'Desktop 16']\n"
          ]
        }
      ]
    },
    {
      "cell_type": "markdown",
      "source": [
        "## 9. Фильтрация списка имен"
      ],
      "metadata": {
        "id": "OqT1kdPLGCdn"
      }
    },
    {
      "cell_type": "code",
      "source": [
        "names = [\"Tom\", \"Chloe\", \"Alex\", \"George\", \"Lauren\", \"Jordan\"]\n",
        "a_k = [] # создаем пустые списки\n",
        "l_z = []\n",
        "for name in names: # перебираем список с именами\n",
        "  if 'A' <= name[0] <= 'K': # проверяем, входит ли первая буква имени в диапазон от А до К\n",
        "    a_k.append(name) # если Да, добавляем в список a_k\n",
        "  else:\n",
        "    l_z.append(name) # если Нет, добавляем в список l_z\n",
        "print(sorted(a_k)) # сорттируем списки и выводим их\n",
        "print(sorted(l_z))"
      ],
      "metadata": {
        "id": "vkTorUvrGGA_",
        "colab": {
          "base_uri": "https://localhost:8080/"
        },
        "outputId": "0d5a6af3-4891-4c9b-ac0e-305778dd2406"
      },
      "execution_count": 44,
      "outputs": [
        {
          "output_type": "stream",
          "name": "stdout",
          "text": [
            "['Alex', 'Chloe', 'George', 'Jordan']\n",
            "['Lauren', 'Tom']\n"
          ]
        }
      ]
    },
    {
      "cell_type": "markdown",
      "source": [
        "## 10. Фильтрация типов"
      ],
      "metadata": {
        "id": "9JyQOcdKGGcc"
      }
    },
    {
      "cell_type": "code",
      "source": [
        "mixed_list = [3, 1, \"kiwi\", 7.6, False, True, \"apple\", 2.5, \"banana\", True, 4]\n",
        "nums = [] # создаем пустые списки\n",
        "names = []\n",
        "floats = []\n",
        "bools = []\n",
        "for element in mixed_list: # перебираем список mixed_list\n",
        "  if isinstance(element, bool): # проверяем тип элемента списка\n",
        "    bools.append(element) # добавляем элемент согласно его типу\n",
        "  elif isinstance(element, int):\n",
        "    nums.append(element)\n",
        "  elif isinstance(element, str):\n",
        "    names.append(element)\n",
        "  elif isinstance(element, float):\n",
        "    floats.append(element)\n",
        "print(sorted(nums)) # выводим отсортированный список\n",
        "print(sorted(names))\n",
        "print(sorted(floats))\n",
        "print(sorted(bools))"
      ],
      "metadata": {
        "id": "emdbEQYNGJ8O",
        "colab": {
          "base_uri": "https://localhost:8080/"
        },
        "outputId": "efb20ed0-912b-47ba-a0aa-84e44ab69682"
      },
      "execution_count": 45,
      "outputs": [
        {
          "output_type": "stream",
          "name": "stdout",
          "text": [
            "[1, 3, 4]\n",
            "['apple', 'banana', 'kiwi']\n",
            "[2.5, 7.6]\n",
            "[False, True, True]\n"
          ]
        }
      ]
    }
  ]
}