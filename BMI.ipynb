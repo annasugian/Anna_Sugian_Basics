{
  "nbformat": 4,
  "nbformat_minor": 0,
  "metadata": {
    "colab": {
      "provenance": []
    },
    "kernelspec": {
      "name": "python3",
      "display_name": "Python 3"
    },
    "language_info": {
      "name": "python"
    }
  },
  "cells": [
    {
      "cell_type": "code",
      "execution_count": 1,
      "metadata": {
        "colab": {
          "base_uri": "https://localhost:8080/"
        },
        "id": "23u9FoneWqXa",
        "outputId": "6b967817-c833-449d-c17a-91d915a6fbf1"
      },
      "outputs": [
        {
          "output_type": "stream",
          "name": "stdout",
          "text": [
            "Enter your name: Anna\n",
            "Enter your height in m: 1.63\n",
            "Enter your weight in kg: 63\n",
            "Anna's body mass index is 23.711844630960897\n",
            "Anna has no obesity\n"
          ]
        }
      ],
      "source": [
        "name = str(input('Enter your name: '))\n",
        "height = float(input('Enter your height in m: '))\n",
        "weight = float(input('Enter your weight in kg: '))\n",
        "bmi = weight / height ** 2\n",
        "print(name + \"'s body mass index is \" + str(bmi))\n",
        "\n",
        "if bmi < 25:\n",
        "  print (name + ' has no obesity')\n",
        "else:\n",
        "  print(name + ' has obesity')"
      ]
    },
    {
      "cell_type": "code",
      "source": [],
      "metadata": {
        "id": "xjD34sFWYJqq"
      },
      "execution_count": null,
      "outputs": []
    }
  ]
}