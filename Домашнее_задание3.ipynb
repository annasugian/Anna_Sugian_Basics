{
  "nbformat": 4,
  "nbformat_minor": 0,
  "metadata": {
    "colab": {
      "provenance": []
    },
    "kernelspec": {
      "name": "python3",
      "display_name": "Python 3"
    },
    "language_info": {
      "name": "python"
    }
  },
  "cells": [
    {
      "cell_type": "markdown",
      "source": [
        "# Задание 1: Загрузка данных"
      ],
      "metadata": {
        "id": "OoT50cRLwaqy"
      }
    },
    {
      "cell_type": "code",
      "execution_count": 1,
      "metadata": {
        "colab": {
          "base_uri": "https://localhost:8080/"
        },
        "id": "ymZWdBRrwUX2",
        "outputId": "af794504-ac87-4d36-fe72-6c056112fd09"
      },
      "outputs": [
        {
          "output_type": "stream",
          "name": "stdout",
          "text": [
            "--2024-10-04 13:43:30--  https://raw.githubusercontent.com/vifirsanova/hse-python-course/main/data/data_cleaning.txt\n",
            "Resolving raw.githubusercontent.com (raw.githubusercontent.com)... 185.199.108.133, 185.199.109.133, 185.199.110.133, ...\n",
            "Connecting to raw.githubusercontent.com (raw.githubusercontent.com)|185.199.108.133|:443... connected.\n",
            "HTTP request sent, awaiting response... 200 OK\n",
            "Length: 2377 (2.3K) [text/plain]\n",
            "Saving to: ‘data_cleaning.txt’\n",
            "\n",
            "\rdata_cleaning.txt     0%[                    ]       0  --.-KB/s               \rdata_cleaning.txt   100%[===================>]   2.32K  --.-KB/s    in 0s      \n",
            "\n",
            "2024-10-04 13:43:30 (27.1 MB/s) - ‘data_cleaning.txt’ saved [2377/2377]\n",
            "\n"
          ]
        }
      ],
      "source": [
        "!wget https://raw.githubusercontent.com/vifirsanova/hse-python-course/main/data/data_cleaning.txt"
      ]
    },
    {
      "cell_type": "code",
      "source": [
        "with open('data_cleaning.txt', 'r') as f:\n",
        "  data = f.read()\n",
        "print(data[:100])"
      ],
      "metadata": {
        "colab": {
          "base_uri": "https://localhost:8080/"
        },
        "id": "yGZ-O-IJxUdj",
        "outputId": "cf99e7d5-2a75-4e45-8be8-aba8262e115a"
      },
      "execution_count": 3,
      "outputs": [
        {
          "output_type": "stream",
          "name": "stdout",
          "text": [
            "<!DOCTYPE html>\n",
            "<html>\n",
            "<head>\n",
            "    <title>Sample HTML Document</title>\n",
            "</head>\n",
            "<body>\n",
            "    <h1>Welcome\n"
          ]
        }
      ]
    },
    {
      "cell_type": "markdown",
      "source": [
        "# Задание 2: Удаление артефактов"
      ],
      "metadata": {
        "id": "92FjgPb2zPXs"
      }
    },
    {
      "cell_type": "code",
      "source": [
        "import re\n",
        "tag_pattern = r'<[^>]+>'\n",
        "clean_text = re.sub(tag_pattern, '', data)\n",
        "print(clean_text[720:800])"
      ],
      "metadata": {
        "colab": {
          "base_uri": "https://localhost:8080/"
        },
        "id": "an3Z1CNJxfUz",
        "outputId": "1da18f99-6618-48cc-c65d-f60b4ac82932"
      },
      "execution_count": 24,
      "outputs": [
        {
          "output_type": "stream",
          "name": "stdout",
          "text": [
            " It's crucial to handle HTML entities such as &lt;div&gt;, &lt;p&gt;, &amp;, etc\n"
          ]
        }
      ]
    },
    {
      "cell_type": "code",
      "source": [
        "symbols_pattern = r'&\\w+;'\n",
        "clean_text1 = re.sub(symbols_pattern, '', clean_text)\n",
        "print(clean_text1[720:800])"
      ],
      "metadata": {
        "colab": {
          "base_uri": "https://localhost:8080/"
        },
        "id": "mmwEmyVNzjaB",
        "outputId": "fd430b71-865c-4963-a7e9-b689e6559ce5"
      },
      "execution_count": 33,
      "outputs": [
        {
          "output_type": "stream",
          "name": "stdout",
          "text": [
            " entities such as div, p, , etc. HTML entities are special characters or symbols\n"
          ]
        }
      ]
    },
    {
      "cell_type": "code",
      "source": [
        "clean_text1[:100]"
      ],
      "metadata": {
        "colab": {
          "base_uri": "https://localhost:8080/",
          "height": 36
        },
        "id": "lP_KslaG0zns",
        "outputId": "f983a857-b22c-4508-cd35-7cceda0d7090"
      },
      "execution_count": 34,
      "outputs": [
        {
          "output_type": "execute_result",
          "data": {
            "text/plain": [
              "' Sample HTML Document Welcome to Data Cleaning This is a sample paragraph with HTML artifacts such a'"
            ],
            "application/vnd.google.colaboratory.intrinsic+json": {
              "type": "string"
            }
          },
          "metadata": {},
          "execution_count": 34
        }
      ]
    },
    {
      "cell_type": "code",
      "source": [
        "space_pattern = r'\\s+'\n",
        "clean_text = re.sub(space_pattern, ' ', clean_text1)\n",
        "clean_text[:100]"
      ],
      "metadata": {
        "colab": {
          "base_uri": "https://localhost:8080/",
          "height": 36
        },
        "id": "pgUlmIaT2Kv-",
        "outputId": "68eecaac-aa07-4259-aad8-18b2d3328cc7"
      },
      "execution_count": 35,
      "outputs": [
        {
          "output_type": "execute_result",
          "data": {
            "text/plain": [
              "' Sample HTML Document Welcome to Data Cleaning This is a sample paragraph with HTML artifacts such a'"
            ],
            "application/vnd.google.colaboratory.intrinsic+json": {
              "type": "string"
            }
          },
          "metadata": {},
          "execution_count": 35
        }
      ]
    },
    {
      "cell_type": "markdown",
      "source": [
        "# Задание 3: Смена регистра"
      ],
      "metadata": {
        "id": "LtOg2e932wGi"
      }
    },
    {
      "cell_type": "code",
      "source": [
        "text_lower = clean_text1.lower()\n",
        "text_lower[-100:]"
      ],
      "metadata": {
        "colab": {
          "base_uri": "https://localhost:8080/",
          "height": 36
        },
        "id": "np_yieaI2km8",
        "outputId": "f72f7a66-9caa-4805-fe80-b1ca707858e1"
      },
      "execution_count": 36,
      "outputs": [
        {
          "output_type": "execute_result",
          "data": {
            "text/plain": [
              "'e learning models, making predictions, or generating insights to support decision-making processes. '"
            ],
            "application/vnd.google.colaboratory.intrinsic+json": {
              "type": "string"
            }
          },
          "metadata": {},
          "execution_count": 36
        }
      ]
    },
    {
      "cell_type": "markdown",
      "source": [
        "# Задание 4: Удаление стоп-слов"
      ],
      "metadata": {
        "id": "-IBLqXFs3_-t"
      }
    },
    {
      "cell_type": "code",
      "source": [
        "!wget https://raw.githubusercontent.com/vifirsanova/hse-python-course/main/data/stopwords.txt"
      ],
      "metadata": {
        "colab": {
          "base_uri": "https://localhost:8080/"
        },
        "id": "Y3Zdnn8C3YNl",
        "outputId": "4e9fa940-4dda-48e7-be8b-b94c56efc5c2"
      },
      "execution_count": 37,
      "outputs": [
        {
          "output_type": "stream",
          "name": "stdout",
          "text": [
            "--2024-10-04 14:13:43--  https://raw.githubusercontent.com/vifirsanova/hse-python-course/main/data/stopwords.txt\n",
            "Resolving raw.githubusercontent.com (raw.githubusercontent.com)... 185.199.108.133, 185.199.109.133, 185.199.110.133, ...\n",
            "Connecting to raw.githubusercontent.com (raw.githubusercontent.com)|185.199.108.133|:443... connected.\n",
            "HTTP request sent, awaiting response... 200 OK\n",
            "Length: 954 [text/plain]\n",
            "Saving to: ‘stopwords.txt’\n",
            "\n",
            "\rstopwords.txt         0%[                    ]       0  --.-KB/s               \rstopwords.txt       100%[===================>]     954  --.-KB/s    in 0s      \n",
            "\n",
            "2024-10-04 14:13:43 (53.7 MB/s) - ‘stopwords.txt’ saved [954/954]\n",
            "\n"
          ]
        }
      ]
    },
    {
      "cell_type": "code",
      "source": [
        "with open('stopwords.txt', 'r') as f:\n",
        "  stopwords = f.read().split()\n",
        "stopwords[:10]"
      ],
      "metadata": {
        "colab": {
          "base_uri": "https://localhost:8080/"
        },
        "id": "XeyCIFp04SSP",
        "outputId": "fc223ca7-7ee3-4874-d504-474823c10102"
      },
      "execution_count": 39,
      "outputs": [
        {
          "output_type": "execute_result",
          "data": {
            "text/plain": [
              "['a', 'about', 'above', 'after', 'again', 'against', 'all', 'am', 'an', 'and']"
            ]
          },
          "metadata": {},
          "execution_count": 39
        }
      ]
    },
    {
      "cell_type": "code",
      "source": [
        "import random\n",
        "random_word = random.choice(stopwords)\n",
        "if random_word in text_lower:\n",
        "  print(f'Результат проверки: True. \\nСлучайное слово: {random_word}')\n",
        "else:\n",
        "  print(f'Результат проверки: False. \\nСлучайное слово: {random_word}')"
      ],
      "metadata": {
        "colab": {
          "base_uri": "https://localhost:8080/"
        },
        "id": "WspweXcQ4Ysz",
        "outputId": "c1808581-a6f3-4137-c4e2-acb9907b46f2"
      },
      "execution_count": 48,
      "outputs": [
        {
          "output_type": "stream",
          "name": "stdout",
          "text": [
            "Результат проверки: False. \n",
            "Случайное слово: would\n"
          ]
        }
      ]
    },
    {
      "cell_type": "markdown",
      "source": [
        "# Задание 5: Токенизация"
      ],
      "metadata": {
        "id": "EDhX7VRq5zu-"
      }
    },
    {
      "cell_type": "code",
      "source": [
        "sentences = text_lower.split('.')\n",
        "sentences[:10]"
      ],
      "metadata": {
        "colab": {
          "base_uri": "https://localhost:8080/"
        },
        "id": "SK3r3aZo4rty",
        "outputId": "d56ca8ac-cfda-4282-ee8b-3f1f2be90ec8"
      },
      "execution_count": 49,
      "outputs": [
        {
          "output_type": "execute_result",
          "data": {
            "text/plain": [
              "[' sample html document welcome to data cleaning this is a sample paragraph with html artifacts such as bold and italic text',\n",
              " ' data cleaning is an essential process in preparing data for analysis',\n",
              " ' it involves various techniques to clean, transform, and preprocess data',\n",
              " ' in data cleaning, it\\'s important to remove stop words like \"the\", \"and\", \"of\", etc',\n",
              " ' stop words are common words that are often filtered out from text data because they do not carry significant meaning',\n",
              " \" here's another paragraph\",\n",
              " ' sometimes text is in uppercase or lowercase',\n",
              " \" it's important to standardize the text case to ensure consistency in the dataset\",\n",
              " ' this can be achieved by converting all text to lowercase or uppercase',\n",
              " \" it's crucial to handle html entities such as div, p, , etc\"]"
            ]
          },
          "metadata": {},
          "execution_count": 49
        }
      ]
    },
    {
      "cell_type": "code",
      "source": [
        "tokens = text_lower.split()\n",
        "tokens[:10]"
      ],
      "metadata": {
        "colab": {
          "base_uri": "https://localhost:8080/"
        },
        "id": "Gy-M6k426O7j",
        "outputId": "41287d6f-2530-46ff-f029-bdf224c2fa51"
      },
      "execution_count": 52,
      "outputs": [
        {
          "output_type": "execute_result",
          "data": {
            "text/plain": [
              "['sample',\n",
              " 'html',\n",
              " 'document',\n",
              " 'welcome',\n",
              " 'to',\n",
              " 'data',\n",
              " 'cleaning',\n",
              " 'this',\n",
              " 'is',\n",
              " 'a']"
            ]
          },
          "metadata": {},
          "execution_count": 52
        }
      ]
    },
    {
      "cell_type": "code",
      "source": [
        "clean_tokens = []\n",
        "\n",
        "for token in tokens:\n",
        "  if token not in stopwords:\n",
        "    clean_tokens.append(token)\n",
        "clean_tokens[:10]"
      ],
      "metadata": {
        "colab": {
          "base_uri": "https://localhost:8080/"
        },
        "id": "wq1AaqNI6dSY",
        "outputId": "f6cb5d18-ff75-4d43-a651-cafab59d6737"
      },
      "execution_count": 53,
      "outputs": [
        {
          "output_type": "execute_result",
          "data": {
            "text/plain": [
              "['sample',\n",
              " 'html',\n",
              " 'document',\n",
              " 'welcome',\n",
              " 'data',\n",
              " 'cleaning',\n",
              " 'sample',\n",
              " 'paragraph',\n",
              " 'html',\n",
              " 'artifacts']"
            ]
          },
          "metadata": {},
          "execution_count": 53
        }
      ]
    },
    {
      "cell_type": "markdown",
      "source": [
        "# И еще одно задание..."
      ],
      "metadata": {
        "id": "WVB7jhsO7mQ3"
      }
    },
    {
      "cell_type": "code",
      "source": [
        "!wget https://raw.githubusercontent.com/vifirsanova/hse-python-course/main/extracurricular/artefacts.txt"
      ],
      "metadata": {
        "colab": {
          "base_uri": "https://localhost:8080/"
        },
        "id": "C3GN-pNn7Fop",
        "outputId": "a790525c-9151-4b73-e8fe-24b41f1124b5"
      },
      "execution_count": 54,
      "outputs": [
        {
          "output_type": "stream",
          "name": "stdout",
          "text": [
            "--2024-10-04 14:28:25--  https://raw.githubusercontent.com/vifirsanova/hse-python-course/main/extracurricular/artefacts.txt\n",
            "Resolving raw.githubusercontent.com (raw.githubusercontent.com)... 185.199.108.133, 185.199.109.133, 185.199.110.133, ...\n",
            "Connecting to raw.githubusercontent.com (raw.githubusercontent.com)|185.199.108.133|:443... connected.\n",
            "HTTP request sent, awaiting response... 200 OK\n",
            "Length: 845 [text/plain]\n",
            "Saving to: ‘artefacts.txt’\n",
            "\n",
            "\rartefacts.txt         0%[                    ]       0  --.-KB/s               \rartefacts.txt       100%[===================>]     845  --.-KB/s    in 0s      \n",
            "\n",
            "2024-10-04 14:28:25 (54.2 MB/s) - ‘artefacts.txt’ saved [845/845]\n",
            "\n"
          ]
        }
      ]
    },
    {
      "cell_type": "code",
      "source": [
        "with open('artefacts.txt', 'r') as f:\n",
        "  artefacts = f.read()\n",
        "artefacts[:100]"
      ],
      "metadata": {
        "colab": {
          "base_uri": "https://localhost:8080/",
          "height": 36
        },
        "id": "2a2iYNKN7pog",
        "outputId": "8e913cf2-8ceb-4e65-cf14-bf70f5a12331"
      },
      "execution_count": 70,
      "outputs": [
        {
          "output_type": "execute_result",
          "data": {
            "text/plain": [
              "'<!DOCTYPE html>\\n<html>\\n<head>\\n    <title>Sample Web Page</title>\\n</head>\\n<body>\\n    <h1>Welcome to O'"
            ],
            "application/vnd.google.colaboratory.intrinsic+json": {
              "type": "string"
            }
          },
          "metadata": {},
          "execution_count": 70
        }
      ]
    },
    {
      "cell_type": "markdown",
      "source": [
        "## 1. удалить артефакты (html-теги, специальные символы и двойные пробелы)"
      ],
      "metadata": {
        "id": "nJaXTV6w7763"
      }
    },
    {
      "cell_type": "code",
      "source": [
        "clean_artefacts = re.sub(r'<[^>]+>', ' ', artefacts)\n",
        "clean2_artefacts = re.sub(r'@|&\\w+;', ' ', clean_artefacts)\n",
        "clean3_artefacts = re.sub(r'\\s+', ' ', clean2_artefacts)\n",
        "clean3_artefacts[:100]"
      ],
      "metadata": {
        "colab": {
          "base_uri": "https://localhost:8080/",
          "height": 36
        },
        "id": "b_KVERva8WTw",
        "outputId": "08d0128e-887e-4b0d-b92d-4c8898ddb0a8"
      },
      "execution_count": 75,
      "outputs": [
        {
          "output_type": "execute_result",
          "data": {
            "text/plain": [
              "' Sample Web Page Welcome to Our Website This is some sample text on our website. You can contact us '"
            ],
            "application/vnd.google.colaboratory.intrinsic+json": {
              "type": "string"
            }
          },
          "metadata": {},
          "execution_count": 75
        }
      ]
    },
    {
      "cell_type": "markdown",
      "source": [
        "## 2. привести текст к нижнему регистру"
      ],
      "metadata": {
        "id": "aa1OAV7L8BAo"
      }
    },
    {
      "cell_type": "code",
      "source": [
        "lower_artefacts = clean3_artefacts.lower()\n",
        "lower_artefacts[:100]"
      ],
      "metadata": {
        "colab": {
          "base_uri": "https://localhost:8080/",
          "height": 36
        },
        "id": "TnDqk-_J8XBv",
        "outputId": "32b7912b-3d07-4acc-c517-697b56d4d650"
      },
      "execution_count": 76,
      "outputs": [
        {
          "output_type": "execute_result",
          "data": {
            "text/plain": [
              "' sample web page welcome to our website this is some sample text on our website. you can contact us '"
            ],
            "application/vnd.google.colaboratory.intrinsic+json": {
              "type": "string"
            }
          },
          "metadata": {},
          "execution_count": 76
        }
      ]
    },
    {
      "cell_type": "markdown",
      "source": [
        "## 3. токенизировать текст по предложениям"
      ],
      "metadata": {
        "id": "9ecK1O288BqT"
      }
    },
    {
      "cell_type": "code",
      "source": [
        "artefacts_sentences = lower_artefacts.split('.')\n",
        "artefacts_sentences[-100:]"
      ],
      "metadata": {
        "colab": {
          "base_uri": "https://localhost:8080/"
        },
        "id": "VyEdPyTa8XzM",
        "outputId": "3f4a74cf-89b4-422d-8f7d-87894a990537"
      },
      "execution_count": 78,
      "outputs": [
        {
          "output_type": "execute_result",
          "data": {
            "text/plain": [
              "[' sample web page welcome to our website this is some sample text on our website',\n",
              " ' you can contact us at info example',\n",
              " 'com ',\n",
              " ' latest news breaking news: important announcement lorem ipsum dolor sit amet, consectetur adipiscing elit',\n",
              " ' vivamus lacinia, arcu in fermentum tincidunt',\n",
              " ' 2023 our website',\n",
              " ' all rights reserved',\n",
              " ' | privacy policy | contact us console',\n",
              " \"log('this is some javascript content that runs in the browser\",\n",
              " \"'); \"]"
            ]
          },
          "metadata": {},
          "execution_count": 78
        }
      ]
    },
    {
      "cell_type": "markdown",
      "source": [
        "## 4. токенизировать текст по словам"
      ],
      "metadata": {
        "id": "tiQ_gqDH8CCg"
      }
    },
    {
      "cell_type": "code",
      "source": [
        "artefacts_tokens = lower_artefacts.split()\n",
        "artefacts_tokens[:10]"
      ],
      "metadata": {
        "colab": {
          "base_uri": "https://localhost:8080/"
        },
        "id": "35LCZFhv8YXk",
        "outputId": "cfa8f1ad-63f1-4ded-db34-543d81dc37ae"
      },
      "execution_count": 80,
      "outputs": [
        {
          "output_type": "execute_result",
          "data": {
            "text/plain": [
              "['sample',\n",
              " 'web',\n",
              " 'page',\n",
              " 'welcome',\n",
              " 'to',\n",
              " 'our',\n",
              " 'website',\n",
              " 'this',\n",
              " 'is',\n",
              " 'some']"
            ]
          },
          "metadata": {},
          "execution_count": 80
        }
      ]
    },
    {
      "cell_type": "markdown",
      "source": [
        "## 5. удалить стоп-слова"
      ],
      "metadata": {
        "id": "qZgwnv7b8THj"
      }
    },
    {
      "cell_type": "code",
      "source": [
        "clean_artef_tokens = []\n",
        "for token in artefacts_tokens:\n",
        "  if token not in stopwords:\n",
        "    clean_artef_tokens.append(token)\n",
        "clean_artef_tokens[:10]"
      ],
      "metadata": {
        "colab": {
          "base_uri": "https://localhost:8080/"
        },
        "id": "P7whrzsw77Lr",
        "outputId": "a600c968-bcab-4b00-b563-e466e95e775a"
      },
      "execution_count": 81,
      "outputs": [
        {
          "output_type": "execute_result",
          "data": {
            "text/plain": [
              "['sample',\n",
              " 'web',\n",
              " 'page',\n",
              " 'welcome',\n",
              " 'website',\n",
              " 'sample',\n",
              " 'text',\n",
              " 'website.',\n",
              " 'can',\n",
              " 'contact']"
            ]
          },
          "metadata": {},
          "execution_count": 81
        }
      ]
    }
  ]
}