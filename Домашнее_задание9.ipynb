{
  "cells": [
    {
      "cell_type": "markdown",
      "metadata": {
        "id": "view-in-github",
        "colab_type": "text"
      },
      "source": [
        "<a href=\"https://colab.research.google.com/github/annasugian/Anna_Sugian_Basics/blob/main/%D0%94%D0%BE%D0%BC%D0%B0%D1%88%D0%BD%D0%B5%D0%B5_%D0%B7%D0%B0%D0%B4%D0%B0%D0%BD%D0%B8%D0%B59.ipynb\" target=\"_parent\"><img src=\"https://colab.research.google.com/assets/colab-badge.svg\" alt=\"Open In Colab\"/></a>"
      ]
    },
    {
      "cell_type": "markdown",
      "source": [
        "Установка VK API"
      ],
      "metadata": {
        "id": "t_Qke13Qyf0f"
      }
    },
    {
      "cell_type": "code",
      "execution_count": null,
      "metadata": {
        "id": "Iuh2-xTvWnQh",
        "colab": {
          "base_uri": "https://localhost:8080/"
        },
        "outputId": "bdb67433-7719-477d-92b4-b4a483a94dcc"
      },
      "outputs": [
        {
          "output_type": "stream",
          "name": "stdout",
          "text": [
            "Requirement already satisfied: vk_api in /usr/local/lib/python3.10/dist-packages (11.9.9)\n",
            "Requirement already satisfied: requests in /usr/local/lib/python3.10/dist-packages (from vk_api) (2.32.3)\n",
            "Requirement already satisfied: charset-normalizer<4,>=2 in /usr/local/lib/python3.10/dist-packages (from requests->vk_api) (3.4.0)\n",
            "Requirement already satisfied: idna<4,>=2.5 in /usr/local/lib/python3.10/dist-packages (from requests->vk_api) (3.10)\n",
            "Requirement already satisfied: urllib3<3,>=1.21.1 in /usr/local/lib/python3.10/dist-packages (from requests->vk_api) (2.2.3)\n",
            "Requirement already satisfied: certifi>=2017.4.17 in /usr/local/lib/python3.10/dist-packages (from requests->vk_api) (2024.8.30)\n"
          ]
        }
      ],
      "source": [
        "!pip install vk_api"
      ]
    },
    {
      "cell_type": "markdown",
      "source": [
        "Получаем токен на vkhost;\n",
        "\n",
        "- выбираем vk.com\n",
        "\n",
        "- принимаем условия\n",
        "\n",
        "- копируем код из строки браузера (да-да, там, где написано \"не копируйте\")\n",
        "\n",
        "Токен живет 1 час, он расположен между `https://oauth.vk.com/blank.html#access_token=` и `user_id=61895623`\n",
        "\n",
        "```\n",
        "https://oauth.vk.com/blank.html#access_token=ЗДЕСЬ ВАШ ТОКЕН&user_id=61895623\n",
        "```\n",
        "\n",
        "Токен привязан к вашему IP, поэтому запускаем его локально!"
      ],
      "metadata": {
        "id": "xoyz9Mc8yjO0"
      }
    },
    {
      "cell_type": "markdown",
      "source": [
        "***Комментарий:*** Я обнаружила ошибку в задании. Токен будет между `https://oauth.vk.com/blank.html#access_token=` и `&expires_in=`"
      ],
      "metadata": {
        "id": "SD72-h1sABtU"
      }
    },
    {
      "cell_type": "code",
      "execution_count": null,
      "metadata": {
        "id": "lhcaWDOBZVw3"
      },
      "outputs": [],
      "source": [
        "# https://vkhost.github.io/\n",
        "\n",
        "import vk_api\n",
        "\n",
        "vkApiSession= vk_api.VkApi(token=vk_token) #свой токен я сохранила в переменную vk_token, но ячейку удалила\n",
        "\n",
        "vk = vkApiSession.get_api()"
      ]
    },
    {
      "cell_type": "markdown",
      "source": [
        "`-20629724` - ID паблика \"Хабр\" ВК\n",
        "\n",
        "ID пользователей имеют вид `00000000`\n",
        "\n",
        "ID сообществ имеют вид `-00000000`\n",
        "\n",
        "Выгрузим 100 верхних постов и выведем результат"
      ],
      "metadata": {
        "id": "bdEwTErH0j75"
      }
    },
    {
      "cell_type": "markdown",
      "source": [
        "***Комментарий***: Я вывела 1 результат, так как, выводя 100, документ не считывался в гитхаб из-за слишком большого количества аутпута."
      ],
      "metadata": {
        "id": "IhfrAz3FIdUf"
      }
    },
    {
      "cell_type": "code",
      "source": [
        "posts = vk.wall.get(owner_id=-20629724, count=1)['items']\n",
        "posts"
      ],
      "metadata": {
        "id": "P0-u3YXgyduT",
        "colab": {
          "base_uri": "https://localhost:8080/"
        },
        "outputId": "95138f4d-f68e-4c13-8cef-fffdcdab02ad"
      },
      "execution_count": 55,
      "outputs": [
        {
          "output_type": "execute_result",
          "data": {
            "text/plain": [
              "[{'inner_type': 'wall_wallpost',\n",
              "  'ads_easy_promote': {'type': 2,\n",
              "   'text': 'Что-то пошло не так.',\n",
              "   'label_text': '',\n",
              "   'button_text': '',\n",
              "   'is_ad_not_easy': False},\n",
              "  'is_pinned': 1,\n",
              "  'comments': {'can_post': 1, 'count': 4, 'groups_can_post': True},\n",
              "  'marked_as_ads': 0,\n",
              "  'hash': 'mxV4S9-fiJ8Dirl2XqD6elS1EcEz',\n",
              "  'type': 'post',\n",
              "  'push_subscription': {'is_subscribed': False},\n",
              "  'attachments': [{'type': 'photo',\n",
              "    'photo': {'album_id': -7,\n",
              "     'date': 1733146247,\n",
              "     'id': 457329364,\n",
              "     'owner_id': -20629724,\n",
              "     'access_key': 'dcf0e7872d268e2c46',\n",
              "     'post_id': 1599192,\n",
              "     'sizes': [{'height': 125,\n",
              "       'type': 'm',\n",
              "       'width': 130,\n",
              "       'url': 'https://sun1-85.userapi.com/s/v1/ig2/okAKn8w7SZIR3O_QCXgzKKU9vZMJQwlwbHjBkccN9-Fl0ikr3DI3w2rjMMuh_fVIOW-lIwspMWP0nZnYeL3t3gha.jpg?quality=96&as=32x31,48x46,72x70,108x104,160x154,240x232,360x348,480x463,540x521,640x618,720x695,810x782&from=bu&u=gMl10p3ylManiwDUgOJd1Q8TSCITRoZ3m871rZVQYH0&cs=130x125'},\n",
              "      {'height': 125,\n",
              "       'type': 'o',\n",
              "       'width': 130,\n",
              "       'url': 'https://sun1-85.userapi.com/s/v1/ig2/okAKn8w7SZIR3O_QCXgzKKU9vZMJQwlwbHjBkccN9-Fl0ikr3DI3w2rjMMuh_fVIOW-lIwspMWP0nZnYeL3t3gha.jpg?quality=96&as=32x31,48x46,72x70,108x104,160x154,240x232,360x348,480x463,540x521,640x618,720x695,810x782&from=bu&u=gMl10p3ylManiwDUgOJd1Q8TSCITRoZ3m871rZVQYH0&cs=130x125'},\n",
              "      {'height': 193,\n",
              "       'type': 'p',\n",
              "       'width': 200,\n",
              "       'url': 'https://sun1-85.userapi.com/s/v1/ig2/okAKn8w7SZIR3O_QCXgzKKU9vZMJQwlwbHjBkccN9-Fl0ikr3DI3w2rjMMuh_fVIOW-lIwspMWP0nZnYeL3t3gha.jpg?quality=96&as=32x31,48x46,72x70,108x104,160x154,240x232,360x348,480x463,540x521,640x618,720x695,810x782&from=bu&u=gMl10p3ylManiwDUgOJd1Q8TSCITRoZ3m871rZVQYH0&cs=200x193'},\n",
              "      {'height': 309,\n",
              "       'type': 'q',\n",
              "       'width': 320,\n",
              "       'url': 'https://sun1-85.userapi.com/s/v1/ig2/okAKn8w7SZIR3O_QCXgzKKU9vZMJQwlwbHjBkccN9-Fl0ikr3DI3w2rjMMuh_fVIOW-lIwspMWP0nZnYeL3t3gha.jpg?quality=96&as=32x31,48x46,72x70,108x104,160x154,240x232,360x348,480x463,540x521,640x618,720x695,810x782&from=bu&u=gMl10p3ylManiwDUgOJd1Q8TSCITRoZ3m871rZVQYH0&cs=320x309'},\n",
              "      {'height': 492,\n",
              "       'type': 'r',\n",
              "       'width': 510,\n",
              "       'url': 'https://sun1-85.userapi.com/s/v1/ig2/okAKn8w7SZIR3O_QCXgzKKU9vZMJQwlwbHjBkccN9-Fl0ikr3DI3w2rjMMuh_fVIOW-lIwspMWP0nZnYeL3t3gha.jpg?quality=96&as=32x31,48x46,72x70,108x104,160x154,240x232,360x348,480x463,540x521,640x618,720x695,810x782&from=bu&u=gMl10p3ylManiwDUgOJd1Q8TSCITRoZ3m871rZVQYH0&cs=510x492'},\n",
              "      {'height': 72,\n",
              "       'type': 's',\n",
              "       'width': 75,\n",
              "       'url': 'https://sun1-85.userapi.com/s/v1/ig2/okAKn8w7SZIR3O_QCXgzKKU9vZMJQwlwbHjBkccN9-Fl0ikr3DI3w2rjMMuh_fVIOW-lIwspMWP0nZnYeL3t3gha.jpg?quality=96&as=32x31,48x46,72x70,108x104,160x154,240x232,360x348,480x463,540x521,640x618,720x695,810x782&from=bu&u=gMl10p3ylManiwDUgOJd1Q8TSCITRoZ3m871rZVQYH0&cs=75x72'},\n",
              "      {'height': 583,\n",
              "       'type': 'x',\n",
              "       'width': 604,\n",
              "       'url': 'https://sun1-85.userapi.com/s/v1/ig2/okAKn8w7SZIR3O_QCXgzKKU9vZMJQwlwbHjBkccN9-Fl0ikr3DI3w2rjMMuh_fVIOW-lIwspMWP0nZnYeL3t3gha.jpg?quality=96&as=32x31,48x46,72x70,108x104,160x154,240x232,360x348,480x463,540x521,640x618,720x695,810x782&from=bu&u=gMl10p3ylManiwDUgOJd1Q8TSCITRoZ3m871rZVQYH0&cs=604x583'},\n",
              "      {'height': 779,\n",
              "       'type': 'y',\n",
              "       'width': 807,\n",
              "       'url': 'https://sun1-85.userapi.com/s/v1/ig2/okAKn8w7SZIR3O_QCXgzKKU9vZMJQwlwbHjBkccN9-Fl0ikr3DI3w2rjMMuh_fVIOW-lIwspMWP0nZnYeL3t3gha.jpg?quality=96&as=32x31,48x46,72x70,108x104,160x154,240x232,360x348,480x463,540x521,640x618,720x695,810x782&from=bu&u=gMl10p3ylManiwDUgOJd1Q8TSCITRoZ3m871rZVQYH0&cs=807x779'},\n",
              "      {'height': 782,\n",
              "       'type': 'z',\n",
              "       'width': 810,\n",
              "       'url': 'https://sun1-85.userapi.com/s/v1/ig2/okAKn8w7SZIR3O_QCXgzKKU9vZMJQwlwbHjBkccN9-Fl0ikr3DI3w2rjMMuh_fVIOW-lIwspMWP0nZnYeL3t3gha.jpg?quality=96&as=32x31,48x46,72x70,108x104,160x154,240x232,360x348,480x463,540x521,640x618,720x695,810x782&from=bu&u=gMl10p3ylManiwDUgOJd1Q8TSCITRoZ3m871rZVQYH0&cs=810x782'}],\n",
              "     'text': '',\n",
              "     'user_id': 100,\n",
              "     'web_view_token': '028064b573242cbec5',\n",
              "     'orig_photo': {'height': 782,\n",
              "      'type': 'base',\n",
              "      'url': 'https://sun1-85.userapi.com/s/v1/ig2/okAKn8w7SZIR3O_QCXgzKKU9vZMJQwlwbHjBkccN9-Fl0ikr3DI3w2rjMMuh_fVIOW-lIwspMWP0nZnYeL3t3gha.jpg?quality=96&as=32x31,48x46,72x70,108x104,160x154,240x232,360x348,480x463,540x521,640x618,720x695,810x782&from=bu&u=gMl10p3ylManiwDUgOJd1Q8TSCITRoZ3m871rZVQYH0',\n",
              "      'width': 810}}}],\n",
              "  'date': 1733146247,\n",
              "  'from_id': -20629724,\n",
              "  'id': 1599192,\n",
              "  'is_favorite': False,\n",
              "  'likes': {'can_like': 1,\n",
              "   'count': 46,\n",
              "   'user_likes': 0,\n",
              "   'can_publish': 1,\n",
              "   'repost_disabled': False},\n",
              "  'owner_id': -20629724,\n",
              "  'post_source': {'type': 'api'},\n",
              "  'post_type': 'post',\n",
              "  'reposts': {'count': 38, 'user_reposted': 0},\n",
              "  'text': 'БРОСАЕМ ВЫЗОВ: проверьте свои навыки и заберите годовой доступ к курсам Хекслета!\\n\\nДля новичков мы подготовили двенадцать тестовых заданий, которые максимально приближены к реальным вакансиям. По три для каждого направления: бэкенд на Python, фронтенд на JavaScript, ручное тестирование и аналитика данных. Задания идут по возрастанию сложности: для стажёра, джуна и мидла, и будут приходить участникам вызова каждый день, начиная с 9 декабря.\\n\\nВаша задача — сделать всё до 23:59 МСК 13 декабря. Среди тех, кто сдаст все задания, выберем счастливчика, который получит годовой доступ ко всем курсам Хекслета. А 16 декабря наставники Хекслета разберут тестовые в прямом эфире: укажут на ошибки и подскажут, как усилить решения.\\n\\nКАК ПРИНЯТЬ ВЫЗОВ?\\n\\n→ регистрируйтесь на лендинге 👉 https://u.habr.com/QtI5G\\n→ ловите промокод на все курсы в отдельном письме\\n→ учитесь и выполняйте задания, которые будут приходить с 9 декабря\\n→ сдайте все задания до 13 декабря\\n→ получите возможность забрать годовой доступ к курсам Хекслета\\n\\nАх да, чуть не забыли: с этого момента и до 15 декабря все курсы Хекслета абсолютно бесплатные!',\n",
              "  'views': {'count': 28228},\n",
              "  'track_code': '0xabcdefomdfZrMJkF8fJ5B-AvWkMYwpBTNHIio0wDhKLR1j-c-hREJs5GkyL-BsakjjLYhg6lXyU-NrpihIK4Bj-XfyWvhKhz7yJqZ_qHOsOOUwPOv28sGnKCiW'}]"
            ]
          },
          "metadata": {},
          "execution_count": 55
        }
      ]
    },
    {
      "cell_type": "markdown",
      "source": [
        "**Задание**\n",
        "\n",
        "1. Изучите [**документацию VK API**](https://dev.vk.com/ru/method/wall)\n",
        "\n",
        "2. Выберите **сообщество** для скрейпинга данных\n",
        "\n",
        "3. Произведите **парсинг** выгруженных данных:\n",
        "\n",
        "- извлеките изображение под постом\n",
        "\n",
        "- извлеките текст публикации\n",
        "\n",
        "- извлеките любую статистику, например, количество просмотров\n",
        "\n",
        "4. Сформируйте файл ***.csv**\n",
        "\n",
        "Используйте шаблон:"
      ],
      "metadata": {
        "id": "Z4jJ4fOJ1eS9"
      }
    },
    {
      "cell_type": "markdown",
      "source": [
        "Использовала данные сообщества ВК [МОХ | медиа о ханты и не только](https://vk.com/itak_proekt)"
      ],
      "metadata": {
        "id": "WkM3UPxtDh7k"
      }
    },
    {
      "cell_type": "code",
      "source": [
        "import vk_api\n",
        "import csv\n",
        "import pandas as pd\n",
        "\n",
        "def scrape_wall_data(token, owner_id, count=10):\n",
        "    \"\"\"\n",
        "    Функция для извлечения данных со стены ВКонтакте.\n",
        "\n",
        "    Аргументы:\n",
        "    token - строка, токен доступа к API ВКонтакте\n",
        "    owner_id - int, ID сообщества или пользователя\n",
        "    count - int, количество постов для извлечения (по умолчанию 10)\n",
        "\n",
        "    Возвращает:\n",
        "    Список словарей, содержащих данные постов.\n",
        "    \"\"\"\n",
        "    try:\n",
        "        # Инициализация VK API\n",
        "        vk_session = vk_api.VkApi(token=token)\n",
        "        vk = vk_session.get_api()\n",
        "\n",
        "        # Метод wall.get - возвращает объект, содержащий число результатов в поле count и массив объектов записей на стене в поле items.\n",
        "        posts = vk.wall.get(owner_id=owner_id, count=count)['items']\n",
        "\n",
        "        # Хранилище для данных\n",
        "        scraped_data = []\n",
        "\n",
        "        # Парсинг\n",
        "        for post in posts:\n",
        "            post_data = {\n",
        "                'post_id': post['id'],\n",
        "                'date': post['date'],\n",
        "                'text': post.get('text', ''),\n",
        "                'likes': post['likes']['count'],\n",
        "                'reposts': post['reposts']['count'],\n",
        "                'comments': post['comments']['count'],\n",
        "                'attachments': post.get('attachments', [])\n",
        "            }\n",
        "            scraped_data.append(post_data)\n",
        "\n",
        "        return scraped_data\n",
        "\n",
        "    except vk_api.exceptions.ApiError as e:\n",
        "        print(f\"Error accessing VK API: {e}\")\n",
        "        return []\n",
        "data1 = scrape_wall_data(token=vk_token, owner_id=-84438562, count=10)"
      ],
      "metadata": {
        "id": "ZtY4cee6r1ck"
      },
      "execution_count": null,
      "outputs": []
    },
    {
      "cell_type": "code",
      "source": [
        "# Допишите функцию для сохранения *.csv\n",
        "def save_to_csv(data, file_name='vk_wall_posts.csv'):\n",
        "\n",
        "   # Cоздаем файл в режиме записи\n",
        "    with open(file_name, mode='w', newline='', encoding='utf-8') as file:\n",
        "\n",
        "        # Создание объекта DictWriter, который будет использоваться для записи словарей в файл. Этот объект автоматически сопоставляет ключи словаря с заголовками столбцов.\n",
        "        writer = csv.DictWriter(file, fieldnames=['post_id', 'date', 'text', 'likes', 'reposts', 'comments', 'attachments']) #переменная fieldnames содержит список строк, которые представляют заголовки столбцов для CSV файла.\n",
        "\n",
        "        # Метод writer.writeheader() записывает заголовки (первую строку) в файл, используя ключи из fieldnames.\n",
        "        writer.writeheader()\n",
        "\n",
        "        # Для каждого словаря вызывается метод writer.writerow(row), который записывает текущий словарь в файл как новую строку. Ключи словаря должны совпадать с заголовками, чтобы данные корректно располагались в соответствующих столбцах.\n",
        "        for row in data:\n",
        "            writer.writerow(row)\n",
        "\n",
        "data2 = save_to_csv(data1, file_name='vk_wall_posts.csv')"
      ],
      "metadata": {
        "id": "iOqxKX8B8oeg"
      },
      "execution_count": null,
      "outputs": []
    },
    {
      "cell_type": "code",
      "source": [
        "import matplotlib.pyplot as plt\n",
        "\n",
        "def stats(data):\n",
        "  '''\n",
        "  Функция для анализа и визуализации данных.\n",
        "\n",
        "  Аргументы:\n",
        "  data - список словарей, содержащих данные постов\n",
        "  '''\n",
        "  df = pd.DataFrame(data)\n",
        "\n",
        "  # Вывод первых нескольких строк данных\n",
        "  print(df.head())\n",
        "\n",
        "  # Простой анализ: среднее количество лайков, репостов и комментариев\n",
        "  print(\"Среднее количество лайков:\", df['likes'].mean()) # Функция mean() помогает вычислить среднее значение набора значений, переданных в функцию.\n",
        "  print(\"Среднее количество репостов:\", df['reposts'].mean())\n",
        "  print(\"Среднее количество комментариев:\", df['comments'].mean())\n",
        "\n",
        "  # Визуализация\n",
        "  df[['likes', 'reposts', 'comments']].plot(kind='bar', figsize=(10, 6))\n",
        "  plt.title('Статистика постов')\n",
        "  plt.xlabel('Посты')\n",
        "  plt.ylabel('Количество')\n",
        "  plt.show()\n",
        "  pass\n",
        "data3 = stats(data1)\n",
        "data3"
      ],
      "metadata": {
        "colab": {
          "base_uri": "https://localhost:8080/",
          "height": 837
        },
        "id": "K0InGu9I8tLr",
        "outputId": "45086a6a-4925-45ee-e390-8680decc9763"
      },
      "execution_count": null,
      "outputs": [
        {
          "output_type": "stream",
          "name": "stdout",
          "text": [
            "   post_id        date                                               text  \\\n",
            "0     1240  1733814002  [club84438562|С 94-летием, Ямал!] \\n\\nСегодня,...   \n",
            "1     1238  1733724001                                                      \n",
            "2     1234  1733464800  [club84438562|Композиция на варгане «Музыка ту...   \n",
            "3     1232  1733295262  [club84438562|«Мүнхэ Байкал» - что значит Байк...   \n",
            "4     1231  1733137689  Чабан Дилшод и Красноярское водохранилище. \\n ...   \n",
            "\n",
            "   likes  reposts  comments                                        attachments  \n",
            "0     20        2         0  [{'type': 'video', 'video': {'response_type': ...  \n",
            "1     15        3         0  [{'type': 'video', 'video': {'response_type': ...  \n",
            "2     50        3         2  [{'type': 'video', 'video': {'response_type': ...  \n",
            "3     13        1         0  [{'type': 'photo', 'photo': {'album_id': -7, '...  \n",
            "4     28        2         0  [{'type': 'photo', 'photo': {'album_id': 30516...  \n",
            "Среднее количество лайков: 37.5\n",
            "Среднее количество репостов: 4.5\n",
            "Среднее количество комментариев: 0.4\n"
          ]
        },
        {
          "output_type": "display_data",
          "data": {
            "text/plain": [
              "<Figure size 1000x600 with 1 Axes>"
            ],
            "image/png": "[encoded data removed]"
          },
          "metadata": {}
        }
      ]
    },
    {
      "cell_type": "code",
      "source": [
        "# Функция для выполнения задачи\n",
        "def main():\n",
        "    # Введите ваш токен VK API\n",
        "    token = vk_token\n",
        "\n",
        "    # Введите ID сообщества\n",
        "    owner_id = -84438562\n",
        "\n",
        "    # Введите количество публикаций для скрейпинга\n",
        "    num_posts = 20\n",
        "\n",
        "    # Запустите функцию для скрейпинга\n",
        "    wall_data = scrape_wall_data(token, owner_id, count=num_posts)\n",
        "\n",
        "    if wall_data:\n",
        "        # Запустите функцию для сохранения в CSV\n",
        "        save_to_csv(wall_data)\n",
        "        print(\"Данные успешно сохранены в vk_wall_posts.csv\")\n",
        "\n",
        "        # Выведите статистику по выгруженной информации\n",
        "        stats(wall_data)\n",
        "    else:\n",
        "        print(\"No data\")\n",
        "\n",
        "if __name__ == \"__main__\":\n",
        "    main()"
      ],
      "metadata": {
        "colab": {
          "base_uri": "https://localhost:8080/",
          "height": 863
        },
        "id": "NW2BmSLo8qwy",
        "outputId": "a426fc53-c887-4f30-adae-9b4063782a30"
      },
      "execution_count": null,
      "outputs": [
        {
          "output_type": "stream",
          "name": "stdout",
          "text": [
            "Данные успешно сохранены в vk_wall_posts.csv\n",
            "   post_id        date                                               text  \\\n",
            "0     1240  1733814002  [club84438562|С 94-летием, Ямал!] \\n\\nСегодня,...   \n",
            "1     1238  1733724001                                                      \n",
            "2     1234  1733464800  [club84438562|Композиция на варгане «Музыка ту...   \n",
            "3     1232  1733295262  [club84438562|«Мүнхэ Байкал» - что значит Байк...   \n",
            "4     1231  1733137689  Чабан Дилшод и Красноярское водохранилище. \\n ...   \n",
            "\n",
            "   likes  reposts  comments                                        attachments  \n",
            "0     20        2         0  [{'type': 'video', 'video': {'response_type': ...  \n",
            "1     15        3         0  [{'type': 'video', 'video': {'response_type': ...  \n",
            "2     50        3         2  [{'type': 'video', 'video': {'response_type': ...  \n",
            "3     13        1         0  [{'type': 'photo', 'photo': {'album_id': -7, '...  \n",
            "4     28        2         0  [{'type': 'photo', 'photo': {'album_id': 30516...  \n",
            "Среднее количество лайков: 34.35\n",
            "Среднее количество репостов: 4.85\n",
            "Среднее количество комментариев: 0.4\n"
          ]
        },
        {
          "output_type": "display_data",
          "data": {
            "text/plain": [
              "<Figure size 1000x600 with 1 Axes>"
            ],
            "image/png": "[encoded data removed]"
          },
          "metadata": {}
        }
      ]
    },
    {
      "cell_type": "markdown",
      "source": [
        "Попробовала с другим сообществом ([Тату-студия Литература](https://vk.com/tattooo))"
      ],
      "metadata": {
        "id": "6vN67UJLEC6B"
      }
    },
    {
      "cell_type": "code",
      "source": [
        "# Функция для выполнения задачи\n",
        "def main():\n",
        "    # Введите ваш токен VK API\n",
        "    token = vk_token\n",
        "\n",
        "    # Введите ID сообщества\n",
        "    owner_id = -51302644\n",
        "\n",
        "    # Введите количество публикаций для скрейпинга\n",
        "    num_posts = 20\n",
        "\n",
        "    # Запустите функцию для скрейпинга\n",
        "    wall_data = scrape_wall_data(token, owner_id, count=num_posts)\n",
        "\n",
        "    if wall_data:\n",
        "        # Запустите функцию для сохранения в CSV\n",
        "        save_to_csv(wall_data)\n",
        "        print(\"Данные успешно сохранены в vk_wall_posts.csv\")\n",
        "\n",
        "        # Выведите статистику по выгруженной информации\n",
        "        stats(wall_data)\n",
        "    else:\n",
        "        print(\"No data\")\n",
        "\n",
        "if __name__ == \"__main__\":\n",
        "    main()"
      ],
      "metadata": {
        "colab": {
          "base_uri": "https://localhost:8080/",
          "height": 863
        },
        "id": "AB524fM1Dedt",
        "outputId": "1e5f3afc-9978-4970-a0e3-7b2e2199552a"
      },
      "execution_count": null,
      "outputs": [
        {
          "output_type": "stream",
          "name": "stdout",
          "text": [
            "Данные успешно сохранены в vk_wall_posts.csv\n",
            "   post_id        date                                               text  \\\n",
            "0    69918  1733830072  Скидка на сертификаты растаяла до 15% и будет ...   \n",
            "1    69911  1733748055                                                      \n",
            "2    69910  1733572955  Когда мама не в восторге от татуировок😁\\n\\nЗад...   \n",
            "3    69909  1733490523                                                      \n",
            "4    69908  1733480625  У вас осталось всего 4 дня, чтобы приобрести с...   \n",
            "\n",
            "   likes  reposts  comments                                        attachments  \n",
            "0      2        0         0  [{'type': 'photo', 'photo': {'album_id': -7, '...  \n",
            "1     12        0         3  [{'type': 'video', 'video': {'response_type': ...  \n",
            "2     21        1         0  [{'type': 'photo', 'photo': {'album_id': -7, '...  \n",
            "3     14        1         0  [{'type': 'video', 'video': {'response_type': ...  \n",
            "4      1        0         0  [{'type': 'photo', 'photo': {'album_id': -7, '...  \n",
            "Среднее количество лайков: 8.65\n",
            "Среднее количество репостов: 1.2\n",
            "Среднее количество комментариев: 0.3\n"
          ]
        },
        {
          "output_type": "display_data",
          "data": {
            "text/plain": [
              "<Figure size 1000x600 with 1 Axes>"
            ],
            "image/png": "[encoded data removed]"
          },
          "metadata": {}
        }
      ]
    }
  ],
  "metadata": {
    "colab": {
      "provenance": [],
      "include_colab_link": true
    },
    "kernelspec": {
      "display_name": "Python 3",
      "name": "python3"
    },
    "language_info": {
      "name": "python"
    }
  },
  "nbformat": 4,
  "nbformat_minor": 0
}