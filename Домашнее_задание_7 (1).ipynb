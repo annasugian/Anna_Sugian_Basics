{
  "nbformat": 4,
  "nbformat_minor": 0,
  "metadata": {
    "colab": {
      "provenance": []
    },
    "kernelspec": {
      "name": "python3",
      "display_name": "Python 3"
    },
    "language_info": {
      "name": "python"
    }
  },
  "cells": [
    {
      "cell_type": "markdown",
      "source": [
        "## TXT\n"
      ],
      "metadata": {
        "id": "2wI4q8hqXozZ"
      }
    },
    {
      "cell_type": "code",
      "execution_count": null,
      "metadata": {
        "id": "DfMGl82nXepb"
      },
      "outputs": [],
      "source": [
        "# Повторите действия:\n",
        "# 1. откройте text.txt в режиме 'w'\n",
        "# 2. запишите в него любой текст\n",
        "# 3. закройте файл\n",
        "# 4. откройте файл в файловой системе Colab\n",
        "# Напишите в комментариях, что вы заметили\n",
        "\n",
        "with open('text.txt', 'w') as f:\n",
        "  text_file = f.write('My name is Anna.')\n",
        "f.close()\n",
        "# Текст сохранился под названием text.txt. В начале текста стоит цифра 1. Все записано в одну строку."
      ]
    },
    {
      "cell_type": "code",
      "source": [
        "# Повторите действия с новым режимом:\n",
        "# 1. откройте text.txt в режиме 'a'\n",
        "# 2. запишите в него любой текст\n",
        "# 3. закройте файл\n",
        "# 4. откройте файл в файловой системе Colab\n",
        "# Напишите в комментариях, что вы заметили\n",
        "\n",
        "with open('text.txt', 'a') as f:\n",
        "  data = f.write(' I am 22 years old.')\n",
        "  f.close()\n",
        "# В режиме 'a' к тексту в файле text.txt добавился новый текст, а в режиме 'w' текст постоянно обновлялся, старый не сохранялся"
      ],
      "metadata": {
        "id": "gWIdmVklYB7R"
      },
      "execution_count": null,
      "outputs": []
    },
    {
      "cell_type": "code",
      "source": [
        "# Повторите действия с новым режимом:\n",
        "# 1. откройте text.txt в режиме 'r'\n",
        "# 2. запишем в переменную text содержимое файла с помощью функции read (см. пример в ячейках выше)\n",
        "# 3. выведем на экран содержимое переменной text\n",
        "\n",
        "with open('text.txt', 'r') as f:\n",
        "  text = f.read()\n",
        "text"
      ],
      "metadata": {
        "colab": {
          "base_uri": "https://localhost:8080/",
          "height": 36
        },
        "id": "e-hZt1QIZbc4",
        "outputId": "b814ffdf-3177-4822-cde2-67dc44d87607"
      },
      "execution_count": null,
      "outputs": [
        {
          "output_type": "execute_result",
          "data": {
            "text/plain": [
              "'My name is Anna. I am 22 years old.'"
            ],
            "application/vnd.google.colaboratory.intrinsic+json": {
              "type": "string"
            }
          },
          "metadata": {},
          "execution_count": 55
        }
      ]
    },
    {
      "cell_type": "code",
      "source": [
        "# Попробуйте создать файл с другим именем с помощью open и режима 'r'\n",
        "# Вы должны увидеть ошибку FileNotFoundError\n",
        "# Напишите в комментариях, когда лучше использовать 'w', когда 'a', когда 'r'\n",
        "\n",
        "with open('newfile.txt', 'r') as f:\n",
        "  file_ = f.read()\n",
        "file_\n",
        "\n",
        "'''\n",
        "Режимы лучше использовать так:\n",
        "'w' - когда нам надо создать новый файл и записать в него содержимое\n",
        "'a' - когда нам надо дополнить содержимое уже существующего файла\n",
        "'r' - когда нам надо прочитать уже существующий файл\n",
        "'''"
      ],
      "metadata": {
        "colab": {
          "base_uri": "https://localhost:8080/",
          "height": 211
        },
        "id": "d285QXlnalva",
        "outputId": "418b0c4b-6790-43fd-ca98-0c3578990d2e"
      },
      "execution_count": null,
      "outputs": [
        {
          "output_type": "error",
          "ename": "FileNotFoundError",
          "evalue": "[Errno 2] No such file or directory: 'newfile.txt'",
          "traceback": [
            "\u001b[0;31m---------------------------------------------------------------------------\u001b[0m",
            "\u001b[0;31mFileNotFoundError\u001b[0m                         Traceback (most recent call last)",
            "\u001b[0;32m<ipython-input-56-f5df3ed51591>\u001b[0m in \u001b[0;36m<cell line: 5>\u001b[0;34m()\u001b[0m\n\u001b[1;32m      3\u001b[0m \u001b[0;31m# Напишите в комментариях, когда лучше использовать 'w', когда 'a', когда 'r'\u001b[0m\u001b[0;34m\u001b[0m\u001b[0;34m\u001b[0m\u001b[0m\n\u001b[1;32m      4\u001b[0m \u001b[0;34m\u001b[0m\u001b[0m\n\u001b[0;32m----> 5\u001b[0;31m \u001b[0;32mwith\u001b[0m \u001b[0mopen\u001b[0m\u001b[0;34m(\u001b[0m\u001b[0;34m'newfile.txt'\u001b[0m\u001b[0;34m,\u001b[0m \u001b[0;34m'r'\u001b[0m\u001b[0;34m)\u001b[0m \u001b[0;32mas\u001b[0m \u001b[0mf\u001b[0m\u001b[0;34m:\u001b[0m\u001b[0;34m\u001b[0m\u001b[0;34m\u001b[0m\u001b[0m\n\u001b[0m\u001b[1;32m      6\u001b[0m   \u001b[0mfile_\u001b[0m \u001b[0;34m=\u001b[0m \u001b[0mf\u001b[0m\u001b[0;34m.\u001b[0m\u001b[0mread\u001b[0m\u001b[0;34m(\u001b[0m\u001b[0;34m)\u001b[0m\u001b[0;34m\u001b[0m\u001b[0;34m\u001b[0m\u001b[0m\n\u001b[1;32m      7\u001b[0m \u001b[0mfile_\u001b[0m\u001b[0;34m\u001b[0m\u001b[0;34m\u001b[0m\u001b[0m\n",
            "\u001b[0;31mFileNotFoundError\u001b[0m: [Errno 2] No such file or directory: 'newfile.txt'"
          ]
        }
      ]
    },
    {
      "cell_type": "code",
      "source": [
        "# В этой ячейке самостоятельно протестируйте режимы r+, w+, a+\n",
        "# Опишите в комментариях, когда лучше использовать 'r+', 'w+' или 'a+'\n",
        "\n",
        "f = open('text_file.txt', 'w+')\n",
        "f.write('This is a sample text.')\n",
        "f.seek(0)\n",
        "print(f\"Текст в новом файле text_file.txt:\\n {f.read()}\")\n",
        "\n",
        "print(f'Изначальный текст файла text.txt:\\n {text}')\n",
        "f0 = open('text.txt', 'w+')\n",
        "f0.write('New Text')\n",
        "f0.seek(0)\n",
        "print(f\"text.txt после режима 'w+':\\n {f0.read()}\")\n",
        "# С помощью режима 'w+' можно создать новый файл и записать в него текст. Если файл существует, он будет очищен перед записью. Также можно прочитать содержимое.\n",
        "\n",
        "f1 = open('textt.txt', 'a+')\n",
        "f1.write('New text for a new file.')\n",
        "f1.seek(0)\n",
        "print(f\"Новый файл text2.txt с записью:\\n {f1.read()}\")\n",
        "\n",
        "f2 = open('text_file.txt', 'a+')\n",
        "f2.write(' This is another sample text.')\n",
        "f2.seek(0)\n",
        "print(f\"Дополненный файл text_file.txt:\\n {f2.read()}\")\n",
        "# Режим 'a+' может создавать файлы, делать запись. Если файл существует, он не очистит его, а добавит текст. Также можно прочитать файл.\n",
        "\n",
        "f3 = open('text_file.txt', 'r+')\n",
        "f3.write(\"I am writing with 'r'\")\n",
        "f3.seek(0)\n",
        "print(f\"Дополненный файл text_file.txt:\\n {f3.read()}\")\n",
        "# 'r+' открывает файл на чтение и запись, в отличие от других режимов, файл не нельзя создать.Дополненная запись будет в начале файла, без очистки.\n"
      ],
      "metadata": {
        "colab": {
          "base_uri": "https://localhost:8080/"
        },
        "id": "slohhiANbGtP",
        "outputId": "9a4a6e54-2cde-4a90-cbfd-3605c90128e4"
      },
      "execution_count": null,
      "outputs": [
        {
          "output_type": "stream",
          "name": "stdout",
          "text": [
            "Текст в новом файле text_file.txt:\n",
            " This is a sample text.\n",
            "Изначальный текст файла text.txt:\n",
            " My name is Anna. I am 22 years old.\n",
            "text.txt после режима 'w+':\n",
            " New Text\n",
            "Новый файл text2.txt с записью:\n",
            " New text for a new file.\n",
            "Дополненный файл text_file.txt:\n",
            " This is a sample text. This is another sample text.\n",
            "Дополненный файл text_file.txt:\n",
            " I am writing with 'r'. This is another sample text.\n"
          ]
        }
      ]
    },
    {
      "cell_type": "markdown",
      "source": [
        "Метод `writelines` позволяет записывать списки"
      ],
      "metadata": {
        "id": "s_9WZsuwoMvK"
      }
    },
    {
      "cell_type": "code",
      "source": [
        "# Обратите внимание на использование \\ - это escape symbol, или экранирование\n",
        "# Мы используем экранирование для снятия неоднозначности\n",
        "# В программировании тоже есть омонимия!\n",
        "# Например, когда служебный символ '' или \\n совпадает с информацией в тексте\n",
        "# Бэкслеш указывает на то, что символ не является служебным, это часть текста\n",
        "\n",
        "sample_list = [\n",
        "    'This another sentence.',\n",
        "    'This is one more sentence.',\n",
        "    'Wow, here\\'s one more sentence!'\n",
        "]\n",
        "\n",
        "# Откройте новый файл в режиме 'w+'\n",
        "# С помощью метода write попробуйте записать список в файл\n",
        "# Что произошло?\n",
        "\n",
        "ff = open('new_text.txt', 'w+')\n",
        "ff.write(sample_list)\n",
        "ff.seek(0)\n",
        "print(ff.read())\n",
        "# Метод write() не принимает в качестве аргумента список, только строку"
      ],
      "metadata": {
        "colab": {
          "base_uri": "https://localhost:8080/",
          "height": 211
        },
        "id": "71YRgEJpcO6d",
        "outputId": "9489ebf9-4909-454b-ca8c-754dc8411510"
      },
      "execution_count": null,
      "outputs": [
        {
          "output_type": "error",
          "ename": "TypeError",
          "evalue": "write() argument must be str, not list",
          "traceback": [
            "\u001b[0;31m---------------------------------------------------------------------------\u001b[0m",
            "\u001b[0;31mTypeError\u001b[0m                                 Traceback (most recent call last)",
            "\u001b[0;32m<ipython-input-58-d805aaf2e3c4>\u001b[0m in \u001b[0;36m<cell line: 18>\u001b[0;34m()\u001b[0m\n\u001b[1;32m     16\u001b[0m \u001b[0;34m\u001b[0m\u001b[0m\n\u001b[1;32m     17\u001b[0m \u001b[0mff\u001b[0m \u001b[0;34m=\u001b[0m \u001b[0mopen\u001b[0m\u001b[0;34m(\u001b[0m\u001b[0;34m'new_text.txt'\u001b[0m\u001b[0;34m,\u001b[0m \u001b[0;34m'w+'\u001b[0m\u001b[0;34m)\u001b[0m\u001b[0;34m\u001b[0m\u001b[0;34m\u001b[0m\u001b[0m\n\u001b[0;32m---> 18\u001b[0;31m \u001b[0mff\u001b[0m\u001b[0;34m.\u001b[0m\u001b[0mwrite\u001b[0m\u001b[0;34m(\u001b[0m\u001b[0msample_list\u001b[0m\u001b[0;34m)\u001b[0m\u001b[0;34m\u001b[0m\u001b[0;34m\u001b[0m\u001b[0m\n\u001b[0m\u001b[1;32m     19\u001b[0m \u001b[0mff\u001b[0m\u001b[0;34m.\u001b[0m\u001b[0mseek\u001b[0m\u001b[0;34m(\u001b[0m\u001b[0;36m0\u001b[0m\u001b[0;34m)\u001b[0m\u001b[0;34m\u001b[0m\u001b[0;34m\u001b[0m\u001b[0m\n\u001b[1;32m     20\u001b[0m \u001b[0mprint\u001b[0m\u001b[0;34m(\u001b[0m\u001b[0mff\u001b[0m\u001b[0;34m.\u001b[0m\u001b[0mread\u001b[0m\u001b[0;34m(\u001b[0m\u001b[0;34m)\u001b[0m\u001b[0;34m)\u001b[0m\u001b[0;34m\u001b[0m\u001b[0;34m\u001b[0m\u001b[0m\n",
            "\u001b[0;31mTypeError\u001b[0m: write() argument must be str, not list"
          ]
        }
      ]
    },
    {
      "cell_type": "code",
      "source": [
        "# Замените write на writelines, чтобы записать список\n",
        "# Закройте файл\n",
        "# Что вы заметили?\n",
        "\n",
        "ff = open('new_text.txt', 'w+')\n",
        "ff.writelines(sample_list)\n",
        "ff.seek(0)\n",
        "print(ff.read())\n",
        "# Все записалось в одну строку"
      ],
      "metadata": {
        "colab": {
          "base_uri": "https://localhost:8080/"
        },
        "id": "Il7ydiijou1w",
        "outputId": "d37bed26-8871-410c-b584-a612bc9e8909"
      },
      "execution_count": null,
      "outputs": [
        {
          "output_type": "stream",
          "name": "stdout",
          "text": [
            "This another sentence.This is one more sentence.Wow, here's one more sentence!\n"
          ]
        }
      ]
    },
    {
      "cell_type": "code",
      "source": [
        "# Измените ваш код с writelines так,\n",
        "# чтобы получилась структура, как на скриншоте ниже\n",
        "with open('new_text.txt', 'w+') as f:\n",
        "  f.writelines(f\"{i}\\n\" for i in sample_list)\n",
        "  f.close()\n"
      ],
      "metadata": {
        "id": "33VoVccjpNOH"
      },
      "execution_count": null,
      "outputs": []
    },
    {
      "cell_type": "markdown",
      "source": [
        "![Снимок экрана 2024-11-30 140422.png](data:image/png;base64,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)"
      ],
      "metadata": {
        "id": "vFRaAzqOvgM9"
      }
    },
    {
      "cell_type": "code",
      "source": [
        "# Откройте ваш файл и выведите на экран результат\n",
        "# Используйте метод readlines\n",
        "\n",
        "with open('new_text.txt', 'r') as f:\n",
        "  print(f.readlines())"
      ],
      "metadata": {
        "colab": {
          "base_uri": "https://localhost:8080/"
        },
        "id": "Dt-g4PxhptG3",
        "outputId": "0668ca0e-8d5d-41b9-aa5f-6f29ee6e252b"
      },
      "execution_count": null,
      "outputs": [
        {
          "output_type": "stream",
          "name": "stdout",
          "text": [
            "['This another sentence.\\n', 'This is one more sentence.\\n', \"Wow, here's one more sentence!\\n\"]\n"
          ]
        }
      ]
    },
    {
      "cell_type": "markdown",
      "source": [
        "**`with` vs `open`+`close`**\n",
        "\n",
        "`with` позволяет работать с файлами, не закрывая их\n",
        "\n",
        "Обработка происходит внутри конструкции `with` (как внутри цикла `for`), вне которой файл не существует\n",
        "\n",
        "**Когда использовать `open` и `close`?**\n",
        "\n",
        "При работе с большими данными, когда требуется построчная обработка.\n",
        "\n",
        "**Когда использовать `with`?**\n",
        "\n",
        "У нас небольшой файл, который нужен нам целиком."
      ],
      "metadata": {
        "id": "NyZaauwEvVnh"
      }
    },
    {
      "cell_type": "code",
      "source": [
        "# Загрузим список стоп-слов для английского из GitHub\n",
        "# Сохраним список в stopwords.txt\n",
        "\n",
        "!wget https://gist.githubusercontent.com/sebleier/554280/raw/7e0e4a1ce04c2bb7bd41089c9821dbcf6d0c786c/NLTK\\'s%2520list%2520of%2520english%2520stopwords -O stopwords.txt"
      ],
      "metadata": {
        "colab": {
          "base_uri": "https://localhost:8080/"
        },
        "id": "ztFCw5aFvKt2",
        "outputId": "ca9e8907-3511-4ffb-eeda-dcc9b7aca4d2"
      },
      "execution_count": null,
      "outputs": [
        {
          "output_type": "stream",
          "name": "stdout",
          "text": [
            "--2024-11-30 11:08:28--  https://gist.githubusercontent.com/sebleier/554280/raw/7e0e4a1ce04c2bb7bd41089c9821dbcf6d0c786c/NLTK's%2520list%2520of%2520english%2520stopwords\n",
            "Resolving gist.githubusercontent.com (gist.githubusercontent.com)... 185.199.108.133, 185.199.109.133, 185.199.110.133, ...\n",
            "Connecting to gist.githubusercontent.com (gist.githubusercontent.com)|185.199.108.133|:443... connected.\n",
            "HTTP request sent, awaiting response... 200 OK\n",
            "Length: 622 [text/plain]\n",
            "Saving to: ‘stopwords.txt’\n",
            "\n",
            "\rstopwords.txt         0%[                    ]       0  --.-KB/s               \rstopwords.txt       100%[===================>]     622  --.-KB/s    in 0s      \n",
            "\n",
            "2024-11-30 11:08:28 (40.7 MB/s) - ‘stopwords.txt’ saved [622/622]\n",
            "\n"
          ]
        }
      ]
    },
    {
      "cell_type": "code",
      "source": [
        "# Допустим, нам нужно посчитать количество стоп-слов в списке\n",
        "stopwords = open('stopwords.txt', 'r') # открываем файл\n",
        "\n",
        "count = 0 # создаем счетчик\n",
        "\n",
        "while True: # цикл While\n",
        "\n",
        "  count += 1 # считаем порядковый номер слова\n",
        "\n",
        "  line = stopwords.readline() # выводим одну строку с readline (а не readlines - она выведет все)\n",
        "\n",
        "  if not line: # цикл заканчивается там, где заканчиваются строки\n",
        "    break\n",
        "\n",
        "  print(f\"Word number {count}: {line.strip()}\") # выводим номер слова и само слово\n",
        "stopwords.close() # закрываем файл"
      ],
      "metadata": {
        "colab": {
          "base_uri": "https://localhost:8080/"
        },
        "id": "QXQ2i-wcwZzi",
        "outputId": "c08d4956-8f51-43da-b46a-1ec5784ae3f5"
      },
      "execution_count": null,
      "outputs": [
        {
          "output_type": "stream",
          "name": "stdout",
          "text": [
            "Word number 1: i\n",
            "Word number 2: me\n",
            "Word number 3: my\n",
            "Word number 4: myself\n",
            "Word number 5: we\n",
            "Word number 6: our\n",
            "Word number 7: ours\n",
            "Word number 8: ourselves\n",
            "Word number 9: you\n",
            "Word number 10: your\n",
            "Word number 11: yours\n",
            "Word number 12: yourself\n",
            "Word number 13: yourselves\n",
            "Word number 14: he\n",
            "Word number 15: him\n",
            "Word number 16: his\n",
            "Word number 17: himself\n",
            "Word number 18: she\n",
            "Word number 19: her\n",
            "Word number 20: hers\n",
            "Word number 21: herself\n",
            "Word number 22: it\n",
            "Word number 23: its\n",
            "Word number 24: itself\n",
            "Word number 25: they\n",
            "Word number 26: them\n",
            "Word number 27: their\n",
            "Word number 28: theirs\n",
            "Word number 29: themselves\n",
            "Word number 30: what\n",
            "Word number 31: which\n",
            "Word number 32: who\n",
            "Word number 33: whom\n",
            "Word number 34: this\n",
            "Word number 35: that\n",
            "Word number 36: these\n",
            "Word number 37: those\n",
            "Word number 38: am\n",
            "Word number 39: is\n",
            "Word number 40: are\n",
            "Word number 41: was\n",
            "Word number 42: were\n",
            "Word number 43: be\n",
            "Word number 44: been\n",
            "Word number 45: being\n",
            "Word number 46: have\n",
            "Word number 47: has\n",
            "Word number 48: had\n",
            "Word number 49: having\n",
            "Word number 50: do\n",
            "Word number 51: does\n",
            "Word number 52: did\n",
            "Word number 53: doing\n",
            "Word number 54: a\n",
            "Word number 55: an\n",
            "Word number 56: the\n",
            "Word number 57: and\n",
            "Word number 58: but\n",
            "Word number 59: if\n",
            "Word number 60: or\n",
            "Word number 61: because\n",
            "Word number 62: as\n",
            "Word number 63: until\n",
            "Word number 64: while\n",
            "Word number 65: of\n",
            "Word number 66: at\n",
            "Word number 67: by\n",
            "Word number 68: for\n",
            "Word number 69: with\n",
            "Word number 70: about\n",
            "Word number 71: against\n",
            "Word number 72: between\n",
            "Word number 73: into\n",
            "Word number 74: through\n",
            "Word number 75: during\n",
            "Word number 76: before\n",
            "Word number 77: after\n",
            "Word number 78: above\n",
            "Word number 79: below\n",
            "Word number 80: to\n",
            "Word number 81: from\n",
            "Word number 82: up\n",
            "Word number 83: down\n",
            "Word number 84: in\n",
            "Word number 85: out\n",
            "Word number 86: on\n",
            "Word number 87: off\n",
            "Word number 88: over\n",
            "Word number 89: under\n",
            "Word number 90: again\n",
            "Word number 91: further\n",
            "Word number 92: then\n",
            "Word number 93: once\n",
            "Word number 94: here\n",
            "Word number 95: there\n",
            "Word number 96: when\n",
            "Word number 97: where\n",
            "Word number 98: why\n",
            "Word number 99: how\n",
            "Word number 100: all\n",
            "Word number 101: any\n",
            "Word number 102: both\n",
            "Word number 103: each\n",
            "Word number 104: few\n",
            "Word number 105: more\n",
            "Word number 106: most\n",
            "Word number 107: other\n",
            "Word number 108: some\n",
            "Word number 109: such\n",
            "Word number 110: no\n",
            "Word number 111: nor\n",
            "Word number 112: not\n",
            "Word number 113: only\n",
            "Word number 114: own\n",
            "Word number 115: same\n",
            "Word number 116: so\n",
            "Word number 117: than\n",
            "Word number 118: too\n",
            "Word number 119: very\n",
            "Word number 120: s\n",
            "Word number 121: t\n",
            "Word number 122: can\n",
            "Word number 123: will\n",
            "Word number 124: just\n",
            "Word number 125: don\n",
            "Word number 126: should\n",
            "Word number 127: now\n"
          ]
        }
      ]
    },
    {
      "cell_type": "markdown",
      "source": [
        "**Рефлексия**: для каких задач подойдет такой формат обработки?\n",
        "\n",
        "**Подсказка**: недавно я выгружала википедию для создания нового датасета..\n",
        "\n",
        "Напишите ответ здесь:\n",
        "Возможно такой формат обработки подойдет для решения проблем с непараллельными строками, например, когда нам надо выравнить токен (слово) и его ner label. Или так мы можем узнать на каких строчках у нас есть пропуски, чтобы либо дополнить их, либо удалить."
      ],
      "metadata": {
        "id": "-hmEs0Dnxjk5"
      }
    },
    {
      "cell_type": "code",
      "source": [
        "# Стоп-слова обычно нужны нам целиком, поэтому на практике мы предпочитаем with\n",
        "# Изначальный код:\n",
        "'''\n",
        "with open('stopwords.txt', 'r') as f:\n",
        "  stopwords = f.readlines()\n",
        "'''\n",
        "# Измененный код\n",
        "with open('stopwords.txt', 'r') as f:\n",
        "   stopwords = [word.rstrip() for word in f.readlines()]\n",
        "\n",
        "stopwords\n",
        "\n"
      ],
      "metadata": {
        "colab": {
          "base_uri": "https://localhost:8080/"
        },
        "id": "Uai7jWyOw8rC",
        "outputId": "3c195102-0c3c-44ef-a67a-60ce081ba446"
      },
      "execution_count": null,
      "outputs": [
        {
          "output_type": "execute_result",
          "data": {
            "text/plain": [
              "['i',\n",
              " 'me',\n",
              " 'my',\n",
              " 'myself',\n",
              " 'we',\n",
              " 'our',\n",
              " 'ours',\n",
              " 'ourselves',\n",
              " 'you',\n",
              " 'your',\n",
              " 'yours',\n",
              " 'yourself',\n",
              " 'yourselves',\n",
              " 'he',\n",
              " 'him',\n",
              " 'his',\n",
              " 'himself',\n",
              " 'she',\n",
              " 'her',\n",
              " 'hers',\n",
              " 'herself',\n",
              " 'it',\n",
              " 'its',\n",
              " 'itself',\n",
              " 'they',\n",
              " 'them',\n",
              " 'their',\n",
              " 'theirs',\n",
              " 'themselves',\n",
              " 'what',\n",
              " 'which',\n",
              " 'who',\n",
              " 'whom',\n",
              " 'this',\n",
              " 'that',\n",
              " 'these',\n",
              " 'those',\n",
              " 'am',\n",
              " 'is',\n",
              " 'are',\n",
              " 'was',\n",
              " 'were',\n",
              " 'be',\n",
              " 'been',\n",
              " 'being',\n",
              " 'have',\n",
              " 'has',\n",
              " 'had',\n",
              " 'having',\n",
              " 'do',\n",
              " 'does',\n",
              " 'did',\n",
              " 'doing',\n",
              " 'a',\n",
              " 'an',\n",
              " 'the',\n",
              " 'and',\n",
              " 'but',\n",
              " 'if',\n",
              " 'or',\n",
              " 'because',\n",
              " 'as',\n",
              " 'until',\n",
              " 'while',\n",
              " 'of',\n",
              " 'at',\n",
              " 'by',\n",
              " 'for',\n",
              " 'with',\n",
              " 'about',\n",
              " 'against',\n",
              " 'between',\n",
              " 'into',\n",
              " 'through',\n",
              " 'during',\n",
              " 'before',\n",
              " 'after',\n",
              " 'above',\n",
              " 'below',\n",
              " 'to',\n",
              " 'from',\n",
              " 'up',\n",
              " 'down',\n",
              " 'in',\n",
              " 'out',\n",
              " 'on',\n",
              " 'off',\n",
              " 'over',\n",
              " 'under',\n",
              " 'again',\n",
              " 'further',\n",
              " 'then',\n",
              " 'once',\n",
              " 'here',\n",
              " 'there',\n",
              " 'when',\n",
              " 'where',\n",
              " 'why',\n",
              " 'how',\n",
              " 'all',\n",
              " 'any',\n",
              " 'both',\n",
              " 'each',\n",
              " 'few',\n",
              " 'more',\n",
              " 'most',\n",
              " 'other',\n",
              " 'some',\n",
              " 'such',\n",
              " 'no',\n",
              " 'nor',\n",
              " 'not',\n",
              " 'only',\n",
              " 'own',\n",
              " 'same',\n",
              " 'so',\n",
              " 'than',\n",
              " 'too',\n",
              " 'very',\n",
              " 's',\n",
              " 't',\n",
              " 'can',\n",
              " 'will',\n",
              " 'just',\n",
              " 'don',\n",
              " 'should',\n",
              " 'now']"
            ]
          },
          "metadata": {},
          "execution_count": 76
        }
      ]
    },
    {
      "cell_type": "markdown",
      "source": [
        "## CSV"
      ],
      "metadata": {
        "id": "7VyYYlQzYYkO"
      }
    },
    {
      "cell_type": "markdown",
      "source": [
        "При работе с табличными данными мы предпочитаем использовать библиотеку `pandas`\n",
        "\n",
        "Начало работы: импорт модуля `import pandas as pd`\n",
        "\n",
        "Почему pd? По договоренности!\n",
        "\n",
        "Это не влияет на работу модуля, но принято загружать библиотеку именно так, но именно с таким сокращением pd вы встретитесь в любой части официальной документации Pandas."
      ],
      "metadata": {
        "id": "l8YciQC7YnNS"
      }
    },
    {
      "cell_type": "code",
      "source": [
        "import pandas as pd"
      ],
      "metadata": {
        "id": "LkG6suspYUw8"
      },
      "execution_count": null,
      "outputs": []
    },
    {
      "cell_type": "markdown",
      "source": [
        "Табличные данные удобно хранить в формате csv (comma-separated values)\n",
        "\n",
        "Для чтения таких файлов есть функция read_csv\n",
        "\n",
        "Знаете ли вы преимущества csv перед другими форматами? Напишите здесь:\n",
        "CSV-файлы довольно простые, то есть с ними легко работать. Чтобы с ними работать достаточно обычного текстового редактора."
      ],
      "metadata": {
        "id": "RbhUQG8UYoLU"
      }
    },
    {
      "cell_type": "code",
      "source": [
        "# Загрузим датасет про Титаник\n",
        "\n",
        "!wget https://raw.githubusercontent.com/datasciencedojo/datasets/master/titanic.csv"
      ],
      "metadata": {
        "colab": {
          "base_uri": "https://localhost:8080/"
        },
        "id": "Lrtdo2hdYf9G",
        "outputId": "6e77acbc-c4f7-4c29-ecf9-9482b5c069d5"
      },
      "execution_count": null,
      "outputs": [
        {
          "output_type": "stream",
          "name": "stdout",
          "text": [
            "--2024-12-01 08:44:54--  https://raw.githubusercontent.com/datasciencedojo/datasets/master/titanic.csv\n",
            "Resolving raw.githubusercontent.com (raw.githubusercontent.com)... 185.199.111.133, 185.199.110.133, 185.199.109.133, ...\n",
            "Connecting to raw.githubusercontent.com (raw.githubusercontent.com)|185.199.111.133|:443... connected.\n",
            "HTTP request sent, awaiting response... 200 OK\n",
            "Length: 60302 (59K) [text/plain]\n",
            "Saving to: ‘titanic.csv’\n",
            "\n",
            "\rtitanic.csv           0%[                    ]       0  --.-KB/s               \rtitanic.csv         100%[===================>]  58.89K  --.-KB/s    in 0.002s  \n",
            "\n",
            "2024-12-01 08:44:54 (36.1 MB/s) - ‘titanic.csv’ saved [60302/60302]\n",
            "\n"
          ]
        }
      ]
    },
    {
      "cell_type": "code",
      "source": [
        "# Читаем датасет\n",
        "titanic = pd.read_csv(\"titanic.csv\")\n",
        "\n",
        "# Выводим первые 3 строки\n",
        "titanic.head(3)"
      ],
      "metadata": {
        "colab": {
          "base_uri": "https://localhost:8080/",
          "height": 319
        },
        "id": "p0Fxj_OWZRGP",
        "outputId": "52710867-a39d-49c9-e935-4baa9fa35ff8"
      },
      "execution_count": null,
      "outputs": [
        {
          "output_type": "execute_result",
          "data": {
            "text/plain": [
              "   PassengerId  Survived  Pclass  \\\n",
              "0            1         0       3   \n",
              "1            2         1       1   \n",
              "2            3         1       3   \n",
              "\n",
              "                                                Name     Sex   Age  SibSp  \\\n",
              "0                            Braund, Mr. Owen Harris    male  22.0      1   \n",
              "1  Cumings, Mrs. John Bradley (Florence Briggs Th...  female  38.0      1   \n",
              "2                             Heikkinen, Miss. Laina  female  26.0      0   \n",
              "\n",
              "   Parch            Ticket     Fare Cabin Embarked  \n",
              "0      0         A/5 21171   7.2500   NaN        S  \n",
              "1      0          PC 17599  71.2833   C85        C  \n",
              "2      0  STON/O2. 3101282   7.9250   NaN        S  "
            ],
            "text/html": [
              "\n",
              "  <div id=\"df-ab353699-3b6a-4748-a89d-e11393a872da\" class=\"colab-df-container\">\n",
              "    <div>\n",
              "<style scoped>\n",
              "    .dataframe tbody tr th:only-of-type {\n",
              "        vertical-align: middle;\n",
              "    }\n",
              "\n",
              "    .dataframe tbody tr th {\n",
              "        vertical-align: top;\n",
              "    }\n",
              "\n",
              "    .dataframe thead th {\n",
              "        text-align: right;\n",
              "    }\n",
              "</style>\n",
              "<table border=\"1\" class=\"dataframe\">\n",
              "  <thead>\n",
              "    <tr style=\"text-align: right;\">\n",
              "      <th></th>\n",
              "      <th>PassengerId</th>\n",
              "      <th>Survived</th>\n",
              "      <th>Pclass</th>\n",
              "      <th>Name</th>\n",
              "      <th>Sex</th>\n",
              "      <th>Age</th>\n",
              "      <th>SibSp</th>\n",
              "      <th>Parch</th>\n",
              "      <th>Ticket</th>\n",
              "      <th>Fare</th>\n",
              "      <th>Cabin</th>\n",
              "      <th>Embarked</th>\n",
              "    </tr>\n",
              "  </thead>\n",
              "  <tbody>\n",
              "    <tr>\n",
              "      <th>0</th>\n",
              "      <td>1</td>\n",
              "      <td>0</td>\n",
              "      <td>3</td>\n",
              "      <td>Braund, Mr. Owen Harris</td>\n",
              "      <td>male</td>\n",
              "      <td>22.0</td>\n",
              "      <td>1</td>\n",
              "      <td>0</td>\n",
              "      <td>A/5 21171</td>\n",
              "      <td>7.2500</td>\n",
              "      <td>NaN</td>\n",
              "      <td>S</td>\n",
              "    </tr>\n",
              "    <tr>\n",
              "      <th>1</th>\n",
              "      <td>2</td>\n",
              "      <td>1</td>\n",
              "      <td>1</td>\n",
              "      <td>Cumings, Mrs. John Bradley (Florence Briggs Th...</td>\n",
              "      <td>female</td>\n",
              "      <td>38.0</td>\n",
              "      <td>1</td>\n",
              "      <td>0</td>\n",
              "      <td>PC 17599</td>\n",
              "      <td>71.2833</td>\n",
              "      <td>C85</td>\n",
              "      <td>C</td>\n",
              "    </tr>\n",
              "    <tr>\n",
              "      <th>2</th>\n",
              "      <td>3</td>\n",
              "      <td>1</td>\n",
              "      <td>3</td>\n",
              "      <td>Heikkinen, Miss. Laina</td>\n",
              "      <td>female</td>\n",
              "      <td>26.0</td>\n",
              "      <td>0</td>\n",
              "      <td>0</td>\n",
              "      <td>STON/O2. 3101282</td>\n",
              "      <td>7.9250</td>\n",
              "      <td>NaN</td>\n",
              "      <td>S</td>\n",
              "    </tr>\n",
              "  </tbody>\n",
              "</table>\n",
              "</div>\n",
              "    <div class=\"colab-df-buttons\">\n",
              "\n",
              "  <div class=\"colab-df-container\">\n",
              "    <button class=\"colab-df-convert\" onclick=\"convertToInteractive('df-ab353699-3b6a-4748-a89d-e11393a872da')\"\n",
              "            title=\"Convert this dataframe to an interactive table.\"\n",
              "            style=\"display:none;\">\n",
              "\n",
              "  <svg xmlns=\"http://www.w3.org/2000/svg\" height=\"24px\" viewBox=\"0 -960 960 960\">\n",
              "    <path d=\"M120-120v-720h720v720H120Zm60-500h600v-160H180v160Zm220 220h160v-160H400v160Zm0 220h160v-160H400v160ZM180-400h160v-160H180v160Zm440 0h160v-160H620v160ZM180-180h160v-160H180v160Zm440 0h160v-160H620v160Z\"/>\n",
              "  </svg>\n",
              "    </button>\n",
              "\n",
              "  <style>\n",
              "    .colab-df-container {\n",
              "      display:flex;\n",
              "      gap: 12px;\n",
              "    }\n",
              "\n",
              "    .colab-df-convert {\n",
              "      background-color: #E8F0FE;\n",
              "      border: none;\n",
              "      border-radius: 50%;\n",
              "      cursor: pointer;\n",
              "      display: none;\n",
              "      fill: #1967D2;\n",
              "      height: 32px;\n",
              "      padding: 0 0 0 0;\n",
              "      width: 32px;\n",
              "    }\n",
              "\n",
              "    .colab-df-convert:hover {\n",
              "      background-color: #E2EBFA;\n",
              "      box-shadow: 0px 1px 2px rgba(60, 64, 67, 0.3), 0px 1px 3px 1px rgba(60, 64, 67, 0.15);\n",
              "      fill: #174EA6;\n",
              "    }\n",
              "\n",
              "    .colab-df-buttons div {\n",
              "      margin-bottom: 4px;\n",
              "    }\n",
              "\n",
              "    [theme=dark] .colab-df-convert {\n",
              "      background-color: #3B4455;\n",
              "      fill: #D2E3FC;\n",
              "    }\n",
              "\n",
              "    [theme=dark] .colab-df-convert:hover {\n",
              "      background-color: #434B5C;\n",
              "      box-shadow: 0px 1px 3px 1px rgba(0, 0, 0, 0.15);\n",
              "      filter: drop-shadow(0px 1px 2px rgba(0, 0, 0, 0.3));\n",
              "      fill: #FFFFFF;\n",
              "    }\n",
              "  </style>\n",
              "\n",
              "    <script>\n",
              "      const buttonEl =\n",
              "        document.querySelector('#df-ab353699-3b6a-4748-a89d-e11393a872da button.colab-df-convert');\n",
              "      buttonEl.style.display =\n",
              "        google.colab.kernel.accessAllowed ? 'block' : 'none';\n",
              "\n",
              "      async function convertToInteractive(key) {\n",
              "        const element = document.querySelector('#df-ab353699-3b6a-4748-a89d-e11393a872da');\n",
              "        const dataTable =\n",
              "          await google.colab.kernel.invokeFunction('convertToInteractive',\n",
              "                                                    [key], {});\n",
              "        if (!dataTable) return;\n",
              "\n",
              "        const docLinkHtml = 'Like what you see? Visit the ' +\n",
              "          '<a target=\"_blank\" href=https://colab.research.google.com/notebooks/data_table.ipynb>data table notebook</a>'\n",
              "          + ' to learn more about interactive tables.';\n",
              "        element.innerHTML = '';\n",
              "        dataTable['output_type'] = 'display_data';\n",
              "        await google.colab.output.renderOutput(dataTable, element);\n",
              "        const docLink = document.createElement('div');\n",
              "        docLink.innerHTML = docLinkHtml;\n",
              "        element.appendChild(docLink);\n",
              "      }\n",
              "    </script>\n",
              "  </div>\n",
              "\n",
              "\n",
              "<div id=\"df-8fdcd669-a66d-497b-ac5f-c16d750b26ae\">\n",
              "  <button class=\"colab-df-quickchart\" onclick=\"quickchart('df-8fdcd669-a66d-497b-ac5f-c16d750b26ae')\"\n",
              "            title=\"Suggest charts\"\n",
              "            style=\"display:none;\">\n",
              "\n",
              "<svg xmlns=\"http://www.w3.org/2000/svg\" height=\"24px\"viewBox=\"0 0 24 24\"\n",
              "     width=\"24px\">\n",
              "    <g>\n",
              "        <path d=\"M19 3H5c-1.1 0-2 .9-2 2v14c0 1.1.9 2 2 2h14c1.1 0 2-.9 2-2V5c0-1.1-.9-2-2-2zM9 17H7v-7h2v7zm4 0h-2V7h2v10zm4 0h-2v-4h2v4z\"/>\n",
              "    </g>\n",
              "</svg>\n",
              "  </button>\n",
              "\n",
              "<style>\n",
              "  .colab-df-quickchart {\n",
              "      --bg-color: #E8F0FE;\n",
              "      --fill-color: #1967D2;\n",
              "      --hover-bg-color: #E2EBFA;\n",
              "      --hover-fill-color: #174EA6;\n",
              "      --disabled-fill-color: #AAA;\n",
              "      --disabled-bg-color: #DDD;\n",
              "  }\n",
              "\n",
              "  [theme=dark] .colab-df-quickchart {\n",
              "      --bg-color: #3B4455;\n",
              "      --fill-color: #D2E3FC;\n",
              "      --hover-bg-color: #434B5C;\n",
              "      --hover-fill-color: #FFFFFF;\n",
              "      --disabled-bg-color: #3B4455;\n",
              "      --disabled-fill-color: #666;\n",
              "  }\n",
              "\n",
              "  .colab-df-quickchart {\n",
              "    background-color: var(--bg-color);\n",
              "    border: none;\n",
              "    border-radius: 50%;\n",
              "    cursor: pointer;\n",
              "    display: none;\n",
              "    fill: var(--fill-color);\n",
              "    height: 32px;\n",
              "    padding: 0;\n",
              "    width: 32px;\n",
              "  }\n",
              "\n",
              "  .colab-df-quickchart:hover {\n",
              "    background-color: var(--hover-bg-color);\n",
              "    box-shadow: 0 1px 2px rgba(60, 64, 67, 0.3), 0 1px 3px 1px rgba(60, 64, 67, 0.15);\n",
              "    fill: var(--button-hover-fill-color);\n",
              "  }\n",
              "\n",
              "  .colab-df-quickchart-complete:disabled,\n",
              "  .colab-df-quickchart-complete:disabled:hover {\n",
              "    background-color: var(--disabled-bg-color);\n",
              "    fill: var(--disabled-fill-color);\n",
              "    box-shadow: none;\n",
              "  }\n",
              "\n",
              "  .colab-df-spinner {\n",
              "    border: 2px solid var(--fill-color);\n",
              "    border-color: transparent;\n",
              "    border-bottom-color: var(--fill-color);\n",
              "    animation:\n",
              "      spin 1s steps(1) infinite;\n",
              "  }\n",
              "\n",
              "  @keyframes spin {\n",
              "    0% {\n",
              "      border-color: transparent;\n",
              "      border-bottom-color: var(--fill-color);\n",
              "      border-left-color: var(--fill-color);\n",
              "    }\n",
              "    20% {\n",
              "      border-color: transparent;\n",
              "      border-left-color: var(--fill-color);\n",
              "      border-top-color: var(--fill-color);\n",
              "    }\n",
              "    30% {\n",
              "      border-color: transparent;\n",
              "      border-left-color: var(--fill-color);\n",
              "      border-top-color: var(--fill-color);\n",
              "      border-right-color: var(--fill-color);\n",
              "    }\n",
              "    40% {\n",
              "      border-color: transparent;\n",
              "      border-right-color: var(--fill-color);\n",
              "      border-top-color: var(--fill-color);\n",
              "    }\n",
              "    60% {\n",
              "      border-color: transparent;\n",
              "      border-right-color: var(--fill-color);\n",
              "    }\n",
              "    80% {\n",
              "      border-color: transparent;\n",
              "      border-right-color: var(--fill-color);\n",
              "      border-bottom-color: var(--fill-color);\n",
              "    }\n",
              "    90% {\n",
              "      border-color: transparent;\n",
              "      border-bottom-color: var(--fill-color);\n",
              "    }\n",
              "  }\n",
              "</style>\n",
              "\n",
              "  <script>\n",
              "    async function quickchart(key) {\n",
              "      const quickchartButtonEl =\n",
              "        document.querySelector('#' + key + ' button');\n",
              "      quickchartButtonEl.disabled = true;  // To prevent multiple clicks.\n",
              "      quickchartButtonEl.classList.add('colab-df-spinner');\n",
              "      try {\n",
              "        const charts = await google.colab.kernel.invokeFunction(\n",
              "            'suggestCharts', [key], {});\n",
              "      } catch (error) {\n",
              "        console.error('Error during call to suggestCharts:', error);\n",
              "      }\n",
              "      quickchartButtonEl.classList.remove('colab-df-spinner');\n",
              "      quickchartButtonEl.classList.add('colab-df-quickchart-complete');\n",
              "    }\n",
              "    (() => {\n",
              "      let quickchartButtonEl =\n",
              "        document.querySelector('#df-8fdcd669-a66d-497b-ac5f-c16d750b26ae button');\n",
              "      quickchartButtonEl.style.display =\n",
              "        google.colab.kernel.accessAllowed ? 'block' : 'none';\n",
              "    })();\n",
              "  </script>\n",
              "</div>\n",
              "    </div>\n",
              "  </div>\n"
            ],
            "application/vnd.google.colaboratory.intrinsic+json": {
              "type": "dataframe",
              "variable_name": "titanic",
              "summary": "{\n  \"name\": \"titanic\",\n  \"rows\": 891,\n  \"fields\": [\n    {\n      \"column\": \"PassengerId\",\n      \"properties\": {\n        \"dtype\": \"number\",\n        \"std\": 257,\n        \"min\": 1,\n        \"max\": 891,\n        \"num_unique_values\": 891,\n        \"samples\": [\n          710,\n          440,\n          841\n        ],\n        \"semantic_type\": \"\",\n        \"description\": \"\"\n      }\n    },\n    {\n      \"column\": \"Survived\",\n      \"properties\": {\n        \"dtype\": \"number\",\n        \"std\": 0,\n        \"min\": 0,\n        \"max\": 1,\n        \"num_unique_values\": 2,\n        \"samples\": [\n          1,\n          0\n        ],\n        \"semantic_type\": \"\",\n        \"description\": \"\"\n      }\n    },\n    {\n      \"column\": \"Pclass\",\n      \"properties\": {\n        \"dtype\": \"number\",\n        \"std\": 0,\n        \"min\": 1,\n        \"max\": 3,\n        \"num_unique_values\": 3,\n        \"samples\": [\n          3,\n          1\n        ],\n        \"semantic_type\": \"\",\n        \"description\": \"\"\n      }\n    },\n    {\n      \"column\": \"Name\",\n      \"properties\": {\n        \"dtype\": \"string\",\n        \"num_unique_values\": 891,\n        \"samples\": [\n          \"Moubarek, Master. Halim Gonios (\\\"William George\\\")\",\n          \"Kvillner, Mr. Johan Henrik Johannesson\"\n        ],\n        \"semantic_type\": \"\",\n        \"description\": \"\"\n      }\n    },\n    {\n      \"column\": \"Sex\",\n      \"properties\": {\n        \"dtype\": \"category\",\n        \"num_unique_values\": 2,\n        \"samples\": [\n          \"female\",\n          \"male\"\n        ],\n        \"semantic_type\": \"\",\n        \"description\": \"\"\n      }\n    },\n    {\n      \"column\": \"Age\",\n      \"properties\": {\n        \"dtype\": \"number\",\n        \"std\": 14.526497332334044,\n        \"min\": 0.42,\n        \"max\": 80.0,\n        \"num_unique_values\": 88,\n        \"samples\": [\n          0.75,\n          22.0\n        ],\n        \"semantic_type\": \"\",\n        \"description\": \"\"\n      }\n    },\n    {\n      \"column\": \"SibSp\",\n      \"properties\": {\n        \"dtype\": \"number\",\n        \"std\": 1,\n        \"min\": 0,\n        \"max\": 8,\n        \"num_unique_values\": 7,\n        \"samples\": [\n          1,\n          0\n        ],\n        \"semantic_type\": \"\",\n        \"description\": \"\"\n      }\n    },\n    {\n      \"column\": \"Parch\",\n      \"properties\": {\n        \"dtype\": \"number\",\n        \"std\": 0,\n        \"min\": 0,\n        \"max\": 6,\n        \"num_unique_values\": 7,\n        \"samples\": [\n          0,\n          1\n        ],\n        \"semantic_type\": \"\",\n        \"description\": \"\"\n      }\n    },\n    {\n      \"column\": \"Ticket\",\n      \"properties\": {\n        \"dtype\": \"string\",\n        \"num_unique_values\": 681,\n        \"samples\": [\n          \"11774\",\n          \"248740\"\n        ],\n        \"semantic_type\": \"\",\n        \"description\": \"\"\n      }\n    },\n    {\n      \"column\": \"Fare\",\n      \"properties\": {\n        \"dtype\": \"number\",\n        \"std\": 49.693428597180905,\n        \"min\": 0.0,\n        \"max\": 512.3292,\n        \"num_unique_values\": 248,\n        \"samples\": [\n          11.2417,\n          51.8625\n        ],\n        \"semantic_type\": \"\",\n        \"description\": \"\"\n      }\n    },\n    {\n      \"column\": \"Cabin\",\n      \"properties\": {\n        \"dtype\": \"category\",\n        \"num_unique_values\": 147,\n        \"samples\": [\n          \"D45\",\n          \"B49\"\n        ],\n        \"semantic_type\": \"\",\n        \"description\": \"\"\n      }\n    },\n    {\n      \"column\": \"Embarked\",\n      \"properties\": {\n        \"dtype\": \"category\",\n        \"num_unique_values\": 3,\n        \"samples\": [\n          \"S\",\n          \"C\"\n        ],\n        \"semantic_type\": \"\",\n        \"description\": \"\"\n      }\n    }\n  ]\n}"
            }
          },
          "metadata": {},
          "execution_count": 4
        }
      ]
    },
    {
      "cell_type": "code",
      "source": [
        "# Загрузите любой csv и откройте его с помощью pd.read_csv\n",
        "# Далее мы разберем работу с pandas более подробно\n",
        "# Ознакомьтесь с возможностями, которые предоставляет вам Colab с Pandas:\n",
        "# рекомендованные графики и разные форматы отображения таблиц;\n",
        "# создайте визуал для своих данных по шаблону, сгенерированному Colab\n",
        "\n",
        "username = pd.read_csv('username.csv')\n",
        "username.head(3)"
      ],
      "metadata": {
        "colab": {
          "base_uri": "https://localhost:8080/",
          "height": 143
        },
        "id": "ETY3SRHlZeV3",
        "outputId": "e462d23d-c099-4e57-edcc-9e36d07d38b9"
      },
      "execution_count": null,
      "outputs": [
        {
          "output_type": "execute_result",
          "data": {
            "text/plain": [
              "  Username; Identifier;First name;Last name\n",
              "0               booker12;9012;Rachel;Booker\n",
              "1                    grey07;2070;Laura;Grey\n",
              "2              johnson81;4081;Craig;Johnson"
            ],
            "text/html": [
              "\n",
              "  <div id=\"df-b0f5150e-81d3-4970-adea-22270fcdfd5a\" class=\"colab-df-container\">\n",
              "    <div>\n",
              "<style scoped>\n",
              "    .dataframe tbody tr th:only-of-type {\n",
              "        vertical-align: middle;\n",
              "    }\n",
              "\n",
              "    .dataframe tbody tr th {\n",
              "        vertical-align: top;\n",
              "    }\n",
              "\n",
              "    .dataframe thead th {\n",
              "        text-align: right;\n",
              "    }\n",
              "</style>\n",
              "<table border=\"1\" class=\"dataframe\">\n",
              "  <thead>\n",
              "    <tr style=\"text-align: right;\">\n",
              "      <th></th>\n",
              "      <th>Username; Identifier;First name;Last name</th>\n",
              "    </tr>\n",
              "  </thead>\n",
              "  <tbody>\n",
              "    <tr>\n",
              "      <th>0</th>\n",
              "      <td>booker12;9012;Rachel;Booker</td>\n",
              "    </tr>\n",
              "    <tr>\n",
              "      <th>1</th>\n",
              "      <td>grey07;2070;Laura;Grey</td>\n",
              "    </tr>\n",
              "    <tr>\n",
              "      <th>2</th>\n",
              "      <td>johnson81;4081;Craig;Johnson</td>\n",
              "    </tr>\n",
              "  </tbody>\n",
              "</table>\n",
              "</div>\n",
              "    <div class=\"colab-df-buttons\">\n",
              "\n",
              "  <div class=\"colab-df-container\">\n",
              "    <button class=\"colab-df-convert\" onclick=\"convertToInteractive('df-b0f5150e-81d3-4970-adea-22270fcdfd5a')\"\n",
              "            title=\"Convert this dataframe to an interactive table.\"\n",
              "            style=\"display:none;\">\n",
              "\n",
              "  <svg xmlns=\"http://www.w3.org/2000/svg\" height=\"24px\" viewBox=\"0 -960 960 960\">\n",
              "    <path d=\"M120-120v-720h720v720H120Zm60-500h600v-160H180v160Zm220 220h160v-160H400v160Zm0 220h160v-160H400v160ZM180-400h160v-160H180v160Zm440 0h160v-160H620v160ZM180-180h160v-160H180v160Zm440 0h160v-160H620v160Z\"/>\n",
              "  </svg>\n",
              "    </button>\n",
              "\n",
              "  <style>\n",
              "    .colab-df-container {\n",
              "      display:flex;\n",
              "      gap: 12px;\n",
              "    }\n",
              "\n",
              "    .colab-df-convert {\n",
              "      background-color: #E8F0FE;\n",
              "      border: none;\n",
              "      border-radius: 50%;\n",
              "      cursor: pointer;\n",
              "      display: none;\n",
              "      fill: #1967D2;\n",
              "      height: 32px;\n",
              "      padding: 0 0 0 0;\n",
              "      width: 32px;\n",
              "    }\n",
              "\n",
              "    .colab-df-convert:hover {\n",
              "      background-color: #E2EBFA;\n",
              "      box-shadow: 0px 1px 2px rgba(60, 64, 67, 0.3), 0px 1px 3px 1px rgba(60, 64, 67, 0.15);\n",
              "      fill: #174EA6;\n",
              "    }\n",
              "\n",
              "    .colab-df-buttons div {\n",
              "      margin-bottom: 4px;\n",
              "    }\n",
              "\n",
              "    [theme=dark] .colab-df-convert {\n",
              "      background-color: #3B4455;\n",
              "      fill: #D2E3FC;\n",
              "    }\n",
              "\n",
              "    [theme=dark] .colab-df-convert:hover {\n",
              "      background-color: #434B5C;\n",
              "      box-shadow: 0px 1px 3px 1px rgba(0, 0, 0, 0.15);\n",
              "      filter: drop-shadow(0px 1px 2px rgba(0, 0, 0, 0.3));\n",
              "      fill: #FFFFFF;\n",
              "    }\n",
              "  </style>\n",
              "\n",
              "    <script>\n",
              "      const buttonEl =\n",
              "        document.querySelector('#df-b0f5150e-81d3-4970-adea-22270fcdfd5a button.colab-df-convert');\n",
              "      buttonEl.style.display =\n",
              "        google.colab.kernel.accessAllowed ? 'block' : 'none';\n",
              "\n",
              "      async function convertToInteractive(key) {\n",
              "        const element = document.querySelector('#df-b0f5150e-81d3-4970-adea-22270fcdfd5a');\n",
              "        const dataTable =\n",
              "          await google.colab.kernel.invokeFunction('convertToInteractive',\n",
              "                                                    [key], {});\n",
              "        if (!dataTable) return;\n",
              "\n",
              "        const docLinkHtml = 'Like what you see? Visit the ' +\n",
              "          '<a target=\"_blank\" href=https://colab.research.google.com/notebooks/data_table.ipynb>data table notebook</a>'\n",
              "          + ' to learn more about interactive tables.';\n",
              "        element.innerHTML = '';\n",
              "        dataTable['output_type'] = 'display_data';\n",
              "        await google.colab.output.renderOutput(dataTable, element);\n",
              "        const docLink = document.createElement('div');\n",
              "        docLink.innerHTML = docLinkHtml;\n",
              "        element.appendChild(docLink);\n",
              "      }\n",
              "    </script>\n",
              "  </div>\n",
              "\n",
              "\n",
              "<div id=\"df-0ed0d946-431d-4051-8970-be754c26a653\">\n",
              "  <button class=\"colab-df-quickchart\" onclick=\"quickchart('df-0ed0d946-431d-4051-8970-be754c26a653')\"\n",
              "            title=\"Suggest charts\"\n",
              "            style=\"display:none;\">\n",
              "\n",
              "<svg xmlns=\"http://www.w3.org/2000/svg\" height=\"24px\"viewBox=\"0 0 24 24\"\n",
              "     width=\"24px\">\n",
              "    <g>\n",
              "        <path d=\"M19 3H5c-1.1 0-2 .9-2 2v14c0 1.1.9 2 2 2h14c1.1 0 2-.9 2-2V5c0-1.1-.9-2-2-2zM9 17H7v-7h2v7zm4 0h-2V7h2v10zm4 0h-2v-4h2v4z\"/>\n",
              "    </g>\n",
              "</svg>\n",
              "  </button>\n",
              "\n",
              "<style>\n",
              "  .colab-df-quickchart {\n",
              "      --bg-color: #E8F0FE;\n",
              "      --fill-color: #1967D2;\n",
              "      --hover-bg-color: #E2EBFA;\n",
              "      --hover-fill-color: #174EA6;\n",
              "      --disabled-fill-color: #AAA;\n",
              "      --disabled-bg-color: #DDD;\n",
              "  }\n",
              "\n",
              "  [theme=dark] .colab-df-quickchart {\n",
              "      --bg-color: #3B4455;\n",
              "      --fill-color: #D2E3FC;\n",
              "      --hover-bg-color: #434B5C;\n",
              "      --hover-fill-color: #FFFFFF;\n",
              "      --disabled-bg-color: #3B4455;\n",
              "      --disabled-fill-color: #666;\n",
              "  }\n",
              "\n",
              "  .colab-df-quickchart {\n",
              "    background-color: var(--bg-color);\n",
              "    border: none;\n",
              "    border-radius: 50%;\n",
              "    cursor: pointer;\n",
              "    display: none;\n",
              "    fill: var(--fill-color);\n",
              "    height: 32px;\n",
              "    padding: 0;\n",
              "    width: 32px;\n",
              "  }\n",
              "\n",
              "  .colab-df-quickchart:hover {\n",
              "    background-color: var(--hover-bg-color);\n",
              "    box-shadow: 0 1px 2px rgba(60, 64, 67, 0.3), 0 1px 3px 1px rgba(60, 64, 67, 0.15);\n",
              "    fill: var(--button-hover-fill-color);\n",
              "  }\n",
              "\n",
              "  .colab-df-quickchart-complete:disabled,\n",
              "  .colab-df-quickchart-complete:disabled:hover {\n",
              "    background-color: var(--disabled-bg-color);\n",
              "    fill: var(--disabled-fill-color);\n",
              "    box-shadow: none;\n",
              "  }\n",
              "\n",
              "  .colab-df-spinner {\n",
              "    border: 2px solid var(--fill-color);\n",
              "    border-color: transparent;\n",
              "    border-bottom-color: var(--fill-color);\n",
              "    animation:\n",
              "      spin 1s steps(1) infinite;\n",
              "  }\n",
              "\n",
              "  @keyframes spin {\n",
              "    0% {\n",
              "      border-color: transparent;\n",
              "      border-bottom-color: var(--fill-color);\n",
              "      border-left-color: var(--fill-color);\n",
              "    }\n",
              "    20% {\n",
              "      border-color: transparent;\n",
              "      border-left-color: var(--fill-color);\n",
              "      border-top-color: var(--fill-color);\n",
              "    }\n",
              "    30% {\n",
              "      border-color: transparent;\n",
              "      border-left-color: var(--fill-color);\n",
              "      border-top-color: var(--fill-color);\n",
              "      border-right-color: var(--fill-color);\n",
              "    }\n",
              "    40% {\n",
              "      border-color: transparent;\n",
              "      border-right-color: var(--fill-color);\n",
              "      border-top-color: var(--fill-color);\n",
              "    }\n",
              "    60% {\n",
              "      border-color: transparent;\n",
              "      border-right-color: var(--fill-color);\n",
              "    }\n",
              "    80% {\n",
              "      border-color: transparent;\n",
              "      border-right-color: var(--fill-color);\n",
              "      border-bottom-color: var(--fill-color);\n",
              "    }\n",
              "    90% {\n",
              "      border-color: transparent;\n",
              "      border-bottom-color: var(--fill-color);\n",
              "    }\n",
              "  }\n",
              "</style>\n",
              "\n",
              "  <script>\n",
              "    async function quickchart(key) {\n",
              "      const quickchartButtonEl =\n",
              "        document.querySelector('#' + key + ' button');\n",
              "      quickchartButtonEl.disabled = true;  // To prevent multiple clicks.\n",
              "      quickchartButtonEl.classList.add('colab-df-spinner');\n",
              "      try {\n",
              "        const charts = await google.colab.kernel.invokeFunction(\n",
              "            'suggestCharts', [key], {});\n",
              "      } catch (error) {\n",
              "        console.error('Error during call to suggestCharts:', error);\n",
              "      }\n",
              "      quickchartButtonEl.classList.remove('colab-df-spinner');\n",
              "      quickchartButtonEl.classList.add('colab-df-quickchart-complete');\n",
              "    }\n",
              "    (() => {\n",
              "      let quickchartButtonEl =\n",
              "        document.querySelector('#df-0ed0d946-431d-4051-8970-be754c26a653 button');\n",
              "      quickchartButtonEl.style.display =\n",
              "        google.colab.kernel.accessAllowed ? 'block' : 'none';\n",
              "    })();\n",
              "  </script>\n",
              "</div>\n",
              "    </div>\n",
              "  </div>\n"
            ],
            "application/vnd.google.colaboratory.intrinsic+json": {
              "type": "dataframe",
              "variable_name": "username",
              "summary": "{\n  \"name\": \"username\",\n  \"rows\": 5,\n  \"fields\": [\n    {\n      \"column\": \"Username; Identifier;First name;Last name\",\n      \"properties\": {\n        \"dtype\": \"string\",\n        \"num_unique_values\": 5,\n        \"samples\": [\n          \"grey07;2070;Laura;Grey\",\n          \"smith79;5079;Jamie;Smith\",\n          \"johnson81;4081;Craig;Johnson\"\n        ],\n        \"semantic_type\": \"\",\n        \"description\": \"\"\n      }\n    }\n  ]\n}"
            }
          },
          "metadata": {},
          "execution_count": 5
        }
      ]
    },
    {
      "source": [
        "# @title Username; Identifier;First name;Last name\n",
        "\n",
        "from matplotlib import pyplot as plt\n",
        "import seaborn as sns\n",
        "username.groupby('Username; Identifier;First name;Last name').size().plot(kind='barh', color=sns.palettes.mpl_palette('Dark2'))\n",
        "plt.gca().spines[['top', 'right',]].set_visible(False)"
      ],
      "cell_type": "code",
      "execution_count": null,
      "outputs": [
        {
          "output_type": "display_data",
          "data": {
            "text/plain": [
              "<Figure size 640x480 with 1 Axes>"
            ],
            "image/png": "[encoded data removed]"
          },
          "metadata": {}
        }
      ],
      "metadata": {
        "cellView": "form",
        "colab": {
          "base_uri": "https://localhost:8080/",
          "height": 369
        },
        "id": "8bhmBvnna70k",
        "outputId": "8792209b-597b-4ca8-ff62-e6acdb64d51f"
      }
    },
    {
      "cell_type": "code",
      "source": [
        "titanic = pd.read_csv('titanic.csv')\n",
        "titanic.head(5)\n"
      ],
      "metadata": {
        "colab": {
          "base_uri": "https://localhost:8080/",
          "height": 504
        },
        "id": "x3R6b0YubNIV",
        "outputId": "18594816-f592-4a3d-f93e-d02259b9eb6a"
      },
      "execution_count": null,
      "outputs": [
        {
          "output_type": "execute_result",
          "data": {
            "text/plain": [
              "   PassengerId  Survived  Pclass  \\\n",
              "0            1         0       3   \n",
              "1            2         1       1   \n",
              "2            3         1       3   \n",
              "3            4         1       1   \n",
              "4            5         0       3   \n",
              "\n",
              "                                                Name     Sex   Age  SibSp  \\\n",
              "0                            Braund, Mr. Owen Harris    male  22.0      1   \n",
              "1  Cumings, Mrs. John Bradley (Florence Briggs Th...  female  38.0      1   \n",
              "2                             Heikkinen, Miss. Laina  female  26.0      0   \n",
              "3       Futrelle, Mrs. Jacques Heath (Lily May Peel)  female  35.0      1   \n",
              "4                           Allen, Mr. William Henry    male  35.0      0   \n",
              "\n",
              "   Parch            Ticket     Fare Cabin Embarked  \n",
              "0      0         A/5 21171   7.2500   NaN        S  \n",
              "1      0          PC 17599  71.2833   C85        C  \n",
              "2      0  STON/O2. 3101282   7.9250   NaN        S  \n",
              "3      0            113803  53.1000  C123        S  \n",
              "4      0            373450   8.0500   NaN        S  "
            ],
            "text/html": [
              "\n",
              "  <div id=\"df-080b01f6-decc-421a-aa37-9f4edd490499\" class=\"colab-df-container\">\n",
              "    <div>\n",
              "<style scoped>\n",
              "    .dataframe tbody tr th:only-of-type {\n",
              "        vertical-align: middle;\n",
              "    }\n",
              "\n",
              "    .dataframe tbody tr th {\n",
              "        vertical-align: top;\n",
              "    }\n",
              "\n",
              "    .dataframe thead th {\n",
              "        text-align: right;\n",
              "    }\n",
              "</style>\n",
              "<table border=\"1\" class=\"dataframe\">\n",
              "  <thead>\n",
              "    <tr style=\"text-align: right;\">\n",
              "      <th></th>\n",
              "      <th>PassengerId</th>\n",
              "      <th>Survived</th>\n",
              "      <th>Pclass</th>\n",
              "      <th>Name</th>\n",
              "      <th>Sex</th>\n",
              "      <th>Age</th>\n",
              "      <th>SibSp</th>\n",
              "      <th>Parch</th>\n",
              "      <th>Ticket</th>\n",
              "      <th>Fare</th>\n",
              "      <th>Cabin</th>\n",
              "      <th>Embarked</th>\n",
              "    </tr>\n",
              "  </thead>\n",
              "  <tbody>\n",
              "    <tr>\n",
              "      <th>0</th>\n",
              "      <td>1</td>\n",
              "      <td>0</td>\n",
              "      <td>3</td>\n",
              "      <td>Braund, Mr. Owen Harris</td>\n",
              "      <td>male</td>\n",
              "      <td>22.0</td>\n",
              "      <td>1</td>\n",
              "      <td>0</td>\n",
              "      <td>A/5 21171</td>\n",
              "      <td>7.2500</td>\n",
              "      <td>NaN</td>\n",
              "      <td>S</td>\n",
              "    </tr>\n",
              "    <tr>\n",
              "      <th>1</th>\n",
              "      <td>2</td>\n",
              "      <td>1</td>\n",
              "      <td>1</td>\n",
              "      <td>Cumings, Mrs. John Bradley (Florence Briggs Th...</td>\n",
              "      <td>female</td>\n",
              "      <td>38.0</td>\n",
              "      <td>1</td>\n",
              "      <td>0</td>\n",
              "      <td>PC 17599</td>\n",
              "      <td>71.2833</td>\n",
              "      <td>C85</td>\n",
              "      <td>C</td>\n",
              "    </tr>\n",
              "    <tr>\n",
              "      <th>2</th>\n",
              "      <td>3</td>\n",
              "      <td>1</td>\n",
              "      <td>3</td>\n",
              "      <td>Heikkinen, Miss. Laina</td>\n",
              "      <td>female</td>\n",
              "      <td>26.0</td>\n",
              "      <td>0</td>\n",
              "      <td>0</td>\n",
              "      <td>STON/O2. 3101282</td>\n",
              "      <td>7.9250</td>\n",
              "      <td>NaN</td>\n",
              "      <td>S</td>\n",
              "    </tr>\n",
              "    <tr>\n",
              "      <th>3</th>\n",
              "      <td>4</td>\n",
              "      <td>1</td>\n",
              "      <td>1</td>\n",
              "      <td>Futrelle, Mrs. Jacques Heath (Lily May Peel)</td>\n",
              "      <td>female</td>\n",
              "      <td>35.0</td>\n",
              "      <td>1</td>\n",
              "      <td>0</td>\n",
              "      <td>113803</td>\n",
              "      <td>53.1000</td>\n",
              "      <td>C123</td>\n",
              "      <td>S</td>\n",
              "    </tr>\n",
              "    <tr>\n",
              "      <th>4</th>\n",
              "      <td>5</td>\n",
              "      <td>0</td>\n",
              "      <td>3</td>\n",
              "      <td>Allen, Mr. William Henry</td>\n",
              "      <td>male</td>\n",
              "      <td>35.0</td>\n",
              "      <td>0</td>\n",
              "      <td>0</td>\n",
              "      <td>373450</td>\n",
              "      <td>8.0500</td>\n",
              "      <td>NaN</td>\n",
              "      <td>S</td>\n",
              "    </tr>\n",
              "  </tbody>\n",
              "</table>\n",
              "</div>\n",
              "    <div class=\"colab-df-buttons\">\n",
              "\n",
              "  <div class=\"colab-df-container\">\n",
              "    <button class=\"colab-df-convert\" onclick=\"convertToInteractive('df-080b01f6-decc-421a-aa37-9f4edd490499')\"\n",
              "            title=\"Convert this dataframe to an interactive table.\"\n",
              "            style=\"display:none;\">\n",
              "\n",
              "  <svg xmlns=\"http://www.w3.org/2000/svg\" height=\"24px\" viewBox=\"0 -960 960 960\">\n",
              "    <path d=\"M120-120v-720h720v720H120Zm60-500h600v-160H180v160Zm220 220h160v-160H400v160Zm0 220h160v-160H400v160ZM180-400h160v-160H180v160Zm440 0h160v-160H620v160ZM180-180h160v-160H180v160Zm440 0h160v-160H620v160Z\"/>\n",
              "  </svg>\n",
              "    </button>\n",
              "\n",
              "  <style>\n",
              "    .colab-df-container {\n",
              "      display:flex;\n",
              "      gap: 12px;\n",
              "    }\n",
              "\n",
              "    .colab-df-convert {\n",
              "      background-color: #E8F0FE;\n",
              "      border: none;\n",
              "      border-radius: 50%;\n",
              "      cursor: pointer;\n",
              "      display: none;\n",
              "      fill: #1967D2;\n",
              "      height: 32px;\n",
              "      padding: 0 0 0 0;\n",
              "      width: 32px;\n",
              "    }\n",
              "\n",
              "    .colab-df-convert:hover {\n",
              "      background-color: #E2EBFA;\n",
              "      box-shadow: 0px 1px 2px rgba(60, 64, 67, 0.3), 0px 1px 3px 1px rgba(60, 64, 67, 0.15);\n",
              "      fill: #174EA6;\n",
              "    }\n",
              "\n",
              "    .colab-df-buttons div {\n",
              "      margin-bottom: 4px;\n",
              "    }\n",
              "\n",
              "    [theme=dark] .colab-df-convert {\n",
              "      background-color: #3B4455;\n",
              "      fill: #D2E3FC;\n",
              "    }\n",
              "\n",
              "    [theme=dark] .colab-df-convert:hover {\n",
              "      background-color: #434B5C;\n",
              "      box-shadow: 0px 1px 3px 1px rgba(0, 0, 0, 0.15);\n",
              "      filter: drop-shadow(0px 1px 2px rgba(0, 0, 0, 0.3));\n",
              "      fill: #FFFFFF;\n",
              "    }\n",
              "  </style>\n",
              "\n",
              "    <script>\n",
              "      const buttonEl =\n",
              "        document.querySelector('#df-080b01f6-decc-421a-aa37-9f4edd490499 button.colab-df-convert');\n",
              "      buttonEl.style.display =\n",
              "        google.colab.kernel.accessAllowed ? 'block' : 'none';\n",
              "\n",
              "      async function convertToInteractive(key) {\n",
              "        const element = document.querySelector('#df-080b01f6-decc-421a-aa37-9f4edd490499');\n",
              "        const dataTable =\n",
              "          await google.colab.kernel.invokeFunction('convertToInteractive',\n",
              "                                                    [key], {});\n",
              "        if (!dataTable) return;\n",
              "\n",
              "        const docLinkHtml = 'Like what you see? Visit the ' +\n",
              "          '<a target=\"_blank\" href=https://colab.research.google.com/notebooks/data_table.ipynb>data table notebook</a>'\n",
              "          + ' to learn more about interactive tables.';\n",
              "        element.innerHTML = '';\n",
              "        dataTable['output_type'] = 'display_data';\n",
              "        await google.colab.output.renderOutput(dataTable, element);\n",
              "        const docLink = document.createElement('div');\n",
              "        docLink.innerHTML = docLinkHtml;\n",
              "        element.appendChild(docLink);\n",
              "      }\n",
              "    </script>\n",
              "  </div>\n",
              "\n",
              "\n",
              "<div id=\"df-6da9db3c-85e7-4a9e-9620-76d9dfffa33b\">\n",
              "  <button class=\"colab-df-quickchart\" onclick=\"quickchart('df-6da9db3c-85e7-4a9e-9620-76d9dfffa33b')\"\n",
              "            title=\"Suggest charts\"\n",
              "            style=\"display:none;\">\n",
              "\n",
              "<svg xmlns=\"http://www.w3.org/2000/svg\" height=\"24px\"viewBox=\"0 0 24 24\"\n",
              "     width=\"24px\">\n",
              "    <g>\n",
              "        <path d=\"M19 3H5c-1.1 0-2 .9-2 2v14c0 1.1.9 2 2 2h14c1.1 0 2-.9 2-2V5c0-1.1-.9-2-2-2zM9 17H7v-7h2v7zm4 0h-2V7h2v10zm4 0h-2v-4h2v4z\"/>\n",
              "    </g>\n",
              "</svg>\n",
              "  </button>\n",
              "\n",
              "<style>\n",
              "  .colab-df-quickchart {\n",
              "      --bg-color: #E8F0FE;\n",
              "      --fill-color: #1967D2;\n",
              "      --hover-bg-color: #E2EBFA;\n",
              "      --hover-fill-color: #174EA6;\n",
              "      --disabled-fill-color: #AAA;\n",
              "      --disabled-bg-color: #DDD;\n",
              "  }\n",
              "\n",
              "  [theme=dark] .colab-df-quickchart {\n",
              "      --bg-color: #3B4455;\n",
              "      --fill-color: #D2E3FC;\n",
              "      --hover-bg-color: #434B5C;\n",
              "      --hover-fill-color: #FFFFFF;\n",
              "      --disabled-bg-color: #3B4455;\n",
              "      --disabled-fill-color: #666;\n",
              "  }\n",
              "\n",
              "  .colab-df-quickchart {\n",
              "    background-color: var(--bg-color);\n",
              "    border: none;\n",
              "    border-radius: 50%;\n",
              "    cursor: pointer;\n",
              "    display: none;\n",
              "    fill: var(--fill-color);\n",
              "    height: 32px;\n",
              "    padding: 0;\n",
              "    width: 32px;\n",
              "  }\n",
              "\n",
              "  .colab-df-quickchart:hover {\n",
              "    background-color: var(--hover-bg-color);\n",
              "    box-shadow: 0 1px 2px rgba(60, 64, 67, 0.3), 0 1px 3px 1px rgba(60, 64, 67, 0.15);\n",
              "    fill: var(--button-hover-fill-color);\n",
              "  }\n",
              "\n",
              "  .colab-df-quickchart-complete:disabled,\n",
              "  .colab-df-quickchart-complete:disabled:hover {\n",
              "    background-color: var(--disabled-bg-color);\n",
              "    fill: var(--disabled-fill-color);\n",
              "    box-shadow: none;\n",
              "  }\n",
              "\n",
              "  .colab-df-spinner {\n",
              "    border: 2px solid var(--fill-color);\n",
              "    border-color: transparent;\n",
              "    border-bottom-color: var(--fill-color);\n",
              "    animation:\n",
              "      spin 1s steps(1) infinite;\n",
              "  }\n",
              "\n",
              "  @keyframes spin {\n",
              "    0% {\n",
              "      border-color: transparent;\n",
              "      border-bottom-color: var(--fill-color);\n",
              "      border-left-color: var(--fill-color);\n",
              "    }\n",
              "    20% {\n",
              "      border-color: transparent;\n",
              "      border-left-color: var(--fill-color);\n",
              "      border-top-color: var(--fill-color);\n",
              "    }\n",
              "    30% {\n",
              "      border-color: transparent;\n",
              "      border-left-color: var(--fill-color);\n",
              "      border-top-color: var(--fill-color);\n",
              "      border-right-color: var(--fill-color);\n",
              "    }\n",
              "    40% {\n",
              "      border-color: transparent;\n",
              "      border-right-color: var(--fill-color);\n",
              "      border-top-color: var(--fill-color);\n",
              "    }\n",
              "    60% {\n",
              "      border-color: transparent;\n",
              "      border-right-color: var(--fill-color);\n",
              "    }\n",
              "    80% {\n",
              "      border-color: transparent;\n",
              "      border-right-color: var(--fill-color);\n",
              "      border-bottom-color: var(--fill-color);\n",
              "    }\n",
              "    90% {\n",
              "      border-color: transparent;\n",
              "      border-bottom-color: var(--fill-color);\n",
              "    }\n",
              "  }\n",
              "</style>\n",
              "\n",
              "  <script>\n",
              "    async function quickchart(key) {\n",
              "      const quickchartButtonEl =\n",
              "        document.querySelector('#' + key + ' button');\n",
              "      quickchartButtonEl.disabled = true;  // To prevent multiple clicks.\n",
              "      quickchartButtonEl.classList.add('colab-df-spinner');\n",
              "      try {\n",
              "        const charts = await google.colab.kernel.invokeFunction(\n",
              "            'suggestCharts', [key], {});\n",
              "      } catch (error) {\n",
              "        console.error('Error during call to suggestCharts:', error);\n",
              "      }\n",
              "      quickchartButtonEl.classList.remove('colab-df-spinner');\n",
              "      quickchartButtonEl.classList.add('colab-df-quickchart-complete');\n",
              "    }\n",
              "    (() => {\n",
              "      let quickchartButtonEl =\n",
              "        document.querySelector('#df-6da9db3c-85e7-4a9e-9620-76d9dfffa33b button');\n",
              "      quickchartButtonEl.style.display =\n",
              "        google.colab.kernel.accessAllowed ? 'block' : 'none';\n",
              "    })();\n",
              "  </script>\n",
              "</div>\n",
              "    </div>\n",
              "  </div>\n"
            ],
            "application/vnd.google.colaboratory.intrinsic+json": {
              "type": "dataframe",
              "variable_name": "titanic",
              "summary": "{\n  \"name\": \"titanic\",\n  \"rows\": 891,\n  \"fields\": [\n    {\n      \"column\": \"PassengerId\",\n      \"properties\": {\n        \"dtype\": \"number\",\n        \"std\": 257,\n        \"min\": 1,\n        \"max\": 891,\n        \"num_unique_values\": 891,\n        \"samples\": [\n          710,\n          440,\n          841\n        ],\n        \"semantic_type\": \"\",\n        \"description\": \"\"\n      }\n    },\n    {\n      \"column\": \"Survived\",\n      \"properties\": {\n        \"dtype\": \"number\",\n        \"std\": 0,\n        \"min\": 0,\n        \"max\": 1,\n        \"num_unique_values\": 2,\n        \"samples\": [\n          1,\n          0\n        ],\n        \"semantic_type\": \"\",\n        \"description\": \"\"\n      }\n    },\n    {\n      \"column\": \"Pclass\",\n      \"properties\": {\n        \"dtype\": \"number\",\n        \"std\": 0,\n        \"min\": 1,\n        \"max\": 3,\n        \"num_unique_values\": 3,\n        \"samples\": [\n          3,\n          1\n        ],\n        \"semantic_type\": \"\",\n        \"description\": \"\"\n      }\n    },\n    {\n      \"column\": \"Name\",\n      \"properties\": {\n        \"dtype\": \"string\",\n        \"num_unique_values\": 891,\n        \"samples\": [\n          \"Moubarek, Master. Halim Gonios (\\\"William George\\\")\",\n          \"Kvillner, Mr. Johan Henrik Johannesson\"\n        ],\n        \"semantic_type\": \"\",\n        \"description\": \"\"\n      }\n    },\n    {\n      \"column\": \"Sex\",\n      \"properties\": {\n        \"dtype\": \"category\",\n        \"num_unique_values\": 2,\n        \"samples\": [\n          \"female\",\n          \"male\"\n        ],\n        \"semantic_type\": \"\",\n        \"description\": \"\"\n      }\n    },\n    {\n      \"column\": \"Age\",\n      \"properties\": {\n        \"dtype\": \"number\",\n        \"std\": 14.526497332334044,\n        \"min\": 0.42,\n        \"max\": 80.0,\n        \"num_unique_values\": 88,\n        \"samples\": [\n          0.75,\n          22.0\n        ],\n        \"semantic_type\": \"\",\n        \"description\": \"\"\n      }\n    },\n    {\n      \"column\": \"SibSp\",\n      \"properties\": {\n        \"dtype\": \"number\",\n        \"std\": 1,\n        \"min\": 0,\n        \"max\": 8,\n        \"num_unique_values\": 7,\n        \"samples\": [\n          1,\n          0\n        ],\n        \"semantic_type\": \"\",\n        \"description\": \"\"\n      }\n    },\n    {\n      \"column\": \"Parch\",\n      \"properties\": {\n        \"dtype\": \"number\",\n        \"std\": 0,\n        \"min\": 0,\n        \"max\": 6,\n        \"num_unique_values\": 7,\n        \"samples\": [\n          0,\n          1\n        ],\n        \"semantic_type\": \"\",\n        \"description\": \"\"\n      }\n    },\n    {\n      \"column\": \"Ticket\",\n      \"properties\": {\n        \"dtype\": \"string\",\n        \"num_unique_values\": 681,\n        \"samples\": [\n          \"11774\",\n          \"248740\"\n        ],\n        \"semantic_type\": \"\",\n        \"description\": \"\"\n      }\n    },\n    {\n      \"column\": \"Fare\",\n      \"properties\": {\n        \"dtype\": \"number\",\n        \"std\": 49.693428597180905,\n        \"min\": 0.0,\n        \"max\": 512.3292,\n        \"num_unique_values\": 248,\n        \"samples\": [\n          11.2417,\n          51.8625\n        ],\n        \"semantic_type\": \"\",\n        \"description\": \"\"\n      }\n    },\n    {\n      \"column\": \"Cabin\",\n      \"properties\": {\n        \"dtype\": \"category\",\n        \"num_unique_values\": 147,\n        \"samples\": [\n          \"D45\",\n          \"B49\"\n        ],\n        \"semantic_type\": \"\",\n        \"description\": \"\"\n      }\n    },\n    {\n      \"column\": \"Embarked\",\n      \"properties\": {\n        \"dtype\": \"category\",\n        \"num_unique_values\": 3,\n        \"samples\": [\n          \"S\",\n          \"C\"\n        ],\n        \"semantic_type\": \"\",\n        \"description\": \"\"\n      }\n    }\n  ]\n}"
            }
          },
          "metadata": {},
          "execution_count": 9
        }
      ]
    },
    {
      "source": [
        "# @title Sex\n",
        "\n",
        "from matplotlib import pyplot as plt\n",
        "import seaborn as sns\n",
        "titanic.groupby('Sex').size().plot(kind='barh', color=sns.palettes.mpl_palette('Dark2'))\n",
        "plt.gca().spines[['top', 'right',]].set_visible(False)"
      ],
      "cell_type": "code",
      "execution_count": null,
      "outputs": [
        {
          "output_type": "display_data",
          "data": {
            "text/plain": [
              "<Figure size 640x480 with 1 Axes>"
            ],
            "image/png": "[encoded data removed]"
          },
          "metadata": {}
        }
      ],
      "metadata": {
        "cellView": "form",
        "colab": {
          "base_uri": "https://localhost:8080/",
          "height": 430
        },
        "id": "cpmvKW5ccV5D",
        "outputId": "19f1ec2f-52a0-4fba-b043-eedb0c797895"
      }
    },
    {
      "source": [
        "# @title Age vs SibSp\n",
        "\n",
        "from matplotlib import pyplot as plt\n",
        "titanic.plot(kind='scatter', x='Age', y='SibSp', s=32, alpha=.8)\n",
        "plt.gca().spines[['top', 'right',]].set_visible(False)"
      ],
      "cell_type": "code",
      "execution_count": null,
      "outputs": [
        {
          "output_type": "display_data",
          "data": {
            "text/plain": [
              "<Figure size 640x480 with 1 Axes>"
            ],
            "image/png": "[encoded data removed]"
          },
          "metadata": {}
        }
      ],
      "metadata": {
        "cellView": "form",
        "colab": {
          "base_uri": "https://localhost:8080/",
          "height": 449
        },
        "id": "2xs2P0Q5cQ96",
        "outputId": "0ba2f4bf-f76e-41c9-ee69-55bcd737f72d"
      }
    },
    {
      "cell_type": "markdown",
      "source": [],
      "metadata": {
        "id": "rQK0MsaCa5bQ"
      }
    },
    {
      "cell_type": "markdown",
      "source": [
        "## JSON"
      ],
      "metadata": {
        "id": "kFrbG9T9cdsO"
      }
    },
    {
      "cell_type": "code",
      "source": [
        "# Загрузим новостной корпус в json\n",
        "\n",
        "!wget https://raw.githubusercontent.com/vifirsanova/hse-python-course/main/extracurricular/corpus.json"
      ],
      "metadata": {
        "colab": {
          "base_uri": "https://localhost:8080/"
        },
        "id": "f-ZE-ZrWa3s8",
        "outputId": "e9bc819b-9dd8-40e3-d011-ef6ec73302ba"
      },
      "execution_count": 1,
      "outputs": [
        {
          "output_type": "stream",
          "name": "stdout",
          "text": [
            "--2024-12-09 21:17:38--  https://raw.githubusercontent.com/vifirsanova/hse-python-course/main/extracurricular/corpus.json\n",
            "Resolving raw.githubusercontent.com (raw.githubusercontent.com)... 185.199.108.133, 185.199.110.133, 185.199.111.133, ...\n",
            "Connecting to raw.githubusercontent.com (raw.githubusercontent.com)|185.199.108.133|:443... connected.\n",
            "HTTP request sent, awaiting response... 200 OK\n",
            "Length: 263190 (257K) [text/plain]\n",
            "Saving to: ‘corpus.json’\n",
            "\n",
            "corpus.json         100%[===================>] 257.02K  --.-KB/s    in 0.04s   \n",
            "\n",
            "2024-12-09 21:17:38 (6.87 MB/s) - ‘corpus.json’ saved [263190/263190]\n",
            "\n"
          ]
        }
      ]
    },
    {
      "cell_type": "code",
      "source": [
        "# Для работы с json нужна одноименная библиотека\n",
        "\n",
        "import json\n",
        "\n",
        "with open(\"corpus.json\", \"r\", encoding=\"utf8\") as f:\n",
        "   data = json.load(f)"
      ],
      "metadata": {
        "id": "jTAblH4CchWx"
      },
      "execution_count": 13,
      "outputs": []
    },
    {
      "cell_type": "code",
      "source": [
        "# pprint позволяет выводить такие вложенные структуры, как json, красиво\n",
        "\n",
        "from pprint import pprint\n",
        "\n",
        "for item in data:\n",
        "  pprint(data[0][0])"
      ],
      "metadata": {
        "colab": {
          "base_uri": "https://localhost:8080/"
        },
        "id": "xQJqe9gtclnO",
        "outputId": "eb4d8648-3184-4617-f515-284acc1efc0b"
      },
      "execution_count": 14,
      "outputs": [
        {
          "output_type": "stream",
          "name": "stdout",
          "text": [
            "{'body': 'Причиной раздавшегося звука взрыва в Туле, напугавшего местных '\n",
            "         'жителей, стал переход самолета на сверхзвуковую скорость, об этом '\n",
            "         'сообщили в ГУ МЧС по Тульской области, передает РИА Новости. Ранее '\n",
            "         'ряд пабликов сообщил о звуках взрыва в российском городе. Как '\n",
            "         'отмечает Telegram-канал Mash, горожане услышали его около 21:42 в '\n",
            "         'Пролетарском районе, а в 21:37 в районе Заречье пропал свет из-за '\n",
            "         'аварии на подстанции. «Хлопки, которые слышали жители Пролетарского '\n",
            "         'округа города Тулы, предположительно, явились следствием перехода '\n",
            "         'самолета на сверхзвуковую скорость», — пояснили в МЧС. В ведомстве '\n",
            "         'также рассказали, что электроснабжение в Зареченском районе города '\n",
            "         'восстановлено, причиной стала техническая неисправность, авария '\n",
            "         'ликвидирована. Ранее в единой диспетчерской службе (ЕДДС) Тулы '\n",
            "         'сообщили, что в Зареченском районе почти пять тысяч человек остались '\n",
            "         'без света из-за аварийного отключения электроэнергии. Электричество '\n",
            "         'отключилось на улицах Заварная, Карпова, Максима Горького. Без света '\n",
            "         'остались 4832 жителя, в том числе 471 ребенок.',\n",
            " 'description': 'Причиной раздавшегося звука взрыва в Туле, напугавшего '\n",
            "                'местных жителей, стал переход самолета на сверхзвуковую '\n",
            "                'скорость, об этом сообщили в ГУ МЧС по Тульской области. '\n",
            "                'Ранее ряд Telegram-каналов сообщили о звуках взрыва в '\n",
            "                'российском городе и об отключении света. Электроснабжение '\n",
            "                'восстановлено, уточнили в ведомстве.',\n",
            " 'headline': 'Жителям российского города объяснили напугавший их звук взрыва'}\n",
            "{'body': 'Причиной раздавшегося звука взрыва в Туле, напугавшего местных '\n",
            "         'жителей, стал переход самолета на сверхзвуковую скорость, об этом '\n",
            "         'сообщили в ГУ МЧС по Тульской области, передает РИА Новости. Ранее '\n",
            "         'ряд пабликов сообщил о звуках взрыва в российском городе. Как '\n",
            "         'отмечает Telegram-канал Mash, горожане услышали его около 21:42 в '\n",
            "         'Пролетарском районе, а в 21:37 в районе Заречье пропал свет из-за '\n",
            "         'аварии на подстанции. «Хлопки, которые слышали жители Пролетарского '\n",
            "         'округа города Тулы, предположительно, явились следствием перехода '\n",
            "         'самолета на сверхзвуковую скорость», — пояснили в МЧС. В ведомстве '\n",
            "         'также рассказали, что электроснабжение в Зареченском районе города '\n",
            "         'восстановлено, причиной стала техническая неисправность, авария '\n",
            "         'ликвидирована. Ранее в единой диспетчерской службе (ЕДДС) Тулы '\n",
            "         'сообщили, что в Зареченском районе почти пять тысяч человек остались '\n",
            "         'без света из-за аварийного отключения электроэнергии. Электричество '\n",
            "         'отключилось на улицах Заварная, Карпова, Максима Горького. Без света '\n",
            "         'остались 4832 жителя, в том числе 471 ребенок.',\n",
            " 'description': 'Причиной раздавшегося звука взрыва в Туле, напугавшего '\n",
            "                'местных жителей, стал переход самолета на сверхзвуковую '\n",
            "                'скорость, об этом сообщили в ГУ МЧС по Тульской области. '\n",
            "                'Ранее ряд Telegram-каналов сообщили о звуках взрыва в '\n",
            "                'российском городе и об отключении света. Электроснабжение '\n",
            "                'восстановлено, уточнили в ведомстве.',\n",
            " 'headline': 'Жителям российского города объяснили напугавший их звук взрыва'}\n",
            "{'body': 'Причиной раздавшегося звука взрыва в Туле, напугавшего местных '\n",
            "         'жителей, стал переход самолета на сверхзвуковую скорость, об этом '\n",
            "         'сообщили в ГУ МЧС по Тульской области, передает РИА Новости. Ранее '\n",
            "         'ряд пабликов сообщил о звуках взрыва в российском городе. Как '\n",
            "         'отмечает Telegram-канал Mash, горожане услышали его около 21:42 в '\n",
            "         'Пролетарском районе, а в 21:37 в районе Заречье пропал свет из-за '\n",
            "         'аварии на подстанции. «Хлопки, которые слышали жители Пролетарского '\n",
            "         'округа города Тулы, предположительно, явились следствием перехода '\n",
            "         'самолета на сверхзвуковую скорость», — пояснили в МЧС. В ведомстве '\n",
            "         'также рассказали, что электроснабжение в Зареченском районе города '\n",
            "         'восстановлено, причиной стала техническая неисправность, авария '\n",
            "         'ликвидирована. Ранее в единой диспетчерской службе (ЕДДС) Тулы '\n",
            "         'сообщили, что в Зареченском районе почти пять тысяч человек остались '\n",
            "         'без света из-за аварийного отключения электроэнергии. Электричество '\n",
            "         'отключилось на улицах Заварная, Карпова, Максима Горького. Без света '\n",
            "         'остались 4832 жителя, в том числе 471 ребенок.',\n",
            " 'description': 'Причиной раздавшегося звука взрыва в Туле, напугавшего '\n",
            "                'местных жителей, стал переход самолета на сверхзвуковую '\n",
            "                'скорость, об этом сообщили в ГУ МЧС по Тульской области. '\n",
            "                'Ранее ряд Telegram-каналов сообщили о звуках взрыва в '\n",
            "                'российском городе и об отключении света. Электроснабжение '\n",
            "                'восстановлено, уточнили в ведомстве.',\n",
            " 'headline': 'Жителям российского города объяснили напугавший их звук взрыва'}\n"
          ]
        }
      ]
    },
    {
      "cell_type": "code",
      "source": [
        "# Работа с json аналогична работе со словарями в Python\n",
        "# Попробуйте самостоятельно изучить структуру этого файла:\n",
        "\n",
        "# выведите несколько заголовков из headline;\n",
        "for item in data[:10]:\n",
        "  for elem in item[:10]:\n",
        "    print(elem['headline'])"
      ],
      "metadata": {
        "colab": {
          "base_uri": "https://localhost:8080/"
        },
        "id": "s8Iv8zqgcqAR",
        "outputId": "88f2f81c-195e-4668-e861-6740b66913fc"
      },
      "execution_count": 23,
      "outputs": [
        {
          "output_type": "stream",
          "name": "stdout",
          "text": [
            "Жителям российского города объяснили напугавший их звук взрыва\n",
            "В Китае назвали способ урегулировать конфликт на Украине\n",
            "В США рассказали о показанной Шойгу в Иране «странной» ракете\n",
            "Захарова высмеяла встречу Байдена с Зеленским\n",
            "Байден подтвердил скорое прибытие танков Abrams на Украину\n",
            "Суд на Украине отказался арестовать активы олигарха Коломойского\n",
            "Популярная модель попала на обложку журнала Harper's Bazaar топлес\n",
            "Байден утвердил новый пакет военной помощи Украине\n",
            "МИД Армении призвал ООН направить миссию в Карабах\n",
            "Вучич отметил развитие отношений с США и Россией\n",
            "Женщины обнаружили, что мужчины все время думают о Римской империи. Почему парни по всему миру одержимы Древним Римом?\n",
            "В Казани произошел мощный взрыв\n",
            "В Белом доме оценили готовность Конгресса продолжать помогать Украине\n",
            "США потребовали от Польши объяснить прекращение поддержки Украины\n",
            "Журова оценила заявления WADA о РУСАДА\n",
            "В Госдуме сочли невозможным удержать низкие цены на бензин\n",
            "В Венгрии заявили о ежедневном ухудшении условий для урегулирования на Украине\n",
            "Египет опроверг сообщения об отказе от пшеницы из России\n",
            "Россиян предупредили о шести неожиданных штрафах от ГИБДД\n",
            "В ЛНР рассказали о перестрелке между польскими наемниками и бойцами «Айдара»\n",
            "Побег из «Матросской Тишины», театральный грим и стрельба с двух рук: чем прославились самые известные киллеры России?\n",
            "В Белоруссии пообещали сделать все для разрешения конфликта на Украине\n",
            "Украинские солдаты пожаловались на слабую военную подготовку НАТО\n",
            "Папа Римский назвал один из факторов украинского конфликта\n",
            "Путин назвал источник власти в России\n",
            "Путин сообщил о независимой работе ЦИК\n",
            "Путин оценил избирательную систему в России\n",
            "Украинские войска 30 раз за сутки обстреляли территорию ДНР\n",
            "Сбежавшие дети проехали 320 километров на машине матери\n",
            "Названа дата выхода крупного обновления Windows\n"
          ]
        }
      ]
    },
    {
      "cell_type": "code",
      "source": [
        "# выведите количество элементов в data[0]\n",
        "print(len(data[0]))"
      ],
      "metadata": {
        "colab": {
          "base_uri": "https://localhost:8080/"
        },
        "id": "siFJr75ZdAQR",
        "outputId": "aaf99d83-1461-4c45-851d-d3fd90755ed7"
      },
      "execution_count": null,
      "outputs": [
        {
          "output_type": "stream",
          "name": "stdout",
          "text": [
            "30\n"
          ]
        }
      ]
    },
    {
      "cell_type": "markdown",
      "source": [
        "Скачайте еще один датасет https://www.kaggle.com/datasets/finalepoch/medical-ner\n",
        "\n",
        "Загрузите его в файловую систему Colab и запустите ячейки ниже, чтобы визуально изучить структуру датасета"
      ],
      "metadata": {
        "id": "UqtJXRpGkSaM"
      }
    },
    {
      "cell_type": "code",
      "source": [
        "!pip install kaggle\n"
      ],
      "metadata": {
        "colab": {
          "base_uri": "https://localhost:8080/"
        },
        "id": "BLmZ5YI6j6kx",
        "outputId": "53171bcf-66b4-45c5-cbe6-80c1915b0471"
      },
      "execution_count": null,
      "outputs": [
        {
          "output_type": "stream",
          "name": "stdout",
          "text": [
            "Requirement already satisfied: kaggle in /usr/local/lib/python3.10/dist-packages (1.6.17)\n",
            "Requirement already satisfied: six>=1.10 in /usr/local/lib/python3.10/dist-packages (from kaggle) (1.16.0)\n",
            "Requirement already satisfied: certifi>=2023.7.22 in /usr/local/lib/python3.10/dist-packages (from kaggle) (2024.8.30)\n",
            "Requirement already satisfied: python-dateutil in /usr/local/lib/python3.10/dist-packages (from kaggle) (2.8.2)\n",
            "Requirement already satisfied: requests in /usr/local/lib/python3.10/dist-packages (from kaggle) (2.32.3)\n",
            "Requirement already satisfied: tqdm in /usr/local/lib/python3.10/dist-packages (from kaggle) (4.66.6)\n",
            "Requirement already satisfied: python-slugify in /usr/local/lib/python3.10/dist-packages (from kaggle) (8.0.4)\n",
            "Requirement already satisfied: urllib3 in /usr/local/lib/python3.10/dist-packages (from kaggle) (2.2.3)\n",
            "Requirement already satisfied: bleach in /usr/local/lib/python3.10/dist-packages (from kaggle) (6.2.0)\n",
            "Requirement already satisfied: webencodings in /usr/local/lib/python3.10/dist-packages (from bleach->kaggle) (0.5.1)\n",
            "Requirement already satisfied: text-unidecode>=1.3 in /usr/local/lib/python3.10/dist-packages (from python-slugify->kaggle) (1.3)\n",
            "Requirement already satisfied: charset-normalizer<4,>=2 in /usr/local/lib/python3.10/dist-packages (from requests->kaggle) (3.4.0)\n",
            "Requirement already satisfied: idna<4,>=2.5 in /usr/local/lib/python3.10/dist-packages (from requests->kaggle) (3.10)\n"
          ]
        }
      ]
    },
    {
      "cell_type": "code",
      "source": [
        "from google.colab import drive\n",
        "drive.mount('/content/drive') # предоставляю доступ к своему диску"
      ],
      "metadata": {
        "id": "Oei9AQ-K4V9e",
        "colab": {
          "base_uri": "https://localhost:8080/"
        },
        "outputId": "6cce88e0-054c-429e-9584-0f8eca36b743"
      },
      "execution_count": null,
      "outputs": [
        {
          "output_type": "stream",
          "name": "stdout",
          "text": [
            "Drive already mounted at /content/drive; to attempt to forcibly remount, call drive.mount(\"/content/drive\", force_remount=True).\n"
          ]
        }
      ]
    },
    {
      "cell_type": "code",
      "source": [
        "!cp /content/drive/MyDrive/Collab/kaggle.json ~/.Kaggle/ # копирую kaggle.json из диска в директорию ~/.Kaggle/"
      ],
      "metadata": {
        "id": "eauf3QWM869X"
      },
      "execution_count": null,
      "outputs": []
    },
    {
      "cell_type": "code",
      "source": [
        "!chmod 600 ~/.Kaggle/kaggle.json # меняю доступ к файлу"
      ],
      "metadata": {
        "id": "kq9vAkLy9I6p"
      },
      "execution_count": null,
      "outputs": []
    },
    {
      "cell_type": "code",
      "source": [
        "! kaggle datasets download finalepoch/medical-ner # загружаю нужный датасет"
      ],
      "metadata": {
        "id": "KDLKSd8K_ny7",
        "colab": {
          "base_uri": "https://localhost:8080/"
        },
        "outputId": "baf5264a-de27-40ff-d5ce-9f5a82f73256"
      },
      "execution_count": null,
      "outputs": [
        {
          "output_type": "stream",
          "name": "stdout",
          "text": [
            "Dataset URL: https://www.kaggle.com/datasets/finalepoch/medical-ner\n",
            "License(s): unknown\n",
            "Downloading medical-ner.zip to /content\n",
            "  0% 0.00/26.2k [00:00<?, ?B/s]\n",
            "100% 26.2k/26.2k [00:00<00:00, 31.2MB/s]\n"
          ]
        }
      ]
    },
    {
      "cell_type": "code",
      "source": [
        "! unzip medical-ner.zip # делаю unzip"
      ],
      "metadata": {
        "colab": {
          "base_uri": "https://localhost:8080/"
        },
        "id": "jozKAIqhCF2t",
        "outputId": "88b29ccd-4007-4b66-d54f-8c36380feb5e"
      },
      "execution_count": null,
      "outputs": [
        {
          "output_type": "stream",
          "name": "stdout",
          "text": [
            "Archive:  medical-ner.zip\n",
            "  inflating: Corona2.json            \n"
          ]
        }
      ]
    },
    {
      "cell_type": "code",
      "source": [
        "with open(\"Corona2.json\", \"r\", encoding=\"utf8\") as f:\n",
        "   data = json.load(f)"
      ],
      "metadata": {
        "id": "HOgBZlR1CacT"
      },
      "execution_count": null,
      "outputs": []
    },
    {
      "cell_type": "code",
      "source": [
        "pprint(data['examples'][9])"
      ],
      "metadata": {
        "colab": {
          "base_uri": "https://localhost:8080/"
        },
        "id": "nsg5OBJHDHHd",
        "outputId": "862d512b-fa93-41fc-8769-09f57ef744dd"
      },
      "execution_count": null,
      "outputs": [
        {
          "output_type": "stream",
          "name": "stdout",
          "text": [
            "{'annotations': [{'correct': None,\n",
            "                  'end': 124,\n",
            "                  'example_id': '9a0b1ede-2282-4dae-b086-638e45881bf5',\n",
            "                  'human_annotations': [{'annotator_id': 1,\n",
            "                                         'name': 'Ashpat123',\n",
            "                                         'reason': 'exploration',\n",
            "                                         'tagged_token_id': '19770812-2605-424f-9bc4-2d451becd837',\n",
            "                                         'timestamp': '2020-03-18T10:17:37.752000Z'}],\n",
            "                  'id': '19770812-2605-424f-9bc4-2d451becd837',\n",
            "                  'model_annotations': [],\n",
            "                  'start': 116,\n",
            "                  'tag_id': '2340864c-0876-4ad1-8a34-600324a516d1',\n",
            "                  'tag_name': 'Pathogen',\n",
            "                  'value': 'Listeria'},\n",
            "                 {'correct': None,\n",
            "                  'end': 170,\n",
            "                  'example_id': '9a0b1ede-2282-4dae-b086-638e45881bf5',\n",
            "                  'human_annotations': [{'annotator_id': 1,\n",
            "                                         'name': 'Ashpat123',\n",
            "                                         'reason': 'exploration',\n",
            "                                         'tagged_token_id': '63a605e9-9812-498f-81a1-6f2213ba68bf',\n",
            "                                         'timestamp': '2020-03-18T10:18:12.890000Z'}],\n",
            "                  'id': '63a605e9-9812-498f-81a1-6f2213ba68bf',\n",
            "                  'model_annotations': [],\n",
            "                  'start': 155,\n",
            "                  'tag_id': '03eb3e50-d4d8-4261-a60b-fa5aee5deb4a',\n",
            "                  'tag_name': 'Pathogen',\n",
            "                  'value': 'Yersinia pestis'},\n",
            "                 {'correct': None,\n",
            "                  'end': 137,\n",
            "                  'example_id': '9a0b1ede-2282-4dae-b086-638e45881bf5',\n",
            "                  'human_annotations': [{'annotator_id': 1,\n",
            "                                         'name': 'Ashpat123',\n",
            "                                         'reason': 'exploration',\n",
            "                                         'tagged_token_id': '7e0321e2-a3c7-42ce-a4bf-6a852a03b7ac',\n",
            "                                         'timestamp': '2020-03-18T10:17:47.222000Z'}],\n",
            "                  'id': '7e0321e2-a3c7-42ce-a4bf-6a852a03b7ac',\n",
            "                  'model_annotations': [],\n",
            "                  'start': 126,\n",
            "                  'tag_id': '2340864c-0876-4ad1-8a34-600324a516d1',\n",
            "                  'tag_name': 'Pathogen',\n",
            "                  'value': 'Francisella'},\n",
            "                 {'correct': None,\n",
            "                  'end': 79,\n",
            "                  'example_id': '9a0b1ede-2282-4dae-b086-638e45881bf5',\n",
            "                  'human_annotations': [{'annotator_id': 1,\n",
            "                                         'name': 'Ashpat123',\n",
            "                                         'reason': 'exploration',\n",
            "                                         'tagged_token_id': '8d6f893d-e45c-4ad7-935d-dd688e74e4b6',\n",
            "                                         'timestamp': '2020-03-18T10:17:00.307000Z'}],\n",
            "                  'id': '8d6f893d-e45c-4ad7-935d-dd688e74e4b6',\n",
            "                  'model_annotations': [],\n",
            "                  'start': 70,\n",
            "                  'tag_id': '2340864c-0876-4ad1-8a34-600324a516d1',\n",
            "                  'tag_name': 'Pathogen',\n",
            "                  'value': 'Neisseria'},\n",
            "                 {'correct': None,\n",
            "                  'end': 149,\n",
            "                  'example_id': '9a0b1ede-2282-4dae-b086-638e45881bf5',\n",
            "                  'human_annotations': [{'annotator_id': 1,\n",
            "                                         'name': 'Ashpat123',\n",
            "                                         'reason': 'exploration',\n",
            "                                         'tagged_token_id': '97fa1d2f-5aaa-49b5-80fa-e00a17dd7e1d',\n",
            "                                         'timestamp': '2020-03-18T10:17:58.627000Z'}],\n",
            "                  'id': '97fa1d2f-5aaa-49b5-80fa-e00a17dd7e1d',\n",
            "                  'model_annotations': [],\n",
            "                  'start': 139,\n",
            "                  'tag_id': '2340864c-0876-4ad1-8a34-600324a516d1',\n",
            "                  'tag_name': 'Pathogen',\n",
            "                  'value': 'Legionella'},\n",
            "                 {'correct': None,\n",
            "                  'end': 114,\n",
            "                  'example_id': '9a0b1ede-2282-4dae-b086-638e45881bf5',\n",
            "                  'human_annotations': [{'annotator_id': 1,\n",
            "                                         'name': 'Ashpat123',\n",
            "                                         'reason': 'exploration',\n",
            "                                         'tagged_token_id': 'cb543310-f9dc-43be-a747-be4f321b8587',\n",
            "                                         'timestamp': '2020-03-18T10:17:28.742000Z'}],\n",
            "                  'id': 'cb543310-f9dc-43be-a747-be4f321b8587',\n",
            "                  'model_annotations': [],\n",
            "                  'start': 106,\n",
            "                  'tag_id': '2340864c-0876-4ad1-8a34-600324a516d1',\n",
            "                  'tag_name': 'Pathogen',\n",
            "                  'value': 'Nocardia'},\n",
            "                 {'correct': None,\n",
            "                  'end': 104,\n",
            "                  'example_id': '9a0b1ede-2282-4dae-b086-638e45881bf5',\n",
            "                  'human_annotations': [{'annotator_id': 1,\n",
            "                                         'name': 'Ashpat123',\n",
            "                                         'reason': 'exploration',\n",
            "                                         'tagged_token_id': 'd0c3dbdc-7332-4fe7-99bc-a4c558a8a5b0',\n",
            "                                         'timestamp': '2020-03-18T10:17:19.607000Z'}],\n",
            "                  'id': 'd0c3dbdc-7332-4fe7-99bc-a4c558a8a5b0',\n",
            "                  'model_annotations': [],\n",
            "                  'start': 91,\n",
            "                  'tag_id': '2340864c-0876-4ad1-8a34-600324a516d1',\n",
            "                  'tag_name': 'Pathogen',\n",
            "                  'value': 'Mycobacterium'},\n",
            "                 {'correct': None,\n",
            "                  'end': 89,\n",
            "                  'example_id': '9a0b1ede-2282-4dae-b086-638e45881bf5',\n",
            "                  'human_annotations': [{'annotator_id': 1,\n",
            "                                         'name': 'Ashpat123',\n",
            "                                         'reason': 'exploration',\n",
            "                                         'tagged_token_id': 'ea56d843-9534-4724-95f7-a62ffae8d979',\n",
            "                                         'timestamp': '2020-03-18T10:17:10.195000Z'}],\n",
            "                  'id': 'ea56d843-9534-4724-95f7-a62ffae8d979',\n",
            "                  'model_annotations': [],\n",
            "                  'start': 81,\n",
            "                  'tag_id': '2340864c-0876-4ad1-8a34-600324a516d1',\n",
            "                  'tag_name': 'Pathogen',\n",
            "                  'value': 'Brucella'},\n",
            "                 {'correct': None,\n",
            "                  'end': 68,\n",
            "                  'example_id': '9a0b1ede-2282-4dae-b086-638e45881bf5',\n",
            "                  'human_annotations': [{'annotator_id': 1,\n",
            "                                         'name': 'Ashpat123',\n",
            "                                         'reason': 'exploration',\n",
            "                                         'tagged_token_id': 'f1dd29d5-d553-410f-8758-b8e549ec8d4e',\n",
            "                                         'timestamp': '2020-03-18T10:16:51.290000Z'}],\n",
            "                  'id': 'f1dd29d5-d553-410f-8758-b8e549ec8d4e',\n",
            "                  'model_annotations': [],\n",
            "                  'start': 58,\n",
            "                  'tag_id': '2340864c-0876-4ad1-8a34-600324a516d1',\n",
            "                  'tag_name': 'Pathogen',\n",
            "                  'value': 'Salmonella'}],\n",
            " 'classifications': [],\n",
            " 'content': 'Other groups of intracellular bacterial pathogens include '\n",
            "            'Salmonella, Neisseria, Brucella, Mycobacterium, Nocardia, '\n",
            "            'Listeria, Francisella, Legionella, and Yersinia pestis. These can '\n",
            "            'exist intracellularly, but can exist outside of host cells.',\n",
            " 'id': '9a0b1ede-2282-4dae-b086-638e45881bf5',\n",
            " 'metadata': {}}\n"
          ]
        }
      ]
    },
    {
      "cell_type": "markdown",
      "source": [
        "Такие форматы хорошо подходят для решения задач с элементами извлечения информации, автоматической разметки данных"
      ],
      "metadata": {
        "id": "CxvP3FN0EJQt"
      }
    },
    {
      "cell_type": "markdown",
      "source": [
        "**И еще кое-что!**\n",
        "\n",
        "Создайте свой dict() с аналогичной структурой (тематика любая!):\n",
        "\n",
        "```\n",
        "{\n",
        "    \"firstName\": \"John\",\n",
        "    \"lastName\": \"Doe\",\n",
        "    \"skills\": [\"C++\", \"ChatGPT\", \"Data Science\"],\n",
        "    \"age\": 45,\n",
        "    \"experience\": [\n",
        "        {\n",
        "            \"job\": \"Product Manager\",\n",
        "            \"years\": 3\n",
        "        },\n",
        "        {\n",
        "            \"job\": \"ML Engineer\",\n",
        "            \"years\": 4\n",
        "        }\n",
        "    ]\n",
        "}\n",
        "```"
      ],
      "metadata": {
        "id": "-sz_Hr-TERz9"
      }
    },
    {
      "cell_type": "code",
      "source": [
        "my_dict = {\n",
        "    \"firstName\": \"Anna\",\n",
        "    \"lastName\": \"Sugian\",\n",
        "    \"skills\": [\"Python\", \"English\", \"Data Science\"],\n",
        "    \"age\": 22,\n",
        "    \"experience\": [\n",
        "        {\n",
        "            \"job\": \"English Teacher\",\n",
        "            \"years\": 5\n",
        "        },\n",
        "        {\n",
        "            \"job\": \"Product Manager\",\n",
        "            \"years\": 1\n",
        "        }\n",
        "    ]\n",
        "}\n"
      ],
      "metadata": {
        "id": "PL79PrOfDQ5Q"
      },
      "execution_count": null,
      "outputs": []
    },
    {
      "cell_type": "code",
      "source": [
        "with open(\"your_file.json\", \"w\") as write_file:\n",
        "    data = json.dump(my_dict, write_file)"
      ],
      "metadata": {
        "id": "wbZ6bukxFVJ7"
      },
      "execution_count": null,
      "outputs": []
    },
    {
      "cell_type": "markdown",
      "source": [
        "![image.png](data:image/png;base64,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)"
      ],
      "metadata": {
        "id": "Hob3fDFfGCXA"
      }
    },
    {
      "cell_type": "code",
      "source": [],
      "metadata": {
        "id": "sE4xU3EMFvbZ"
      },
      "execution_count": null,
      "outputs": []
    }
  ]
}