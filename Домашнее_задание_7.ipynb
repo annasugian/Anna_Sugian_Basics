{
  "nbformat": 4,
  "nbformat_minor": 0,
  "metadata": {
    "colab": {
      "provenance": []
    },
    "kernelspec": {
      "name": "python3",
      "display_name": "Python 3"
    },
    "language_info": {
      "name": "python"
    }
  },
  "cells": [
    {
      "cell_type": "markdown",
      "source": [
        "## TXT\n"
      ],
      "metadata": {
        "id": "2wI4q8hqXozZ"
      }
    },
    {
      "cell_type": "code",
      "execution_count": null,
      "metadata": {
        "id": "DfMGl82nXepb"
      },
      "outputs": [],
      "source": [
        "# Повторите действия:\n",
        "# 1. откройте text.txt в режиме 'w'\n",
        "# 2. запишите в него любой текст\n",
        "# 3. закройте файл\n",
        "# 4. откройте файл в файловой системе Colab\n",
        "# Напишите в комментариях, что вы заметили\n",
        "\n",
        "with open('text.txt', 'w') as f:\n",
        "  text_file = f.write('My name is Anna.')\n",
        "f.close()\n",
        "# Текст сохранился под названием text.txt. В начале текста стоит цифра 1. Все записано в одну строку."
      ]
    },
    {
      "cell_type": "code",
      "source": [
        "# Повторите действия с новым режимом:\n",
        "# 1. откройте text.txt в режиме 'a'\n",
        "# 2. запишите в него любой текст\n",
        "# 3. закройте файл\n",
        "# 4. откройте файл в файловой системе Colab\n",
        "# Напишите в комментариях, что вы заметили\n",
        "\n",
        "with open('text.txt', 'a') as f:\n",
        "  data = f.write(' I am 22 years old.')\n",
        "  f.close()\n",
        "# В режиме 'a' к тексту в файле text.txt добавился новый текст, а в режиме 'w' текст постоянно обновлялся, старый не сохранялся"
      ],
      "metadata": {
        "id": "gWIdmVklYB7R"
      },
      "execution_count": null,
      "outputs": []
    },
    {
      "cell_type": "code",
      "source": [
        "# Повторите действия с новым режимом:\n",
        "# 1. откройте text.txt в режиме 'r'\n",
        "# 2. запишем в переменную text содержимое файла с помощью функции read (см. пример в ячейках выше)\n",
        "# 3. выведем на экран содержимое переменной text\n",
        "\n",
        "with open('text.txt', 'r') as f:\n",
        "  text = f.read()\n",
        "text"
      ],
      "metadata": {
        "colab": {
          "base_uri": "https://localhost:8080/",
          "height": 36
        },
        "id": "e-hZt1QIZbc4",
        "outputId": "b814ffdf-3177-4822-cde2-67dc44d87607"
      },
      "execution_count": null,
      "outputs": [
        {
          "output_type": "execute_result",
          "data": {
            "text/plain": [
              "'My name is Anna. I am 22 years old.'"
            ],
            "application/vnd.google.colaboratory.intrinsic+json": {
              "type": "string"
            }
          },
          "metadata": {},
          "execution_count": 55
        }
      ]
    },
    {
      "cell_type": "code",
      "source": [
        "# Попробуйте создать файл с другим именем с помощью open и режима 'r'\n",
        "# Вы должны увидеть ошибку FileNotFoundError\n",
        "# Напишите в комментариях, когда лучше использовать 'w', когда 'a', когда 'r'\n",
        "\n",
        "with open('newfile.txt', 'r') as f:\n",
        "  file_ = f.read()\n",
        "file_\n",
        "\n",
        "'''\n",
        "Режимы лучше использовать так:\n",
        "'w' - когда нам надо создать новый файл и записать в него содержимое\n",
        "'a' - когда нам надо дополнить содержимое уже существующего файла\n",
        "'r' - когда нам надо прочитать уже существующий файл\n",
        "'''"
      ],
      "metadata": {
        "colab": {
          "base_uri": "https://localhost:8080/",
          "height": 211
        },
        "id": "d285QXlnalva",
        "outputId": "418b0c4b-6790-43fd-ca98-0c3578990d2e"
      },
      "execution_count": null,
      "outputs": [
        {
          "output_type": "error",
          "ename": "FileNotFoundError",
          "evalue": "[Errno 2] No such file or directory: 'newfile.txt'",
          "traceback": [
            "\u001b[0;31m---------------------------------------------------------------------------\u001b[0m",
            "\u001b[0;31mFileNotFoundError\u001b[0m                         Traceback (most recent call last)",
            "\u001b[0;32m<ipython-input-56-f5df3ed51591>\u001b[0m in \u001b[0;36m<cell line: 5>\u001b[0;34m()\u001b[0m\n\u001b[1;32m      3\u001b[0m \u001b[0;31m# Напишите в комментариях, когда лучше использовать 'w', когда 'a', когда 'r'\u001b[0m\u001b[0;34m\u001b[0m\u001b[0;34m\u001b[0m\u001b[0m\n\u001b[1;32m      4\u001b[0m \u001b[0;34m\u001b[0m\u001b[0m\n\u001b[0;32m----> 5\u001b[0;31m \u001b[0;32mwith\u001b[0m \u001b[0mopen\u001b[0m\u001b[0;34m(\u001b[0m\u001b[0;34m'newfile.txt'\u001b[0m\u001b[0;34m,\u001b[0m \u001b[0;34m'r'\u001b[0m\u001b[0;34m)\u001b[0m \u001b[0;32mas\u001b[0m \u001b[0mf\u001b[0m\u001b[0;34m:\u001b[0m\u001b[0;34m\u001b[0m\u001b[0;34m\u001b[0m\u001b[0m\n\u001b[0m\u001b[1;32m      6\u001b[0m   \u001b[0mfile_\u001b[0m \u001b[0;34m=\u001b[0m \u001b[0mf\u001b[0m\u001b[0;34m.\u001b[0m\u001b[0mread\u001b[0m\u001b[0;34m(\u001b[0m\u001b[0;34m)\u001b[0m\u001b[0;34m\u001b[0m\u001b[0;34m\u001b[0m\u001b[0m\n\u001b[1;32m      7\u001b[0m \u001b[0mfile_\u001b[0m\u001b[0;34m\u001b[0m\u001b[0;34m\u001b[0m\u001b[0m\n",
            "\u001b[0;31mFileNotFoundError\u001b[0m: [Errno 2] No such file or directory: 'newfile.txt'"
          ]
        }
      ]
    },
    {
      "cell_type": "code",
      "source": [
        "# В этой ячейке самостоятельно протестируйте режимы r+, w+, a+\n",
        "# Опишите в комментариях, когда лучше использовать 'r+', 'w+' или 'a+'\n",
        "\n",
        "f = open('text_file.txt', 'w+')\n",
        "f.write('This is a sample text.')\n",
        "f.seek(0)\n",
        "print(f\"Текст в новом файле text_file.txt:\\n {f.read()}\")\n",
        "\n",
        "print(f'Изначальный текст файла text.txt:\\n {text}')\n",
        "f0 = open('text.txt', 'w+')\n",
        "f0.write('New Text')\n",
        "f0.seek(0)\n",
        "print(f\"text.txt после режима 'w+':\\n {f0.read()}\")\n",
        "# С помощью режима 'w+' можно создать новый файл и записать в него текст. Если файл существует, он будет очищен перед записью. Также можно прочитать содержимое.\n",
        "\n",
        "f1 = open('textt.txt', 'a+')\n",
        "f1.write('New text for a new file.')\n",
        "f1.seek(0)\n",
        "print(f\"Новый файл text2.txt с записью:\\n {f1.read()}\")\n",
        "\n",
        "f2 = open('text_file.txt', 'a+')\n",
        "f2.write(' This is another sample text.')\n",
        "f2.seek(0)\n",
        "print(f\"Дополненный файл text_file.txt:\\n {f2.read()}\")\n",
        "# Режим 'a+' может создавать файлы, делать запись. Если файл существует, он не очистит его, а добавит текст. Также можно прочитать файл.\n",
        "\n",
        "f3 = open('text_file.txt', 'r+')\n",
        "f3.write(\"I am writing with 'r'\")\n",
        "f3.seek(0)\n",
        "print(f\"Дополненный файл text_file.txt:\\n {f3.read()}\")\n",
        "# 'r+' открывает файл на чтение и запись, в отличие от других режимов, файл не нельзя создать.Дополненная запись будет в начале файла, без очистки.\n"
      ],
      "metadata": {
        "colab": {
          "base_uri": "https://localhost:8080/"
        },
        "id": "slohhiANbGtP",
        "outputId": "9a4a6e54-2cde-4a90-cbfd-3605c90128e4"
      },
      "execution_count": null,
      "outputs": [
        {
          "output_type": "stream",
          "name": "stdout",
          "text": [
            "Текст в новом файле text_file.txt:\n",
            " This is a sample text.\n",
            "Изначальный текст файла text.txt:\n",
            " My name is Anna. I am 22 years old.\n",
            "text.txt после режима 'w+':\n",
            " New Text\n",
            "Новый файл text2.txt с записью:\n",
            " New text for a new file.\n",
            "Дополненный файл text_file.txt:\n",
            " This is a sample text. This is another sample text.\n",
            "Дополненный файл text_file.txt:\n",
            " I am writing with 'r'. This is another sample text.\n"
          ]
        }
      ]
    },
    {
      "cell_type": "markdown",
      "source": [
        "Метод `writelines` позволяет записывать списки"
      ],
      "metadata": {
        "id": "s_9WZsuwoMvK"
      }
    },
    {
      "cell_type": "code",
      "source": [
        "# Обратите внимание на использование \\ - это escape symbol, или экранирование\n",
        "# Мы используем экранирование для снятия неоднозначности\n",
        "# В программировании тоже есть омонимия!\n",
        "# Например, когда служебный символ '' или \\n совпадает с информацией в тексте\n",
        "# Бэкслеш указывает на то, что символ не является служебным, это часть текста\n",
        "\n",
        "sample_list = [\n",
        "    'This another sentence.',\n",
        "    'This is one more sentence.',\n",
        "    'Wow, here\\'s one more sentence!'\n",
        "]\n",
        "\n",
        "# Откройте новый файл в режиме 'w+'\n",
        "# С помощью метода write попробуйте записать список в файл\n",
        "# Что произошло?\n",
        "\n",
        "ff = open('new_text.txt', 'w+')\n",
        "ff.write(sample_list)\n",
        "ff.seek(0)\n",
        "print(ff.read())\n",
        "# Метод write() не принимает в качестве аргумента список, только строку"
      ],
      "metadata": {
        "colab": {
          "base_uri": "https://localhost:8080/",
          "height": 211
        },
        "id": "71YRgEJpcO6d",
        "outputId": "9489ebf9-4909-454b-ca8c-754dc8411510"
      },
      "execution_count": null,
      "outputs": [
        {
          "output_type": "error",
          "ename": "TypeError",
          "evalue": "write() argument must be str, not list",
          "traceback": [
            "\u001b[0;31m---------------------------------------------------------------------------\u001b[0m",
            "\u001b[0;31mTypeError\u001b[0m                                 Traceback (most recent call last)",
            "\u001b[0;32m<ipython-input-58-d805aaf2e3c4>\u001b[0m in \u001b[0;36m<cell line: 18>\u001b[0;34m()\u001b[0m\n\u001b[1;32m     16\u001b[0m \u001b[0;34m\u001b[0m\u001b[0m\n\u001b[1;32m     17\u001b[0m \u001b[0mff\u001b[0m \u001b[0;34m=\u001b[0m \u001b[0mopen\u001b[0m\u001b[0;34m(\u001b[0m\u001b[0;34m'new_text.txt'\u001b[0m\u001b[0;34m,\u001b[0m \u001b[0;34m'w+'\u001b[0m\u001b[0;34m)\u001b[0m\u001b[0;34m\u001b[0m\u001b[0;34m\u001b[0m\u001b[0m\n\u001b[0;32m---> 18\u001b[0;31m \u001b[0mff\u001b[0m\u001b[0;34m.\u001b[0m\u001b[0mwrite\u001b[0m\u001b[0;34m(\u001b[0m\u001b[0msample_list\u001b[0m\u001b[0;34m)\u001b[0m\u001b[0;34m\u001b[0m\u001b[0;34m\u001b[0m\u001b[0m\n\u001b[0m\u001b[1;32m     19\u001b[0m \u001b[0mff\u001b[0m\u001b[0;34m.\u001b[0m\u001b[0mseek\u001b[0m\u001b[0;34m(\u001b[0m\u001b[0;36m0\u001b[0m\u001b[0;34m)\u001b[0m\u001b[0;34m\u001b[0m\u001b[0;34m\u001b[0m\u001b[0m\n\u001b[1;32m     20\u001b[0m \u001b[0mprint\u001b[0m\u001b[0;34m(\u001b[0m\u001b[0mff\u001b[0m\u001b[0;34m.\u001b[0m\u001b[0mread\u001b[0m\u001b[0;34m(\u001b[0m\u001b[0;34m)\u001b[0m\u001b[0;34m)\u001b[0m\u001b[0;34m\u001b[0m\u001b[0;34m\u001b[0m\u001b[0m\n",
            "\u001b[0;31mTypeError\u001b[0m: write() argument must be str, not list"
          ]
        }
      ]
    },
    {
      "cell_type": "code",
      "source": [
        "# Замените write на writelines, чтобы записать список\n",
        "# Закройте файл\n",
        "# Что вы заметили?\n",
        "\n",
        "ff = open('new_text.txt', 'w+')\n",
        "ff.writelines(sample_list)\n",
        "ff.seek(0)\n",
        "print(ff.read())\n",
        "# Все записалось в одну строку"
      ],
      "metadata": {
        "colab": {
          "base_uri": "https://localhost:8080/"
        },
        "id": "Il7ydiijou1w",
        "outputId": "d37bed26-8871-410c-b584-a612bc9e8909"
      },
      "execution_count": null,
      "outputs": [
        {
          "output_type": "stream",
          "name": "stdout",
          "text": [
            "This another sentence.This is one more sentence.Wow, here's one more sentence!\n"
          ]
        }
      ]
    },
    {
      "cell_type": "code",
      "source": [
        "# Измените ваш код с writelines так,\n",
        "# чтобы получилась структура, как на скриншоте ниже\n",
        "with open('new_text.txt', 'w+') as f:\n",
        "  f.writelines(f\"{i}\\n\" for i in sample_list)\n",
        "  f.close()\n"
      ],
      "metadata": {
        "id": "33VoVccjpNOH"
      },
      "execution_count": null,
      "outputs": []
    },
    {
      "cell_type": "markdown",
      "source": [
        "![Снимок экрана 2024-11-30 140422.png](data:image/png;base64,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)"
      ],
      "metadata": {
        "id": "vFRaAzqOvgM9"
      }
    },
    {
      "cell_type": "code",
      "source": [
        "# Откройте ваш файл и выведите на экран результат\n",
        "# Используйте метод readlines\n",
        "\n",
        "with open('new_text.txt', 'r') as f:\n",
        "  print(f.readlines())"
      ],
      "metadata": {
        "colab": {
          "base_uri": "https://localhost:8080/"
        },
        "id": "Dt-g4PxhptG3",
        "outputId": "0668ca0e-8d5d-41b9-aa5f-6f29ee6e252b"
      },
      "execution_count": null,
      "outputs": [
        {
          "output_type": "stream",
          "name": "stdout",
          "text": [
            "['This another sentence.\\n', 'This is one more sentence.\\n', \"Wow, here's one more sentence!\\n\"]\n"
          ]
        }
      ]
    },
    {
      "cell_type": "markdown",
      "source": [
        "**`with` vs `open`+`close`**\n",
        "\n",
        "`with` позволяет работать с файлами, не закрывая их\n",
        "\n",
        "Обработка происходит внутри конструкции `with` (как внутри цикла `for`), вне которой файл не существует\n",
        "\n",
        "**Когда использовать `open` и `close`?**\n",
        "\n",
        "При работе с большими данными, когда требуется построчная обработка.\n",
        "\n",
        "**Когда использовать `with`?**\n",
        "\n",
        "У нас небольшой файл, который нужен нам целиком."
      ],
      "metadata": {
        "id": "NyZaauwEvVnh"
      }
    },
    {
      "cell_type": "code",
      "source": [
        "# Загрузим список стоп-слов для английского из GitHub\n",
        "# Сохраним список в stopwords.txt\n",
        "\n",
        "!wget https://gist.githubusercontent.com/sebleier/554280/raw/7e0e4a1ce04c2bb7bd41089c9821dbcf6d0c786c/NLTK\\'s%2520list%2520of%2520english%2520stopwords -O stopwords.txt"
      ],
      "metadata": {
        "colab": {
          "base_uri": "https://localhost:8080/"
        },
        "id": "ztFCw5aFvKt2",
        "outputId": "ca9e8907-3511-4ffb-eeda-dcc9b7aca4d2"
      },
      "execution_count": null,
      "outputs": [
        {
          "output_type": "stream",
          "name": "stdout",
          "text": [
            "--2024-11-30 11:08:28--  https://gist.githubusercontent.com/sebleier/554280/raw/7e0e4a1ce04c2bb7bd41089c9821dbcf6d0c786c/NLTK's%2520list%2520of%2520english%2520stopwords\n",
            "Resolving gist.githubusercontent.com (gist.githubusercontent.com)... 185.199.108.133, 185.199.109.133, 185.199.110.133, ...\n",
            "Connecting to gist.githubusercontent.com (gist.githubusercontent.com)|185.199.108.133|:443... connected.\n",
            "HTTP request sent, awaiting response... 200 OK\n",
            "Length: 622 [text/plain]\n",
            "Saving to: ‘stopwords.txt’\n",
            "\n",
            "\rstopwords.txt         0%[                    ]       0  --.-KB/s               \rstopwords.txt       100%[===================>]     622  --.-KB/s    in 0s      \n",
            "\n",
            "2024-11-30 11:08:28 (40.7 MB/s) - ‘stopwords.txt’ saved [622/622]\n",
            "\n"
          ]
        }
      ]
    },
    {
      "cell_type": "code",
      "source": [
        "# Допустим, нам нужно посчитать количество стоп-слов в списке\n",
        "stopwords = open('stopwords.txt', 'r') # открываем файл\n",
        "\n",
        "count = 0 # создаем счетчик\n",
        "\n",
        "while True: # цикл While\n",
        "\n",
        "  count += 1 # считаем порядковый номер слова\n",
        "\n",
        "  line = stopwords.readline() # выводим одну строку с readline (а не readlines - она выведет все)\n",
        "\n",
        "  if not line: # цикл заканчивается там, где заканчиваются строки\n",
        "    break\n",
        "\n",
        "  print(f\"Word number {count}: {line.strip()}\") # выводим номер слова и само слово\n",
        "stopwords.close() # закрываем файл"
      ],
      "metadata": {
        "colab": {
          "base_uri": "https://localhost:8080/"
        },
        "id": "QXQ2i-wcwZzi",
        "outputId": "c08d4956-8f51-43da-b46a-1ec5784ae3f5"
      },
      "execution_count": null,
      "outputs": [
        {
          "output_type": "stream",
          "name": "stdout",
          "text": [
            "Word number 1: i\n",
            "Word number 2: me\n",
            "Word number 3: my\n",
            "Word number 4: myself\n",
            "Word number 5: we\n",
            "Word number 6: our\n",
            "Word number 7: ours\n",
            "Word number 8: ourselves\n",
            "Word number 9: you\n",
            "Word number 10: your\n",
            "Word number 11: yours\n",
            "Word number 12: yourself\n",
            "Word number 13: yourselves\n",
            "Word number 14: he\n",
            "Word number 15: him\n",
            "Word number 16: his\n",
            "Word number 17: himself\n",
            "Word number 18: she\n",
            "Word number 19: her\n",
            "Word number 20: hers\n",
            "Word number 21: herself\n",
            "Word number 22: it\n",
            "Word number 23: its\n",
            "Word number 24: itself\n",
            "Word number 25: they\n",
            "Word number 26: them\n",
            "Word number 27: their\n",
            "Word number 28: theirs\n",
            "Word number 29: themselves\n",
            "Word number 30: what\n",
            "Word number 31: which\n",
            "Word number 32: who\n",
            "Word number 33: whom\n",
            "Word number 34: this\n",
            "Word number 35: that\n",
            "Word number 36: these\n",
            "Word number 37: those\n",
            "Word number 38: am\n",
            "Word number 39: is\n",
            "Word number 40: are\n",
            "Word number 41: was\n",
            "Word number 42: were\n",
            "Word number 43: be\n",
            "Word number 44: been\n",
            "Word number 45: being\n",
            "Word number 46: have\n",
            "Word number 47: has\n",
            "Word number 48: had\n",
            "Word number 49: having\n",
            "Word number 50: do\n",
            "Word number 51: does\n",
            "Word number 52: did\n",
            "Word number 53: doing\n",
            "Word number 54: a\n",
            "Word number 55: an\n",
            "Word number 56: the\n",
            "Word number 57: and\n",
            "Word number 58: but\n",
            "Word number 59: if\n",
            "Word number 60: or\n",
            "Word number 61: because\n",
            "Word number 62: as\n",
            "Word number 63: until\n",
            "Word number 64: while\n",
            "Word number 65: of\n",
            "Word number 66: at\n",
            "Word number 67: by\n",
            "Word number 68: for\n",
            "Word number 69: with\n",
            "Word number 70: about\n",
            "Word number 71: against\n",
            "Word number 72: between\n",
            "Word number 73: into\n",
            "Word number 74: through\n",
            "Word number 75: during\n",
            "Word number 76: before\n",
            "Word number 77: after\n",
            "Word number 78: above\n",
            "Word number 79: below\n",
            "Word number 80: to\n",
            "Word number 81: from\n",
            "Word number 82: up\n",
            "Word number 83: down\n",
            "Word number 84: in\n",
            "Word number 85: out\n",
            "Word number 86: on\n",
            "Word number 87: off\n",
            "Word number 88: over\n",
            "Word number 89: under\n",
            "Word number 90: again\n",
            "Word number 91: further\n",
            "Word number 92: then\n",
            "Word number 93: once\n",
            "Word number 94: here\n",
            "Word number 95: there\n",
            "Word number 96: when\n",
            "Word number 97: where\n",
            "Word number 98: why\n",
            "Word number 99: how\n",
            "Word number 100: all\n",
            "Word number 101: any\n",
            "Word number 102: both\n",
            "Word number 103: each\n",
            "Word number 104: few\n",
            "Word number 105: more\n",
            "Word number 106: most\n",
            "Word number 107: other\n",
            "Word number 108: some\n",
            "Word number 109: such\n",
            "Word number 110: no\n",
            "Word number 111: nor\n",
            "Word number 112: not\n",
            "Word number 113: only\n",
            "Word number 114: own\n",
            "Word number 115: same\n",
            "Word number 116: so\n",
            "Word number 117: than\n",
            "Word number 118: too\n",
            "Word number 119: very\n",
            "Word number 120: s\n",
            "Word number 121: t\n",
            "Word number 122: can\n",
            "Word number 123: will\n",
            "Word number 124: just\n",
            "Word number 125: don\n",
            "Word number 126: should\n",
            "Word number 127: now\n"
          ]
        }
      ]
    },
    {
      "cell_type": "markdown",
      "source": [
        "**Рефлексия**: для каких задач подойдет такой формат обработки?\n",
        "\n",
        "**Подсказка**: недавно я выгружала википедию для создания нового датасета..\n",
        "\n",
        "Напишите ответ здесь:\n",
        "Возможно такой формат обработки подойдет для решения проблем с непараллельными строками, например, когда нам надо выравнить токен (слово) и его ner label. Или так мы можем узнать на каких строчках у нас есть пропуски, чтобы либо дополнить их, либо удалить."
      ],
      "metadata": {
        "id": "-hmEs0Dnxjk5"
      }
    },
    {
      "cell_type": "code",
      "source": [
        "# Стоп-слова обычно нужны нам целиком, поэтому на практике мы предпочитаем with\n",
        "# Изначальный код:\n",
        "'''\n",
        "with open('stopwords.txt', 'r') as f:\n",
        "  stopwords = f.readlines()\n",
        "'''\n",
        "# Измененный код\n",
        "with open('stopwords.txt', 'r') as f:\n",
        "   stopwords = [word.rstrip() for word in f.readlines()]\n",
        "\n",
        "stopwords\n",
        "\n"
      ],
      "metadata": {
        "colab": {
          "base_uri": "https://localhost:8080/"
        },
        "id": "Uai7jWyOw8rC",
        "outputId": "3c195102-0c3c-44ef-a67a-60ce081ba446"
      },
      "execution_count": null,
      "outputs": [
        {
          "output_type": "execute_result",
          "data": {
            "text/plain": [
              "['i',\n",
              " 'me',\n",
              " 'my',\n",
              " 'myself',\n",
              " 'we',\n",
              " 'our',\n",
              " 'ours',\n",
              " 'ourselves',\n",
              " 'you',\n",
              " 'your',\n",
              " 'yours',\n",
              " 'yourself',\n",
              " 'yourselves',\n",
              " 'he',\n",
              " 'him',\n",
              " 'his',\n",
              " 'himself',\n",
              " 'she',\n",
              " 'her',\n",
              " 'hers',\n",
              " 'herself',\n",
              " 'it',\n",
              " 'its',\n",
              " 'itself',\n",
              " 'they',\n",
              " 'them',\n",
              " 'their',\n",
              " 'theirs',\n",
              " 'themselves',\n",
              " 'what',\n",
              " 'which',\n",
              " 'who',\n",
              " 'whom',\n",
              " 'this',\n",
              " 'that',\n",
              " 'these',\n",
              " 'those',\n",
              " 'am',\n",
              " 'is',\n",
              " 'are',\n",
              " 'was',\n",
              " 'were',\n",
              " 'be',\n",
              " 'been',\n",
              " 'being',\n",
              " 'have',\n",
              " 'has',\n",
              " 'had',\n",
              " 'having',\n",
              " 'do',\n",
              " 'does',\n",
              " 'did',\n",
              " 'doing',\n",
              " 'a',\n",
              " 'an',\n",
              " 'the',\n",
              " 'and',\n",
              " 'but',\n",
              " 'if',\n",
              " 'or',\n",
              " 'because',\n",
              " 'as',\n",
              " 'until',\n",
              " 'while',\n",
              " 'of',\n",
              " 'at',\n",
              " 'by',\n",
              " 'for',\n",
              " 'with',\n",
              " 'about',\n",
              " 'against',\n",
              " 'between',\n",
              " 'into',\n",
              " 'through',\n",
              " 'during',\n",
              " 'before',\n",
              " 'after',\n",
              " 'above',\n",
              " 'below',\n",
              " 'to',\n",
              " 'from',\n",
              " 'up',\n",
              " 'down',\n",
              " 'in',\n",
              " 'out',\n",
              " 'on',\n",
              " 'off',\n",
              " 'over',\n",
              " 'under',\n",
              " 'again',\n",
              " 'further',\n",
              " 'then',\n",
              " 'once',\n",
              " 'here',\n",
              " 'there',\n",
              " 'when',\n",
              " 'where',\n",
              " 'why',\n",
              " 'how',\n",
              " 'all',\n",
              " 'any',\n",
              " 'both',\n",
              " 'each',\n",
              " 'few',\n",
              " 'more',\n",
              " 'most',\n",
              " 'other',\n",
              " 'some',\n",
              " 'such',\n",
              " 'no',\n",
              " 'nor',\n",
              " 'not',\n",
              " 'only',\n",
              " 'own',\n",
              " 'same',\n",
              " 'so',\n",
              " 'than',\n",
              " 'too',\n",
              " 'very',\n",
              " 's',\n",
              " 't',\n",
              " 'can',\n",
              " 'will',\n",
              " 'just',\n",
              " 'don',\n",
              " 'should',\n",
              " 'now']"
            ]
          },
          "metadata": {},
          "execution_count": 76
        }
      ]
    },
    {
      "cell_type": "markdown",
      "source": [
        "## CSV"
      ],
      "metadata": {
        "id": "7VyYYlQzYYkO"
      }
    },
    {
      "cell_type": "markdown",
      "source": [
        "При работе с табличными данными мы предпочитаем использовать библиотеку `pandas`\n",
        "\n",
        "Начало работы: импорт модуля `import pandas as pd`\n",
        "\n",
        "Почему pd? По договоренности!\n",
        "\n",
        "Это не влияет на работу модуля, но принято загружать библиотеку именно так, но именно с таким сокращением pd вы встретитесь в любой части официальной документации Pandas."
      ],
      "metadata": {
        "id": "l8YciQC7YnNS"
      }
    },
    {
      "cell_type": "code",
      "source": [
        "import pandas as pd"
      ],
      "metadata": {
        "id": "LkG6suspYUw8"
      },
      "execution_count": null,
      "outputs": []
    },
    {
      "cell_type": "markdown",
      "source": [
        "Табличные данные удобно хранить в формате csv (comma-separated values)\n",
        "\n",
        "Для чтения таких файлов есть функция read_csv\n",
        "\n",
        "Знаете ли вы преимущества csv перед другими форматами? Напишите здесь:\n",
        "CSV-файлы довольно простые, то есть с ними легко работать. Чтобы с ними работать достаточно обычного текстового редактора."
      ],
      "metadata": {
        "id": "RbhUQG8UYoLU"
      }
    },
    {
      "cell_type": "code",
      "source": [
        "# Загрузим датасет про Титаник\n",
        "\n",
        "!wget https://raw.githubusercontent.com/datasciencedojo/datasets/master/titanic.csv"
      ],
      "metadata": {
        "colab": {
          "base_uri": "https://localhost:8080/"
        },
        "id": "Lrtdo2hdYf9G",
        "outputId": "6e77acbc-c4f7-4c29-ecf9-9482b5c069d5"
      },
      "execution_count": null,
      "outputs": [
        {
          "output_type": "stream",
          "name": "stdout",
          "text": [
            "--2024-12-01 08:44:54--  https://raw.githubusercontent.com/datasciencedojo/datasets/master/titanic.csv\n",
            "Resolving raw.githubusercontent.com (raw.githubusercontent.com)... 185.199.111.133, 185.199.110.133, 185.199.109.133, ...\n",
            "Connecting to raw.githubusercontent.com (raw.githubusercontent.com)|185.199.111.133|:443... connected.\n",
            "HTTP request sent, awaiting response... 200 OK\n",
            "Length: 60302 (59K) [text/plain]\n",
            "Saving to: ‘titanic.csv’\n",
            "\n",
            "\rtitanic.csv           0%[                    ]       0  --.-KB/s               \rtitanic.csv         100%[===================>]  58.89K  --.-KB/s    in 0.002s  \n",
            "\n",
            "2024-12-01 08:44:54 (36.1 MB/s) - ‘titanic.csv’ saved [60302/60302]\n",
            "\n"
          ]
        }
      ]
    },
    {
      "cell_type": "code",
      "source": [
        "# Читаем датасет\n",
        "titanic = pd.read_csv(\"titanic.csv\")\n",
        "\n",
        "# Выводим первые 3 строки\n",
        "titanic.head(3)"
      ],
      "metadata": {
        "colab": {
          "base_uri": "https://localhost:8080/",
          "height": 319
        },
        "id": "p0Fxj_OWZRGP",
        "outputId": "52710867-a39d-49c9-e935-4baa9fa35ff8"
      },
      "execution_count": null,
      "outputs": [
        {
          "output_type": "execute_result",
          "data": {
            "text/plain": [
              "   PassengerId  Survived  Pclass  \\\n",
              "0            1         0       3   \n",
              "1            2         1       1   \n",
              "2            3         1       3   \n",
              "\n",
              "                                                Name     Sex   Age  SibSp  \\\n",
              "0                            Braund, Mr. Owen Harris    male  22.0      1   \n",
              "1  Cumings, Mrs. John Bradley (Florence Briggs Th...  female  38.0      1   \n",
              "2                             Heikkinen, Miss. Laina  female  26.0      0   \n",
              "\n",
              "   Parch            Ticket     Fare Cabin Embarked  \n",
              "0      0         A/5 21171   7.2500   NaN        S  \n",
              "1      0          PC 17599  71.2833   C85        C  \n",
              "2      0  STON/O2. 3101282   7.9250   NaN        S  "
            ],
            "text/html": [
              "\n",
              "  <div id=\"df-ab353699-3b6a-4748-a89d-e11393a872da\" class=\"colab-df-container\">\n",
              "    <div>\n",
              "<style scoped>\n",
              "    .dataframe tbody tr th:only-of-type {\n",
              "        vertical-align: middle;\n",
              "    }\n",
              "\n",
              "    .dataframe tbody tr th {\n",
              "        vertical-align: top;\n",
              "    }\n",
              "\n",
              "    .dataframe thead th {\n",
              "        text-align: right;\n",
              "    }\n",
              "</style>\n",
              "<table border=\"1\" class=\"dataframe\">\n",
              "  <thead>\n",
              "    <tr style=\"text-align: right;\">\n",
              "      <th></th>\n",
              "      <th>PassengerId</th>\n",
              "      <th>Survived</th>\n",
              "      <th>Pclass</th>\n",
              "      <th>Name</th>\n",
              "      <th>Sex</th>\n",
              "      <th>Age</th>\n",
              "      <th>SibSp</th>\n",
              "      <th>Parch</th>\n",
              "      <th>Ticket</th>\n",
              "      <th>Fare</th>\n",
              "      <th>Cabin</th>\n",
              "      <th>Embarked</th>\n",
              "    </tr>\n",
              "  </thead>\n",
              "  <tbody>\n",
              "    <tr>\n",
              "      <th>0</th>\n",
              "      <td>1</td>\n",
              "      <td>0</td>\n",
              "      <td>3</td>\n",
              "      <td>Braund, Mr. Owen Harris</td>\n",
              "      <td>male</td>\n",
              "      <td>22.0</td>\n",
              "      <td>1</td>\n",
              "      <td>0</td>\n",
              "      <td>A/5 21171</td>\n",
              "      <td>7.2500</td>\n",
              "      <td>NaN</td>\n",
              "      <td>S</td>\n",
              "    </tr>\n",
              "    <tr>\n",
              "      <th>1</th>\n",
              "      <td>2</td>\n",
              "      <td>1</td>\n",
              "      <td>1</td>\n",
              "      <td>Cumings, Mrs. John Bradley (Florence Briggs Th...</td>\n",
              "      <td>female</td>\n",
              "      <td>38.0</td>\n",
              "      <td>1</td>\n",
              "      <td>0</td>\n",
              "      <td>PC 17599</td>\n",
              "      <td>71.2833</td>\n",
              "      <td>C85</td>\n",
              "      <td>C</td>\n",
              "    </tr>\n",
              "    <tr>\n",
              "      <th>2</th>\n",
              "      <td>3</td>\n",
              "      <td>1</td>\n",
              "      <td>3</td>\n",
              "      <td>Heikkinen, Miss. Laina</td>\n",
              "      <td>female</td>\n",
              "      <td>26.0</td>\n",
              "      <td>0</td>\n",
              "      <td>0</td>\n",
              "      <td>STON/O2. 3101282</td>\n",
              "      <td>7.9250</td>\n",
              "      <td>NaN</td>\n",
              "      <td>S</td>\n",
              "    </tr>\n",
              "  </tbody>\n",
              "</table>\n",
              "</div>\n",
              "    <div class=\"colab-df-buttons\">\n",
              "\n",
              "  <div class=\"colab-df-container\">\n",
              "    <button class=\"colab-df-convert\" onclick=\"convertToInteractive('df-ab353699-3b6a-4748-a89d-e11393a872da')\"\n",
              "            title=\"Convert this dataframe to an interactive table.\"\n",
              "            style=\"display:none;\">\n",
              "\n",
              "  <svg xmlns=\"http://www.w3.org/2000/svg\" height=\"24px\" viewBox=\"0 -960 960 960\">\n",
              "    <path d=\"M120-120v-720h720v720H120Zm60-500h600v-160H180v160Zm220 220h160v-160H400v160Zm0 220h160v-160H400v160ZM180-400h160v-160H180v160Zm440 0h160v-160H620v160ZM180-180h160v-160H180v160Zm440 0h160v-160H620v160Z\"/>\n",
              "  </svg>\n",
              "    </button>\n",
              "\n",
              "  <style>\n",
              "    .colab-df-container {\n",
              "      display:flex;\n",
              "      gap: 12px;\n",
              "    }\n",
              "\n",
              "    .colab-df-convert {\n",
              "      background-color: #E8F0FE;\n",
              "      border: none;\n",
              "      border-radius: 50%;\n",
              "      cursor: pointer;\n",
              "      display: none;\n",
              "      fill: #1967D2;\n",
              "      height: 32px;\n",
              "      padding: 0 0 0 0;\n",
              "      width: 32px;\n",
              "    }\n",
              "\n",
              "    .colab-df-convert:hover {\n",
              "      background-color: #E2EBFA;\n",
              "      box-shadow: 0px 1px 2px rgba(60, 64, 67, 0.3), 0px 1px 3px 1px rgba(60, 64, 67, 0.15);\n",
              "      fill: #174EA6;\n",
              "    }\n",
              "\n",
              "    .colab-df-buttons div {\n",
              "      margin-bottom: 4px;\n",
              "    }\n",
              "\n",
              "    [theme=dark] .colab-df-convert {\n",
              "      background-color: #3B4455;\n",
              "      fill: #D2E3FC;\n",
              "    }\n",
              "\n",
              "    [theme=dark] .colab-df-convert:hover {\n",
              "      background-color: #434B5C;\n",
              "      box-shadow: 0px 1px 3px 1px rgba(0, 0, 0, 0.15);\n",
              "      filter: drop-shadow(0px 1px 2px rgba(0, 0, 0, 0.3));\n",
              "      fill: #FFFFFF;\n",
              "    }\n",
              "  </style>\n",
              "\n",
              "    <script>\n",
              "      const buttonEl =\n",
              "        document.querySelector('#df-ab353699-3b6a-4748-a89d-e11393a872da button.colab-df-convert');\n",
              "      buttonEl.style.display =\n",
              "        google.colab.kernel.accessAllowed ? 'block' : 'none';\n",
              "\n",
              "      async function convertToInteractive(key) {\n",
              "        const element = document.querySelector('#df-ab353699-3b6a-4748-a89d-e11393a872da');\n",
              "        const dataTable =\n",
              "          await google.colab.kernel.invokeFunction('convertToInteractive',\n",
              "                                                    [key], {});\n",
              "        if (!dataTable) return;\n",
              "\n",
              "        const docLinkHtml = 'Like what you see? Visit the ' +\n",
              "          '<a target=\"_blank\" href=https://colab.research.google.com/notebooks/data_table.ipynb>data table notebook</a>'\n",
              "          + ' to learn more about interactive tables.';\n",
              "        element.innerHTML = '';\n",
              "        dataTable['output_type'] = 'display_data';\n",
              "        await google.colab.output.renderOutput(dataTable, element);\n",
              "        const docLink = document.createElement('div');\n",
              "        docLink.innerHTML = docLinkHtml;\n",
              "        element.appendChild(docLink);\n",
              "      }\n",
              "    </script>\n",
              "  </div>\n",
              "\n",
              "\n",
              "<div id=\"df-8fdcd669-a66d-497b-ac5f-c16d750b26ae\">\n",
              "  <button class=\"colab-df-quickchart\" onclick=\"quickchart('df-8fdcd669-a66d-497b-ac5f-c16d750b26ae')\"\n",
              "            title=\"Suggest charts\"\n",
              "            style=\"display:none;\">\n",
              "\n",
              "<svg xmlns=\"http://www.w3.org/2000/svg\" height=\"24px\"viewBox=\"0 0 24 24\"\n",
              "     width=\"24px\">\n",
              "    <g>\n",
              "        <path d=\"M19 3H5c-1.1 0-2 .9-2 2v14c0 1.1.9 2 2 2h14c1.1 0 2-.9 2-2V5c0-1.1-.9-2-2-2zM9 17H7v-7h2v7zm4 0h-2V7h2v10zm4 0h-2v-4h2v4z\"/>\n",
              "    </g>\n",
              "</svg>\n",
              "  </button>\n",
              "\n",
              "<style>\n",
              "  .colab-df-quickchart {\n",
              "      --bg-color: #E8F0FE;\n",
              "      --fill-color: #1967D2;\n",
              "      --hover-bg-color: #E2EBFA;\n",
              "      --hover-fill-color: #174EA6;\n",
              "      --disabled-fill-color: #AAA;\n",
              "      --disabled-bg-color: #DDD;\n",
              "  }\n",
              "\n",
              "  [theme=dark] .colab-df-quickchart {\n",
              "      --bg-color: #3B4455;\n",
              "      --fill-color: #D2E3FC;\n",
              "      --hover-bg-color: #434B5C;\n",
              "      --hover-fill-color: #FFFFFF;\n",
              "      --disabled-bg-color: #3B4455;\n",
              "      --disabled-fill-color: #666;\n",
              "  }\n",
              "\n",
              "  .colab-df-quickchart {\n",
              "    background-color: var(--bg-color);\n",
              "    border: none;\n",
              "    border-radius: 50%;\n",
              "    cursor: pointer;\n",
              "    display: none;\n",
              "    fill: var(--fill-color);\n",
              "    height: 32px;\n",
              "    padding: 0;\n",
              "    width: 32px;\n",
              "  }\n",
              "\n",
              "  .colab-df-quickchart:hover {\n",
              "    background-color: var(--hover-bg-color);\n",
              "    box-shadow: 0 1px 2px rgba(60, 64, 67, 0.3), 0 1px 3px 1px rgba(60, 64, 67, 0.15);\n",
              "    fill: var(--button-hover-fill-color);\n",
              "  }\n",
              "\n",
              "  .colab-df-quickchart-complete:disabled,\n",
              "  .colab-df-quickchart-complete:disabled:hover {\n",
              "    background-color: var(--disabled-bg-color);\n",
              "    fill: var(--disabled-fill-color);\n",
              "    box-shadow: none;\n",
              "  }\n",
              "\n",
              "  .colab-df-spinner {\n",
              "    border: 2px solid var(--fill-color);\n",
              "    border-color: transparent;\n",
              "    border-bottom-color: var(--fill-color);\n",
              "    animation:\n",
              "      spin 1s steps(1) infinite;\n",
              "  }\n",
              "\n",
              "  @keyframes spin {\n",
              "    0% {\n",
              "      border-color: transparent;\n",
              "      border-bottom-color: var(--fill-color);\n",
              "      border-left-color: var(--fill-color);\n",
              "    }\n",
              "    20% {\n",
              "      border-color: transparent;\n",
              "      border-left-color: var(--fill-color);\n",
              "      border-top-color: var(--fill-color);\n",
              "    }\n",
              "    30% {\n",
              "      border-color: transparent;\n",
              "      border-left-color: var(--fill-color);\n",
              "      border-top-color: var(--fill-color);\n",
              "      border-right-color: var(--fill-color);\n",
              "    }\n",
              "    40% {\n",
              "      border-color: transparent;\n",
              "      border-right-color: var(--fill-color);\n",
              "      border-top-color: var(--fill-color);\n",
              "    }\n",
              "    60% {\n",
              "      border-color: transparent;\n",
              "      border-right-color: var(--fill-color);\n",
              "    }\n",
              "    80% {\n",
              "      border-color: transparent;\n",
              "      border-right-color: var(--fill-color);\n",
              "      border-bottom-color: var(--fill-color);\n",
              "    }\n",
              "    90% {\n",
              "      border-color: transparent;\n",
              "      border-bottom-color: var(--fill-color);\n",
              "    }\n",
              "  }\n",
              "</style>\n",
              "\n",
              "  <script>\n",
              "    async function quickchart(key) {\n",
              "      const quickchartButtonEl =\n",
              "        document.querySelector('#' + key + ' button');\n",
              "      quickchartButtonEl.disabled = true;  // To prevent multiple clicks.\n",
              "      quickchartButtonEl.classList.add('colab-df-spinner');\n",
              "      try {\n",
              "        const charts = await google.colab.kernel.invokeFunction(\n",
              "            'suggestCharts', [key], {});\n",
              "      } catch (error) {\n",
              "        console.error('Error during call to suggestCharts:', error);\n",
              "      }\n",
              "      quickchartButtonEl.classList.remove('colab-df-spinner');\n",
              "      quickchartButtonEl.classList.add('colab-df-quickchart-complete');\n",
              "    }\n",
              "    (() => {\n",
              "      let quickchartButtonEl =\n",
              "        document.querySelector('#df-8fdcd669-a66d-497b-ac5f-c16d750b26ae button');\n",
              "      quickchartButtonEl.style.display =\n",
              "        google.colab.kernel.accessAllowed ? 'block' : 'none';\n",
              "    })();\n",
              "  </script>\n",
              "</div>\n",
              "    </div>\n",
              "  </div>\n"
            ],
            "application/vnd.google.colaboratory.intrinsic+json": {
              "type": "dataframe",
              "variable_name": "titanic",
              "summary": "{\n  \"name\": \"titanic\",\n  \"rows\": 891,\n  \"fields\": [\n    {\n      \"column\": \"PassengerId\",\n      \"properties\": {\n        \"dtype\": \"number\",\n        \"std\": 257,\n        \"min\": 1,\n        \"max\": 891,\n        \"num_unique_values\": 891,\n        \"samples\": [\n          710,\n          440,\n          841\n        ],\n        \"semantic_type\": \"\",\n        \"description\": \"\"\n      }\n    },\n    {\n      \"column\": \"Survived\",\n      \"properties\": {\n        \"dtype\": \"number\",\n        \"std\": 0,\n        \"min\": 0,\n        \"max\": 1,\n        \"num_unique_values\": 2,\n        \"samples\": [\n          1,\n          0\n        ],\n        \"semantic_type\": \"\",\n        \"description\": \"\"\n      }\n    },\n    {\n      \"column\": \"Pclass\",\n      \"properties\": {\n        \"dtype\": \"number\",\n        \"std\": 0,\n        \"min\": 1,\n        \"max\": 3,\n        \"num_unique_values\": 3,\n        \"samples\": [\n          3,\n          1\n        ],\n        \"semantic_type\": \"\",\n        \"description\": \"\"\n      }\n    },\n    {\n      \"column\": \"Name\",\n      \"properties\": {\n        \"dtype\": \"string\",\n        \"num_unique_values\": 891,\n        \"samples\": [\n          \"Moubarek, Master. Halim Gonios (\\\"William George\\\")\",\n          \"Kvillner, Mr. Johan Henrik Johannesson\"\n        ],\n        \"semantic_type\": \"\",\n        \"description\": \"\"\n      }\n    },\n    {\n      \"column\": \"Sex\",\n      \"properties\": {\n        \"dtype\": \"category\",\n        \"num_unique_values\": 2,\n        \"samples\": [\n          \"female\",\n          \"male\"\n        ],\n        \"semantic_type\": \"\",\n        \"description\": \"\"\n      }\n    },\n    {\n      \"column\": \"Age\",\n      \"properties\": {\n        \"dtype\": \"number\",\n        \"std\": 14.526497332334044,\n        \"min\": 0.42,\n        \"max\": 80.0,\n        \"num_unique_values\": 88,\n        \"samples\": [\n          0.75,\n          22.0\n        ],\n        \"semantic_type\": \"\",\n        \"description\": \"\"\n      }\n    },\n    {\n      \"column\": \"SibSp\",\n      \"properties\": {\n        \"dtype\": \"number\",\n        \"std\": 1,\n        \"min\": 0,\n        \"max\": 8,\n        \"num_unique_values\": 7,\n        \"samples\": [\n          1,\n          0\n        ],\n        \"semantic_type\": \"\",\n        \"description\": \"\"\n      }\n    },\n    {\n      \"column\": \"Parch\",\n      \"properties\": {\n        \"dtype\": \"number\",\n        \"std\": 0,\n        \"min\": 0,\n        \"max\": 6,\n        \"num_unique_values\": 7,\n        \"samples\": [\n          0,\n          1\n        ],\n        \"semantic_type\": \"\",\n        \"description\": \"\"\n      }\n    },\n    {\n      \"column\": \"Ticket\",\n      \"properties\": {\n        \"dtype\": \"string\",\n        \"num_unique_values\": 681,\n        \"samples\": [\n          \"11774\",\n          \"248740\"\n        ],\n        \"semantic_type\": \"\",\n        \"description\": \"\"\n      }\n    },\n    {\n      \"column\": \"Fare\",\n      \"properties\": {\n        \"dtype\": \"number\",\n        \"std\": 49.693428597180905,\n        \"min\": 0.0,\n        \"max\": 512.3292,\n        \"num_unique_values\": 248,\n        \"samples\": [\n          11.2417,\n          51.8625\n        ],\n        \"semantic_type\": \"\",\n        \"description\": \"\"\n      }\n    },\n    {\n      \"column\": \"Cabin\",\n      \"properties\": {\n        \"dtype\": \"category\",\n        \"num_unique_values\": 147,\n        \"samples\": [\n          \"D45\",\n          \"B49\"\n        ],\n        \"semantic_type\": \"\",\n        \"description\": \"\"\n      }\n    },\n    {\n      \"column\": \"Embarked\",\n      \"properties\": {\n        \"dtype\": \"category\",\n        \"num_unique_values\": 3,\n        \"samples\": [\n          \"S\",\n          \"C\"\n        ],\n        \"semantic_type\": \"\",\n        \"description\": \"\"\n      }\n    }\n  ]\n}"
            }
          },
          "metadata": {},
          "execution_count": 4
        }
      ]
    },
    {
      "cell_type": "code",
      "source": [
        "# Загрузите любой csv и откройте его с помощью pd.read_csv\n",
        "# Далее мы разберем работу с pandas более подробно\n",
        "# Ознакомьтесь с возможностями, которые предоставляет вам Colab с Pandas:\n",
        "# рекомендованные графики и разные форматы отображения таблиц;\n",
        "# создайте визуал для своих данных по шаблону, сгенерированному Colab\n",
        "\n",
        "username = pd.read_csv('username.csv')\n",
        "username.head(3)"
      ],
      "metadata": {
        "colab": {
          "base_uri": "https://localhost:8080/",
          "height": 143
        },
        "id": "ETY3SRHlZeV3",
        "outputId": "e462d23d-c099-4e57-edcc-9e36d07d38b9"
      },
      "execution_count": null,
      "outputs": [
        {
          "output_type": "execute_result",
          "data": {
            "text/plain": [
              "  Username; Identifier;First name;Last name\n",
              "0               booker12;9012;Rachel;Booker\n",
              "1                    grey07;2070;Laura;Grey\n",
              "2              johnson81;4081;Craig;Johnson"
            ],
            "text/html": [
              "\n",
              "  <div id=\"df-b0f5150e-81d3-4970-adea-22270fcdfd5a\" class=\"colab-df-container\">\n",
              "    <div>\n",
              "<style scoped>\n",
              "    .dataframe tbody tr th:only-of-type {\n",
              "        vertical-align: middle;\n",
              "    }\n",
              "\n",
              "    .dataframe tbody tr th {\n",
              "        vertical-align: top;\n",
              "    }\n",
              "\n",
              "    .dataframe thead th {\n",
              "        text-align: right;\n",
              "    }\n",
              "</style>\n",
              "<table border=\"1\" class=\"dataframe\">\n",
              "  <thead>\n",
              "    <tr style=\"text-align: right;\">\n",
              "      <th></th>\n",
              "      <th>Username; Identifier;First name;Last name</th>\n",
              "    </tr>\n",
              "  </thead>\n",
              "  <tbody>\n",
              "    <tr>\n",
              "      <th>0</th>\n",
              "      <td>booker12;9012;Rachel;Booker</td>\n",
              "    </tr>\n",
              "    <tr>\n",
              "      <th>1</th>\n",
              "      <td>grey07;2070;Laura;Grey</td>\n",
              "    </tr>\n",
              "    <tr>\n",
              "      <th>2</th>\n",
              "      <td>johnson81;4081;Craig;Johnson</td>\n",
              "    </tr>\n",
              "  </tbody>\n",
              "</table>\n",
              "</div>\n",
              "    <div class=\"colab-df-buttons\">\n",
              "\n",
              "  <div class=\"colab-df-container\">\n",
              "    <button class=\"colab-df-convert\" onclick=\"convertToInteractive('df-b0f5150e-81d3-4970-adea-22270fcdfd5a')\"\n",
              "            title=\"Convert this dataframe to an interactive table.\"\n",
              "            style=\"display:none;\">\n",
              "\n",
              "  <svg xmlns=\"http://www.w3.org/2000/svg\" height=\"24px\" viewBox=\"0 -960 960 960\">\n",
              "    <path d=\"M120-120v-720h720v720H120Zm60-500h600v-160H180v160Zm220 220h160v-160H400v160Zm0 220h160v-160H400v160ZM180-400h160v-160H180v160Zm440 0h160v-160H620v160ZM180-180h160v-160H180v160Zm440 0h160v-160H620v160Z\"/>\n",
              "  </svg>\n",
              "    </button>\n",
              "\n",
              "  <style>\n",
              "    .colab-df-container {\n",
              "      display:flex;\n",
              "      gap: 12px;\n",
              "    }\n",
              "\n",
              "    .colab-df-convert {\n",
              "      background-color: #E8F0FE;\n",
              "      border: none;\n",
              "      border-radius: 50%;\n",
              "      cursor: pointer;\n",
              "      display: none;\n",
              "      fill: #1967D2;\n",
              "      height: 32px;\n",
              "      padding: 0 0 0 0;\n",
              "      width: 32px;\n",
              "    }\n",
              "\n",
              "    .colab-df-convert:hover {\n",
              "      background-color: #E2EBFA;\n",
              "      box-shadow: 0px 1px 2px rgba(60, 64, 67, 0.3), 0px 1px 3px 1px rgba(60, 64, 67, 0.15);\n",
              "      fill: #174EA6;\n",
              "    }\n",
              "\n",
              "    .colab-df-buttons div {\n",
              "      margin-bottom: 4px;\n",
              "    }\n",
              "\n",
              "    [theme=dark] .colab-df-convert {\n",
              "      background-color: #3B4455;\n",
              "      fill: #D2E3FC;\n",
              "    }\n",
              "\n",
              "    [theme=dark] .colab-df-convert:hover {\n",
              "      background-color: #434B5C;\n",
              "      box-shadow: 0px 1px 3px 1px rgba(0, 0, 0, 0.15);\n",
              "      filter: drop-shadow(0px 1px 2px rgba(0, 0, 0, 0.3));\n",
              "      fill: #FFFFFF;\n",
              "    }\n",
              "  </style>\n",
              "\n",
              "    <script>\n",
              "      const buttonEl =\n",
              "        document.querySelector('#df-b0f5150e-81d3-4970-adea-22270fcdfd5a button.colab-df-convert');\n",
              "      buttonEl.style.display =\n",
              "        google.colab.kernel.accessAllowed ? 'block' : 'none';\n",
              "\n",
              "      async function convertToInteractive(key) {\n",
              "        const element = document.querySelector('#df-b0f5150e-81d3-4970-adea-22270fcdfd5a');\n",
              "        const dataTable =\n",
              "          await google.colab.kernel.invokeFunction('convertToInteractive',\n",
              "                                                    [key], {});\n",
              "        if (!dataTable) return;\n",
              "\n",
              "        const docLinkHtml = 'Like what you see? Visit the ' +\n",
              "          '<a target=\"_blank\" href=https://colab.research.google.com/notebooks/data_table.ipynb>data table notebook</a>'\n",
              "          + ' to learn more about interactive tables.';\n",
              "        element.innerHTML = '';\n",
              "        dataTable['output_type'] = 'display_data';\n",
              "        await google.colab.output.renderOutput(dataTable, element);\n",
              "        const docLink = document.createElement('div');\n",
              "        docLink.innerHTML = docLinkHtml;\n",
              "        element.appendChild(docLink);\n",
              "      }\n",
              "    </script>\n",
              "  </div>\n",
              "\n",
              "\n",
              "<div id=\"df-0ed0d946-431d-4051-8970-be754c26a653\">\n",
              "  <button class=\"colab-df-quickchart\" onclick=\"quickchart('df-0ed0d946-431d-4051-8970-be754c26a653')\"\n",
              "            title=\"Suggest charts\"\n",
              "            style=\"display:none;\">\n",
              "\n",
              "<svg xmlns=\"http://www.w3.org/2000/svg\" height=\"24px\"viewBox=\"0 0 24 24\"\n",
              "     width=\"24px\">\n",
              "    <g>\n",
              "        <path d=\"M19 3H5c-1.1 0-2 .9-2 2v14c0 1.1.9 2 2 2h14c1.1 0 2-.9 2-2V5c0-1.1-.9-2-2-2zM9 17H7v-7h2v7zm4 0h-2V7h2v10zm4 0h-2v-4h2v4z\"/>\n",
              "    </g>\n",
              "</svg>\n",
              "  </button>\n",
              "\n",
              "<style>\n",
              "  .colab-df-quickchart {\n",
              "      --bg-color: #E8F0FE;\n",
              "      --fill-color: #1967D2;\n",
              "      --hover-bg-color: #E2EBFA;\n",
              "      --hover-fill-color: #174EA6;\n",
              "      --disabled-fill-color: #AAA;\n",
              "      --disabled-bg-color: #DDD;\n",
              "  }\n",
              "\n",
              "  [theme=dark] .colab-df-quickchart {\n",
              "      --bg-color: #3B4455;\n",
              "      --fill-color: #D2E3FC;\n",
              "      --hover-bg-color: #434B5C;\n",
              "      --hover-fill-color: #FFFFFF;\n",
              "      --disabled-bg-color: #3B4455;\n",
              "      --disabled-fill-color: #666;\n",
              "  }\n",
              "\n",
              "  .colab-df-quickchart {\n",
              "    background-color: var(--bg-color);\n",
              "    border: none;\n",
              "    border-radius: 50%;\n",
              "    cursor: pointer;\n",
              "    display: none;\n",
              "    fill: var(--fill-color);\n",
              "    height: 32px;\n",
              "    padding: 0;\n",
              "    width: 32px;\n",
              "  }\n",
              "\n",
              "  .colab-df-quickchart:hover {\n",
              "    background-color: var(--hover-bg-color);\n",
              "    box-shadow: 0 1px 2px rgba(60, 64, 67, 0.3), 0 1px 3px 1px rgba(60, 64, 67, 0.15);\n",
              "    fill: var(--button-hover-fill-color);\n",
              "  }\n",
              "\n",
              "  .colab-df-quickchart-complete:disabled,\n",
              "  .colab-df-quickchart-complete:disabled:hover {\n",
              "    background-color: var(--disabled-bg-color);\n",
              "    fill: var(--disabled-fill-color);\n",
              "    box-shadow: none;\n",
              "  }\n",
              "\n",
              "  .colab-df-spinner {\n",
              "    border: 2px solid var(--fill-color);\n",
              "    border-color: transparent;\n",
              "    border-bottom-color: var(--fill-color);\n",
              "    animation:\n",
              "      spin 1s steps(1) infinite;\n",
              "  }\n",
              "\n",
              "  @keyframes spin {\n",
              "    0% {\n",
              "      border-color: transparent;\n",
              "      border-bottom-color: var(--fill-color);\n",
              "      border-left-color: var(--fill-color);\n",
              "    }\n",
              "    20% {\n",
              "      border-color: transparent;\n",
              "      border-left-color: var(--fill-color);\n",
              "      border-top-color: var(--fill-color);\n",
              "    }\n",
              "    30% {\n",
              "      border-color: transparent;\n",
              "      border-left-color: var(--fill-color);\n",
              "      border-top-color: var(--fill-color);\n",
              "      border-right-color: var(--fill-color);\n",
              "    }\n",
              "    40% {\n",
              "      border-color: transparent;\n",
              "      border-right-color: var(--fill-color);\n",
              "      border-top-color: var(--fill-color);\n",
              "    }\n",
              "    60% {\n",
              "      border-color: transparent;\n",
              "      border-right-color: var(--fill-color);\n",
              "    }\n",
              "    80% {\n",
              "      border-color: transparent;\n",
              "      border-right-color: var(--fill-color);\n",
              "      border-bottom-color: var(--fill-color);\n",
              "    }\n",
              "    90% {\n",
              "      border-color: transparent;\n",
              "      border-bottom-color: var(--fill-color);\n",
              "    }\n",
              "  }\n",
              "</style>\n",
              "\n",
              "  <script>\n",
              "    async function quickchart(key) {\n",
              "      const quickchartButtonEl =\n",
              "        document.querySelector('#' + key + ' button');\n",
              "      quickchartButtonEl.disabled = true;  // To prevent multiple clicks.\n",
              "      quickchartButtonEl.classList.add('colab-df-spinner');\n",
              "      try {\n",
              "        const charts = await google.colab.kernel.invokeFunction(\n",
              "            'suggestCharts', [key], {});\n",
              "      } catch (error) {\n",
              "        console.error('Error during call to suggestCharts:', error);\n",
              "      }\n",
              "      quickchartButtonEl.classList.remove('colab-df-spinner');\n",
              "      quickchartButtonEl.classList.add('colab-df-quickchart-complete');\n",
              "    }\n",
              "    (() => {\n",
              "      let quickchartButtonEl =\n",
              "        document.querySelector('#df-0ed0d946-431d-4051-8970-be754c26a653 button');\n",
              "      quickchartButtonEl.style.display =\n",
              "        google.colab.kernel.accessAllowed ? 'block' : 'none';\n",
              "    })();\n",
              "  </script>\n",
              "</div>\n",
              "    </div>\n",
              "  </div>\n"
            ],
            "application/vnd.google.colaboratory.intrinsic+json": {
              "type": "dataframe",
              "variable_name": "username",
              "summary": "{\n  \"name\": \"username\",\n  \"rows\": 5,\n  \"fields\": [\n    {\n      \"column\": \"Username; Identifier;First name;Last name\",\n      \"properties\": {\n        \"dtype\": \"string\",\n        \"num_unique_values\": 5,\n        \"samples\": [\n          \"grey07;2070;Laura;Grey\",\n          \"smith79;5079;Jamie;Smith\",\n          \"johnson81;4081;Craig;Johnson\"\n        ],\n        \"semantic_type\": \"\",\n        \"description\": \"\"\n      }\n    }\n  ]\n}"
            }
          },
          "metadata": {},
          "execution_count": 5
        }
      ]
    },
    {
      "source": [
        "# @title Username; Identifier;First name;Last name\n",
        "\n",
        "from matplotlib import pyplot as plt\n",
        "import seaborn as sns\n",
        "username.groupby('Username; Identifier;First name;Last name').size().plot(kind='barh', color=sns.palettes.mpl_palette('Dark2'))\n",
        "plt.gca().spines[['top', 'right',]].set_visible(False)"
      ],
      "cell_type": "code",
      "execution_count": null,
      "outputs": [
        {
          "output_type": "display_data",
          "data": {
            "text/plain": [
              "<Figure size 640x480 with 1 Axes>"
            ],
            "image/png": "[encoded data removed]"
          },
          "metadata": {}
        }
      ],
      "metadata": {
        "cellView": "form",
        "colab": {
          "base_uri": "https://localhost:8080/",
          "height": 369
        },
        "id": "8bhmBvnna70k",
        "outputId": "8792209b-597b-4ca8-ff62-e6acdb64d51f"
      }
    },
    {
      "cell_type": "code",
      "source": [
        "titanic = pd.read_csv('titanic.csv')\n",
        "titanic.head(5)\n"
      ],
      "metadata": {
        "colab": {
          "base_uri": "https://localhost:8080/",
          "height": 504
        },
        "id": "x3R6b0YubNIV",
        "outputId": "18594816-f592-4a3d-f93e-d02259b9eb6a"
      },
      "execution_count": null,
      "outputs": [
        {
          "output_type": "execute_result",
          "data": {
            "text/plain": [
              "   PassengerId  Survived  Pclass  \\\n",
              "0            1         0       3   \n",
              "1            2         1       1   \n",
              "2            3         1       3   \n",
              "3            4         1       1   \n",
              "4            5         0       3   \n",
              "\n",
              "                                                Name     Sex   Age  SibSp  \\\n",
              "0                            Braund, Mr. Owen Harris    male  22.0      1   \n",
              "1  Cumings, Mrs. John Bradley (Florence Briggs Th...  female  38.0      1   \n",
              "2                             Heikkinen, Miss. Laina  female  26.0      0   \n",
              "3       Futrelle, Mrs. Jacques Heath (Lily May Peel)  female  35.0      1   \n",
              "4                           Allen, Mr. William Henry    male  35.0      0   \n",
              "\n",
              "   Parch            Ticket     Fare Cabin Embarked  \n",
              "0      0         A/5 21171   7.2500   NaN        S  \n",
              "1      0          PC 17599  71.2833   C85        C  \n",
              "2      0  STON/O2. 3101282   7.9250   NaN        S  \n",
              "3      0            113803  53.1000  C123        S  \n",
              "4      0            373450   8.0500   NaN        S  "
            ],
            "text/html": [
              "\n",
              "  <div id=\"df-080b01f6-decc-421a-aa37-9f4edd490499\" class=\"colab-df-container\">\n",
              "    <div>\n",
              "<style scoped>\n",
              "    .dataframe tbody tr th:only-of-type {\n",
              "        vertical-align: middle;\n",
              "    }\n",
              "\n",
              "    .dataframe tbody tr th {\n",
              "        vertical-align: top;\n",
              "    }\n",
              "\n",
              "    .dataframe thead th {\n",
              "        text-align: right;\n",
              "    }\n",
              "</style>\n",
              "<table border=\"1\" class=\"dataframe\">\n",
              "  <thead>\n",
              "    <tr style=\"text-align: right;\">\n",
              "      <th></th>\n",
              "      <th>PassengerId</th>\n",
              "      <th>Survived</th>\n",
              "      <th>Pclass</th>\n",
              "      <th>Name</th>\n",
              "      <th>Sex</th>\n",
              "      <th>Age</th>\n",
              "      <th>SibSp</th>\n",
              "      <th>Parch</th>\n",
              "      <th>Ticket</th>\n",
              "      <th>Fare</th>\n",
              "      <th>Cabin</th>\n",
              "      <th>Embarked</th>\n",
              "    </tr>\n",
              "  </thead>\n",
              "  <tbody>\n",
              "    <tr>\n",
              "      <th>0</th>\n",
              "      <td>1</td>\n",
              "      <td>0</td>\n",
              "      <td>3</td>\n",
              "      <td>Braund, Mr. Owen Harris</td>\n",
              "      <td>male</td>\n",
              "      <td>22.0</td>\n",
              "      <td>1</td>\n",
              "      <td>0</td>\n",
              "      <td>A/5 21171</td>\n",
              "      <td>7.2500</td>\n",
              "      <td>NaN</td>\n",
              "      <td>S</td>\n",
              "    </tr>\n",
              "    <tr>\n",
              "      <th>1</th>\n",
              "      <td>2</td>\n",
              "      <td>1</td>\n",
              "      <td>1</td>\n",
              "      <td>Cumings, Mrs. John Bradley (Florence Briggs Th...</td>\n",
              "      <td>female</td>\n",
              "      <td>38.0</td>\n",
              "      <td>1</td>\n",
              "      <td>0</td>\n",
              "      <td>PC 17599</td>\n",
              "      <td>71.2833</td>\n",
              "      <td>C85</td>\n",
              "      <td>C</td>\n",
              "    </tr>\n",
              "    <tr>\n",
              "      <th>2</th>\n",
              "      <td>3</td>\n",
              "      <td>1</td>\n",
              "      <td>3</td>\n",
              "      <td>Heikkinen, Miss. Laina</td>\n",
              "      <td>female</td>\n",
              "      <td>26.0</td>\n",
              "      <td>0</td>\n",
              "      <td>0</td>\n",
              "      <td>STON/O2. 3101282</td>\n",
              "      <td>7.9250</td>\n",
              "      <td>NaN</td>\n",
              "      <td>S</td>\n",
              "    </tr>\n",
              "    <tr>\n",
              "      <th>3</th>\n",
              "      <td>4</td>\n",
              "      <td>1</td>\n",
              "      <td>1</td>\n",
              "      <td>Futrelle, Mrs. Jacques Heath (Lily May Peel)</td>\n",
              "      <td>female</td>\n",
              "      <td>35.0</td>\n",
              "      <td>1</td>\n",
              "      <td>0</td>\n",
              "      <td>113803</td>\n",
              "      <td>53.1000</td>\n",
              "      <td>C123</td>\n",
              "      <td>S</td>\n",
              "    </tr>\n",
              "    <tr>\n",
              "      <th>4</th>\n",
              "      <td>5</td>\n",
              "      <td>0</td>\n",
              "      <td>3</td>\n",
              "      <td>Allen, Mr. William Henry</td>\n",
              "      <td>male</td>\n",
              "      <td>35.0</td>\n",
              "      <td>0</td>\n",
              "      <td>0</td>\n",
              "      <td>373450</td>\n",
              "      <td>8.0500</td>\n",
              "      <td>NaN</td>\n",
              "      <td>S</td>\n",
              "    </tr>\n",
              "  </tbody>\n",
              "</table>\n",
              "</div>\n",
              "    <div class=\"colab-df-buttons\">\n",
              "\n",
              "  <div class=\"colab-df-container\">\n",
              "    <button class=\"colab-df-convert\" onclick=\"convertToInteractive('df-080b01f6-decc-421a-aa37-9f4edd490499')\"\n",
              "            title=\"Convert this dataframe to an interactive table.\"\n",
              "            style=\"display:none;\">\n",
              "\n",
              "  <svg xmlns=\"http://www.w3.org/2000/svg\" height=\"24px\" viewBox=\"0 -960 960 960\">\n",
              "    <path d=\"M120-120v-720h720v720H120Zm60-500h600v-160H180v160Zm220 220h160v-160H400v160Zm0 220h160v-160H400v160ZM180-400h160v-160H180v160Zm440 0h160v-160H620v160ZM180-180h160v-160H180v160Zm440 0h160v-160H620v160Z\"/>\n",
              "  </svg>\n",
              "    </button>\n",
              "\n",
              "  <style>\n",
              "    .colab-df-container {\n",
              "      display:flex;\n",
              "      gap: 12px;\n",
              "    }\n",
              "\n",
              "    .colab-df-convert {\n",
              "      background-color: #E8F0FE;\n",
              "      border: none;\n",
              "      border-radius: 50%;\n",
              "      cursor: pointer;\n",
              "      display: none;\n",
              "      fill: #1967D2;\n",
              "      height: 32px;\n",
              "      padding: 0 0 0 0;\n",
              "      width: 32px;\n",
              "    }\n",
              "\n",
              "    .colab-df-convert:hover {\n",
              "      background-color: #E2EBFA;\n",
              "      box-shadow: 0px 1px 2px rgba(60, 64, 67, 0.3), 0px 1px 3px 1px rgba(60, 64, 67, 0.15);\n",
              "      fill: #174EA6;\n",
              "    }\n",
              "\n",
              "    .colab-df-buttons div {\n",
              "      margin-bottom: 4px;\n",
              "    }\n",
              "\n",
              "    [theme=dark] .colab-df-convert {\n",
              "      background-color: #3B4455;\n",
              "      fill: #D2E3FC;\n",
              "    }\n",
              "\n",
              "    [theme=dark] .colab-df-convert:hover {\n",
              "      background-color: #434B5C;\n",
              "      box-shadow: 0px 1px 3px 1px rgba(0, 0, 0, 0.15);\n",
              "      filter: drop-shadow(0px 1px 2px rgba(0, 0, 0, 0.3));\n",
              "      fill: #FFFFFF;\n",
              "    }\n",
              "  </style>\n",
              "\n",
              "    <script>\n",
              "      const buttonEl =\n",
              "        document.querySelector('#df-080b01f6-decc-421a-aa37-9f4edd490499 button.colab-df-convert');\n",
              "      buttonEl.style.display =\n",
              "        google.colab.kernel.accessAllowed ? 'block' : 'none';\n",
              "\n",
              "      async function convertToInteractive(key) {\n",
              "        const element = document.querySelector('#df-080b01f6-decc-421a-aa37-9f4edd490499');\n",
              "        const dataTable =\n",
              "          await google.colab.kernel.invokeFunction('convertToInteractive',\n",
              "                                                    [key], {});\n",
              "        if (!dataTable) return;\n",
              "\n",
              "        const docLinkHtml = 'Like what you see? Visit the ' +\n",
              "          '<a target=\"_blank\" href=https://colab.research.google.com/notebooks/data_table.ipynb>data table notebook</a>'\n",
              "          + ' to learn more about interactive tables.';\n",
              "        element.innerHTML = '';\n",
              "        dataTable['output_type'] = 'display_data';\n",
              "        await google.colab.output.renderOutput(dataTable, element);\n",
              "        const docLink = document.createElement('div');\n",
              "        docLink.innerHTML = docLinkHtml;\n",
              "        element.appendChild(docLink);\n",
              "      }\n",
              "    </script>\n",
              "  </div>\n",
              "\n",
              "\n",
              "<div id=\"df-6da9db3c-85e7-4a9e-9620-76d9dfffa33b\">\n",
              "  <button class=\"colab-df-quickchart\" onclick=\"quickchart('df-6da9db3c-85e7-4a9e-9620-76d9dfffa33b')\"\n",
              "            title=\"Suggest charts\"\n",
              "            style=\"display:none;\">\n",
              "\n",
              "<svg xmlns=\"http://www.w3.org/2000/svg\" height=\"24px\"viewBox=\"0 0 24 24\"\n",
              "     width=\"24px\">\n",
              "    <g>\n",
              "        <path d=\"M19 3H5c-1.1 0-2 .9-2 2v14c0 1.1.9 2 2 2h14c1.1 0 2-.9 2-2V5c0-1.1-.9-2-2-2zM9 17H7v-7h2v7zm4 0h-2V7h2v10zm4 0h-2v-4h2v4z\"/>\n",
              "    </g>\n",
              "</svg>\n",
              "  </button>\n",
              "\n",
              "<style>\n",
              "  .colab-df-quickchart {\n",
              "      --bg-color: #E8F0FE;\n",
              "      --fill-color: #1967D2;\n",
              "      --hover-bg-color: #E2EBFA;\n",
              "      --hover-fill-color: #174EA6;\n",
              "      --disabled-fill-color: #AAA;\n",
              "      --disabled-bg-color: #DDD;\n",
              "  }\n",
              "\n",
              "  [theme=dark] .colab-df-quickchart {\n",
              "      --bg-color: #3B4455;\n",
              "      --fill-color: #D2E3FC;\n",
              "      --hover-bg-color: #434B5C;\n",
              "      --hover-fill-color: #FFFFFF;\n",
              "      --disabled-bg-color: #3B4455;\n",
              "      --disabled-fill-color: #666;\n",
              "  }\n",
              "\n",
              "  .colab-df-quickchart {\n",
              "    background-color: var(--bg-color);\n",
              "    border: none;\n",
              "    border-radius: 50%;\n",
              "    cursor: pointer;\n",
              "    display: none;\n",
              "    fill: var(--fill-color);\n",
              "    height: 32px;\n",
              "    padding: 0;\n",
              "    width: 32px;\n",
              "  }\n",
              "\n",
              "  .colab-df-quickchart:hover {\n",
              "    background-color: var(--hover-bg-color);\n",
              "    box-shadow: 0 1px 2px rgba(60, 64, 67, 0.3), 0 1px 3px 1px rgba(60, 64, 67, 0.15);\n",
              "    fill: var(--button-hover-fill-color);\n",
              "  }\n",
              "\n",
              "  .colab-df-quickchart-complete:disabled,\n",
              "  .colab-df-quickchart-complete:disabled:hover {\n",
              "    background-color: var(--disabled-bg-color);\n",
              "    fill: var(--disabled-fill-color);\n",
              "    box-shadow: none;\n",
              "  }\n",
              "\n",
              "  .colab-df-spinner {\n",
              "    border: 2px solid var(--fill-color);\n",
              "    border-color: transparent;\n",
              "    border-bottom-color: var(--fill-color);\n",
              "    animation:\n",
              "      spin 1s steps(1) infinite;\n",
              "  }\n",
              "\n",
              "  @keyframes spin {\n",
              "    0% {\n",
              "      border-color: transparent;\n",
              "      border-bottom-color: var(--fill-color);\n",
              "      border-left-color: var(--fill-color);\n",
              "    }\n",
              "    20% {\n",
              "      border-color: transparent;\n",
              "      border-left-color: var(--fill-color);\n",
              "      border-top-color: var(--fill-color);\n",
              "    }\n",
              "    30% {\n",
              "      border-color: transparent;\n",
              "      border-left-color: var(--fill-color);\n",
              "      border-top-color: var(--fill-color);\n",
              "      border-right-color: var(--fill-color);\n",
              "    }\n",
              "    40% {\n",
              "      border-color: transparent;\n",
              "      border-right-color: var(--fill-color);\n",
              "      border-top-color: var(--fill-color);\n",
              "    }\n",
              "    60% {\n",
              "      border-color: transparent;\n",
              "      border-right-color: var(--fill-color);\n",
              "    }\n",
              "    80% {\n",
              "      border-color: transparent;\n",
              "      border-right-color: var(--fill-color);\n",
              "      border-bottom-color: var(--fill-color);\n",
              "    }\n",
              "    90% {\n",
              "      border-color: transparent;\n",
              "      border-bottom-color: var(--fill-color);\n",
              "    }\n",
              "  }\n",
              "</style>\n",
              "\n",
              "  <script>\n",
              "    async function quickchart(key) {\n",
              "      const quickchartButtonEl =\n",
              "        document.querySelector('#' + key + ' button');\n",
              "      quickchartButtonEl.disabled = true;  // To prevent multiple clicks.\n",
              "      quickchartButtonEl.classList.add('colab-df-spinner');\n",
              "      try {\n",
              "        const charts = await google.colab.kernel.invokeFunction(\n",
              "            'suggestCharts', [key], {});\n",
              "      } catch (error) {\n",
              "        console.error('Error during call to suggestCharts:', error);\n",
              "      }\n",
              "      quickchartButtonEl.classList.remove('colab-df-spinner');\n",
              "      quickchartButtonEl.classList.add('colab-df-quickchart-complete');\n",
              "    }\n",
              "    (() => {\n",
              "      let quickchartButtonEl =\n",
              "        document.querySelector('#df-6da9db3c-85e7-4a9e-9620-76d9dfffa33b button');\n",
              "      quickchartButtonEl.style.display =\n",
              "        google.colab.kernel.accessAllowed ? 'block' : 'none';\n",
              "    })();\n",
              "  </script>\n",
              "</div>\n",
              "    </div>\n",
              "  </div>\n"
            ],
            "application/vnd.google.colaboratory.intrinsic+json": {
              "type": "dataframe",
              "variable_name": "titanic",
              "summary": "{\n  \"name\": \"titanic\",\n  \"rows\": 891,\n  \"fields\": [\n    {\n      \"column\": \"PassengerId\",\n      \"properties\": {\n        \"dtype\": \"number\",\n        \"std\": 257,\n        \"min\": 1,\n        \"max\": 891,\n        \"num_unique_values\": 891,\n        \"samples\": [\n          710,\n          440,\n          841\n        ],\n        \"semantic_type\": \"\",\n        \"description\": \"\"\n      }\n    },\n    {\n      \"column\": \"Survived\",\n      \"properties\": {\n        \"dtype\": \"number\",\n        \"std\": 0,\n        \"min\": 0,\n        \"max\": 1,\n        \"num_unique_values\": 2,\n        \"samples\": [\n          1,\n          0\n        ],\n        \"semantic_type\": \"\",\n        \"description\": \"\"\n      }\n    },\n    {\n      \"column\": \"Pclass\",\n      \"properties\": {\n        \"dtype\": \"number\",\n        \"std\": 0,\n        \"min\": 1,\n        \"max\": 3,\n        \"num_unique_values\": 3,\n        \"samples\": [\n          3,\n          1\n        ],\n        \"semantic_type\": \"\",\n        \"description\": \"\"\n      }\n    },\n    {\n      \"column\": \"Name\",\n      \"properties\": {\n        \"dtype\": \"string\",\n        \"num_unique_values\": 891,\n        \"samples\": [\n          \"Moubarek, Master. Halim Gonios (\\\"William George\\\")\",\n          \"Kvillner, Mr. Johan Henrik Johannesson\"\n        ],\n        \"semantic_type\": \"\",\n        \"description\": \"\"\n      }\n    },\n    {\n      \"column\": \"Sex\",\n      \"properties\": {\n        \"dtype\": \"category\",\n        \"num_unique_values\": 2,\n        \"samples\": [\n          \"female\",\n          \"male\"\n        ],\n        \"semantic_type\": \"\",\n        \"description\": \"\"\n      }\n    },\n    {\n      \"column\": \"Age\",\n      \"properties\": {\n        \"dtype\": \"number\",\n        \"std\": 14.526497332334044,\n        \"min\": 0.42,\n        \"max\": 80.0,\n        \"num_unique_values\": 88,\n        \"samples\": [\n          0.75,\n          22.0\n        ],\n        \"semantic_type\": \"\",\n        \"description\": \"\"\n      }\n    },\n    {\n      \"column\": \"SibSp\",\n      \"properties\": {\n        \"dtype\": \"number\",\n        \"std\": 1,\n        \"min\": 0,\n        \"max\": 8,\n        \"num_unique_values\": 7,\n        \"samples\": [\n          1,\n          0\n        ],\n        \"semantic_type\": \"\",\n        \"description\": \"\"\n      }\n    },\n    {\n      \"column\": \"Parch\",\n      \"properties\": {\n        \"dtype\": \"number\",\n        \"std\": 0,\n        \"min\": 0,\n        \"max\": 6,\n        \"num_unique_values\": 7,\n        \"samples\": [\n          0,\n          1\n        ],\n        \"semantic_type\": \"\",\n        \"description\": \"\"\n      }\n    },\n    {\n      \"column\": \"Ticket\",\n      \"properties\": {\n        \"dtype\": \"string\",\n        \"num_unique_values\": 681,\n        \"samples\": [\n          \"11774\",\n          \"248740\"\n        ],\n        \"semantic_type\": \"\",\n        \"description\": \"\"\n      }\n    },\n    {\n      \"column\": \"Fare\",\n      \"properties\": {\n        \"dtype\": \"number\",\n        \"std\": 49.693428597180905,\n        \"min\": 0.0,\n        \"max\": 512.3292,\n        \"num_unique_values\": 248,\n        \"samples\": [\n          11.2417,\n          51.8625\n        ],\n        \"semantic_type\": \"\",\n        \"description\": \"\"\n      }\n    },\n    {\n      \"column\": \"Cabin\",\n      \"properties\": {\n        \"dtype\": \"category\",\n        \"num_unique_values\": 147,\n        \"samples\": [\n          \"D45\",\n          \"B49\"\n        ],\n        \"semantic_type\": \"\",\n        \"description\": \"\"\n      }\n    },\n    {\n      \"column\": \"Embarked\",\n      \"properties\": {\n        \"dtype\": \"category\",\n        \"num_unique_values\": 3,\n        \"samples\": [\n          \"S\",\n          \"C\"\n        ],\n        \"semantic_type\": \"\",\n        \"description\": \"\"\n      }\n    }\n  ]\n}"
            }
          },
          "metadata": {},
          "execution_count": 9
        }
      ]
    },
    {
      "source": [
        "# @title Sex\n",
        "\n",
        "from matplotlib import pyplot as plt\n",
        "import seaborn as sns\n",
        "titanic.groupby('Sex').size().plot(kind='barh', color=sns.palettes.mpl_palette('Dark2'))\n",
        "plt.gca().spines[['top', 'right',]].set_visible(False)"
      ],
      "cell_type": "code",
      "execution_count": null,
      "outputs": [
        {
          "output_type": "display_data",
          "data": {
            "text/plain": [
              "<Figure size 640x480 with 1 Axes>"
            ],
            "image/png": "[encoded data removed]"
          },
          "metadata": {}
        }
      ],
      "metadata": {
        "cellView": "form",
        "colab": {
          "base_uri": "https://localhost:8080/",
          "height": 430
        },
        "id": "cpmvKW5ccV5D",
        "outputId": "19f1ec2f-52a0-4fba-b043-eedb0c797895"
      }
    },
    {
      "source": [
        "# @title Age vs SibSp\n",
        "\n",
        "from matplotlib import pyplot as plt\n",
        "titanic.plot(kind='scatter', x='Age', y='SibSp', s=32, alpha=.8)\n",
        "plt.gca().spines[['top', 'right',]].set_visible(False)"
      ],
      "cell_type": "code",
      "execution_count": null,
      "outputs": [
        {
          "output_type": "display_data",
          "data": {
            "text/plain": [
              "<Figure size 640x480 with 1 Axes>"
            ],
            "image/png": "[encoded data removed]"
          },
          "metadata": {}
        }
      ],
      "metadata": {
        "cellView": "form",
        "colab": {
          "base_uri": "https://localhost:8080/",
          "height": 449
        },
        "id": "2xs2P0Q5cQ96",
        "outputId": "0ba2f4bf-f76e-41c9-ee69-55bcd737f72d"
      }
    },
    {
      "cell_type": "markdown",
      "source": [],
      "metadata": {
        "id": "rQK0MsaCa5bQ"
      }
    },
    {
      "cell_type": "markdown",
      "source": [
        "## JSON"
      ],
      "metadata": {
        "id": "kFrbG9T9cdsO"
      }
    },
    {
      "cell_type": "code",
      "source": [
        "# Загрузим новостной корпус в json\n",
        "\n",
        "!wget https://raw.githubusercontent.com/vifirsanova/hse-python-course/main/extracurricular/corpus.json"
      ],
      "metadata": {
        "colab": {
          "base_uri": "https://localhost:8080/"
        },
        "id": "f-ZE-ZrWa3s8",
        "outputId": "e90d28cd-34ae-495f-ab25-0b91f457197c"
      },
      "execution_count": null,
      "outputs": [
        {
          "output_type": "stream",
          "name": "stdout",
          "text": [
            "--2024-12-01 08:59:07--  https://raw.githubusercontent.com/vifirsanova/hse-python-course/main/extracurricular/corpus.json\n",
            "Resolving raw.githubusercontent.com (raw.githubusercontent.com)... 185.199.108.133, 185.199.109.133, 185.199.110.133, ...\n",
            "Connecting to raw.githubusercontent.com (raw.githubusercontent.com)|185.199.108.133|:443... connected.\n",
            "HTTP request sent, awaiting response... 200 OK\n",
            "Length: 263190 (257K) [text/plain]\n",
            "Saving to: ‘corpus.json.1’\n",
            "\n",
            "\rcorpus.json.1         0%[                    ]       0  --.-KB/s               \rcorpus.json.1       100%[===================>] 257.02K  --.-KB/s    in 0.006s  \n",
            "\n",
            "2024-12-01 08:59:07 (40.8 MB/s) - ‘corpus.json.1’ saved [263190/263190]\n",
            "\n"
          ]
        }
      ]
    },
    {
      "cell_type": "code",
      "source": [
        "# Для работы с json нужна одноименная библиотека\n",
        "\n",
        "import json\n",
        "\n",
        "with open(\"corpus.json\", \"r\", encoding=\"utf8\") as f:\n",
        "   data = json.load(f)"
      ],
      "metadata": {
        "id": "jTAblH4CchWx"
      },
      "execution_count": 106,
      "outputs": []
    },
    {
      "cell_type": "code",
      "source": [
        "# pprint позволяет выводить такие вложенные структуры, как json, красиво\n",
        "\n",
        "from pprint import pprint\n",
        "\n",
        "for item in data:\n",
        "  pprint(data[0][0])"
      ],
      "metadata": {
        "colab": {
          "base_uri": "https://localhost:8080/"
        },
        "id": "xQJqe9gtclnO",
        "outputId": "e33b5bf5-1755-46b8-b2e6-578773cc027f"
      },
      "execution_count": 107,
      "outputs": [
        {
          "output_type": "stream",
          "name": "stdout",
          "text": [
            "{'body': 'Причиной раздавшегося звука взрыва в Туле, напугавшего местных '\n",
            "         'жителей, стал переход самолета на сверхзвуковую скорость, об этом '\n",
            "         'сообщили в ГУ МЧС по Тульской области, передает РИА Новости. Ранее '\n",
            "         'ряд пабликов сообщил о звуках взрыва в российском городе. Как '\n",
            "         'отмечает Telegram-канал Mash, горожане услышали его около 21:42 в '\n",
            "         'Пролетарском районе, а в 21:37 в районе Заречье пропал свет из-за '\n",
            "         'аварии на подстанции. «Хлопки, которые слышали жители Пролетарского '\n",
            "         'округа города Тулы, предположительно, явились следствием перехода '\n",
            "         'самолета на сверхзвуковую скорость», — пояснили в МЧС. В ведомстве '\n",
            "         'также рассказали, что электроснабжение в Зареченском районе города '\n",
            "         'восстановлено, причиной стала техническая неисправность, авария '\n",
            "         'ликвидирована. Ранее в единой диспетчерской службе (ЕДДС) Тулы '\n",
            "         'сообщили, что в Зареченском районе почти пять тысяч человек остались '\n",
            "         'без света из-за аварийного отключения электроэнергии. Электричество '\n",
            "         'отключилось на улицах Заварная, Карпова, Максима Горького. Без света '\n",
            "         'остались 4832 жителя, в том числе 471 ребенок.',\n",
            " 'description': 'Причиной раздавшегося звука взрыва в Туле, напугавшего '\n",
            "                'местных жителей, стал переход самолета на сверхзвуковую '\n",
            "                'скорость, об этом сообщили в ГУ МЧС по Тульской области. '\n",
            "                'Ранее ряд Telegram-каналов сообщили о звуках взрыва в '\n",
            "                'российском городе и об отключении света. Электроснабжение '\n",
            "                'восстановлено, уточнили в ведомстве.',\n",
            " 'headline': 'Жителям российского города объяснили напугавший их звук взрыва'}\n",
            "{'body': 'Причиной раздавшегося звука взрыва в Туле, напугавшего местных '\n",
            "         'жителей, стал переход самолета на сверхзвуковую скорость, об этом '\n",
            "         'сообщили в ГУ МЧС по Тульской области, передает РИА Новости. Ранее '\n",
            "         'ряд пабликов сообщил о звуках взрыва в российском городе. Как '\n",
            "         'отмечает Telegram-канал Mash, горожане услышали его около 21:42 в '\n",
            "         'Пролетарском районе, а в 21:37 в районе Заречье пропал свет из-за '\n",
            "         'аварии на подстанции. «Хлопки, которые слышали жители Пролетарского '\n",
            "         'округа города Тулы, предположительно, явились следствием перехода '\n",
            "         'самолета на сверхзвуковую скорость», — пояснили в МЧС. В ведомстве '\n",
            "         'также рассказали, что электроснабжение в Зареченском районе города '\n",
            "         'восстановлено, причиной стала техническая неисправность, авария '\n",
            "         'ликвидирована. Ранее в единой диспетчерской службе (ЕДДС) Тулы '\n",
            "         'сообщили, что в Зареченском районе почти пять тысяч человек остались '\n",
            "         'без света из-за аварийного отключения электроэнергии. Электричество '\n",
            "         'отключилось на улицах Заварная, Карпова, Максима Горького. Без света '\n",
            "         'остались 4832 жителя, в том числе 471 ребенок.',\n",
            " 'description': 'Причиной раздавшегося звука взрыва в Туле, напугавшего '\n",
            "                'местных жителей, стал переход самолета на сверхзвуковую '\n",
            "                'скорость, об этом сообщили в ГУ МЧС по Тульской области. '\n",
            "                'Ранее ряд Telegram-каналов сообщили о звуках взрыва в '\n",
            "                'российском городе и об отключении света. Электроснабжение '\n",
            "                'восстановлено, уточнили в ведомстве.',\n",
            " 'headline': 'Жителям российского города объяснили напугавший их звук взрыва'}\n",
            "{'body': 'Причиной раздавшегося звука взрыва в Туле, напугавшего местных '\n",
            "         'жителей, стал переход самолета на сверхзвуковую скорость, об этом '\n",
            "         'сообщили в ГУ МЧС по Тульской области, передает РИА Новости. Ранее '\n",
            "         'ряд пабликов сообщил о звуках взрыва в российском городе. Как '\n",
            "         'отмечает Telegram-канал Mash, горожане услышали его около 21:42 в '\n",
            "         'Пролетарском районе, а в 21:37 в районе Заречье пропал свет из-за '\n",
            "         'аварии на подстанции. «Хлопки, которые слышали жители Пролетарского '\n",
            "         'округа города Тулы, предположительно, явились следствием перехода '\n",
            "         'самолета на сверхзвуковую скорость», — пояснили в МЧС. В ведомстве '\n",
            "         'также рассказали, что электроснабжение в Зареченском районе города '\n",
            "         'восстановлено, причиной стала техническая неисправность, авария '\n",
            "         'ликвидирована. Ранее в единой диспетчерской службе (ЕДДС) Тулы '\n",
            "         'сообщили, что в Зареченском районе почти пять тысяч человек остались '\n",
            "         'без света из-за аварийного отключения электроэнергии. Электричество '\n",
            "         'отключилось на улицах Заварная, Карпова, Максима Горького. Без света '\n",
            "         'остались 4832 жителя, в том числе 471 ребенок.',\n",
            " 'description': 'Причиной раздавшегося звука взрыва в Туле, напугавшего '\n",
            "                'местных жителей, стал переход самолета на сверхзвуковую '\n",
            "                'скорость, об этом сообщили в ГУ МЧС по Тульской области. '\n",
            "                'Ранее ряд Telegram-каналов сообщили о звуках взрыва в '\n",
            "                'российском городе и об отключении света. Электроснабжение '\n",
            "                'восстановлено, уточнили в ведомстве.',\n",
            " 'headline': 'Жителям российского города объяснили напугавший их звук взрыва'}\n"
          ]
        }
      ]
    },
    {
      "cell_type": "code",
      "source": [
        "# Работа с json аналогична работе со словарями в Python\n",
        "# Попробуйте самостоятельно изучить структуру этого файла:\n",
        "\n",
        "# выведите несколько заголовков из headline;\n",
        "for item in data:\n",
        "  for elem in item:\n",
        "    if 'headline' in elem:\n",
        "      print(elem)"
      ],
      "metadata": {
        "colab": {
          "base_uri": "https://localhost:8080/"
        },
        "id": "s8Iv8zqgcqAR",
        "outputId": "32d141d6-3b1b-4f2f-8113-9cbb76f1a8a3"
      },
      "execution_count": null,
      "outputs": [
        {
          "output_type": "stream",
          "name": "stdout",
          "text": [
            "{'headline': 'Жителям российского города объяснили напугавший их звук взрыва', 'description': 'Причиной раздавшегося звука взрыва в Туле, напугавшего местных жителей, стал переход самолета на сверхзвуковую скорость, об этом сообщили в ГУ МЧС по Тульской области. Ранее ряд Telegram-каналов сообщили о звуках взрыва в российском городе и об отключении света. Электроснабжение восстановлено, уточнили в ведомстве.', 'body': 'Причиной раздавшегося звука взрыва в Туле, напугавшего местных жителей, стал переход самолета на сверхзвуковую скорость, об этом сообщили в ГУ МЧС по Тульской области, передает РИА Новости. Ранее ряд пабликов сообщил о звуках взрыва в российском городе. Как отмечает Telegram-канал Mash, горожане услышали его около 21:42 в Пролетарском районе, а в 21:37 в районе Заречье пропал свет из-за аварии на подстанции. «Хлопки, которые слышали жители Пролетарского округа города Тулы, предположительно, явились следствием перехода самолета на сверхзвуковую скорость», — пояснили в МЧС. В ведомстве также рассказали, что электроснабжение в Зареченском районе города восстановлено, причиной стала техническая неисправность, авария ликвидирована. Ранее в единой диспетчерской службе (ЕДДС) Тулы сообщили, что в Зареченском районе почти пять тысяч человек остались без света из-за аварийного отключения электроэнергии. Электричество отключилось на улицах Заварная, Карпова, Максима Горького. Без света остались 4832 жителя, в том числе 471 ребенок.'}\n",
            "{'headline': 'В Китае назвали способ урегулировать конфликт на Украине', 'description': 'Зампредседателя КНР Хань Чжэн на Генассамблее ООН в Нью-Йорке предположил, каким образом возможно урегулировать конфликт на Украине. «Прекращение огня и начало мирных переговоров — единственный путь к решению украинского кризиса», — отметил он. Слова политика приводит РИА Новости.', 'body': 'Зампредседателя КНР Хань Чжэн на Генассамблее ООН в Нью-Йорке предположил, каким образом возможно урегулировать конфликт на Украине. Его слова приводит РИА Новости. Политик назвал способ урегулировать конфликт на Украине и призвал стороны прийти к прекращению огня. Он подчеркнул, что диалог является важным средством достижения международного партнерства в области безопасности. «Прекращение огня и начало мирных переговоров — единственный путь к решению украинского кризиса. Китай поддерживает все усилия, направленные на мирное решение украинского кризиса, продолжит играть конструктивную роль в скорейшем достижении установления мира», — отметил он. Ранее Китай призвал создать условия для урегулирования конфликта на Украине. С таким предложением выступил вице-министр иностранных дел страны Ма Жаошу. 24 февраля 2023 года Китай представил план мирного урегулирования конфликта на Украине из 12 пунктов. Главными предложениями Пекина стали возобновление мирных переговоров и прекращение военных действий.'}\n",
            "{'headline': 'В США рассказали о показанной Шойгу в Иране «странной» ракете', 'description': 'Министру обороны России Сергей Шойгу в ходе визита в Тегеран показали «странную» барражирующую ракету класса «земля-воздух» иранской разработки, известную в США как 358. Об этом рассказывает The Drive. Издание пишет, что информации о 358 и ее возможностях в открытых источниках мало.', 'body': 'Министру обороны России Сергей Шойгу в ходе визита в Тегеран показали «странную» барражирующую ракету класса «земля-воздух» иранской разработки, известную в США как 358. Об этом рассказывает американское издание The Drive. Отмечается, что образцы этого оружия, о котором в США впервые узнали в 2019 году, Иран поставляет своим союзникам в Йемене и Ираке. Издание пишет, что информации о 358 и ее возможностях в открытых источниках мало. В частности, отмечается, что 2,4-метровая ракета цилиндрической формы имеет три группы крыльев, предназначенных для маневрирования и планирования в полете, и оснащена инерциальной и спутниковой навигационными системами. Запускается с земли 358 при помощи твердотопливного ускорителя, в дальнейшем движение происходит посредством воздушно-реактивной двигательной установки. По оценке американской стороны, на которую ссылается издание, изделие 358 скорее всего представляет собой необычное средство противовоздушной обороны (ПВО), предназначенное, в частности, для барражирования в воздухе, поиска целей и их уничтожения. «Концепция, лежащая в основе ракеты 358, очень интригует. Если оружие работает так, как описано, его можно будет запустить в прифронтовые районы, где ожидается прибытие дронов или вертолетов», — говорится в публикации. Отмечается, что противодействию 358 может мешать не только необычный режим работы ракеты, но и ее низкая стоимость вместе с простотой развертывания. Ранее Шойгу в ходе визита в Тегеран посетил выставку аэрокосмических сил Корпуса стражей исламской революции (КСИР) Ирана, где ему показали ракеты и беспилотники иранского производства.'}\n",
            "{'headline': 'Захарова высмеяла встречу Байдена с Зеленским', 'description': 'Официальный представитель МИД России Мария Захарова разместила в своем Telegram-канале видео с фрагментом встречи в Вашингтоне президента США Джо Байдена с украинским коллегой Владимиром Зеленским и высмеяла обстановку на их пресс-конференции. «Прекрасно все: мимика, антураж, атмосфера», — сыронизировала она.', 'body': 'Официальный представитель МИД России Мария Захарова в своем Telegram-канале разместила видео с фрагментом встречи в Вашингтоне президента США Джо Байдена с украинским коллегой Владимиром Зеленским и высмеяла обстановку на их пресс-конференции. На видео лидеры двух стран сидят в комнате с журналистами, вероятно, в преддверии совместной пресс-конференции. При этом Зеленский выглядит растерянным, а Байден молча улыбается, осматривая собравшуюся толпу репортеров. «Прекрасно все: мимика, антураж, атмосфера», — сыронизировала Захарова. Ранее стало известно, что Байден во время встречи с Зеленским заверил его в решительности американцев в вопросе обеспечения сохранения международной поддержки Украины. Он добавил, что государства «Большой семерки» (G7) вместе с другими странами занялись процессом формализации долгосрочных обязательств перед Киевом в вопросах безопасности.'}\n",
            "{'headline': 'Байден подтвердил скорое прибытие танков Abrams на Украину', 'description': 'Президент США Джо Байден заявил, что Украина получит поставку американских танков Abrams на следующей неделе. Ранее Пентагон раскрыл срок поставки танков Abrams на Украину. Официальный представитель ведомства Патрик Райдер уточнил, что это произойдет «в ближайшие дни и недели». ', 'body': 'Президент США Джо Байден заявил, что Украина получит поставку американских танков Abrams на следующей неделе. Его слова приводит РИА Новости. По итогам переговоров с Владимиром Зеленским в Белом доме Байден подтвердил скорое прибытие танков Abrams на Украину. В ходе встречи Байден также заверил Зеленского в решимости США обеспечить сохранение поддержки Киева. По словам американского лидера, что государства «Большой семерки» (G7) вместе с другими странами начали разрабатывать долгосрочные обязательства перед Украиной в вопросах безопасности. Ранее Пентагон раскрыл срок поставки танков Abrams на Украину. Официальный представитель ведомства Патрик Райдер уточнил, что это произойдет «в ближайшие дни и недели». Ранее США обещали передать Украине батальонный комплект танков Abrams из 31 единицы.'}\n",
            "{'headline': 'Суд на Украине отказался арестовать активы олигарха Коломойского', 'description': 'Судья Высшего антикоррупционного суда (ВАКС) Украины Олег Ткаченко отказался рассмотреть ходатайство Национального антикоррупционного бюро Украины с просьбой арестовать активы олигарха Игоря Коломойского, об этом сообщил «Центр противодействия коррупции». Арест нужен для конфискации в случае обвинительного приговора.', 'body': 'Судья Высшего антикоррупционного суда (ВАКС) Украины Олег Ткаченко отказался рассмотреть ходатайство Национального антикоррупционного бюро Украины (НАБУ) с просьбой арестовать активы олигарха Игоря Коломойского, об этом в Telegram-канале сообщил «Центр противодействия коррупции». Речь идет о долях в уставном капитале 307 юридических лиц на сумму более 81,2 миллиона долларов, почти тысячи объектов недвижимости, более 1,6 тысячи транспортных средств и судов. В «Центре противодействия коррупции» пояснили, что арест был необходим для конфискации этого имущества в случае обвинительного приговора Коломойскому. Там отметили, что на основании постановления НАБУ на активы был наложен арест на 48 часов, в дальнейшем его должен продлить следственный судья ВАКС. Ходатайство было на рассмотрении у Олега Ткаченко более десяти дней вместо положенных 48 часов, после чего он закрыл дело без рассмотрения. Ранее сообщалось, что Коломойскому предъявили новые обвинения. Его подозревают в организации подделки документов на перевод средств, организации завладения чужим имуществом организованной группой в особо крупных размерах, в приобретении и распоряжении имуществом, полученным преступным путем. '}\n",
            "{'headline': \"Популярная модель попала на обложку журнала Harper's Bazaar топлес\", 'description': \"Популярная модель Амелия Хэмлин стала героиней обложки нового номера журнала Harper's Bazaar France. 22-летняя знаменитость позировала перед фотографом топлес, прикрывая оголенную грудь руками. Манекенщица попала на обложку издания в юбке белого цвета с аппликациями в виде цветов.\", 'body': \"Популярная модель Амелия Хэмлин стала героиней обложки нового номера журнала Harper's Bazaar France. Соответствующий кадр опубликован на сайте издания. 22-летняя знаменитость позировала перед фотографом топлес, прикрывая оголенную грудь руками. Манекенщица попала на обложку в юбке белого цвета с аппликациями в виде цветов. Ее образ дополнял массивный головной убор и акцентный макияж с абстрактными стрелками. При этом волосы инфлюэнсера были распущены. Известно, что автором съемки выступил фотограф Карим Садли. Ранее в сентябре Кайя Гербер также снялась в откровенной одежде для журнала W. В том числе она позировала в обнажающем грудь металлическом топе бренда Rabanne золотистого оттенка с чашками в виде цветов и в платье Celine с декольте до талии.\"}\n",
            "{'headline': 'Байден утвердил новый пакет военной помощи Украине', 'description': 'Президент Соединенных Штатов Джо Байден рассказал, что утвердил новый пакет военной помощи Украине. Американский лидер добавил, он включает еще больше артиллерии, снарядов, противотанкового вооружения, а также вторую батарею ПВО Hawk, пусковые установки и системы перехвата.', 'body': 'Президент США Джо Байден рассказал, что утвердил новый пакет военной помощи Украине, сообщает РИА Новости. «Сегодня я одобряю новый транш американской оборонной помощи Украине, он включает еще больше артиллерии, снарядов и противотанкового вооружения», — заявил он. Американский лидер отметил, что Киев также получит второй зенитный ракетный комплекс (ЗРК) Hawk, добавив, что Вооруженные силы Украины (ВСУ) будут получать аналогичные системы каждый месяц в течение зимы. Помимо этого им передадут пусковые установки и системы перехвата. Ранее ветеран американской армии Ноктис Дрейвен прокомментировал визит президента Украины Владимира Зеленского в США. Он заявил, что провал Зеленского в ООН ведет к новому этапу конфликта на Украине — к его завершению.'}\n",
            "{'headline': 'МИД Армении призвал ООН направить миссию в Карабах', 'description': 'Глава МИД Армении Арарат Мирзоян на заседании Совбеза ООН призвал международную организацию направить миссию для оценки ситуации в Нагорном Карабахе. Министр призвал Совет безопасности показать свой авторитет и предпринять ряд действий, в том числе осудить возобновление боевых действий и ударов.', 'body': 'Глава МИД Армении Арарат Мирзоян на заседании Совбеза ООН призвал международную организацию направить миссию для оценки ситуации в Нагорном Карабахе. Его слова приводит РИА Новости. Министр призвал Совет безопасности показать свой авторитет и предпринять ряд действий. В первую очередь это осуждение возобновления боевых действий и ударов по гражданским поселениям и инфраструктуре. Также Совбезу следует потребовать полного исполнения обязательств по гуманитарному праву, в том числе защиту мирных граждан, а также направить миссию, в которую войдут сотрудники различных агентств, чтобы дать оценку ситуации с правами человека, гуманитарной ситуации и обстановки в сфере безопасности. Мирзоян призвал создать возможности для формирования уполномоченных ООН миротворческих сил для поддержания стабильности в регионе. Ранее помощник генерального секретаря ООН Мирослав Енча в ходе выступления на заседании Совбеза рассказал о готовности организации поддержать мирные усилия по Нагорному Карабаху. Он подчеркнул, что ООН поддерживает контакты со всеми сторонами конфликта. 19 сентября в Минобороны Азербайджана проинформировали о начале локальных антитеррористических мероприятий в Нагорном Карабахе. Впоследствии Баку приостановил операцию и предоставил Еревану проект мирного соглашения.'}\n",
            "{'headline': 'Вучич отметил развитие отношений с США и Россией', 'description': 'Президент Сербии Александр Вучич во время своего выступления на Генеральной ассамблее Организации Объединенных Наций (ГА ООН) рассказал, что страна развивает отношения с США и странами Африки, Азии и Латинской Америки, при этом не обрывая важные и исторические связи с Россией.', 'body': 'Президент Сербии Александр Вучич во время своего выступления на Генеральной ассамблее Организации Объединенных Наций (ГА ООН) рассказал, что страна развивает отношения с США и странами Азии и Африки, при этом не обрывая связи с Россией, сообщает РИА Новости. «Сейчас у Сербии хорошее сотрудничество с США, почти отличное, и мы верим, что наши отношения станут только лучше в будущем», — заявил он. Сербский лидер отметил, что Белград намерен поддерживать дружеские отношения с государствами на всех континентах и гордится хорошими отношениями со странами Африки, Азии и Латинской Америки. Вучич также подчеркнул, что, несмотря на партнерство с Вашингтоном, Сербия не намерена прерывать важные и исторические связи с Россией. Ранее Вучич выступил на ГА ООН, прокомментировав конфликт на Украине. Он напомнил, что почти все страны Запада совершили ошибку, нарушив Устав ООН и резолюцию 1244 Совбеза ООН в Косово и напав на Сербию. Он уточнил, что это случилось 24 и 15 лет назад.'}\n",
            "{'headline': '«Молдовагаз» заявил о необоснованной позиции Кишинева по долгу перед «Газпромом»', 'description': 'Председатель правления газотранспортной компании «Молдовагаз» Вадим Чебан заявил, что Кишинев не обосновал позицию по долгу перед «Газпромом» по итогам аудита. «Это не аудит, а документ консультативного характера. Без утверждения акционеров \"Молдовагаза\" этот отчет не имеет никакой юридической силы», — подчеркнул он.', 'body': 'Председатель правления газотранспортной компании «Молдовагаз» Вадим Чебан заявил, что Кишинев не обосновал позицию по долгу перед «Газпромом». Его слова приводит ТАСС. Правительство Молдавии не признает задолженность и считает, что по результатам проведенного по заказу кабмина аудита должно выплатить российской копании лишь 8,6 миллиона долларов вместо заявленных 709 миллионов. «Это не аудит, а документ консультативного характера. Без утверждения акционеров \"Молдовагаза\" этот отчет не имеет никакой юридической силы», — подчеркнул Чабан. Он добавил, что аудит во многом базировался не на фактах, а на предположениях, он опирается на субъективные мнение проводивших его консультантов. Глава компании также обратил внимание на то, что авторы отчета не провели независимую проверку достоверности документов. Ранее министр энергетики Молдавии Виктор Парликов заявил, что правительство страны готово погасить задолженность перед «Газпромом» за поставки газа в прошлые годы, только в том объеме, который показал независимый аудит «Молдавгаза» — 8,6 миллиона долларов. При этом сумма требований «Газпрома» составляет 709 миллионов долларов, из которых 433 миллиона являются основной суммой, а остальное — пеня за просрочку платежей.'}\n",
            "{'headline': 'В США раскрыли стоимость нового пакета помощи Киеву', 'description': 'Госсекретарь США Энтони Блинкен рассказал, на какую сумму Вашингтон предоставит новую военную помощь Киеву. По его словам, она оценивается в 128 миллионов долларов. Поставки еще на 197 миллионов пойдут из выделенных ранее пакетов помощи. Заявление Блинкена опубликовано на сайте Госдепа.', 'body': 'Госсекретарь США Энтони Блинкен рассказал, на какую сумму Вашингтон предоставит новую военную помощь Киеву. Заявление Блинкена опубликовано на сайте Госдепа. Блинкен раскрыл стоимость нового пакета помощи Киеву и подчеркнул, что он оценивается в 128 миллионов долларов. Поставки еще на 197 миллионов пойдут из выделенных ранее передач. «В рамках полномочий, делегированных мне президентом, я санкционирую дополнительное военное содействие Украине, которой будет предоставлено американских вооружений и оборудования на 128 миллионов долларов со складов министерства обороны», — уточнил он. Ранее президент США Джо Байден утвердил новый пакет военной помощи Украине. Он уточнил, что помощь включает в себя еще больше артиллерии, снарядов и противотанкового вооружения. Кроме того, американский лидер подтвердил скорое прибытие танков Abrams на Украину. Байден подчеркнул, что это произойдет на следующей неделе.'}\n",
            "{'headline': 'Буркина-Фасо захотела сотрудничать с Россией в сфере безопасности', 'description': 'Буркина-Фасо хочет наладить сотрудничество с Россией в сфере безопасности. От этом журналистам рассказала глава МИД африканского государства Оливия Руамба. По словам дипломата, этот вопрос был затронут в ходе переговоров с российским министром иностранных дел России Сергеем Лавровым. ', 'body': 'Буркина-Фасо хочет наладить сотрудничество с Россией в сфере безопасности. От этом журналистам рассказала глава МИД африканского государства Оливия Руамба, передает корреспондент «Ленты.ру». По словам дипломата, этот вопрос был затронут в ходе переговоров с российским министром иностранных дел России Сергеем Лавровым. «С 2015 года Буркина-Фасо сталкивается с серьезной террористической угрозой. И мы призываем наших партнеров, имеющих опыт в этой сфере, помочь нам. Россия — одна из наших ближайших партнеров», — отметила Руамба. В конце августа министр обороны и по делам ветеранов Буркина-Фасо Кассум Кулибали заявил, что страна приобретает у России вооружение «по хорошей цене» и заинтересована в продолжении этого сотрудничества. '}\n",
            "{'headline': 'Лавров обсудил с главой МИД Буркина-Фасо ситуацию вокруг Нигера', 'description': 'Российский министр иностранных дел Сергей Лавров обсудил с коллегой из Буркина-Фасо Оливией Руамбой ситуацию вокруг Нигера, где ранее произошел государственный переворот. «Мы считаем, что необходимо отдать приоритет дипломатическому разрешению этой ситуации», — отметила Руамба. ', 'body': 'Российский министр иностранных дел Сергей Лавров обсудил с коллегой из Буркина-Фасо Оливией Руамбой ситуацию вокруг Нигера, где ранее произошел государственный переворот. Об этом рассказала сама глава МИД африканского государства корреспонденту «Ленты.ру». Дипломат рассказала, что на переговорах с Лавровым затронула события в Нигере и угрозу интервенции в страну со стороны Экономического сообщества западноафриканских государств (ЭКОВАС). «Мы считаем, что необходимо отдать приоритет дипломатическому разрешению этой ситуации», — отметила Руамба. Глава МИД Буркина-Фасо подчеркнула, что военное вмешательство ЭКОВАС может обернуться серьезными гуманитарными последствиями, и напомнила о плачевном состоянии Ливии. «И мы все скрещиваем пальцы в надежде, что в этот раз будет все будет разрешено мирно», — заявила Руамба. Госпереворот в Нигере произошел 26 июля. Соседние страны, входящие в ЭКОВАС, заявили в августе, что планируют военную интервенцию с целью восстановления конституционного порядка в африканском государстве. Участники объединения разработали соответствующие военные планы, однако пока так и не предприняли попытку военного вмешательства и пытаются урегулировать ситуацию дипломатическим путем. При этом в середине сентября стало известно, что Буркина-Фасо, Мали и Нигер подписали хартию о создании организации коллективной обороны. Как отметил президент переходного периода Мали полковник Ассими Гоита, новый альянс позволит не только обеспечить безопасность этих стран, но и благополучие их народов.'}\n",
            "{'headline': 'Шестерых студентов исключили из университета за мастурбацию на волейболе', 'description': 'В Бразилии шестерых студентов мужского пола исключили из университета после случая с групповой мастурбацией на трибуне. Скандал разразился после того, как в сети разошлось видео, на котором шестеро учащихся Университета Санто-Амаро в Сан-Паулу мастурбируют со спущенными штанами во время женского волейбольного матча.', 'body': 'В Бразилии студентов исключили из университета после случая групповой мастурбации на трибуне во время волейбольного матча женских команд. Об этом пишет портал Globo.com Скандал разразился после того, как в сети разошлось видео, на котором запечатлено, как шестеро учащихся медицинского факультета Университета Санто-Амаро в Сан-Паулу мастурбируют на скамьях для зрителей во время женского волейбольного матча. В финале игры, после победы команды университета, парни выбежали на площадку и продолжили трогать свои половые органы на глазах болельщиков и игроков. Инцидент произошел еще в апреле, однако ролик стал вирусным только в сентябре. Когда СМИ обратились в связи с этим к администрации университета, им сообщил, что всех шестерых студентов исключили после произошедшего. При этом видео вызвало такой резонанс в обществе, что его попросили прокомментировать даже президента Бразилии, причем прямо перед заседанием ООН в Нью-Йорке. «Отвратительный эпизод, недопустимое поведение для молодых людей, которые учатся в университете и собираются стать медиками, чтобы заботиться о людях. Я категорически осуждаю произошедшее. Недопустимо, чтобы будущие врачи так неуважительно вели себя по отношению к женщинам и оскорбляли общественную мораль», —\\xa0сказал Луис Игнасио Лула да Силва. В настоящий момент полиция Сан-Паулу расследует апрельское происшествие. Против возмутителей общественного порядка может быть возбуждено административное дело. Ранее сообщалось о мужчине из США, который отказался от мастурбации и просмотра порно и стал миллионером. 40-летний Крис Каваллини рассказал журналистам, что решение прекратить мастурбировать позволило ему сфокусироваться на личностном росте, спорте и разбогатеть за счет собственного бизнеса.'}\n",
            "{'headline': 'На Украине признали риск потери поддержки западных стран', 'description': 'Обозреватель украинского издания «Главком» Виктор Балога заявил, что Киев сильно зависит от своих союзников, отметив, что во многих государствах, которые оказывают ему помощь, в скором времени должны пройти выборы, в связи с чем необходимо хорошо подумать перед тем, как публично отчитывать ту или иную страну.', 'body': 'Обозреватель украинского издания «Главком» Виктор Балога отметил постепенное изменение в странах Запада отношения к помощи Киеву и признал наличие риска потерять дальнейшую поддержку со стороны союзников. «Участники предвыборных гонок в странах-союзницах разыгрывают \"украинскую карту\" в негативном для нас контексте — это говорит о серьезных проблемах нашей внешней политики», — сказано в статье. По его мнению, Украина может потерять поддержку со стороны действующей или новой власти на Западе. Балога подчеркнул сильную зависимость Киева от партнеров, добавив, что во многих государствах, которые оказывают ему помощь, в скором времени должны пройти выборы, в связи с чем властям Украины необходимо хорошо подумать перед тем, как публично высказывать недовольства в отношении той или иной страны. Ранее зампредседателя КНР Хань Чжэн на Генассамблее ООН в Нью-Йорке предположил, каким образом возможно урегулировать конфликт на Украине. Он подчеркнул, что диалог является важным средством достижения международного партнерства в области безопасности.'}\n",
            "{'headline': 'Белый дом заявил о подготовке плана на случай шатдауна в США', 'description': 'Различные ведомства США готовят план на случай прекращения финансирования правительства и приостановки его работы — шатдауна. Об этом заявила пресс-секретарь Белого дома Карин Жан-Пьер. Она подчеркнула, что лучшим планом в настоящее время является недопущение остановки финансирования правительства.', 'body': 'Различные ведомства США готовят план на случай прекращения финансирования правительства и приостановки его работы — шатдауна. Об этом заявила пресс-секретарь Белого дома Карин Жан-Пьер, ее слова приводит РИА Новости. «У меня нет конкретики на этот счет, но, конечно, ведомства работают над планом на случай, если такое произойдет», — отметила представитель американской администрации. Жан-Пьер подчеркнула, что лучшим планом в настоящее время является недопущение остановки финансирования правительства. Ранее газета Politico сообщила, что приостановка работы американского правительства, которая может произойти из-за невозможности согласовать и принять бюджет на финансовый год, поставит под угрозу обучение украинских солдат и отправку оружия Киеву.'}\n",
            "{'headline': 'В США заявили о равнодушии Зеленского к речи Байдена на Генассамблее ООН', 'description': 'Бывший разведчик американских Вооруженных сил Тони Шаффер прокомментировал выступление президента США Джо Байдена на Генассамблее ООН. «А у Зеленского лицо такое, будто он изо всех сил старается удержать в желудке буррито, который съел на завтрак. В общем, что там говорит Джо Байден, никому не интересно», — указал он.', 'body': 'Бывший разведчик американских Вооруженных сил Тони Шаффер прокомментировал выступление президента США Джо Байдена на Генеральной Ассамблее ООН. Об этом он высказался в интервью YouTube-каналу Judging Freedom. Шаффер подчеркнул, что выступление Байдена на Генассамблее ООН слушали без особого интереса. Так, собравшиеся в зале смотрели в свои телефоны и не уделяли ему должного внимания. По мнению военного, президент Украины Владимир Зеленский также проявил равнодушие к речи американского коллеги. «А у Зеленского лицо такое, будто он изо всех сил старается удержать в желудке буррито, который съел на завтрак. В общем, что там говорит Джо Байден, никому не интересно», — заявил экс-разведчик. Ранее Байден на Генассамблее ООН призвал весь мир продолжать поддерживать Украину. «Мы должны противостоять неприкрытой агрессии сегодня и сдерживать потенциальных агрессоров завтра», — подчеркнул он.'}\n",
            "{'headline': 'В Минэнерго раскрыли подробности о запрете на экспорт топлива', 'description': 'Первый замминистра энергетики России Павел Сорокин прокомментировал запрет на экспорт бензина и дизельного топлива, который направлен для стабилизации внутреннего рынка. Ограничения он назвал бессрочными и подчеркнул, что они «прикрывают» возможность купить топливо для недобросовестных участников рынка.', 'body': 'Первый замминистра энергетики России Павел Сорокин прокомментировал запрет на экспорт бензина и дизельного топлива, который направлен для стабилизации внутреннего рынка. Видео с его заявлением опубликовано в Telegram-канале ведомства. Сорокин раскрыл подробности о запрете на экспорт топлива и подчеркнул, что мера даст эффект очень быстро, поскольку остановит «вымывание». Ограничения он назвал бессрочными и подчеркнул, что они «прикрывают» возможность купить топливо для недобросовестных участников рынка. Представитель Минэнерго добавил, что надеется, что в результате действия запрета на рынке возникнет избыток топлива, что повлияет на его оптовую стоимость. 21 сентября премьер-министр России Михаил Мишустин подписал документ, устанавливающий ограничения на экспорт бензина и дизельного топлива для стабилизации внутреннего рынка. В кабмине уточнили, что это временные ограничения, которые помогут снизить цены на топливо для потребителей. В министерстве добавили, что решение поможет бороться с серыми экспортерами, которые вывозят за рубеж топливо, приобретенное для внутреннего рынка.'}\n",
            "{'headline': 'Зеленский прокомментировал новый пакет военной помощи США Украине', 'description': 'Президент Украины Владимир Зеленский прокомментировал выделение США нового пакета военной помощи Киеву, отметив, что он очень необходим стране. При этом он ничего не сказал по поводу оперативно-тактических ракет ATACMS, которые Киев ранее просил у США, но они не были включены в пакет военной помощи.', 'body': 'Президент Украины Владимир Зеленский прокомментировал выделение США нового пакета военной помощи Киеву, отметив, что он очень необходим стране, сообщает ТАСС. «Это именно то, что необходимо нашим солдатам», — заявил украинский лидер во время встречи с американским коллегой Джо Байденом в Вашингтоне. При этом он ничего не сказал по поводу оперативно-тактических ракет ATACMS, которые Киев ранее просил у США, однако в итоге они не фигурируют в списке планируемых поставок Украине. Ранее госсекретарь США Энтони Блинкен раскрыл стоимость нового пакета помощи Киеву и подчеркнул, что она оценивается в 128 миллионов долларов. Поставки еще на 197 миллионов пойдут из выделенных ранее передач.'}\n",
            "{'headline': 'Лавров встретился с генеральным секретарем ООН в Нью-Йорке', 'description': 'Глава МИД России Сергей Лавров встретился с генеральным секретарем ООН Антониу Гутерришем. Перед началом переговоров Лавров оставил запись в гостевой книге, пожал руку Гутерришу и сделал с ним совместное фото. Встреча прошла на полях 78-й сессии Генеральной Ассамблеи ООН в Нью-Йорке. ', 'body': 'Глава МИД России Сергей Лавров встретился с генеральным секретарем ООН Антониу Гутерришем. Об этом сообщает корреспондент «Ленты.ру». Встреча прошла на полях 78-й сессии Генеральной Ассамблеи ООН в Нью-Йорке. Перед началом переговоров Лавров оставил запись в гостевой книге, пожал руку Гутерришу и сделал с ним совместное фото. Неделя высокого уровня 78-сессии Генассамблеи ООН проходит с 18 по 26 сентября. Официальный представитель МИД России Мария Захарова заявила, что глава ведомства Сергей Лавров проведет встречу с генеральным секретарем организации Антониу Гутерришем в рамках ГА ООН. Всего российский министр запланировал порядка 20 двусторонних встреч. Захарова подчеркнула, что график участия Лаврова в сессии ГА ООН является насыщенным и регулярно дополняется.'}\n",
            "{'headline': 'Белый дом раскрыл темы обсуждения Байдена и Зеленского', 'description': 'В Белом доме раскрыли темы, которые обсуждались на встрече президентов США и Украины Джо Байдена и Владимира Зеленского. Отмечается, что лидеры двух стран поговорили об энергетике, экономике Украины, борьбе с коррупцией, а также сотрудничестве США с украинским военно-промышленным комплексом (ВПК).', 'body': 'В пресс-службе Белого дома раскрыли темы, которые обсуждались на встрече президентов США и Украины Джо Байдена и Владимира Зеленского. Отмечается, что лидеры двух стран поговорили об энергетике, экономике Украины, борьбе с коррупцией, а также сотрудничестве США с украинским военно-промышленным комплексом (ВПК), сообщает ТАСС. «Соединенные Штаты намерены укреплять обороноспособность Украины в долгосрочной перспективе, в том числе за счет налаживания партнерских отношений с украинской военно-промышленной базой», — сказано в заявлении американский администрации. В Белом доме добавили, что до конца осени планируется провести конференцию с представителями американского ВПК, предпринимателями из Украины, а также должностными лицами двух государств с целью обсуждения возможностей создания совместных предприятий. Ранее Зеленский прокомментировал выделение США нового пакета военной помощи Киеву, отметив, что он очень необходим стране.'}\n",
            "{'headline': 'Врач развеяла популярные мифы о старении', 'description': 'В старости физические и интеллектуальные способности человека при осознанном подходе к своему здоровью не только не снижаются, но и могут развиваться так же, как в молодости. Об этом рассказала врач-нейрореабилитолог, завотделением ранней медицинской реабилитации Госпиталя для ветеранов войн №2 Алиса Коротина.', 'body': 'В старости физические и интеллектуальные способности человека при осознанном подходе к своему здоровью не только не снижаются, но и могут развиваться так же, как в молодости. Об этом рассказала врач-нейрореабилитолог, завотделением ранней медицинской реабилитации Госпиталя для ветеранов войн №2 Депздрава Москвы Алиса Коротина. В беседе с «Лентой.ру» она развеяла популярные мифы о старении. Скорость старения зависит только от генетики «Продолжительность жизни наследуется в том числе и от наших ближайших родственников — это правда. Например, дети, чьи родители прожили больше 80 лет, имеют больше шансов на долгую жизнь. Но важно понимать, что здоровый и активный образ жизни, правильное питание, отказ от алкоголя и стабильный эмоциональный фон также влияют на продолжительность и качество жизни», — поделилась специалист. Организм начинает стареть после 35 лет  По словам врача, у каждого органа есть свой возраст старения. Основным и ключевым моментом в развитии человека является созревание мозга и всех его структур. В норме пиковое функционирование этого органа приходится на 25 лет, после чего он начинает работать менее активно. Однако в общепринятой медицинской практике считается, что старение организма начинается с 50 лет и зависит от общего состояния человека. «Есть понятие биологического возраста, и он может не совпадать с датой рождения в паспорте. Каждый человек индивидуален и процессы старения также будут происходить индивидуально. Внешне возраст можно определить по тургору кожи, морщинам на шее и запястьях, но и эти признаки могут быть обманчивы. Если человек злоупотребляет алкоголем, имеет никотиновую зависимость и не получает достаточное количество витаминов и минералов, то кожа будет стареть быстрее», — высказалась реабилитолог. Пожилым людям не нужен секс Секс в пожилом возрасте не только возможен, но и полезен для здоровья, отметила собеседница «Ленты.ру». Если у человека с возрастом падает либидо или имеются другие проблемы интимного характера, ему обязательно необходимо обратиться к врачу. Некоторые продукты могут замедлить старение Как таковые продукты не могут значимо замедлить процесс старения, однако на продолжительность жизни на 60 процентов влияют факторы окружающей среды, рассказала врач. Она привела в пример долгожителей из южных стран со средиземноморской диетой и горным воздухом, который обогащен кислородом. Вместе с тем Коротина посоветовала ежедневно выпивать 1,5-2 литра чистой воды. Дело в том, что, чем меньше человек потребляет жидкости, тем хуже происходят обменные процессы и быстрее стареет организм. Чтобы отсрочить старение, врач рекомендовала ежегодно проходить плановую диспансеризацию для недопущения развития хронических заболеваний. Если они уже имеются — вставать на диспансерный учет и наблюдать за состоянием своего здоровья. Кроме того, стоит вести здоровый и активный образ жизни, не пренебрегать ежедневными прогулками на свежем воздухе, делать утреннюю зарядку и растяжку. «В завершении отмечу, что острый ум и светлую память тренируют и сохраняют различные сферы интеллектуальной деятельности. Не пренебрегайте чтением книг, газет, журналов, статей, всегда занимайтесь поиском интересующей вас информации, учите стихи, чаще общайтесь с близкими и друзьями», — подытожила она. Ранее дерматокосметолог, основатель клиники Nonparelle Галина Заросиленко рассказала об особенностях старения женщин со славянской внешностью. С возрастом их лица становятся отекшими и потяжелевшими, предупредила она.'}\n",
            "{'headline': 'В США предложили оказать военную помощь Армении', 'description': 'Межпартийная группа сенаторов США представила законопроект об оказании Армении помощи. В рамках инициативы они также предложили ввести санкции против Азербайджана из-за обострения в Нагорном Карабахе. Сенаторы предложили восстановить запрет на большую часть американского содействия правительству Азербайджана.', 'body': 'Межпартийная группа сенаторов США представила законопроект об оказании Армении помощи. В рамках инициативы они также предложили ввести санкции против Азербайджана из-за обострения в Нагорном Карабахе, передает РИА Новости. В рамках проекта политики предложили восстановить запрет на большую часть американского содействия правительству Азербайджана, а также выделить средства на военную помощь Армении и гуманитарную помощь армянам Карабаха. Кроме того, они призвали ввести санкции против «режима [президент Азербайджана Ильхама] Алиева за его действия против армян». Автором документа стал председатель комитета по иностранным делам верхней палаты конгресса Роберт Менендес. Вместе с ним инициативу разработали четверо однопартийцев-демократов и один республиканец. «Этот экстренный двухпартийный законопроект консолидирует нашу коллективную поддержку армян и шлет ясный сигнал народу Нагорного Карабаха, что США не останутся безучастны, пока режим Алиева проводит свои жестокие кампании голода и военных действий», — заключил Менендес. Ранее Азербайджан заверил Армению в готовности к искреннему диалогу. С таким заявлением выступил министр иностранных дел Азербайджана Джейхун Байрамов. 19 сентября в Минобороны Азербайджана проинформировали о начале локальных антитеррористических мероприятий в Нагорном Карабахе. Впоследствии Баку приостановил операцию и предоставил Еревану проект мирного соглашения.'}\n",
            "{'headline': 'Россия обвинила США в готовности передать Киеву самые опасные вооружения', 'description': 'Посольство России в Вашингтоне обвинило США в готовности передать Киеву самые опасные вооружения, чтобы «поддержать на плаву провалившееся контрнаступление». Таким образом дипмиссия прокомментировала очередной пакет американской помощи Украине. Там отметили, что решение администрации не вызывает удивления.', 'body': 'Посольство России в Вашингтоне в Telegram-канале обвинило США в готовности передать Киеву самые опасные вооружения ради того, чтобы «поддержать на плаву провалившееся контрнаступление». Таким образом дипмиссия прокомментировала очередной пакет американской помощи Украине. Там отметили, что решение администрации Соединенных Штатов уже не вызывает удивления, и назвали новые военные поставки «утешительным подарком». «Здесь готовы поставлять украинцам все что угодно, любую, самую опасную продукцию военного назначения. Лишь бы дать возможность хоть как-то поддержать на плаву провалившееся контрнаступление», — заявили в посольстве. Ранее президент США Джо Байден рассказал, что утвердил новый пакет военной помощи Украине, он включает еще больше артиллерии, снарядов и противотанкового вооружения.  Киев также получит второй зенитный ракетный комплекс (ЗРК) Hawk.'}\n",
            "{'headline': 'В России раскрыли возможности новейшего подводного титанового беспилотника', 'description': 'Заместитель генерального директора ЦКБ «Рубин» Андрей Баранов раскрыл способности новейшего российского титанового беспилотника «Аргус». Подводный аппарат может полгода лежать на дне на глубине до шести километров и ждать команду к работе. Корпус сделан из композитных материалов на титановом «скелете».', 'body': 'Заместитель генерального директора ЦКБ «Рубин» Андрей Баранов раскрыл возможности новейшего российского титанового беспилотника «Аргус». Его слова приводит РИА Новости. Подводный аппарат может полгода лежать на дне на глубине до шести километров и ждать команду к работе. Корпус сделан из композитных материалов на титановом «скелете». Баранов отметил, что для эффективного обследования состояния трубопроводов под водой необходимо иметь самодостаточную подводную инфраструктуру. Подводное причальное устройство позволит беспилотнику заряжать аккумуляторные батареи и обеспечит информационный обмен с центром управления на берегу. Таким образом, «Аргусу» не нужны надводные обеспечивающие суда, что существенно снижает затраты на эксплуатацию.Автономный необитаемый подводный аппарат был представлен на форуме «Армия-2023». Ранее стало известно, что научно-производственное объединение (НПО) «Андроидная техника» развернет серийное производство электродвигателей для российских беспилотных летательных аппаратов (БПЛА) к концу года. Об этом сообщил исполнительный директор предприятия Евгений Дудоров. '}\n",
            "{'headline': 'Премьер Канады анонсировал визит Зеленского', 'description': 'Премьер-министр Канады Джастин Трюдо анонсировал визит в страну украинского президента Владимира Зеленского с 21 по 22 сентября с целью подтвердить намерения Оттавы продолжать оказывать военную, экономическую, гуманитарную поддержку и поддержку развития Украины столько, сколько потребуется.', 'body': 'Премьер-министр Канады Джастин Трюдо анонсировал визит в страну украинского президента Владимира Зеленского с 21 по 22 сентября, сообщает РИА Новости. «Премьер-министр Трюдо встретится с Зеленским, чтобы подтвердить, что Канада продолжает оказывать военную, экономическую, гуманитарную поддержку и поддержку развития Украине», — заявил он, отметив, что Оттава будет помогать Киеву столько, сколько потребуется. Отмечается, что помимо этого в канадской столице пройдет церемония подписания соглашения, подразумевающего продолжение укрепления экономических связей между двумя государствами. Также Зеленский намерен обратиться к парламенту. Ранее в пресс-службе Белого дома раскрыли темы, которые обсуждались на встрече президентов США и Украины Джо Байдена и Владимира Зеленского. Лидеры двух стран поговорили об энергетике, экономике Украины, борьбе с коррупцией, а также сотрудничестве США с украинским военно-промышленным комплексом (ВПК).'}\n",
            "{'headline': 'Стало известно о попытках Украины завербовать российских офицеров через WhatsApp', 'description': 'Украинские спецслужбы пытаются завербовать российских офицеров через мессенджеры, в частности через WhatsApp, об этом рассказал РИА Новости военнослужащий. Им предлагали за вознаграждение предоставить данные, координаты расположения войск и техники, а также обещали помочь с выездом в третьи страны.', 'body': 'Украинские спецслужбы пытаются завербовать российских офицеров через мессенджеры, в частности через WhatsApp, об этом рассказал РИА Новости военнослужащий. Он отметил, что на него вышел украинский представитель, представился от имени его друга, готового помочь в определенных вопросах. Собеседник агентства понял, что его пытаются спровоцировать на военное преступление, о чем доложил командованию. Дальнейший диалог шел под контролем российских спецслужб. «С ними также завязалась переписка по мессенджеру в WhatsApp, в ходе которой они за денежное вознаграждение предлагали мне предоставлять данные, координаты расположения техники, войск, личного состава, командных, наблюдательных пунктов», — сообщил офицер. В дальнейшем ему предложили два варианта. В первом за предоставление информации обещали выплатить вознаграждение и дополнительную сумму при подтверждении уничтожения указанной техники. Во втором — предлагали вывезти военнослужащего в третьи страны «под защиту международных наблюдателей». Офицер добавил, что вербовщики пытались оказывать эмоциональное давление, переходя от просьб к угрозам. В настоящее время контакт с ними прерван. Военнослужащий призвал товарищей быть бдительными и докладывать командирам или сотрудникам спецслужб о попытках вербовки. Ранее генерал-майор ФСБ в отставке Александр Михайлов заявил, что украинских вербовщиков отличает особый цинизм. По его словам, спецслужбы понимают, что отвечают за судьбы своих агентов, поэтому между ними обычно возникают взаимные обязательства. Но для украинских вербовщиков их нет. '}\n",
            "{'headline': 'Джиджи Хадид показала фигуру в бикини', 'description': 'Американская супермодель палестино-голландского происхождения Джиджи Хадид показала фигуру в откровенном наряде на новом фото. 28-летняя знаменитость разместила серию снимков в честь третьего дня рождения дочери Кхай. На одном из них она предстала в оранжевом бикини, демонстрируя кубики пресса в области живота и мышцы.', 'body': 'Американская супермодель палестино-голландского происхождения Джиджи Хадид показала фигуру в откровенном наряде на новом фото. Соответствующие кадры появились в ее Instagram-аккаунте (соцсеть запрещена в РФ; принадлежит корпорации Meta, которая признана в России экстремистской и запрещена). 28-летняя знаменитость разместила серию снимков в честь третьего дня рождения дочери Кхай. На одном из них она предстала в оранжевом бикини, демонстрируя кубики пресса в области живота и мышцы на теле. При этом звезда лежала на песке около моря рядом с многочисленными игрушками ребенка. «На этой неделе мы отмечали наши три года. Я так горжусь быть ее мамой. С днем рождения мою самую сладкую, умную, храбрую подругу! Ребенок мечты. И любовь всей моей жизни», — подписала Хадид пост, который набрал почти 2,5 миллиона лайков. Ранее в сентябре Джиджи Хадид снялась в шапке-ушанке для журнала. На размещенном снимке 28-летняя знаменитость предстала в клетчатом костюме желтого, синего и коричневого оттенков с укороченным свитером. На голове звезды надета массивная меховая шапка-ушанка.'}\n",
            "{'headline': 'В Германии предсказали крах Запада из-за Украины', 'description': 'Немецкий журналист Юлиан Репке прокомментировал выделение США нового пакета военной помощи Украине. Он отметил, что Киев не получил ряд запрашиваемых им вооружений, а западную коалиция, которая ему помогает, в конечном счете ожидает крах. По его словам, России остается просто сидеть сложа руки и ждать этого.', 'body': 'Немецкий журналист Юлиан Репке на своей странице в социальной сети X (бывший Twitter) прокомментировал выделение США нового пакета военной помощи Украине. Он отметил, что Киев не получил ряд запрашиваемых им вооружений, а западную коалиция, которая ему помогает, в конечном счете ожидает крах. «Ни ATACMS из США, ни Taurus из Германии, ни танков из Польши», — заявил Репке. По его словам, на фоне этого Россия может ничего не делать, а просто подождать, пока коалиция Запада рухнет сама. Ранее посольство России в Вашингтоне обвинило США в готовности передать Киеву самые опасные вооружения ради того, чтобы «поддержать на плаву провалившееся контрнаступление».'}\n",
            "{'headline': 'Женщины обнаружили, что мужчины все время думают о Римской империи. Почему парни по всему миру одержимы Древним Римом?', 'description': 'В соцсетях в сентябре широко распространился мем об интересе мужчин к Римской империи. Блогерши спрашивали своих мужей о том, как часто те думают о великой цивилизации, и удивлялись их ответам. Между тем женщины запустили свой аналог мема и рассказали, что занимает их мысли каждый день.', 'body': '«Почему мужчин так волнует Римская империя» —  этим вопросом тысячи пользовательниц соцсетей задались в сентябре. Многие из них по совету блогеров поинтересовались у бойфрендов и мужей, отцов и братьев, как часто те думают о когда-то великой цивилизации, и были удивлены тем, что Римская империя посещает их мысли как минимум раз в неделю. Неожиданный факт об увлечениях мужчин стал новым мемом: пользователи иронизируют над необычным, по их мнению, интересом; пытаются объяснить его причины, а также предлагают собственные «аналоги Римской империи», занимающие их воображение каждый день. «Как вообще можно не думать о Римской империи?» Родоначальницей тренда считают шведскую блогершу Саскию Корт, которая еще в сентябре 2022 года предложила подписчицам своего Instagram (соцсеть запрещена в России; принадлежит компании Meta, которая признана экстремистской и запрещена в РФ) спросить у любого парня, думает ли он о Римской империи. Девушки попробовали — и отчитались блогерше о результатах, которые она затем опубликовала в своем профиле. Оказалось, Древний Рим часто занимает умы мужчин — по признаниям некоторых, несколько раз в день. «Девушки, многие из вас не в курсе того, как часто мужчины думают о Римской империи. Спросите своего мужа или парня, или брата — их ответы вас удивят!» — подхватил эстафету уже в августе 2023 года шведский реконструктор и Instagram-блогер под ником Gaius Flavius. «Он говорит, что думает об этом раз в неделю! Не могу в это поверить», «Мой партнер сказал: \"Да, постоянно думаю! Как, черт возьми, им удавалось построить акведуки?\"», «Только что спросила своего парня, и теперь он рассказывает мне о римской архитектуре», — делились в комментариях озадаченные женщины. Вскоре тренд стал вирусным и перекочевал на другие площадки. Особую популярность он набрал в TikTok, где девушки выкладывали видео, на которых снимали на камеру реакцию своих мужчин на вопрос о том, как часто им на ум приходит Римская империя. «Практически каждый день», «Думаю об этом где-то каждые пару дней. Может быть, раз в неделю», — отвечали они. «Как вообще можно не думать о Римской империи?» — задался вопросом один из героев ролика. При этом некоторые мужчины в соцсетях заверяли, что стали исключением из правила. «Никогда об этом не думаю. Разве что меня на это натолкнет что-то прочитанное или какое-то обсуждение. Ну какой мужчина будет сидеть на обеде, есть сэндвич с ветчиной и думать: \"А норм такая у римлян была империя, правда?\"», — заявил один из пользователей Twitter. «Это буквально я», «Я так делаю», — возразили ему в комментариях. Римская империя объединила Дурова, Оксимирона и Стрелкова «Погодите, вы хотите сказать, что это ненормально — лежать в кровати ночью и думать о Римской империи?», «Я предупреждаю своего доктора, когда думаю о Римской империи дольше, чем четыре часа подряд», «Мысли, как и дороги, все ведут в Рим»,  — иронизировали над трендом на Reddit. Обсуждая мем, в Twitter не обошли вниманием Гая Юлия Цезаря — хотя, как им возразили комментаторы, Римская империя была создана уже после того, как заговорщики лишили жизни культового полководца. А пока одни пользователи разбирались в исторических тонкостях, другие попытались узнать, кто из известных личностей постоянно размышляет о судьбе Римской империи. Так, на фотографии основателя «ВКонтакте» и Telegram Павла Дурова они разглядели фигурку гладиатора. Отсылки к великой цивилизации также обнаружились в треке «Что такое империя?» рэпера Oксимирона (внесен Минюстом в реестр иноагентов). Кроме того, оказалось, что к Римской империи может быть неравнодушен бывший министр обороны ДНР Игорь Гиркин, известный как Игорь Стрелков, — в сети нашлись его фотографии в образе римского легионера. Другие знаменитые люди не постеснялись сами заявить о страсти к Древнему Риму. По словам предпринимателя Илона Маска, Римская империя занимает его ум каждый день. «Не знаю, что сказать о том, не думаю ли я слишком часто о Римской империи. Интересно, а как считают мои дочки Максима, Августа и Аурелия?» — пошутил глава Meta Марк Цукерберг, давно замеченный в любви к Древнему Риму. А легенда баскетбола Шакил О\\'Нил признался, что даже воображал, как бы выглядела его жизнь, родись он во времена правления римских императоров. Однако у поклонников Римской империи появились оппоненты, заявившие, что не меньше внимания заслуживают Османская империя и Древняя Греция. Многие пользователи сети также рассказали, что ежедневно задумываются совсем о других эпохах и явлениях — от динозавров до нераскрытых тайн вроде трагедии на перевале Дятлова. «Ты начинаешь замечать ее везде» Но что именно заставляет мужчин если не размышлять, то регулярно вспоминать Римскую империю? Один из пользователей Reddit объяснил это тем, что во многих вещах и явлениях в нашей повседневной жизни — блюдах, философии, архитектуре, военных конфликтах, спорте, мифологии и культуре — так или иначе прослеживается римское влияние. «Как только ты хорошо познакомился с Римской империей, будь то ее военная сфера или законы, ты начинаешь замечать ее везде», — подтвердил один из основателей тренда, реконструктор Gaius Flavius. По словам мужчины, его завораживает то, как нынешний мир одновременно походит на Римскую империю и отличается от нее. История Рима так привлекает мужчин тем, что она хорошо стыкуется с концепциями мужественности, предположил еще один пользователь Reddit. По его мнению, любой из парней может представить себя римским императором, сенатором или гладиатором. Кроме того, как сочли в сети, на интерес мужчин к той эпохе сильно повлияла поп-культура, включая получивший пять «Оскаров» фильм «Гладиатор» Ридли Скотта и сериал «Спартак». Гештальт-терапевт Дмитрий Гаврилов заявил, что история Римской империи так привлекает многих людей в силу того, что эта эпоха достаточно сильно романтизирована. Кроме того, он счел, что римская цивилизация больше близка к европейскому мышлению и образу жизни, нежели греческая и египетская.'}\n",
            "{'headline': 'В Казани произошел мощный взрыв', 'description': 'В Казани произошел мощный взрыв. Об этом сообщает Baza. По информации издания, ЧП произошло на территории промзоны на улице Аделя Кутуя. На место выехали пожарные. Причины взрыва пока не известны.', 'body': 'В Казани произошел мощный взрыв. Об этом сообщает Baza. По информации издания, ЧП произошло на территории промзоны на улице Аделя Кутуя. На место выехали пожарные. Причины взрыва пока не известны. UPD: Причиной громкого хлопка, который жители перепутали со взрывом, оказался сломавшийся автомобиль. Местный житель припарковал машину, и в этот момент у него заклинило двигатель. Проверив обстановку, пожарные уехали.'}\n",
            "{'headline': 'В Белом доме оценили готовность Конгресса продолжать помогать Украине', 'description': 'Руководство США полагает, что Конгресс продолжит оказывать финансовую поддержку Украине. Об этом заявила пресс-секретарь Белого дома Карин Жан-Пьер. Она также пообещала, что американская администрация будет и дальше убеждать скептически настроенных конгрессменов.       ', 'body': 'Руководство США полагает, что Конгресс продолжит оказывать финансовую поддержку Украине. Об этом заявила пресс-секретарь Белого дома Карин Жан-Пьер, ее слова передает РИА Новости. Она подчеркнула, что американская администрация ценит двухпартийную поддержку помощи Киеву. «Мы настроены оптимистично по поводу ее продолжения», — сообщила Жан-Пьер. Она также пообещала, что Белый дом будет и дальше убеждать скептически настроенных конгрессменов. Кроме того, по мнению представителя Белого дома, прошедшие переговоры между американским президентом Джо Байденом и Владимиром Зеленским стали сигналом миру о продолжении поддержки Украины со стороны Вашингтона. «Мы будем с ней сколько потребуется», — добавила она. Ранее Байден во время встречи с Зеленским заверил его в решительности американцев в вопросе обеспечения сохранения международной поддержки Украины. Также, по итогам переговоров глава США подтвердил скорое прибытие танков Abrams на Украину.'}\n",
            "{'headline': 'США потребовали от Польши объяснить прекращение поддержки Украины', 'description': 'Соединенные Штаты потребовали от Польши разъяснений о прекращении поддержки Украины. Как рассказал высокопоставленный представитель Пентагона, разногласия между Киевом и Варшавой еще не привели «к появлению трещин в союзе, поддерживающем Украину», однако позиция Польши остается неясной.', 'body': 'Соединенные Штаты потребовали от Польши разъяснений о прекращении поддержки Украины. Об этом сообщает агентство Bloomberg со ссылкой на высокопоставленного представителя Пентагона, пожелавшего остаться анонимным. Как отметил собеседник агентства, разногласия между Киевом и Варшавой еще не привели «к появлению трещин в союзе, поддерживающем Украину». Однако, по его словам, конкретная позиция Польши по поддержке Украины остается неясной. Также Bloomberg приводит слова неназванного европейского дипломата, который рассказал, как официальные лица Польши заверили своих иностранных коллег, что их страна продолжит военную поддержку Украины, но в «меньших объемах». Он отметил, что полное прекращение военной поддержки со стороны Варшавы может «подорвать единство НАТО». 22 сентября стало известно, что Польша отказывается от поставок оружия Украине из-за конфликта между Варшавой и Киевом, возникшего в связи с польским эмбарго на импорт украинского зерна. Премьер-министр Польши Матеуш Моравецкий мотивировал соответствующее решение необходимостью модернизировать собственную армию, «чтобы сделать ее одной из сильнейших в Европе».'}\n",
            "{'headline': 'Журова оценила заявления WADA о РУСАДА', 'description': 'Олимпийская чемпионка по конькобежному спорту и первый заместитель председателя комитета Госдумы по международным делам Светлана Журова прокомментировала заявления Всемирного антидопингового агентства о Российском антидопинговом агентстве. Она раскритиковала позицию организации.', 'body': 'Первый заместитель председателя комитета Госдумы по международным делам и олимпийская чемпионка по конькобежному спорту Светлана Журова оценила заявления Всемирного антидопингового агентства (WADA) о Российском антидопинговом агентстве (РУСАДА). Ее слова приводит ТАСС. По мнению Журовой, WADA намеренно ищет аргументы для санкций в отношении России. «До 2014 года, так получается, наше законодательство было лучшим. А теперь — нет. Во многих странах вообще нет антидопингового законодательства, а они выступают с флагом и гимном», — заявила она. Ранее в WADA подчеркнули, что РУСАДА по-прежнему не соответствует Всемирному антидопинговому кодексу, так как документ не интегрирован в национальное законодательство. Отмечалось, что российская сторона может обжаловать это в течение 21 дня с даты получения официального уведомления. В декабре 2019 года исполком WADA постановил лишить Россию права проведения Олимпийских игр и чемпионатов мира, а российских спортсменов —  флага и гимна на четыре года. Причиной стало лишение РУСАДА статуса соответствия. В ноябре 2022-го WADA приняло решение продлить отстранение РУСАДА.'}\n",
            "{'headline': 'В Госдуме сочли невозможным удержать низкие цены на бензин', 'description': 'Председатель комитета Госдумы по энергетике Павел Завальный заявил, что невозможно удерживать низкие цены на бензин.  субсидируя внутренний рынок за счет внешнего. Выходом из ситуации парламентарий видит увеличение таможенных пошлин и с учетом их увеличения пересмотр параметров демпфера.', 'body': 'Председатель комитета Госдумы по энергетике Павел Завальный заявил, что невозможно удерживать низкие цены на бензин.  субсидируя внутренний рынок за счет внешнего. Об этом сообщает «Интерфакс». Выходом из ситуации парламентарий видит увеличение таможенных пошлин и с учетом их увеличения пересмотр параметров демпфера. «Понятно, что введенный запрет экспорта нефтепродуктов не может быть долго - на неделю-две, максимум на месяц, иначе можем загнать переработку в убытки и остановятся нефтеперерабатывающие заводы (НПЗ)», — сказал он. 21 сентября правительство России объявило о введении временных ограничений на экспорт топлива для стабилизации внутреннего рынка. Речь идет о запрете вывоза из страны бензинов товарных групп и дизтоплива, в том числе приобретенного на биржевых торгах, за некоторыми исключениями, которые имеют незначительную долю в общем экспорте. После этого в правительстве указали, что в России отсутствует дефицит топлива как в оптовом, так и розничном сегментах. В кабмине заверили, что на НПЗ, нефтебазах и в резервуарах накоплены достаточные запасы.'}\n",
            "{'headline': 'В Венгрии заявили о ежедневном ухудшении условий для урегулирования на Украине', 'description': 'Надеяться на дальнейшее улучшение условий для мирного урегулирования конфликта на Украине не следует, поскольку они ухудшаются с каждым днем. Об этом заявил глава МИД Венгрии Петер Сийярто. Он пояснил, что каждый день стороны конфликта несут все большие потери, становится все больше разочарований и разрушений.', 'body': 'Надеяться на дальнейшее улучшение условий для мирного урегулирования конфликта на Украине не следует, поскольку они ухудшаются с каждым днем. Об этом заявил министр иностранных дел Венгрии Петер Сийярто в разговоре с ТАСС. Он пояснил, что каждый день стороны конфликта несут все большие потери, становится все больше разочарований и разрушений.  В связи с этим, по мнению главы внешнеполитического ведомства, не стоит рассчитывать на то, что условия для разрешения конфликта станут более благоприятными. Он подчеркнул, что время для урегулирования «уже настало». «Мы с сожалением воспринимаем все заявления и действия, которые осложняют переговоры, и приветствуем все решения, которые помогают им состояться», — сказал Сийярто. Ранее глава МИД России Сергей Лавров сообщил о готовности Москвы рассмотреть серьезные инициативы по украинскому урегулированию.'}\n",
            "{'headline': 'Египет опроверг сообщения об отказе от пшеницы из России', 'description': 'Власти Египта опровергли сообщения о том, что страна отказалась от российской пшеницы. Как сообщил первый помощник министра снабжения страны Ибрагим Ашмави, распространенная в СМИ информация «совершенно не соответствуют действительности». Ашмави отметил, что торговые отношения между Египтом и Россией идут гладко.', 'body': 'Власти Египта опровергли сообщения о том, что страна отказалась от российской пшеницы. Такое заявление сделал первый помощник министра снабжения страны Ибрагим Ашмави, пишет РИА Новости. По его словам, распространенная в СМИ информация «совершенно не соответствуют действительности». Ашмави отметил, что торговые отношения между Египтом и Россией идут гладко. О том, Египет решил отказаться от анонсированной в начале сентября закупки 480 тысяч тонн российской пшеницы, сообщило агентство Bloomberg. Утверждалось, что власти страны не смогли договориться с Москвой о цене. Вместо нее зерно поставят французские и болгарские фермеры. По данным Российского зернового союза, в августе Египет получил 910 тысяч тонн российской пшеницы. Это на 35 процентов меньше, чем год назад. Тем не менее Египет стал крупнейшим покупателем в этом месяце.'}\n",
            "{'headline': 'Россиян предупредили о шести неожиданных штрафах от ГИБДД', 'description': 'Адвокат, преподаватель Финансового университета при Правительстве РФ Кирилл Данилов рассказа, что кроме очевидных нарушений ПДД, в России существуют есть те, о которых не знают даже опытные водители. Например, штраф можно получить за неправильно собранную аптечку и выход на дорогу без светоотражающего жилета.', 'body': 'Адвокат, преподаватель Финансового университета при Правительстве РФ Кирилл Данилов рассказа, что кроме очевидных нарушений ПДД, в России существуют есть те, о которых не знают даже опытные водители. Слова эксперта приводит агентство «Прайм». Как отметил Данилов, штраф можно получить за неправильно собранную аптечку, выход на дорогу без светоотражающего жилета и даже за поведение пассажиров. Содержимое аптечки должно соответствовать приказу Минздрава и включать медицинскую маску, перчатки, перевязочные средства. Если что-то отсутствует, изделие просрочено или повреждено, водителя оштрафуют на 500 рублей. Выходить вечером или ночью на проезжую часть и обочину, необходимо надевать специальный светоотражающий жилет. Если проигнорировать этот аксессуар, можно получить штраф в размере от 800 до 1000 рублей. При этом его отсутствие в автомобиле не является нарушением. К перевозке животных также нужно относиться внимательно. Перед началом и во время движения водитель обязан контролировать размещение, крепление и состояние питомца во избежание создания помех для движения и обзора. Нельзя перевозить животное на коленях, на передней панели машины и допускать его перемещение по салону. Игнорирование этих требований приведет к штрафу в размере 500 рублей. Аналогичный штраф грозит за нарушение допустимого уровня шума — 96 дБА для легковых автомобилей. Это может стать результатом не только снятого глушителя, но и слишком громкая музыка. Следующий штраф — за неправильно пристегнутый ремень — достигает 1000 рублей. Кроме того, водитель отвечает за поведение пассажиров. Например, нельзя высовывать руки и ноги из окон машины, выглядывать из люка. Штраф за пассажира в этом случае платит водитель — 1000 рублей за взрослого и 3000 рублей за несовершеннолетнего.'}\n",
            "{'headline': 'В ЛНР рассказали о перестрелке между польскими наемниками и бойцами «Айдара»', 'description': 'Между бойцами националистического батальона «Айдар» и польскими наемниками произошла перестрелка на краснолиманском направлении. Он уточнил, что инцидент произошел в районе населенного пункта Торское, на берегу реки Жеребец, во время празднования дня рождения одного из польских наемников. ', 'body': 'Между бойцами националистического батальона «Айдар» (признан в России экстремистским и запрещен) и польскими наемниками произошла перестрелка на краснолиманском направлении. Об этом рассказал подполковник Луганской народной республики (ЛНР) в отставке Андрей Марочко в своем Telegram-канале. Он уточнил, что инцидент произошел в районе населенного пункта Торское, на берегу реки Жеребец, во время празднования дня рождения одного из польских наемников. Через некоторое время торжество прервали три солдата «Айдара», а затем между собравшимися разгорелся конфликт. «Началась словесная перепалка, которая переросла в вооруженный конфликт», — сообщает Марочко. По его данным, в ходе перестрелки один боец нацбатальона был ранен, а двоих других связали и увезли в неизвестном направлении. Ранее стало известно, что между украинскими военнослужащими и наемниками из стран НАТО периодически происходят перестрелки. Отмечалось, что некоторые из наемников свысока относятся к украинцам, что приводит к конфликтам и стычкам, которые перерастают в перестрелки.'}\n",
            "{'headline': 'Задержан подаривший боевую гранату подростку россиянин', 'description': 'На Кубани задержали мужчину, который подарил подростку боевую гранату. Теперь ему грозит до 11 лет заключения. Полицейским удалось задержать подозреваемого по горячим следам. Им оказался 26-летний местный житель, работающий сварщиком. В настоящее время он находится под стражей. ', 'body': 'На Кубани задержали 26-летнего местного жителя, который подарил подростку боевую гранату. Теперь ему грозит до 11 лет заключения. Об этом сообщает ГУ МВД России по Краснодарскому краю в своей группе в социальной сети «ВКонтакте». По данным ведомства, в станице Октябрьской Крыловского района 17-летний подросток получил от неизвестного боевую ручную гранату Ф-1. По горячим следам полицейские задержали 26-летнего сварщика. Выяснилось, что боеприпас он приобрел в качестве сувенира в соседнем регионе. В отношении задержанного возбуждено уголовное дело по ст. 222 УК РФ («Незаконные приобретение, передача, сбыт, хранение, перевозка, пересылка или ношение оружия, основных частей огнестрельного оружия, боеприпасов»). В настоящее время он находится под стражей. Ранее сообщалось, что в Белгородской области подозреваемый взорвал дом во время обыска. Инцидент произошел в Шебекино. Также в Ставропольском крае задержали 28-летнего местного жителя, который взорвал гранату и ранил четырех человек.'}\n",
            "{'headline': 'Байден решил побастовать', 'description': 'Президент США Джо Байден планирует присоединиться к забастовке рабочих автопрома. «Я отправлюсь в Мичиган, чтобы присоединиться к участникам пикета и проявить солидарность с мужчинами и женщинами из [профсоюза] United Auto Workers в их борьбе», — написал он в соцсети X.', 'body': 'Президент США Джо Байден планирует присоединиться к забастовке рабочих американского автопрома. Об этом говорится в сообщении на странице главы государства в соцсети X. «Во вторник я отправлюсь в Мичиган, чтобы присоединиться к участникам пикета и проявить солидарность с мужчинами и женщинами из [профсоюза] United Auto Workers (UAW) в их борьбе. Пришло время для заключения взаимовыгодного соглашения, которое позволит американскому автопроизводству процветать благодаря хорошо оплачиваемым рабочим местам», — написал он. UAW объявил о начале всеобщей забастовки на предприятиях автопроизводителей General Motors, Ford и Stellantis с 16 сентября. В частности, члены профсоюза требуют значительного повышения зарплат, улучшение пенсионного обеспечения, увеличение отпусков и другие меры. '}\n",
            "{'headline': 'Взрывы прозвучали в заливе у Одессы', 'description': 'В районе поселка Затока Белгород-Днестровского района Одесской области произошли взрывы, пишет «Зеркало недели». Подробностей произошедшего не приводится. Также отмечается, что в области была объявлена воздушная тревога. Жителей региона призвали спуститься в укрытия.', 'body': 'В районе поселка Затока Белгород-Днестровского района Одесской области произошли взрывы. Об этом сообщает украинское издание «Зеркало недели» в Telegram со ссылкой на местные паблики. Подробностей произошедшего не приводится. Также отмечается, что в Одесской области была объявлена воздушная тревога. Жителей региона призвали спуститься в укрытия. Ранее сообщалось, что в подконтрольной Киеву части Запорожской области произошли по меньшей мере четыре взрыва. Как сообщил председатель движения «Мы вместе с Россией» Владимир Рогов, взрывы раздались в Запорожье и пригороде. По его словам, в регионе работали украинские системы противовоздушной обороны (ПВО).'}\n",
            "{'headline': 'В Венгрии выступили против новых пакетов антироссийских санкций', 'description': 'Венгрия выступает против принятия Евросоюзом (ЕС) новых пакетов антироссийских санкций, заявил министр иностранных дел страны Петер Сийярто. Он выразил надежду, что когда-нибудь Восток и Запад вернутся к цивилизованному сотрудничеству. По его словам, европейские страны страдают от антироссийских санкций сильнее России.', 'body': 'Венгрия выступает против принятия Евросоюзом (ЕС) новых пакетов антироссийских санкций, заявил министр иностранных дел страны Петер Сийярто. Позицию по этому вопросу он высказал в интервью ТАСС. Он выразил надежду, что когда-нибудь Восток и Запад вернутся к цивилизованному сотрудничеству. «Мы считаем, что новые пакеты санкций не нужны», — подчеркнул Сийярто. По его словам, европейские страны страдают от антироссийских санкций сильнее России. Министр также обратил внимание на отсутствие профессиональных оценок и анализа введенных ЕС ограничений. Обсуждение новых рестрикций всегда носит «эмоциональный, политический и идеологический» характер, добавил он. Ранее глава венгерского МИД заявил, что восстановление прежних дружеских отношений между Россией и странами ЕС возможно после заключения мира на Украине. Сийярто напомнил, что не так давно обсуждался вопрос о создании торговой зоны между Лиссабоном и Владивостоком. «Эта идея может вернуться, если будет заключен мир и если мы сможем вернуться к основам взаимного уважения и рациональности», — считает он.'}\n",
            "{'headline': 'В МИД Венгрии рассказали о гарантиях Лаврова', 'description': 'Глава МИД Венгрии Петер Сийярто рассказал, что министр иностранных дел России Сергей Лавров гарантировал продолжение поставок Будапешту нефти и газа. Об этом он заявил по итогам встречи на полях Генассамблеи ООН с российским министром. По его словам, «поставки продолжатся в соответствии с рамками контрактов». ', 'body': 'Глава МИД Венгрии Петер Сийярто рассказал, что министр иностранных дел России Сергей Лавров гарантировал Будапешту продолжение поставок нефти и газа. Его слова приводит ТАСС. По итогам встречи с российским министром на полях Генассамблеи ООН, дипломат заявил, что снова получил гарантии от Лаврова о том, что «поставки продолжатся в соответствии с рамками контрактов». Ранее премьер-министр Венгрии Виктор Орбан признался, что злится на украинские власти из-за высоких цен на транзит российской нефти, в связи с чем в его стране растет инфляция. В тоже время премьер понимает, что «несчастные украинцы» сражаются без денег, при этом двигаясь «в сторону продолжения войны». В 2023 году Украина повышала тариф на транспортировку российской нефти для европейских покупателей уже трижды. Последнее изменение цен произошло 1 августа — стоимость транзита выросла на 23,5 процента, до 21 евро за тонну.'}\n",
            "{'headline': 'ВСУ снарядами НАТО уничтожили всю технику коммунальщиков в Ясиноватой', 'description': 'Вооруженные силы Украины (ВСУ) уничтожили всю технику коммунальщиков в Ясиноватой в ДНР кассетными снарядами, полученными от стран НАТО. Теперь в городе возникла проблема с вывозом мусора, поскольку все машины находились на улице во время обстрела и пришли в негодность, сообщили сотрудники предприятия.', 'body': 'Вооруженные силы Украины (ВСУ) уничтожили всю технику коммунальщиков в Ясиноватой в Донецкой народной республике (ДНР) кассетными снарядами, полученными от стран НАТО. Об этом сообщает РИА Новости. По словам сотрудников предприятия, обстрел со стороны Украины продолжался около полутора часов. Как рассказал собеседник агентства, пострадали все машины, поскольку они находились на улице. «Теперь нам не на чем работать. Мы единственное в городе предприятие, деревья-то еще подрежем, а вот уборка мусора... У нас вся техника пришла в негодность», — отметил он. В результате атаки ВСУ также пострадал один рабочий. О решении передать Киеву кассетные боеприпасы США объявили 7 июля. Администрация президента США Джо Байдена выразила уверенность, что Киев будет использовать кассетные боеприпасы на территории Украины, минимизируя риски для собственного населения. В свою очередь, в России раскритиковали решение Вашингтона. Пресс-секретарь президента России Дмитрий Песков также отметил, что применение ВСУ кассетных боеприпасов вынудит Россию принимать контрмеры. Он также уточнил, что решение о выборе контрмер относится к прерогативе Минобороны.'}\n",
            "{'headline': 'В МЧС объяснили причину громкого хлопка в Казани', 'description': 'Главное управление МЧС по Татарстану объяснило причину громкого хлопка в Казани, который жители перепутали с взрывом. В спасательном ведомстве рассказали, что прибыв на место ЧП пожарные выяснили, что хлопок был спровоцирован неисправностью двигателя фургона Ford Transit.', 'body': 'Главное управление МЧС по Татарстану объяснило причину громкого хлопка в Казани, который жители перепутали с взрывом. Об этом говорится в Telegram-канале регионального МЧС. В спасательном ведомстве рассказали, что прибыв на место ЧП пожарные выяснили, что хлопок был спровоцирован неисправностью двигателя фургона Ford Transit. «Произошла вспышка, дальнейшего горения не последовало. Пострадавших нет», — заявили в МЧС. У автомобиля оказались повреждены капот и фара. После выяснения обстоятельств подразделениям пожарной охраны дан отбой. О мощном взрыве в Казани сообщалось ранее 23 сентября. ЧП произошло на территории промзоны на улице Аделя Кутуя.'}\n",
            "{'headline': 'В Петербурге исчез режиссер Большого драматического театра', 'description': 'В Санкт-Петербурге пропал режиссер Большого драматического театра (БДТ) имени Товстоногова Александр Никаноров. Об этом сообщает поисковый отряд «ЛизаАлерт» во «ВКонтакте». 40-тений театральный деятель бесследно исчез 21 сентября во время велопрогулки.<br /><br />', 'body': 'В Санкт-Петербурге пропал режиссер Большого драматического театра (БДТ) имени Товстоногова Александр Никаноров. Об этом сообщает поисковый отряд «ЛизаАлерт» во «ВКонтакте». 40-летний театральный деятель бесследно исчез 21 сентября во время велопрогулки. Средств связи у Никанорова при себе не было. 22 августа сообщалось, что в Санкт-Петербурге пропал бывший гитарист и сооснователь рок-группы «Алиса» Андрей Шаталин. Мужчина вышел из дома и не вернулся. Позднее он был найден живым, здоровью музыканта ничего не угрожает. При этом родственники Шаталина предпочли не разглашать подробности инцидента.'}\n",
            "{'headline': 'Россиян предупредили о новых схемах мошенничества по телефону', 'description': 'Мошенники понимают, что звонками якобы от службы безопасности банка или правоохранительных органов уже никого не удивишь, поэтому стараются использовать необычные способы обмана. Об этом в беседе с «Лентой.ру» предупредил руководитель команды разработки Gem Space Ваге Закарян. ', 'body': 'Мошенники понимают, что звонками якобы от службы безопасности банка или правоохранительных органов уже никого не удивишь, поэтому стараются использовать необычные способы обмана. Об этом предупредил руководитель команды разработки Gem Space Ваге Закарян. В беседе с «Лентой.ру» он рассказал о новых схемах мошенничества по телефону. По словам эксперта, в их числе можно отметить звонки с предложением продлить договор на услуги мобильного оператора, чтобы телефон продолжал работать, и человек не остался без связи. Эта информация выглядит вполне логично и поначалу не вызывает подозрений. На следующем этапе злоумышленники просят продиктовать код из SMS для автоматического продления договора. «В этом и кроется опасность: это может быть код, с помощью которого спишутся деньги со счета, либо мошенники получат доступ к какому-либо сервису от имени человека, который этот код продиктовал. Здесь будет нелишним еще раз напомнить, что диктовать коды доступа нельзя никому вне зависимости от аргументов, которые приводит телефонный собеседник», — поделился Закарян. Еще один новый подход, который сегодня используют мошенники — это просьбы установить на свой телефон специальное ПО, чтобы обнаружить и удалить с него фишинговые программы. Разумеется, звонящие представляются работниками службы безопасности банка или какой-либо другой организации. Они даже озвучивают название приложения, которое нужно скачать, и рассчитывают на то, что пользователь не распознает подделку и установит его на свой смартфон. Собеседник «Ленты.ру» также обратил внимание, что развитие нейросетей предоставило изобретательным злоумышленникам дополнительные возможности для еще более сильного психологического воздействия на ничего не подозревающего собеседника. «С помощью искусственного интеллекта можно генерировать фразы, озвученные голосом родственника потенциальной жертвы. Такой звонок будет звучать гораздо убедительнее, чем информация от третьего лица. В этом случае можно посоветовать по-прежнему внимательно проверять все факты перед тем, как предпринимать какие-то реальные действия. И ни в коем случае не нужно никому отправлять деньги по телефонному запросу», — подытожил он. Ранее телефонные мошенники обманом выманили 12,6 миллиона рублей у генерала КГБ, 79-летнего Александра Стерлигова, который в августе 1991 года был главным охранником президента РСФСР Бориса Ельцина. '}\n",
            "{'headline': 'Полиция Гонконга попросила Интерпол найти украденные 179 миллионов долларов', 'description': 'Полиция Гонконга обратилась в Интерпол, чтобы найти и заморозить похищенные активы криптобиржи JPEX на сумму более 179 миллионов долларов. в правоохранительные органы поступило более 2260 жалоб от жертв мошенников, задержаны порядка 11 человек. Махинация уже названа крупнейшей в истории Гонконга.', 'body': 'Полиция Гонконга обратилась в Интерпол, чтобы найти и заморозить похищенные активы криптобиржи JPEX на сумму более 179 миллионов долларов. Об этом пишет местная газета South China Morning Post (SCMP) со ссылкой на собственные источники. Как отмечает издание, в правоохранительные органы поступило более 2260 жалоб от жертв мошенников, задержаны порядка 11 человек. Махинация уже названа крупнейшей в истории Гонконга. «Полиция Гонконга обратилась за помощью к Интерполу и зарубежным платформам торговли виртуальными активами, чтобы перехватить криптовалюту, связанную с крупнейшей в истории города финансовой аферой», — говорится в материале. Согласно полученной от источника информации, часть связанной с махинациями криптовалюты удалось заморозить. При этом работа по поиску остальных средств в настоящее время продолжается. Для мониторинга переводов цифровой валюты в сети была привлечена группа местных офицеров. Ранее генеральный секретарь Интерпола Юрген Сток пожаловался в интервью Politico, что организация испытывает финансовые трудности. Он отметил, что для деятельности организации необходимы значительные капиталовложения, которых не хватает.'}\n",
            "{'headline': 'Китай и США увеличили активность на ядерных полигонах', 'description': 'Китай, США и Россия за последние годы построили новые объекты и прорыли новые туннели на своих ядерных полигонах. Об этом заявили аналитики со ссылкой на спутниковые снимки. Отмечается, что это произошло в то же время, когда напряженность между тремя странами достигла самого высокого уровня за последние десятилетия. ', 'body': 'Китай, Соединенные Штаты и Россия за последние годы построили новые объекты и прорыли новые туннели на своих ядерных полигонах. Об этом свидетельствуют спутниковые снимки, пишет CNN. Уточняется, что на фотографиях изображены полигон КНР в Синьцзян-Уйгурском автономном районе, российский — на архипелаге Новая Земля, а также полигон США в Неваде. Как отмечает телеканал, такая активность произошла в то же время, когда напряженность между тремя странами достигла самого высокого уровня за последние десятилетия. Как заявил эксперт из Центра исследований нераспространения ядерного оружия имени Джеймса Мартина при Институте международных исследований Миддлбери Джеффри Льюис, подобные действия не обязательно говорят о готовности держав нарушить мораторий на ядерные испытания. В свою очередь, МИД Китая раскритиковало подобные сообщения как «раздувающий \"ядерную угрозу Китая\"» и назвало его «крайне безответственным». Ранее в России напомнили, что полигон на Новой Земле поддерживают в готовности к возобновлению ядерных испытаний. В феврале президент России Владимир Путин, выступая с посланием к Федеральному собранию, заявил, что США задумываются о натуральном испытании ядерного оружия и Минобороны и Росатом должны быть к этому готовы.'}\n",
            "{'headline': 'Зеленского назвали настоящим президентом США', 'description': 'Вместо президента США Джо Байдена страной руководит его украинский коллега Владимир Зеленский, считает сенатор-республиканец от штата Алабама Томми Табервилл. По его словам, происходящее на фоне спецоперации на Украине заставляет американцев задаваться вопросом, кто же действительно управляет Штатами.', 'body': 'Вместо президента США Джо Байдена страной руководит его украинский коллега Владимир Зеленский, считает сенатор-республиканец от штата Алабама Томми Табервилл. Такое мнение он высказал в эфире YouTube-канала Fox Business. По его словам, происходящее на фоне спецоперации на Украине заставляет американцев задаваться вопросом, кто же действительно управляет Штатами. «Президент Зеленский — настоящий президент Соединенных Штатов. Зеленский рулит этим шоу. Он этим занимается уже полтора года», — отметил Табервилл. Ранее комитет палаты представителей Конгресса США начал расследование в рамках процедуры вынесения импичмента Байдену. Сам президент объяснил импичмент стремлением республиканцев остановить работу правительства страны, добавив, что не зацикливается на этом.'}\n",
            "{'headline': 'Жена Бибера появилась на публике с наклейкой на лбу', 'description': '', 'body': 'Американская модель Хейли Бибер дополнила образ для вечеринки необычной деталью и попала в объективы папарацци. Об этом сообщает Daily Mail. Хейли вместе с мужем Джастином Бибером заметили на улице в Западном Голливуде в четверг, когда они направлялись на вечеринку в клуб Bird Street Lounge. На этот раз манекенщица отдала предпочтение стилю оверсайз — широкие коричневые брюки она дополнила черно-белым пуловером, а сверху надела объемную кожаную куртку черного цвета. Девушка сделала естественный макияж, а акцент на лице сделала необычным способом — приклеила на лоб звезду. В прошлом такие же наклейки носил сам Джастин Бибер. Ранее Хейли Бибер поделилась новым снимком без макияжа. На размещенном кадре манекенщица позирует в белом кроп-топе и плиссированной мини-юбке в клетку в сочетании с балетками и высокими носками. При этом волосы она убрала от лица, сделав укладку с эффектом мокрых прядей. В июле Хейли Бибер появилась на публике в украшениях за десятки миллионов рублей. На размещенном фото знаменитость предстала в облегающем белом платье с вырезом в области бедер бренда Maygel Coronel. Свой наряд звезда дополнила многочисленными аксессуарами общей стоимостью 360 тысяч долларов ювелирного бренда Tiffany.'}\n",
            "{'headline': 'Трансгендерный спикер ВСУ вызвал возмущение в США', 'description': 'Телеведущий Грег Гатфелд выступил с критикой в адрес представителя теробороны Вооруженных сил Украины (ВСУ) американского трансгендера Сары Эштон-Чирилло. В частности, он предположил, что она добилась звания младшего сержанта США благодаря принадлежности к меньшинствам. ', 'body': 'Телеведущий Грег Гатфелд выступил с критикой в адрес представителя теробороны Вооруженных сил Украины (ВСУ) американского трансгендера Сары Эштон-Чирилло, которая угрожала российским журналистам. Его слова передает РИА Новости. Журналист напомнил, что ранее сенатор Джей Ди Вэнс в своем письме к госсекретарю Энтони Блинкену поинтересовался, почему американец, «он, она или оно», представляет иностранное правительство. Эштон-Чирилло прокомментировала эти вопросы «странным видео», в котором обвинила сенатора в «стереотипах о гендерном хаосе», добавил Гатфелд. «Прости, приятель, но это заявление о \"гендерном хаосе\" можно было бы воспринимать всерьез, если бы его сказал кто-то другой, а не мужик по имени Сара», — ироничном заметил он. Телеведущий также предположил, что Эштон-Чирилло, являющаяся младшим сержантом США, добилась этого звания благодаря принадлежности к меньшинствам. Ранее Эштон-Чирилло отстранили от должности после угроз российским журналистам. В отношении нее ведется служебное расследование.'}\n",
            "{'headline': 'В Британии отказались комментировать удар ракетами Storm Shadow по Севастополю', 'description': 'Замглавы МИД Великобритании Тарик Ахмад не стал подтверждать, что ВСУ нанесли удар по штабу Черноморского флота (ЧФ) в Севастополе британскими ракетами Storm Shadow. «У Украины есть право на самооборону, и Великобритания поддерживает суверенную Украину», — заявил он.  ', 'body': 'Замглавы МИД Британии Тарик Ахмад отказался подтверждать, что Вооруженные силы Украины (ВСУ) нанесли удар по штабу Черноморского флота (ЧФ) в Севастополе британскими ракетами Storm Shadow. Об этом сообщает РИА Новости. «У Украины есть право на самооборону, и Великобритания поддерживает суверенную Украину», — ответил он на просьбу прокомментировать информацию о том, что удар по Севастополю был нанесен при помощи Storm Shadow. При этом Ахмад промолчал в ответ на просьбу подтвердить, использовались ли ракеты именно этого типа. Ранее телеканал Sky News получил подтверждение, что ВСУ использовали Storm Shadow во время атаки на Севастополь. Данную информацию журналисты узнали от анонимного представителя Воздушных сил ВСУ. Днем 22 сентября со стороны Украины был нанесен ракетный удар по штабу Черноморского флота. Осколок снаряда нашли недалеко от театра Луначарского. По данным Минобороны, в ходе отражения атаки на Севастополь cредства противовоздушной обороны сбили пять ракет.'}\n",
            "{'headline': 'Приемный отец Дани Милохина заявил о требованиях властей Анапы снести дом', 'description': 'Приемный отец блогера Дани Милохина Дмитрий Тюленев заявил, что администрация Анапы требует от него снести два дома — его и родительский. Основанием для сноса зданий власти назвали нарушения градостроительных норм. По словам отца тиктокера,  местные адвокаты категорически отказываются помогать ему и его семье.  ', 'body': 'Приемный отец блогера Дани Милохина Дмитрий Тюленев заявил, что администрация Анапы требует от него снести два дома — его и родительский. Его слова приводит «Московский комсомолец». Отмечается, что основанием для сноса зданий власти называют нарушения градостроительных норм. Кроме того, Тюленев заявил, что семья лишилась единственного источника дохода, поскольку был закрыт магазин его семьи. Отец блогера также утверждает, что местные адвокаты категорически отказываются помогать ему и его семье. Ранее Дмитрий Тюленев рассказал, что у Дани Милохина очень плохое зрение, в связи с чем ранее блогер носил очки, а потом стал использовать контактные линзы. В связи с этим он выразил сомнение, что блогера призовут в армию. Он также отметил, что приемная семья блогера не получала повестки. По его словам, Милохин прописан в Москве.'}\n",
            "{'headline': 'Стало известно о неоднократных контактах России и Британии по Украине', 'description': 'Дипломаты России и Британии провели ряд встреч и переговоров по вопросам международной безопасности на фоне конфликта на Украине за последние 18 месяцев. Отмечается, что британские чиновники провели дипломатические переговоры с ключевыми представителями Кремля по вопросам международной безопасности.', 'body': 'Дипломаты России и Британии провели ряд встреч и переговоров по вопросам международной безопасности на фоне конфликта на Украине за последние полтора года. Об этом сообщает газета inews со ссылкой на высокопоставленного представителя Великобритании. Как утверждает собеседник издания, встречи представителей двух стран проходили в течение последних 18 месяцев в различных местах, включая Вену и Нью-Йорк. Отмечается, что британские чиновники провели дипломатические переговоры с ключевыми представителями Кремля по вопросам международной безопасности. Британский представитель также уточнил, что во время контактов стороны, вероятно, также обсуждали проблемы продовольственной и ядерной безопасности. «Мы поддерживаем контакт и считаем крайне важным сохранять открытый диалог во время войны на Украине», — привело издание слова других британских дипломатов, которые подчеркнули, что стороны не пытаются поделить Украину или заключать мирные соглашения  «от чужого лица». Ранее британский журналист Питер Хитченс выразил мнение, что Запад видит в конфликте Украины и России борьбу добра со злом, однако это ошибочная терминология, которая не ведет конфликт к разрешению. Он считает, чтобы остановить конфликт, стоит прекратить финансировать его.'}\n",
            "{'headline': 'В ЕП подняли вопрос о последствиях решения стран ЕС ограничить импорт с Украины', 'description': 'Решение Венгрии, Словакии и Польши ввести на национальном уровне ограничения на ввоз украинской продукции спровоцировало расхождения во внешнеторговой политике государств-членов ЕС, заявила член Европарламента (ЕП) от Швеции Карин Карлсбро в своем обращении к Еврокомиссии (ЕК).<br />', 'body': 'Решение Венгрии, Словакии и Польши ввести на национальном уровне ограничения на ввоз украинской продукции спровоцировало расхождения во внешнеторговой политике государств-членов ЕС, заявила член Европарламента (ЕП) от Швеции Карин Карлсбро в своем обращении к Еврокомиссии (ЕК). В тексте письма, с которым ознакомилась «Лента.ру», Карлсбро спрашивает у ЕК, как она намерена реагировать на эту проблему. «ЕС временно приостановил импортные пошлины и меры торговой защиты для украинского импорта с помощью Регламента об автономных торговых мерах. Этот инструмент, запущенный 4 июня 2022 года и продленный еще на один год 5 июня 2023 года, оказывает значительную помощь экономике Украины, поддерживая украинских производителей и экспортеров в трудные времена», — напомнила Карлсбро. Так, депутат спрашивает у Еврокомиссии, как ЕК собирается реагировать на ситуацию с тем, что среди стран-членов ЕС возникли расхождения во внешнеторговой политике. «В свете недавнего решения Польши, Венгрии и Словакии в одностороннем порядке ввести собственные запреты на импорт украинского зерна после решения Комиссии не продлевать ограничительную меру, как Комиссия планирует решать проблемы расхождений в торговой практике среди этих стран-членов и обеспечить, чтобы все государства-члены соблюдали Регламент автономных торговых мер внутри ЕС?» — спросила она. 15 сентября перестал действовать запрет Еврокомиссии на поставки пшеницы, кукурузы, рапса и семян подсолнечника с Украины на территорию пяти граничащих с ней стран. Венгрия, Словакия и Польша ввели ограничения на ввоз украинской продукции на национальном уровне. 18 сентября Украина подала иски во Всемирную торговую организацию (ВТО) против Венгрии, Польши и Словакии. В Киеве подчеркнули, что считают неприемлемым нарушением запрет трех стран на ввоз зерна. Польша, Венгрия и Словакия, в свою очередь, договорились бойкотировать координационную платформу с ЕК по вопросу украинского зерна.'}\n",
            "{'headline': 'Офицер ВСУ передал российским военным данные наводчиков', 'description': 'Сдавшийся в плен офицер Вооруженных сил Украины (ВСУ) передал российским военным данные о корректировщиках, наводящих удары по Донецкой народной республике (ДНР). Также он передал информацию о личностях и телефоны начальства 10-го армейского корпуса ВСУ на южном направлении. ', 'body': 'Сдавшийся в плен офицер Вооруженных сил Украины (ВСУ) передал российским военным данные о корректировщиках, наводящих удары по Донецкой народной республике (ДНР). Об этом сообщил РИА Новости знакомый с ситуацией источник. Переданные российским военным данные он хранил в своем смартфоне. «Они корректируют удары, где (находится - ред.) скопление живой силы, техники, нахождения командных пунктов Вооруженных сил РФ в населенных пунктах Мариуполь, Волноваха, Старомайорское, Красная Поляна», — рассказал он. По словам собеседника агентства, украинский боец также передал информацию о личностях и телефоны начальства 10-го армейского корпуса ВСУ на южном направлении. Ранее российский боец, выполняющий задачи в зоне специальной военной операции (СВО), сообщил, что украинские военные начали добровольно сдаваться в плен на сватовском направлении. «Только вчера взяли троих. Они сами шли к нам и не оказывали никакого сопротивления», — отметил военнослужащий.'}\n",
            "{'headline': 'На Украине женщины-фармацевты начали массово уезжать из страны', 'description': 'На Украине женщины-фармацевты стали массово покидать страну из-за постановки на воинский учет, сообщила глава украинской ассоциации «Фармрада» Елена Прудникова. По ее словам, за последние две недели тысячи фармацевтов написали заявления об увольнении, чтобы уехать в Европу до того, как им ограничат выезд за границу. ', 'body': 'На Украине женщины-фармацевты стали массово покидать страну из-за скорой постановки на воинский учет. Об этом сообщила глава украинской ассоциации «Фармрада» Елена Прудникова в разговоре с изданием «Страна.ua». Она рассказала, что за последние две недели тысячи фармацевтов написали заявления об увольнении, чтобы успеть уехать в Европу до того, как им ограничат выезд за границу. «Кто будет работать — вопрос открытый, тем более что в отрасли уже и так жесткий кризис», — отметила Прудникова. Она уточнила, что украинки начали увольняться с начала сентября, некоторые из них уже покинули страну. Происходящее вызывает панику у владельцев аптек, поскольку им непонятно, что делать в такой ситуации, добавила глава ассоциации. По ее словам, особенно остро эта проблема стоит в западных областях Украины. Ранее стало известно, что военнообязанными украинкам, которые встанут на учет, ограничат выезд за границу. Уточняется, что постановка на воинский учет обязательная для женщин-медиков и фармацевтов. Покинуть страну они смогут только при наличии документов, дающих право на временный выезд.'}\n",
            "{'headline': 'Побег из «Матросской Тишины», театральный грим и стрельба с двух рук: чем прославились самые известные киллеры России?', 'description': 'Южный окружной военный суд приговорил к пожизненному лишению свободы главаря крупнейшей в России ОПГ Аслана Гагиева по кличке Джако, которого называют главным киллером страны. Подробности о нем и других легендарных ликвидаторах, преступления которых навсегда вошли в криминальную историю России — в материале «Ленты.ру».', 'body': 'Южный окружной военный суд приговорил к пожизненному лишению свободы главаря крупнейшей в России организованной преступной группировки (ОПГ) Аслана Гагиева по прозвищу Джако, которого называют главным киллером страны. Он создал настоящую секту безжалостных ликвидаторов, на совести которых жизни 60 человек. Среди подручных Джако были действующие сотрудники полиции и прокуратуры, а их арсеналу могли позавидовать иные спецподразделения: более 140 пистолетов, автоматов, винтовок и пулеметов, в том числе иностранного производства. На своем ремесле Гагиев зарабатывал миллионы евро, а тем, кто решал выйти из дела, хладнокровно выносил последний приговор. Между тем Джако — далеко не единственный, у кого заказные уничтожения целей стали делом жизни. После развала СССР на территории страны действовало сразу несколько легендарных ликвидаторов, преступления которых навсегда вошли в криминальную историю России. Подробности о них — в материале «Ленты.ру». Саша Солдат — охотник на бандитов Александр Пустовалов, родившийся 25 сентября 1973 года, в юности занимался дзюдо, а срочную службу проходил в морской пехоте. Позже он хотел стать бойцом спецназа, но его не взяли — помешало отсутствие высшего образования. Зато Пустовалова с радостью приняли к себе лидеры Ореховского организованного преступного сообщества (ОПС). Их впечатлило, как Александр проявил себя во время драки, которая произошла в баре. Один из лидеров ОПС, Сергей Буторин (Ося), вскоре назначил Пустовалова своим телохранителем и стал давать ему особые поручения — по ликвидации неугодных людей. Первым стал вор в законе Александр Биджамо (Алик Зверь), которого Пустовалов устранил в августе 1995 года. Через год ликвидатор, получивший кличку Саша Солдат, отправил на тот свет лидеров Кунцевской ОПГ Александра Калигина и Игоря Панина, а еще спустя полтора года — криминального авторитета и лидера ОПГ Артура Кюльбякова. Именно ликвидация бандитов (в основном наркоманов) стала главным направлением преступной деятельности Пустовалова. А самой известной целью Саши Солдата стал еще один знаменитый киллер 1990-х, Александр Солоник (Саша Македонский), которого он ликвидировал в феврале 1998 года. Александра Пустовалова задержали в ноябре 1999 года — на тот момент на его совести были 13 жизней. «Я солдат — это моя работа», — так он говорил о своих преступлениях на допросах. Суд приговорил его к 24 годам лишения свободы. Саша Македонский — огонь с двух рук Прежде чем стать киллером, уроженец Кургана Александр Солоник успел послужить в патрульно-постовой службе милиции, а также поработать в сфере ритуальных услуг. Именно там он познакомился с будущими лидерами Курганской ОПГ, на которых позже стал работать. Первой устраненной целью Солоника в качестве киллера Курганской ОПГ в 1990 году стал лидер Ишимской группировки Николай Причинич. А два года спустя в Москве его судьбу повторил влиятельный вор в законе Виктор Никифоров (Калина). Кроме того, Солоник лишил жизни лидеров Бауманской ОПГ Валерия Длугача (Глобус) и Владислава Ваннера (Бобон). К услугам ликвидатора нередко прибегал лидер Ореховского ОПС Сергей Буторин, а за свое умение стрелять по-македонски (одновременно с двух рук) Александр Солоник получил кличку Саша Македонский. В октябре 1994 года Солоника задержали на Тимирязевском рынке: он безуспешно пытался сбежать, открыв огонь по троим милиционерам и охраннику. Вместе со своей возлюбленной, финалисткой конкурса красоты «Мисс Россия-96» Светланой Котовой Солоник перебрался в Грецию, но осенью 1996 года наведался в Москву и совершил свое последнее преступление — устранил бизнесмена Андрея Лукашова. А в 1997 году лидеры Ореховского ОПС решили убрать самого Солоника — при прослушке виллы киллера Сергей Буторин услышал, что ликвидатор задумал «валить» главарей группировки. Тогда в греческий поселок Лагониси отправилась команда ликвидаторов во главе с Александром Пустоваловым, который заманил в гости и задушил Солоника вместе с Котовой. Несмотря на то что после обнаружения тела киллера его мать настаивала на захоронении в Кургане, свой последний приют Солоник нашел в Афинах. Леша Солдат — мастер маскировки В детстве москвич Алексей Шерстобитов мечтал о карьере военного, но в 1990-х, чтобы прокормить жену и ребенка, начал заниматься бизнесом, а затем стал телохранителем. Свободное время Шерстобитов проводил в спортзале, где познакомился с лидером Медведковской ОПГ Григорием Гусятинским (Гриша Северный). Сначала Алексей был в группировке на подхвате, но затем у него возникла большая проблема — пропала вверенная ему сумка с оружием. Гриша Северный подсказал, как выйти из ситуации: для этого нужно было устранить бывшего силовика Михаила Фомина. Тот был врагом Сергея Тимофеева (Сильвестр), лидера Ореховского ОПС — одной из самых грозных группировок времен лихих 1990-х и союзника Медведковской ОПГ. В мае 1993 года Шерстобитов выстрелил по автомобилю Фомина из гранатомета — но водитель чудом уцелел: боеприпас, не сдетонировав, прошил машину навылет. К слову, взрывы вообще не были сильной стороной Шерстобитова: попытка ликвидировать известного вора в законе Андрея Исаева (Роспись) при помощи закрепленного на его машине самодельного взрывного устройства (СВУ) также обернулась провалом. Выполнив это задание, Шерстобитов стал штатным киллером медведковских бандитов и получил прозвище Леша Солдат. Он слыл мастером маскировки: отправляясь на очередное дело, клеил усы и бороду, носил парики, мог переодеться почти на ходу, старался не оставлять следов и все время направлял следствие по ложному следу. К примеру, при ликвидации бизнесмена Отари Квантришвили в 1994 году киллер разбросал на чердаке, откуда вел огонь, заранее собранный мусор. Прием сработал: следователи не нашли зацепки, и следствие по делу об устранении коммерсанта забуксовало на долгие годы. В 2006 году Алексей Шерстобитов наконец попался сотрудникам правоохранительных органов: его сдал лидер Курганской ОПГ Андрей Колигов, бывший жених девушки по имени Ирина, которая стала любовницей ликвидатора. Шерстобитова признали виновным в 12 преступлениях с летальным исходом и приговорили к 23 годам лишения свободы. Чипит и Болтон — дуэт ликвидаторов В 1995 году к Ореховскому организованному преступному сообществу примкнули два ликвидатора: Игорь Сосновский (Чипит) и Сергей Фролов (Болтон). Чипит был медиком по образованию и прошел афганскую войну, а Болтон служил в спецназе. Оба были из Кемерово. Первым заданием дуэта киллеров стала ликвидация бандита Владимира Пригоды, который утратил доверие лидеров Ореховского ОПС из-за употребления наркотиков. Чувствуя опасность, Пригода стал скрываться, но это его не спасло: он пал от пуль Чипита в июне 1996 года. Затем киллеры открыли охоту на лидера одинцовских наркоторговцев по фамилии Мингазов, который и снабжал Пригоду запрещенными веществами. В июле того же 1996 года, когда Мингазов вместе с охранником находились в культурно-развлекательном центре «Мечта» (Одинцово), Чипит и Болтон ликвидировали их выстрелами из пистолетов ТТ. Но главной целью дуэта ликвидаторов стал совладелец торгового комплекса «Одинцовское подворье» Сергей Журба, который в 2009 году отказался платить лидерам Ореховского ОПС ежемесячную дань в 40-50 тысяч евро. Покушение стало летальным для охранника коммерсанта, но он сам выжил. В сентябре 2014 года ликвидаторы сумели добраться до адвоката Журбы Татьяны Акимцевой и ее водителя Сергея Рыканова — их жизни оборвали пули Чипита. Но сам Журба пережил объявленную киллерами охоту. Всего на совести Чипита и Болтона оказались 15 жизней. Правоохранительные органы искали ликвидаторов долгие 17 лет, последние из которых они скрывались в Твери по поддельным документам. После задержания Чипит, который активно сотрудничал со следствием, получил одиннадцать с половиной лет лишения свободы, а Болтона приговорили к пожизненному сроку. Джако — главный киллер России Уроженец Южной Осетии Аслан Гагиев по прозвищу Джако, которого СМИ называют главным киллером России, создал свою группировку ликвидаторов в 2004 году. С 2004 по 2013 год в нее входили 52 человека, в том числе девять сотрудников правоохранительных органов — как действующих, так и бывших. К примеру, первый помощник Джако — его однофамилец и давний соратник Олег Гагиев (Ботэ или Малыш) — был южноосетинским контрразведчиком. ОПГ киллеров, которые называли друг друга «братьями», принимала заказы на устранение политиков, коммерсантов и силовиков — большая часть преступлений была совершена в Северной Осетии. Так, в январе 2008 года ликвидаторы Джако совершили покушение на бывшего начальника администрации главы Северной Осетии Сергея Такоева, но тот выжил. Затем, в марте 2008 года, подручные Джако устроили засаду для главы отдела по борьбе с оргпреступностью (ОБОП) МВД Северной Осетии Марка Мецаева, когда он ехал на машине. Дорогу Мецаеву перегородил автомобиль ликвидаторов, которые открыли огонь по милиционеру. Тот попытался прорваться и протаранил бандитскую машину, но получил ранения, несовместимые с жизнью. Также от рук киллеров Джако пал глава отдела уголовного розыска республиканского МВД Виталий Чельдиев вместе со своим 20-летним сыном Зауром. Впрочем, порой ликвидаторы использовали куда более жестокие методы — к примеру, отсечение головы или заливку живого человека в бетон. Всего участники группировки главного киллера России успели отправить на тот свет, по разным данным, 60-80 человек. На сегодняшний день из 52 участников банды 38 уже осуждены, включая самого Джако. Семь «братьев» были ликвидированы своими же. Еще семеро остаются в розыске Интерпола — они покинули пределы России летом 2013 года.'}\n",
            "{'headline': 'В Белоруссии пообещали сделать все для разрешения конфликта на Украине', 'description': 'Минск сделает все от него зависящее для скорейшего разрешения конфликта на Украине. Об этом заявил глава МИД Белоруссии Сергей Алейник во время выступления на сессии Генассамблеи ООН, пишет РИА Новости. По словам Алейника, «Запад настроен на продолжение войны до последнего украинца». ', 'body': 'Минск сделает все от него зависящее для скорейшего разрешения конфликта на Украине. Об этом заявил глава МИД Белоруссии Сергей Алейник во время выступления на сессии Генассамблеи ООН, пишет РИА Новости. «Нам очень тяжело наблюдать, как уже полтора года страдают близкие нам люди. Украина и ее народ стали разменной монетой в большой игре Запада за сохранение своей глобальной гегемонии», — отметил дипломат. По словам Алейника, «Запад настроен на продолжение войны до последнего украинца». Министр подчеркнул, что рядовым жителям Украины не нужна «война на истощение». Он напомнил, что Белоруссия всегда выступала за мир в соседней стране и предпринимала для этого все возможные меры. Ранее глава Министерства обороны Белоруссии Виктор Хренин заявил, что Киев стремится устроить в Европе катастрофу и решается на откровенно террористические практики в отношении мирных жителей России и Украины. Хренин напомнил, что украинский режим под руководством Запада и руками неонацистских формирований уничтожал русскоязычное население в Донбассе и Крыму'}\n",
            "{'headline': 'Украинские солдаты пожаловались на слабую военную подготовку НАТО', 'description': 'Находящиеся на передовой украинские солдаты обвиняют НАТО в том, что их готовили к другому бою. Обучение проводилось по пособиям, которые не были адаптированы к реальным условиям на Украине, пишет Politico. Также ВСУ указали на недостаток подготовки по изучению беспилотников и обезвреживанию неразорвавшихся боеприпасов', 'body': 'Украинские военнослужащие, которые находятся на передовой, обвиняют НАТО в том, что их готовили к другому бою. Об этом сообщает Politico. Как стало известно изданию, обучающие программы Североатлантического альянса не соответствуют боевым действиям, которые идут в стране. Утверждается, что обучение проводилось по пособиям, которые не были адаптированы к реальным условиям на Украине. Кроме того, было выявлено явное расхождение между теорией и практикой, которое стоило Вооруженным силам Украины (ВСУ) человеческих жизней. По словам источников, подготовка, которую проходили украинские солдаты, была основана на том, к чему привыкли силы НАТО в последние годы — борьбе с повстанцами. Также солдаты ВСУ указали на недостаток подготовки по изучению беспилотников и мин, обезвреживанию неразорвавшихся боеприпасов и оборонительному бою. По их словам, у ВСУ нет необходимого вооружения и боеприпасов, для того чтобы воевать, как предписывает доктрина альянса. Это не первый раз, когда солдаты ВСУ жалуются на проблемы военной подготовки НАТО. Ранее солдаты ВСУ, находящиеся на линии фронта, высказали свое недовольство качеством подготовки, которую они прошли в странах-членах Североатлантического альянса. Украинские бойцы заявили о непригодности переданных образцов западной техники для ведения наступления.'}\n",
            "{'headline': 'Папа Римский назвал один из факторов украинского конфликта', 'description': 'Папа Римский Франциск заявил, что конфликт на Украине связан не только с российско-украинской проблемой, но и вопросом поставок и продажи оружия. Такой фактор он назвал, выступая перед журналистами на борту самолета по возвращении из Марселя. Он назвал украинцев «народом-мучеником».', 'body': 'Папа Римский Франциск заявил, что конфликт на Украине связан не только с российско-украинской проблемой, но и вопросом поставок и продажи оружия. Такой фактор он назвал, выступая перед журналистами на борту самолета по возвращении из Марселя. Об этом сообщает Vatican News. «Несколько месяцев назад один экономист сказал, что сегодня инвестиции, приносящие наибольший доход, - это оружейные фабрики», — сказал понтифик. Он назвал украинцев «народом-мучеником», «с мученической историей, которая заставляет людей страдать, это не первый раз», приведя в качестве примера сталинскую эпоху. «Мы должны помочь им разрешить ситуацию самым реальным способом… Сейчас я увидел, что некоторые страны дают шаг назад, не давая оружие, и начинается процесс, где мучеником точно станет украинский народ. И это плохо», — подчеркнул Франциск. Ранее советник главы офиса президента Украины Михаил Подоляк заявил, что Киев исключает возможность посредничества Ватикана в урегулировании военного конфликта на украинской территории. Он также подверг критике обращение Папы Римского Франциска к молодым христианам России. До этого Папа Римский заявил, что Россия славится не только культурой, но и человечностью. «Вы наследники великой России, страны святых, царей, Петра I, Екатерины II, могучей и просвещенной Российской империи», — сказал Франциск, обращаясь к молодежи.'}\n",
            "{'headline': 'Путин назвал источник власти в России', 'description': 'Президент России Владимир Путин заявил, что именно народ является источником власти в стране. Он определяет путь развития России, уточнил он в поздравлении ЦИК РФ с 30-летием. По словам президента, огромная заслуга ЦИК в эффективной реализации важнейшего конституционного права граждан избирать и быть избранным.', 'body': 'Президент России Владимир Путин заявил, что именно народ является источником власти в стране. Он определяет путь развития России, уточнил он в поздравлении ЦИК РФ с 30-летием. «Именно народ — источник власти в нашей стране. Он определяет ее путь развития», — подчеркнул Путин. По словам президента, огромная заслуга ЦИК в эффективной реализации важнейшего конституционного права граждан избирать и быть избранным. Ранее Владимир Путин заявил, что примет решение о том, баллотироваться ли на новый срок, не раньше конца 2023 года. Свое заявление он сделал на Восточном экономическом форуме. Он уточнил, что по действующему законодательству само решение о проведении выборов будет принято до конца года и лишь после этого имеет смысл говорить о выдвижении на новый срок. Кроме того, официальный представитель Кремля Дмитрий Песков заявил, что смыслы предстоящей президентской кампании, которая пройдет в 2024 году, диктует внешняя повестка и российское общество.'}\n",
            "{'headline': 'Путин сообщил о независимой работе ЦИК', 'description': 'Центральная избирательная комиссия (ЦИК) независима в своей работе, заявил президент России Владимир Путин. «Начальников над вами нет, все решения вы принимаете самостоятельно, публично и коллегиально, подчиняетесь только законам», — подчеркнул он в видеообращении, посвященном 30-летию образования ЦИК.', 'body': 'Центральная избирательная комиссия (ЦИК) независима в своей работе. Об этом сообщил президент России Владимир Путин в видеообращении, посвященном 30-летию образования ЦИК. «Вы независимые в своей работе, начальников над вами нет, все решения вы принимаете самостоятельно, публично и коллегиально», — сказал он. Российский лидер подчеркнул, что ЦИК подчиняется только законам и действует на принципах открытости, гласности и высочайшей ответственности. Он также поблагодарил ЦИК за четкую организацию выборов. По его словам, сотрудники и руководство комиссии делают все, чтобы выборы проходили честно и при строгом соблюдении закона. Кроме того, Владимир Путин заявил, что российская избирательная система по праву считается одной из лучших в мире. Он добавил, что система базируется на понятных гражданам и прозрачных процедурах. Ранее глава ЦИК Элла Памфилова сообщила, что организация наблюдения за выборами в Москве — эталон, не имеющий аналогов в мире.'}\n",
            "{'headline': 'Путин оценил избирательную систему в России', 'description': 'Российская избирательная система по праву считается одной из лучших в мире, она базируется на понятных гражданам и прозрачных процедурах и четком соблюдении норм права, заявил президент России Владимир Путин в видеопоздравлении Центральной избирательной комиссии (ЦИК) РФ с 30-летием.', 'body': 'Российская избирательная система по праву считается одной из лучших в мире, она базируется на понятных гражданам и прозрачных процедурах, заявил президент России Владимир Путин в видеопоздравлении Центральной избирательной комиссии (ЦИК) РФ с 30-летием, опубликованном на сайте Кремля. Глава государства добавил, что избирательная система России также основана на четком соблюдении норм избирательного законодательства и на защите национальных интересов, суверенитета России и свободного волеизъявления ее граждан. Ранее Владимир Путин заявил, что примет решение о том, баллотироваться ли на новый президентский срок, не раньше конца 2023 года. Он отметил, что по действующему законодательству само решение о проведении выборов будет принято до конца года и лишь после этого имеем смысл говорить о выдвижении на новый срок.'}\n",
            "{'headline': 'Украинские войска 30 раз за сутки обстреляли территорию ДНР', 'description': 'Вооруженные силы Украины (ВСУ) за прошедшие сутки 30 раз обстреляли территорию Донецкой Народной Республики (ДНР). Об этом сообщает в Telegram-канале представительство ДНР в Совместном центре по контролю и координации вопросов, связанных с военными преступлениями Украины (СЦКК).', 'body': 'Вооруженные силы Украины (ВСУ) за прошедшие сутки 30 раз обстреляли территорию Донецкой Народной Республики (ДНР). Об этом сообщает в Telegram-канале представительство ДНР в Совместном центре по контролю и координации вопросов, связанных с военными преступлениями Украины (СЦКК). Отмечается, что украинские войска выпустили 85 единиц различных боеприпасов. По данным ведомства, на донецком направлении ВСУ совершили 20 обстрелов из AGM-88 HARM, артиллерии 155 миллиметров. В горловском направлении украинские военные восемь раз открывали огонь из РСЗО, артиллерии 152 и 155 миллиметров в том числе с кассетной боевой частью. 24 февраля 2022 года президент России Владимир Путин объявил о начале специальной операции в Донбассе. Таким образом, по его словам, Москва отреагировала на просьбы о военной помощи глав Донецкой и Луганской народных республик.'}\n",
            "{'headline': 'Сбежавшие дети проехали 320 километров на машине матери', 'description': 'Во Флориде 11-летняя девочка и ее 10-летний брат сбежали из дома, угнав машину матери. Они успели проехать 320 километров в направлении Калифорнии прежде, чем их остановили полицейские на межштатной магистрали. Дети решились на побег из-за ссоры с мамой, которая отобрала у дочери электронику.', 'body': 'Во Флориде 11-летняя девочка и ее 10-летний брат сбежали из дома, угнав машину матери. Они успели проехать 320 километров в направлении Калифорнии прежде, чем их остановили полицейские на межштатной магистрали, сообщил The Guardian. По данным издания, дети решились на побег из-за ссоры с матерьюю, которая в воспитательных целях отобрала у дочери электронику из-за плохого поведения. Заметив пропажу несовершеннолетних, она обратилась в полицию. Сотрудники правоохранительных органов заметили автомобиль на дороге около четырех часов утра. Владелица заявила о его угоне, поэтому помощники шерифа решили, что обнаружили преступников, и достали оружие. Однако на водительском сиденье оказался 10-летний мальчик. Детей вернули матери, которая отказалась выдвигать против них обвинения об угоне. Ранее в России восьмилетний мальчик сбежал из дома после урока «Разговоры о важном» из-за нежелания когда-либо вступать в брак. Такую позицию ребенок приобрел после общения с одноклассниками, которые рассказали ему об интимном аспекте создания семьи и появления детей.'}\n",
            "{'headline': 'Названа дата выхода крупного обновления Windows', 'description': 'Компания Microsoft назвала дату выхода следующего крупного обновления Windows 11. На мероприятии Surface руководители корпорации рассказали, что версия 23H2 будет доступна для скачивания 29 сентября. В компании подчеркнули, что апдейт имеет большое количество новых функций — в частности, поддержку чат-бота Copilot.', 'body': 'Компания Microsoft назвала дату выхода следующего крупного обновления Windows 11. Об этом сообщает издание The Verge. На мероприятии Surface руководители корпорации рассказали, что версия 23H2 будет доступна для скачивания 29 сентября. В компании подчеркнули, что апдейт имеет большое количество новых функций — в частности, поддержку чат-бота Copilot на базе Bing Chat. По словам инженеров Microsoft, Copilot будет понимать контекст и более точно реагировать на запросы пользователя. Также в новой версии встроенный менеджер файлов «Проводник» получит редизайн и нативную поддержку функции распаковки архивов. Приложение Windows Backup позволит создавать резервные копии данных и переносить их на новые компьютеры. Кроме того, в обновлении Windows появится программа Ink Anywhere, которая будет поддерживать работу стилусов и прочих устройств рукописного ввода данных. Инструмент Snipping Tool («Ножницы») будет распознавать текст на изображениях и копировать его в буфер обмена. Ранее стало известно, что разработчики ОС Windows 11 добавят в меню «Пуск» ссылки на часто посещаемые сайты. В Microsoft объяснили, что это поможет пользователям получить быстрый доступ к важным для них веб-страницам.'}\n",
            "{'headline': 'Лавров заявил об уважении Россией территориальной целостности Украины', 'description': 'Россия уважает территориальную целостность Украины, согласно Декларации о независимости 1991 года. «Она была разрушена теми, кто осуществил и поддержал переворот, лидеры которого объявили войну против собственного народа и стали бомбить свой собственный народ», — заявил министр иностранных дел России Сергей Лавров. ', 'body': 'Россия уважает территориальную целостность Украины, согласно Декларации о независимости 1991 года. Об этом заявил министр иностранных дел России Сергей Лавров на пресс-конференции по итогам работы на 78-й сессии Генеральной Ассамблеи ООН, передает корреспондент «Ленты.ру». «У нас никаких проблем нет с территориальной целостностью Украины, она была разрушена теми, кто осуществил и поддержал переворот, лидеры которого объявили войну против собственного народа и стали бомбить свой собственный народ», — сказал он. При этом глава МИД РФ отметил, что в документе ключевым для Москвы было условие об отказе Украины вступать в какие-либо военные альянсы. Ранее украинский лидер Владимир Зеленский рассказал о планах восстановить территориальную целостность Украины в границах 1991 года. Он выразил уверенность, что мира не может быть за счет территориальных компромиссов. В состав Украины после распада СССР в 1991 году входил Крымский полуостров, который вошел в состав России в 2014 году. Помимо этого, частью республики были Донецкая и Луганская народные республики, а также Запорожская и Херсонская области.'}\n",
            "{'headline': 'Путин назвал принципы работы ЦИК', 'description': 'ЦИК России действует на принципах высочайшей ответственности, открытости и гласности. Кроме того, ЦИК делает все, чтобы выборы проходили честно и легитимно, рассказал российский лидер Владимир Путин. Президент отметил, что сотрудники ЦИК делают все, «чтобы выборы проходили честно и легитимно».', 'body': 'ЦИК России действует на принципах высочайшей ответственности, открытости и гласности. Кроме того, ЦИК делает все, чтобы выборы проходили честно и легитимно, рассказал российский лидер Владимир Путин в поздравлении ЦИК с 30-летием. «От вашего профессионализма, объективности и прозрачности организации выборов во многом зависит доверие избирателей к результатам этих выборов», — отметил Путин в своем видеообращении. Президент отметил, что сотрудники ЦИК делают все, «чтобы выборы проходили честно и легитимно, при строгом соблюдении закона». Ранее Владимир Путин заявил, что российская избирательная система постоянно совершенствуется, сочетает в себе традиции и новаторство. По его словам, за прошедшие 30 лет российская избирательная система прошла большой путь, используя новейшие технические достижения и лучшие мировые практики. Помимо этого, президент отметил, что российская избирательная система по праву считается одной из лучших в мире.'}\n",
            "{'headline': 'Путин рассказал о совершенствовании избирательной системы в России', 'description': 'Российская избирательная система постоянно совершенствуется, сочетает в себе традиции и новаторство, заявил президент России Владимир Путин в видеопоздравлении Центральной избирательной комиссии (ЦИК) РФ с 30-летием. Он отметил, что за прошедшие 30 лет российская избирательная система прошла большой путь.', 'body': 'Российская избирательная система постоянно совершенствуется, сочетает в себе традиции и новаторство, заявил президент Владимир Путин в видеопоздравлении Центральной избирательной комиссии (ЦИК) РФ с 30-летием, опубликованном на сайте Кремля. Глава государства рассказал, что за прошедшие 30 лет российская избирательная система прошла большой путь, используя новейшие технические достижения и лучшие мировые практики. Путин также отметил, что в последние годы активно внедряются цифровые решения, позволяющие сделать участие в выборах удобным и доступным. В частности, перечислил он, на избирательных участках создана уникальная система видеонаблюдения, используется автоматизированная обработка голосов избирателей, а во многих регионах применяется дистанционное электронное голосование. В своем поздравлении Путин также назвал российскую избирательную систему одной из лучших в мире. Ранее Владимир Путин заявил, что примет решение о том, баллотироваться ли на новый президентский срок, не раньше конца 2023 года. Он отметил, что по действующему законодательству само решение о проведении выборов будет принято до конца года и лишь после этого имеем смысл говорить о выдвижении на новый срок.'}\n",
            "{'headline': 'Лев Лещенко пожаловался на атмосферу на стадионе «Спартака»', 'description': 'Народный артист РСФСР, певец Лев Лещенко, являющийся фанатом московского «Динамо», пожаловался на атмосферу на стадионе «Спартака». «Доброжелательность должна быть. Это не соревнования, а злоба какая-то», — заявил он и назвал атмосферу на стадионе красно-белых недоброжелательной.', 'body': 'Народный артист РСФСР, певец Лев Лещенко пожаловался на атмосферу на стадионе «Спартака». Его слова приводит «РБ Спорт». Лещенко, являющийся фанатом московского «Динамо», заявил, что психологически сложно играть на арене красно-белых из-за недоброжелательной атмосферы. «Когда болельщики \"Динамо\" кричат \"ЦСКА!\", а болельщики ЦСКА — \"Динамо!\" — вот это я понимаю. А здесь они запугивают. Это плохо. Доброжелательность должна быть. Это не соревнования, а злоба какая-то», — отметил он. 23 сентября «Спартак» обыграл «Динамо» в московском дерби. Матч девятого тура Российской премьер-лиги завершился со счетом 1:0. «Спартак» имеет в активе 16 очков и занимает четвертое место в турнирной таблице. «Динамо» с 15 очками располагается на пятой строке.'}\n",
            "{'headline': 'Генсек ООН призвал Армению и Азербайджан соблюдать режим прекращения огня', 'description': 'Генеральный секретарь ООН Антониу Гутерриш указал главам МИД Армении и Азербайджана на необходимость соблюдения режима прекращения огня. «Генеральный секретарь выразил обеспокоенность недавней военной эскалацией в регионе и подчеркнул важность строгого соблюдения режима прекращения огня», — сообщили в пресс-службе ООН.', 'body': 'Генеральный секретарь ООН Антониу Гутерриш указал главам МИД Армении и Азербайджана на необходимость соблюдения режима прекращения огня. Об этом сообщает РИА Новости. «Генеральный секретарь выразил обеспокоенность недавней военной эскалацией в регионе и подчеркнул важность строгого соблюдения режима прекращения огня», — сообщили в пресс-службе ООН. 20 сентября правительство Нагорно-Карабахской республики сообщило о капитуляции после начала антитеррористической операции Баку. Армения официально отказалась от претензий на территорию Нагорного Карабаха и участия в процессе урегулирования. В мае премьер-министр Армении Никол Пашинян заявил о готовности признать Нагорный Карабах частью Азербайджана при условии обеспечения безопасности армянского населения. Он добавил, что Ереван признает территорию Азербайджана в 86 600 квадратных километров, которая включает в себя Карабах. Президент РФ Владимир Путин заявил, что Армения по существу признала суверенитет Азербайджана над Нагорным Карабахом. По его словам, территориальный статус Карабаха Армения зафиксировала в Пражском заявлении. Российский лидер, что это было решение не Москвы, а именно Еревана. «А что нам сказать здесь? Здесь и сказать нечего. Если сама Армения признала, что Карабах — это часть Азербайджана», — добавил глава государства.'}\n",
            "{'headline': 'В России предложили новую льготу для беременных', 'description': 'Депутат, лидер партии ЛДПР Леонид Эдуардович Слуцкий предложил ввести новую льготу для беременных в России: отдельные стойки регистрации в аэропортах, где женщин в положении обслуживали бы без очереди. Он направил письмо с инициативой министру транспорта РФ Виталию Савельеву.', 'body': 'Депутат, лидер партии ЛДПР Леонид Слуцкий предложил ввести новую льготу для беременных в России: отдельные стойки регистрации в аэропортах, где женщин в положении обслуживали бы без очереди. Он направил письмо с инициативой министру транспорта РФ Виталию Савельеву, передает Ura.ru. «Такое правило поддержано и врачами, так как длительное пребывание будущей матери в положении стоя не рекомендуется», — сообщили в пресс-службе партии. Там добавили, что в настоящее время среди перевозчиков нет единого подхода к организации комфортных услуг для беременных при регистрации. По мнению Слуцкого, инициатива поможет повысить уровень рождаемости в стране. «Оказание всесторонней помощи женщинам, будущим матерям — одна из главных задач национальной политики. Государство обязано всячески охранять и поощрять право женщин на материнство. Дополнительная мера в сфере транспортных перевозок — залог успешной реализации политики государства в целях формирования благоприятных условий для женщин», — сказал он. Ранее акушер-гинеколог рассказала об опасности игнорирования диабета у беременных. Это может привести к преждевременным родам и нарушениям развития плода.'}\n",
            "{'headline': 'Путин поблагодарил ЦИК за организацию выборов', 'description': 'Президент России Владимир Путин поздравил коллектив Центральной избирательной комиссии (ЦИК) РФ с 30-летием ведомства и поблагодарил за четкую организацию выборов. Глава государства поздравил нынешний состав ЦИКа, его руководителей, а также всех, кто там работал и работает сейчас.', 'body': 'Президент России Владимир Путин поздравил коллектив Центральной избирательной комиссии (ЦИК) РФ с 30-летием ведомства и поблагодарил за четкую организацию выборов. Видеообращение опубликовано на официальном сайте Кремля. Глава государства поздравил нынешний состав ЦИКа, его руководителей, а также всех, кто работает сейчас и работал в прошедшие годы в этом государственном органе. «Благодарю вас за четкую, выверенную организацию избирательных процессов», — сказал он. Президент отметил, что российская избирательная система по праву считается одной из лучших в мире и постоянно совершенствуется, а также перечислил принципы работы ЦИК. Ранее Владимир Путин заявил, что примет решение о том, баллотироваться ли на новый президентский срок, не раньше конца 2023 года. Он отметил, что по действующему законодательству само решение о проведении выборов будет принято до конца года и лишь после этого имеем смысл говорить о выдвижении на новый срок.'}\n",
            "{'headline': 'В Конгрессе США оценили возможность шатдауна', 'description': 'Спикер Палаты представителей Конгресса США Кевин Маккарти выразил мнение, что стране не грозит приостановка работы федерального правительства (шатдаун), которая может произойти, если законодатели до конца месяца не смогут договориться по поводу продления его финансирования. ', 'body': 'Соединенным Штатам не грозит приостановка работы правительства (шатдаун) в ближайшие дни. Такую оценку дал спикер Палаты представителей Конгресса США Кевин Маккарти. Его слова передает ТАСС. «Послушайте, это касается 1 октября, у нас еще есть определенное количество дней», — сказал он. Маккарти выразил мнение, что в решающий момент члены конгресса в конце концов поменяют свою позицию. Он уточнил, что часть республиканцев в палате представителей продолжают отказываться голосовать за принятие финансирования правительства, пока не будут приняты их условия. Сам спикер Палаты представителей подчеркнул, что не видит никакой победы в приостановке деятельности правительства и выплат сотрудникам пограничной службы или береговой охраны. Ранее пресс-секретарь Белого дома Карин Жан-Пьер сообщила, что различные ведомства США готовят план на случай шатдауна. При этом, по ее словам, лучшим планом в настоящее время является недопущение остановки финансирования правительства.'}\n",
            "{'headline': 'Россиян предупредили о рисках снижения пенсии до конца года', 'description': 'Размер пенсии могут уменьшить в течение двух-трех месяцев в том случае, если стало известно об ошибке при расчете, исчезли основания для дополнительных выплат или было выявлено мошенничество. Об этом россиян предупредил заслуженный юрист России Иван Соловьев, пишет агентство «Прайм».', 'body': 'Размер пенсии могут уменьшить в течение двух-трех месяцев в том случае, если стало известно об ошибке при расчете, исчезли основания для доплат или было выявлено мошенничество. Об этом россиян предупредил заслуженный юрист России Иван Соловьев, пишет агентство «Прайм». По его словам, первая и наиболее распространенная причина — в ходе ревизии или допмониторинга была обнаружена ошибка при исчислении размера пенсии. Она может быть математической, если оператор ввел неправильные данные. К примеру, продолжительность трудового стажа, уточнил Соловьев. «В этом случае никакой вины пенсионера нет, вернуть переплату не потребуют. Но с нового месяца размер пенсии уменьшится», — объяснил эксперт. Кроме того, размер пенсии по инвалидности может уменьшиться, если гражданин вовремя не подтвердил диагноз. Чаще всего это происходит, начиная с третьего месяца неявки к врачам в положенный срок, подчеркнул юрист. Помимо этого, выплата по потере кормильца прекращается. Если получатель достиг совершеннолетия или закончил очную учебу. Пенсию иностранному гражданину, как отметил Иван Соловьев, могут прекратить выплачивать, если у него истек срок действия вида на жительство. Если российские пенсионеры в течение полугода не является за пенсией в кассу почты или не получает деньги курьером, то выплату также могут приостановить до выяснения обстоятельств. Ранее эксперты заявили, что россиянам следует начинать думать о размере своей пенсии в 35-40 лет. Специалисты напомнили, что страховая пенсия формируется из фиксированной части, которая назначается государством, и количества индивидуальных пенсионных коэффициентов. Эксперты посоветовали заранее оценивать величину страхового стажа и количество баллов. Это можно сделать по выписке из лицевого счета на госуслугах. Если пенсионных баллов недостаточно, а «доработать» для них нет возможности, баллы можно докупить.'}\n",
            "{'headline': 'Житель Крыма спел гимн России в бывшей квартире Зеленского', 'description': 'Житель Крыма с триколором в руках спел гимн России в бывшей квартире Владимира Зеленского. Мужчина снялся на улице возле входа в жилой комплекс «Император» на улице Батурина в поселке Ливадия, а далее на строительных лесах в одной из комнат квартиры, ранее принадлежавшей украинскому лидеру.', 'body': 'Житель Крыма с триколором в руках спел гимн России в бывшей квартире президента Украины Владимира Зеленского. Видео опубликовали в Telegram-канале «Крым 24». На первых кадрах мужчина стоит на улице возле входа в жилой комплекс «Император» на улице Батурина в поселке Ливадия (входит в городской округ Ялта), где располагается бывшая недвижимость украинского лидера, он размахивает российским флагом. Далее крымчанина показывают стоящим на строительных лесах с лопатой в руках посреди одной из комнат в квартире, ранее принадлежавшей Зеленскому. 27 июля стало известно, что Владимир Зеленский окончательно лишился квартиры в Ялте, недвижимость перешла в собственность Крыма. Госсовет Крыма сообщил о решении национализировать имущество Зеленского 24 мая. Глава полуострова Сергей Аксенов отметил, что та же участь ждет крупные винодельческие предприятия и банковские структуры. Он заявил, что выполнит свое обещание и не позволит «врагам России» зарабатывать в Крыму.'}\n",
            "{'headline': 'В Букингемском дворце прошла акция протеста против монархии', 'description': 'Участники британского движения Republic, которое выступает против монархии, в субботу, 23 сентября, устроили акцию протеста в Букингемском дворце. Активисты купили билеты для входа во дворец и вошли в него в качестве туристов. Участники движения сфотографировались в Большом зале в футболках с надписью «Not My King».', 'body': 'Участники британского движения Republic, которое выступает против монархии, в субботу, 23 сентября, устроили акцию протеста в Букингемском дворце. Об этом пишет газета Telegraph. Отмечается, что активисты купили билеты для входа во дворец и вошли в него в качестве туристов. Участники движения сфотографировались в Большом зале в футболках с надписью «Not My King» («Не мой король»). По данным газеты, акция длилась «считанные секунды», после чего служба безопасности ненадолго задержала шестерых активистов, а затем вывела их через главные ворота. В сентябре 2022 года политолог Сергей Марков заявил, что король Соединенного Королевства Великобритании и Северной Ирландии, а также стран Содружества Карл III может стать последним монархом в истории страны. Он указал на рост антимонархических настроений в Британии и в мире, а также на тот факт, что республиканские США оказывают большое влияние на Лондон.'}\n",
            "{'headline': 'В Конгрессе США предложили оставить расходы на обучение ВСУ', 'description': 'Спикер Палаты представителей Конгресса США Кевин Маккарти предложил оставить на обучение Вооруженных сил Украины (ВСУ) 300 миллионов долларов в законопроекте по обороне. Таким образом, он изменил свое предыдущее решение полностью исключить эти расходы из законопроекта по обороне.', 'body': 'Спикер Палаты представителей Конгресса США Кевин Маккарти предложил оставить на обучение Вооруженных сил Украины (ВСУ) 300 миллионов долларов в законопроекте по обороне. Об этом пишет The Hill. «Это не решение, потому что один из других [законопроектов] также включает кое-что по Украине», — заявил Маккарти. Таким образом, спикер нижней палаты американского парламента изменил свое предыдущее решение полностью исключить эти расходы из законопроекта по обороне. На решение Маккарти уже отреагировала конгрессвумен Марджори Тейлор-Грин от Республиканской партии, которая в своем аккаунте в социальной сети Х (бывшая Twitter) заявила, что не будет голосовать за принятие законопроекта. Как заявила ранее пресс-секретарь Белого дома Карин Жан-Пьер, руководство США полагает, что Конгресс продолжит оказывать финансовую поддержку Украине. Она подчеркнула, что американская администрация ценит двухпартийную поддержку помощи Киеву, и пообещала, что Белый дом будет и дальше убеждать скептически настроенных конгрессменов. Ранее президент США Джо Байден во время встречи с украинским лидером Владимиром Зеленским заверил его в решительности американцев в вопросе обеспечения сохранения международной поддержки Киева. Также, по итогам переговоров глава США подтвердил скорое прибытие танков Abrams на Украину.'}\n",
            "{'headline': 'В визите Зеленского в США увидели знак грядущего «политического шторма»', 'description': 'Президент Украины Владимир Зеленский получил в США неоднозначный прием, что может стать предвестником грядущего политического шторма. Несмотря на заверения главы Белого дома Джо Байдена о поддержке Украины, законодатели-республиканцы все более неохотно финансируют эту поддержку, отмечает CNN.', 'body': 'Президент Украины Владимир Зеленский получил в США неоднозначный прием. Об этом сообщает американский телеканал CNN. По мнению автора статьи, подобный прием может стать предвестником грядущего политического шторма. Отмечается, что президент США Джо Байден заверил украинского коллегу в том, что Вашингтон по-прежнему привержен оказанию помощи Украине. В то же время журналист Кайла Тауш указывает на тот факт, что законодатели-республиканцы все более неохотно финансируют эту поддержку. Ранее подполковник армии США в отставке, международный консультант Эрл Расмуссен пришел к выводу, что поездка в США стала для Владимира Зеленского провалом. Он отметил, что украинскому лидеру не удалось добиться изоляции России в Совете Безопасности ООН или получить значительную поддержку.'}\n",
            "{'headline': 'Лавров ответил на заявление Саудовской Аравии о ядерном оружии', 'description': 'Россия относится к заявлениям Саудовской Аравии по ядерному оружию как к констатации факта, заявил глава МИД РФ Сергей Лавров. «Я слышал, что было сказано: если у Ирана появится ядерное оружие, то мы тоже будем вынуждены об этом думать», — сказал он. По его словам, никто в мире не хочет появления новых ядерных стран.', 'body': 'Россия относится к заявлениям Саудовской Аравии по ядерному оружию у Ирана как к констатации факта. Об этом заявил министр иностранных дел России Сергей Лавров, передает корреспондент «Ленты.ру». «Я слышал, что было сказано: если у Ирана появится ядерное оружие, то мы, Саудовская Аравия, тоже будем вынуждены об этом думать», — отметил он. Глава российского МИД подчеркнул, что никто в мире не хочет появления новых ядерных стран. Ранее наследный принц королевства Саудовская Аравия Мухаммед бен Салман заявил, что возможное нанесение ядерного удара приведет к войне со всем миром. Он добавил, что применение ядерного оружия любым государством вызовет у королевства беспокойство. Наследный принц подчеркнул, что особенные опасения вызывает приобретение ядерного оружия Ираном.'}\n",
            "{'headline': 'Костомаров рассказал о своих жизненных целях', 'description': 'Олимпийский чемпион в танцах на льду Роман Костомаров рассказал о своих жизненных целях. По словам спортсмена, он поставил перед собой цель адаптироваться к новой жизни и «максимально натренироваться», чтобы «чувствовать комфортно себя с тем, что имею». Также он поставил себе цель вернуться на лед.<br />', 'body': 'Олимпийский чемпион в танцах на льду Роман Костомаров в эфире телеканала НТВ рассказал о своих жизненных целях. По словам спортсмена, он поставил перед собой цель адаптироваться к новой жизни и «максимально натренироваться», чтобы «чувствовать комфортно себя с тем, что имею». Кроме того, Костомаров признался, что поставил себе цель вернуться на лед. «Я надеюсь, что еще выйду на лед. Как будет получаться? Я не знаю. Но я точно знаю, что выйду», — заявил фигурист. Ранее Роман Костомаров рассказал о начале болезни. Он заявил, что заболел после новогодних праздников, заразившись от жены Оксаны Домниной. Роман Костомаров был госпитализирован 10 января с пневмонией и гриппом B. Из-за продолжительного подключения к аппарату для насыщения крови кислородом и аппарату искусственной вентиляции легких у него началось отмирание тканей. Врачи ампутировали фигуристу обе стопы, затем голени обеих ног, всю кисть правой руки и несколько пальцев левой.'}\n",
            "{'headline': 'Ким Чен Ын понадеялся на развитие сотрудничества с Китаем', 'description': 'Лидер КНДР Ким Чен Ын в ответном послании председателю КНР Си Цзиньпину выразил надежду на развитие сотрудничества с Пекином. «В нем [в послании] выражалась уверенность в том, что две партии и две страны будут в тесном контакте продвигать [отношения] солидарности и развивать сотрудничество», — говорится в сообщении.  ', 'body': 'Лидер КНДР Ким Чен Ын в ответном послании председателю КНР Си Цзиньпину выразил надежду на развитие сотрудничества с Пекином. Об этом сообщает РИА Новости со ссылкой на Центральное телеграфное агентство Кореи (ЦТАК). Северокорейский лидер также поблагодарил председателя КНР за теплые поздравления по случаю 75-й годовщины основания КНДР. Отмечается, что в послании политик выразил уверенность в том, что «две партии и две страны будут в тесном контакте продвигать [отношения] солидарности и развивать сотрудничество». Ранее министр иностранных дел России Сергей Лавров на пресс-конференции по итогам работы на 78-й сессии Генеральной Ассамблеи Организации Объединенных Наций заявил, что в следующем месяце может посетить Северную Корею.'}\n",
            "{'headline': 'Самолет из Египта в российский город задержали на 17 часов', 'description': 'Вылет самолета из египетского города Шарм-эль-Шейха в Санкт-Петербург задержали на 17 часов. Рейс UJ 712 авиакомпании Almasria Airlines должен был вылететь в российский город в 6:05 в субботу, 23 сентября, однако оказался в воздухе только в 23:30. В аэропорту Пулково воздушное судно приземлится в 4 часа утра.', 'body': 'Вылет самолета из египетского города Шарм-эль-Шейха в Санкт-Петербург задержали на 17 часов. Об этом сообщает РЕН ТВ. Рейс UJ 712 авиакомпании Almasria Airlines должен был вылететь в российский город в 6:05 в субботу, 23 сентября, однако оказался в воздухе только в 23:30. В аэропорту Пулково воздушное судно приземлится в 4 часа утра воскресенья, 24 сентября.Причины столь долгой задержки устанавливаются. Ранее самолет российской авиакомпании «ИрАэро» совершил аварийную посадку из-за проблем с двигателем. Отмечается, что у воздушного судна отказал левый двигатель. В результате самолет экстренно сел в авиагавани Иркутска. Приземление лайнера прошло благополучно. Никто из пассажиров и членов экипажа не пострадал.'}\n",
            "{'headline': 'В Германии захотели усилить пограничный контроль на границах с Польшей и Чехией', 'description': 'Германия захотела усилить контроль на границах с Чехией и Польшей из-за миграционного кризиса. Об этом заяивла глава МВД ФРГ Нэнси Фезер в интервью изданию Welt am Sonntag. Она также высказалась в интервью за то, чтобы немецкие пограничники могли действовать на территории Чехии.', 'body': 'Германия захотела усилить контроль на границах с Чехией и Польшей из-за миграционного кризиса. Об этом заявила глава МВД ФРГ Нэнси Фезер в интервью изданию Welt am Sonntag. «Подобный дополнительный контроль должен сопровождаться наблюдением за всей приграничной территорией посредством выборочного досмотра», — отметила она. Нэнси Фезер предложила усилить меры по надсмотру за транзитом мигрантов на границах с этими странами. Она также высказалась в интервью за то, чтобы немецкие пограничники могли действовать на территории Чехии. Ранее президент ФРГ Франк-Вальтер Штайнмайер заявил, что Германия исчерпала свою возможность принимать мигрантов, в том числе из-за притока беженцев с Украины. По его словам, ФРГ, принявшая «треть от всего числа в Евросоюзе» мигрантов из стран Ближнего Востока и более миллиона беженцев с Украины, переживает «чрезвычайную ситуацию». Политик также подчеркнул необходимость установления более строгого контроля за внешними границами Евросоюза.'}\n",
            "{'headline': 'Кандидат в президенты США высказался против присоединения Украины к НАТО', 'description': 'Кандидат в президенты США и губернатор Флориды Рон Десантис выступил против присоединения Украины к НАТО, заявив, что членство Киева в блоке не входит в интересы Вашингтона. По его мнению, США не должны давать Украине «карт-бланш», если только Киев не использует возможности для завершения конфликта.', 'body': 'Кандидат в президенты США и губернатор Флориды Рон Десантис выступил против присоединения Украины к НАТО, заявив, что членство Киева в блоке не входит в интересы Вашингтона. Об этом пишет Bloomberg. «Это бы только добавило нам больше обязательств. Если мы получим больше обязательств, то какие выгоды мы получим взамен?», — сказал Десантис в подкасте программы радиоведущего Гленна Бека (The Glenn Beck Program). По его мнению, США не должны давать Украине «карт-бланш», если только Киев не использует возможности для завершения конфликта. Ранее потенциальные кандидаты в президенты США Вивек Рамасвами и Рон Десантис поспорили о необходимости оказывать финансовую поддержку Киеву. Генсек НАТО Йенс Столтенберг объяснял отказ Украине в членстве в альянсе из-за ведения боевых действий. По его словам, страна станет членом альянса, это было заявлено на саммите в Вильнюсе в июле. Самое важное, что на саммите Украина приблизилась к этой цели, отметил Столтенберг.'}\n",
            "{'headline': 'Рабочие Финляндии взбунтовались против правительства', 'description': 'Профсоюзы Финляндии готовятся провести сразу несколько акций против правительства страны, в частности из-за планируемых сокращений. Первая акция пройдет 26 сентября, об этом сообщили в Центральном объединении профсоюзов Финляндии SAK. SAK включает рабочих из 17 профсоюзов.', 'body': 'Профсоюзы Финляндии готовятся провести сразу несколько акций против правительства страны, в частности из-за планируемых сокращений. Первая акция пройдет 26 сентября, об этом сообщили в Центральном объединении профсоюзов Финляндии SAK, передает YLE. SAK включает рабочих из 17 профсоюзов, в частности промышленного и публичного сектора, а также сфер транспорта, услуг, логистики, строительства и культуры. Объединение взбунтовалось против реформ, которые ухудшат положение наемных работников: например, упрощение процедуры увольнения, изменение оплаты больничного. Акции протеста будут происходить три раза в неделю в течение следующих трех недель. Ранее стало известно, что восточная часть Финляндии переживает упадок, предприятия разоряются, а местные жители теряют работу. Дело в том, что в этой чсти страны бизнес был ориентирован в основном на российских туристов.'}\n"
          ]
        }
      ]
    },
    {
      "cell_type": "code",
      "source": [
        "# выведите количество элементов в data[0]\n",
        "print(len(data[0]))"
      ],
      "metadata": {
        "colab": {
          "base_uri": "https://localhost:8080/"
        },
        "id": "siFJr75ZdAQR",
        "outputId": "aaf99d83-1461-4c45-851d-d3fd90755ed7"
      },
      "execution_count": null,
      "outputs": [
        {
          "output_type": "stream",
          "name": "stdout",
          "text": [
            "30\n"
          ]
        }
      ]
    },
    {
      "cell_type": "markdown",
      "source": [
        "Скачайте еще один датасет https://www.kaggle.com/datasets/finalepoch/medical-ner\n",
        "\n",
        "Загрузите его в файловую систему Colab и запустите ячейки ниже, чтобы визуально изучить структуру датасета"
      ],
      "metadata": {
        "id": "UqtJXRpGkSaM"
      }
    },
    {
      "cell_type": "code",
      "source": [
        "!pip install kaggle\n"
      ],
      "metadata": {
        "colab": {
          "base_uri": "https://localhost:8080/"
        },
        "id": "BLmZ5YI6j6kx",
        "outputId": "53171bcf-66b4-45c5-cbe6-80c1915b0471"
      },
      "execution_count": null,
      "outputs": [
        {
          "output_type": "stream",
          "name": "stdout",
          "text": [
            "Requirement already satisfied: kaggle in /usr/local/lib/python3.10/dist-packages (1.6.17)\n",
            "Requirement already satisfied: six>=1.10 in /usr/local/lib/python3.10/dist-packages (from kaggle) (1.16.0)\n",
            "Requirement already satisfied: certifi>=2023.7.22 in /usr/local/lib/python3.10/dist-packages (from kaggle) (2024.8.30)\n",
            "Requirement already satisfied: python-dateutil in /usr/local/lib/python3.10/dist-packages (from kaggle) (2.8.2)\n",
            "Requirement already satisfied: requests in /usr/local/lib/python3.10/dist-packages (from kaggle) (2.32.3)\n",
            "Requirement already satisfied: tqdm in /usr/local/lib/python3.10/dist-packages (from kaggle) (4.66.6)\n",
            "Requirement already satisfied: python-slugify in /usr/local/lib/python3.10/dist-packages (from kaggle) (8.0.4)\n",
            "Requirement already satisfied: urllib3 in /usr/local/lib/python3.10/dist-packages (from kaggle) (2.2.3)\n",
            "Requirement already satisfied: bleach in /usr/local/lib/python3.10/dist-packages (from kaggle) (6.2.0)\n",
            "Requirement already satisfied: webencodings in /usr/local/lib/python3.10/dist-packages (from bleach->kaggle) (0.5.1)\n",
            "Requirement already satisfied: text-unidecode>=1.3 in /usr/local/lib/python3.10/dist-packages (from python-slugify->kaggle) (1.3)\n",
            "Requirement already satisfied: charset-normalizer<4,>=2 in /usr/local/lib/python3.10/dist-packages (from requests->kaggle) (3.4.0)\n",
            "Requirement already satisfied: idna<4,>=2.5 in /usr/local/lib/python3.10/dist-packages (from requests->kaggle) (3.10)\n"
          ]
        }
      ]
    },
    {
      "cell_type": "code",
      "source": [
        "from google.colab import drive\n",
        "drive.mount('/content/drive') # предоставляю доступ к своему диску"
      ],
      "metadata": {
        "id": "Oei9AQ-K4V9e",
        "colab": {
          "base_uri": "https://localhost:8080/"
        },
        "outputId": "6cce88e0-054c-429e-9584-0f8eca36b743"
      },
      "execution_count": null,
      "outputs": [
        {
          "output_type": "stream",
          "name": "stdout",
          "text": [
            "Drive already mounted at /content/drive; to attempt to forcibly remount, call drive.mount(\"/content/drive\", force_remount=True).\n"
          ]
        }
      ]
    },
    {
      "cell_type": "code",
      "source": [
        "!cp /content/drive/MyDrive/Collab/kaggle.json ~/.Kaggle/ # копирую kaggle.json из диска в директорию ~/.Kaggle/"
      ],
      "metadata": {
        "id": "eauf3QWM869X"
      },
      "execution_count": null,
      "outputs": []
    },
    {
      "cell_type": "code",
      "source": [
        "!chmod 600 ~/.Kaggle/kaggle.json # меняю доступ к файлу"
      ],
      "metadata": {
        "id": "kq9vAkLy9I6p"
      },
      "execution_count": 101,
      "outputs": []
    },
    {
      "cell_type": "code",
      "source": [
        "! kaggle datasets download finalepoch/medical-ner # загружаю нужный датасет"
      ],
      "metadata": {
        "id": "KDLKSd8K_ny7",
        "colab": {
          "base_uri": "https://localhost:8080/"
        },
        "outputId": "baf5264a-de27-40ff-d5ce-9f5a82f73256"
      },
      "execution_count": 102,
      "outputs": [
        {
          "output_type": "stream",
          "name": "stdout",
          "text": [
            "Dataset URL: https://www.kaggle.com/datasets/finalepoch/medical-ner\n",
            "License(s): unknown\n",
            "Downloading medical-ner.zip to /content\n",
            "  0% 0.00/26.2k [00:00<?, ?B/s]\n",
            "100% 26.2k/26.2k [00:00<00:00, 31.2MB/s]\n"
          ]
        }
      ]
    },
    {
      "cell_type": "code",
      "source": [
        "! unzip medical-ner.zip # делаю unzip"
      ],
      "metadata": {
        "colab": {
          "base_uri": "https://localhost:8080/"
        },
        "id": "jozKAIqhCF2t",
        "outputId": "88b29ccd-4007-4b66-d54f-8c36380feb5e"
      },
      "execution_count": 103,
      "outputs": [
        {
          "output_type": "stream",
          "name": "stdout",
          "text": [
            "Archive:  medical-ner.zip\n",
            "  inflating: Corona2.json            \n"
          ]
        }
      ]
    },
    {
      "cell_type": "code",
      "source": [
        "with open(\"Corona2.json\", \"r\", encoding=\"utf8\") as f:\n",
        "   data = json.load(f)"
      ],
      "metadata": {
        "id": "HOgBZlR1CacT"
      },
      "execution_count": 110,
      "outputs": []
    },
    {
      "cell_type": "code",
      "source": [
        "pprint(data['examples'][9])"
      ],
      "metadata": {
        "colab": {
          "base_uri": "https://localhost:8080/"
        },
        "id": "nsg5OBJHDHHd",
        "outputId": "862d512b-fa93-41fc-8769-09f57ef744dd"
      },
      "execution_count": 116,
      "outputs": [
        {
          "output_type": "stream",
          "name": "stdout",
          "text": [
            "{'annotations': [{'correct': None,\n",
            "                  'end': 124,\n",
            "                  'example_id': '9a0b1ede-2282-4dae-b086-638e45881bf5',\n",
            "                  'human_annotations': [{'annotator_id': 1,\n",
            "                                         'name': 'Ashpat123',\n",
            "                                         'reason': 'exploration',\n",
            "                                         'tagged_token_id': '19770812-2605-424f-9bc4-2d451becd837',\n",
            "                                         'timestamp': '2020-03-18T10:17:37.752000Z'}],\n",
            "                  'id': '19770812-2605-424f-9bc4-2d451becd837',\n",
            "                  'model_annotations': [],\n",
            "                  'start': 116,\n",
            "                  'tag_id': '2340864c-0876-4ad1-8a34-600324a516d1',\n",
            "                  'tag_name': 'Pathogen',\n",
            "                  'value': 'Listeria'},\n",
            "                 {'correct': None,\n",
            "                  'end': 170,\n",
            "                  'example_id': '9a0b1ede-2282-4dae-b086-638e45881bf5',\n",
            "                  'human_annotations': [{'annotator_id': 1,\n",
            "                                         'name': 'Ashpat123',\n",
            "                                         'reason': 'exploration',\n",
            "                                         'tagged_token_id': '63a605e9-9812-498f-81a1-6f2213ba68bf',\n",
            "                                         'timestamp': '2020-03-18T10:18:12.890000Z'}],\n",
            "                  'id': '63a605e9-9812-498f-81a1-6f2213ba68bf',\n",
            "                  'model_annotations': [],\n",
            "                  'start': 155,\n",
            "                  'tag_id': '03eb3e50-d4d8-4261-a60b-fa5aee5deb4a',\n",
            "                  'tag_name': 'Pathogen',\n",
            "                  'value': 'Yersinia pestis'},\n",
            "                 {'correct': None,\n",
            "                  'end': 137,\n",
            "                  'example_id': '9a0b1ede-2282-4dae-b086-638e45881bf5',\n",
            "                  'human_annotations': [{'annotator_id': 1,\n",
            "                                         'name': 'Ashpat123',\n",
            "                                         'reason': 'exploration',\n",
            "                                         'tagged_token_id': '7e0321e2-a3c7-42ce-a4bf-6a852a03b7ac',\n",
            "                                         'timestamp': '2020-03-18T10:17:47.222000Z'}],\n",
            "                  'id': '7e0321e2-a3c7-42ce-a4bf-6a852a03b7ac',\n",
            "                  'model_annotations': [],\n",
            "                  'start': 126,\n",
            "                  'tag_id': '2340864c-0876-4ad1-8a34-600324a516d1',\n",
            "                  'tag_name': 'Pathogen',\n",
            "                  'value': 'Francisella'},\n",
            "                 {'correct': None,\n",
            "                  'end': 79,\n",
            "                  'example_id': '9a0b1ede-2282-4dae-b086-638e45881bf5',\n",
            "                  'human_annotations': [{'annotator_id': 1,\n",
            "                                         'name': 'Ashpat123',\n",
            "                                         'reason': 'exploration',\n",
            "                                         'tagged_token_id': '8d6f893d-e45c-4ad7-935d-dd688e74e4b6',\n",
            "                                         'timestamp': '2020-03-18T10:17:00.307000Z'}],\n",
            "                  'id': '8d6f893d-e45c-4ad7-935d-dd688e74e4b6',\n",
            "                  'model_annotations': [],\n",
            "                  'start': 70,\n",
            "                  'tag_id': '2340864c-0876-4ad1-8a34-600324a516d1',\n",
            "                  'tag_name': 'Pathogen',\n",
            "                  'value': 'Neisseria'},\n",
            "                 {'correct': None,\n",
            "                  'end': 149,\n",
            "                  'example_id': '9a0b1ede-2282-4dae-b086-638e45881bf5',\n",
            "                  'human_annotations': [{'annotator_id': 1,\n",
            "                                         'name': 'Ashpat123',\n",
            "                                         'reason': 'exploration',\n",
            "                                         'tagged_token_id': '97fa1d2f-5aaa-49b5-80fa-e00a17dd7e1d',\n",
            "                                         'timestamp': '2020-03-18T10:17:58.627000Z'}],\n",
            "                  'id': '97fa1d2f-5aaa-49b5-80fa-e00a17dd7e1d',\n",
            "                  'model_annotations': [],\n",
            "                  'start': 139,\n",
            "                  'tag_id': '2340864c-0876-4ad1-8a34-600324a516d1',\n",
            "                  'tag_name': 'Pathogen',\n",
            "                  'value': 'Legionella'},\n",
            "                 {'correct': None,\n",
            "                  'end': 114,\n",
            "                  'example_id': '9a0b1ede-2282-4dae-b086-638e45881bf5',\n",
            "                  'human_annotations': [{'annotator_id': 1,\n",
            "                                         'name': 'Ashpat123',\n",
            "                                         'reason': 'exploration',\n",
            "                                         'tagged_token_id': 'cb543310-f9dc-43be-a747-be4f321b8587',\n",
            "                                         'timestamp': '2020-03-18T10:17:28.742000Z'}],\n",
            "                  'id': 'cb543310-f9dc-43be-a747-be4f321b8587',\n",
            "                  'model_annotations': [],\n",
            "                  'start': 106,\n",
            "                  'tag_id': '2340864c-0876-4ad1-8a34-600324a516d1',\n",
            "                  'tag_name': 'Pathogen',\n",
            "                  'value': 'Nocardia'},\n",
            "                 {'correct': None,\n",
            "                  'end': 104,\n",
            "                  'example_id': '9a0b1ede-2282-4dae-b086-638e45881bf5',\n",
            "                  'human_annotations': [{'annotator_id': 1,\n",
            "                                         'name': 'Ashpat123',\n",
            "                                         'reason': 'exploration',\n",
            "                                         'tagged_token_id': 'd0c3dbdc-7332-4fe7-99bc-a4c558a8a5b0',\n",
            "                                         'timestamp': '2020-03-18T10:17:19.607000Z'}],\n",
            "                  'id': 'd0c3dbdc-7332-4fe7-99bc-a4c558a8a5b0',\n",
            "                  'model_annotations': [],\n",
            "                  'start': 91,\n",
            "                  'tag_id': '2340864c-0876-4ad1-8a34-600324a516d1',\n",
            "                  'tag_name': 'Pathogen',\n",
            "                  'value': 'Mycobacterium'},\n",
            "                 {'correct': None,\n",
            "                  'end': 89,\n",
            "                  'example_id': '9a0b1ede-2282-4dae-b086-638e45881bf5',\n",
            "                  'human_annotations': [{'annotator_id': 1,\n",
            "                                         'name': 'Ashpat123',\n",
            "                                         'reason': 'exploration',\n",
            "                                         'tagged_token_id': 'ea56d843-9534-4724-95f7-a62ffae8d979',\n",
            "                                         'timestamp': '2020-03-18T10:17:10.195000Z'}],\n",
            "                  'id': 'ea56d843-9534-4724-95f7-a62ffae8d979',\n",
            "                  'model_annotations': [],\n",
            "                  'start': 81,\n",
            "                  'tag_id': '2340864c-0876-4ad1-8a34-600324a516d1',\n",
            "                  'tag_name': 'Pathogen',\n",
            "                  'value': 'Brucella'},\n",
            "                 {'correct': None,\n",
            "                  'end': 68,\n",
            "                  'example_id': '9a0b1ede-2282-4dae-b086-638e45881bf5',\n",
            "                  'human_annotations': [{'annotator_id': 1,\n",
            "                                         'name': 'Ashpat123',\n",
            "                                         'reason': 'exploration',\n",
            "                                         'tagged_token_id': 'f1dd29d5-d553-410f-8758-b8e549ec8d4e',\n",
            "                                         'timestamp': '2020-03-18T10:16:51.290000Z'}],\n",
            "                  'id': 'f1dd29d5-d553-410f-8758-b8e549ec8d4e',\n",
            "                  'model_annotations': [],\n",
            "                  'start': 58,\n",
            "                  'tag_id': '2340864c-0876-4ad1-8a34-600324a516d1',\n",
            "                  'tag_name': 'Pathogen',\n",
            "                  'value': 'Salmonella'}],\n",
            " 'classifications': [],\n",
            " 'content': 'Other groups of intracellular bacterial pathogens include '\n",
            "            'Salmonella, Neisseria, Brucella, Mycobacterium, Nocardia, '\n",
            "            'Listeria, Francisella, Legionella, and Yersinia pestis. These can '\n",
            "            'exist intracellularly, but can exist outside of host cells.',\n",
            " 'id': '9a0b1ede-2282-4dae-b086-638e45881bf5',\n",
            " 'metadata': {}}\n"
          ]
        }
      ]
    },
    {
      "cell_type": "markdown",
      "source": [
        "Такие форматы хорошо подходят для решения задач с элементами извлечения информации, автоматической разметки данных"
      ],
      "metadata": {
        "id": "CxvP3FN0EJQt"
      }
    },
    {
      "cell_type": "markdown",
      "source": [
        "**И еще кое-что!**\n",
        "\n",
        "Создайте свой dict() с аналогичной структурой (тематика любая!):\n",
        "\n",
        "```\n",
        "{\n",
        "    \"firstName\": \"John\",\n",
        "    \"lastName\": \"Doe\",\n",
        "    \"skills\": [\"C++\", \"ChatGPT\", \"Data Science\"],\n",
        "    \"age\": 45,\n",
        "    \"experience\": [\n",
        "        {\n",
        "            \"job\": \"Product Manager\",\n",
        "            \"years\": 3\n",
        "        },\n",
        "        {\n",
        "            \"job\": \"ML Engineer\",\n",
        "            \"years\": 4\n",
        "        }\n",
        "    ]\n",
        "}\n",
        "```"
      ],
      "metadata": {
        "id": "-sz_Hr-TERz9"
      }
    },
    {
      "cell_type": "code",
      "source": [
        "my_dict = {\n",
        "    \"firstName\": \"Anna\",\n",
        "    \"lastName\": \"Sugian\",\n",
        "    \"skills\": [\"Python\", \"English\", \"Data Science\"],\n",
        "    \"age\": 22,\n",
        "    \"experience\": [\n",
        "        {\n",
        "            \"job\": \"English Teacher\",\n",
        "            \"years\": 5\n",
        "        },\n",
        "        {\n",
        "            \"job\": \"Product Manager\",\n",
        "            \"years\": 1\n",
        "        }\n",
        "    ]\n",
        "}\n"
      ],
      "metadata": {
        "id": "PL79PrOfDQ5Q"
      },
      "execution_count": 117,
      "outputs": []
    },
    {
      "cell_type": "code",
      "source": [
        "with open(\"your_file.json\", \"w\") as write_file:\n",
        "    data = json.dump(my_dict, write_file)"
      ],
      "metadata": {
        "id": "wbZ6bukxFVJ7"
      },
      "execution_count": 118,
      "outputs": []
    },
    {
      "cell_type": "markdown",
      "source": [
        "![image.png](data:image/png;base64,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)"
      ],
      "metadata": {
        "id": "Hob3fDFfGCXA"
      }
    },
    {
      "cell_type": "code",
      "source": [],
      "metadata": {
        "id": "sE4xU3EMFvbZ"
      },
      "execution_count": null,
      "outputs": []
    }
  ]
}